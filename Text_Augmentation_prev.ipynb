{
  "cells": [
    {
      "cell_type": "markdown",
      "metadata": {
        "id": "view-in-github",
        "colab_type": "text"
      },
      "source": [
        "<a href=\"https://colab.research.google.com/github/Tonmoy-saha18/text-data-augmentation/blob/main/Text_Augmentation_prev.ipynb\" target=\"_parent\"><img src=\"https://colab.research.google.com/assets/colab-badge.svg\" alt=\"Open In Colab\"/></a>"
      ]
    },
    {
      "cell_type": "code",
      "execution_count": null,
      "metadata": {
        "colab": {
          "base_uri": "https://localhost:8080/"
        },
        "id": "6PSLn9ttCwcc",
        "outputId": "1653c99c-5d80-459e-ebb6-a072ce5023e3"
      },
      "outputs": [
        {
          "output_type": "stream",
          "name": "stderr",
          "text": [
            "[nltk_data] Downloading package punkt to /root/nltk_data...\n",
            "[nltk_data]   Unzipping tokenizers/punkt.zip.\n",
            "[nltk_data] Downloading package wordnet to /root/nltk_data...\n",
            "[nltk_data] Downloading package stopwords to /root/nltk_data...\n",
            "[nltk_data]   Unzipping corpora/stopwords.zip.\n",
            "[nltk_data] Downloading package omw-1.4 to /root/nltk_data...\n"
          ]
        },
        {
          "output_type": "stream",
          "name": "stdout",
          "text": [
            "Looking in indexes: https://pypi.org/simple, https://us-python.pkg.dev/colab-wheels/public/simple/\n",
            "Collecting textattack\n",
            "  Downloading textattack-0.3.7-py3-none-any.whl (418 kB)\n",
            "\u001b[K     |████████████████████████████████| 418 kB 7.7 MB/s \n",
            "\u001b[?25hRequirement already satisfied: numpy>=1.21.0 in /usr/local/lib/python3.7/dist-packages (from textattack) (1.21.6)\n",
            "Requirement already satisfied: torch!=1.8,>=1.7.0 in /usr/local/lib/python3.7/dist-packages (from textattack) (1.12.1+cu113)\n",
            "Requirement already satisfied: click<8.1.0 in /usr/local/lib/python3.7/dist-packages (from textattack) (7.1.2)\n",
            "Requirement already satisfied: nltk in /usr/local/lib/python3.7/dist-packages (from textattack) (3.7)\n",
            "Collecting lemminflect\n",
            "  Downloading lemminflect-0.2.3-py3-none-any.whl (769 kB)\n",
            "\u001b[K     |████████████████████████████████| 769 kB 51.4 MB/s \n",
            "\u001b[?25hCollecting transformers>=4.21.0\n",
            "  Downloading transformers-4.23.1-py3-none-any.whl (5.3 MB)\n",
            "\u001b[K     |████████████████████████████████| 5.3 MB 49.5 MB/s \n",
            "\u001b[?25hCollecting num2words\n",
            "  Downloading num2words-0.5.12-py3-none-any.whl (125 kB)\n",
            "\u001b[K     |████████████████████████████████| 125 kB 59.2 MB/s \n",
            "\u001b[?25hRequirement already satisfied: tqdm in /usr/local/lib/python3.7/dist-packages (from textattack) (4.64.1)\n",
            "Collecting lru-dict\n",
            "  Downloading lru_dict-1.1.8-cp37-cp37m-manylinux_2_5_x86_64.manylinux1_x86_64.manylinux_2_17_x86_64.manylinux2014_x86_64.whl (26 kB)\n",
            "Collecting OpenHowNet\n",
            "  Downloading OpenHowNet-2.0-py3-none-any.whl (18 kB)\n",
            "Requirement already satisfied: filelock in /usr/local/lib/python3.7/dist-packages (from textattack) (3.8.0)\n",
            "Requirement already satisfied: PySocks!=1.5.7,>=1.5.6 in /usr/local/lib/python3.7/dist-packages (from textattack) (1.7.1)\n",
            "Collecting terminaltables\n",
            "  Downloading terminaltables-3.1.10-py2.py3-none-any.whl (15 kB)\n",
            "Requirement already satisfied: more-itertools in /usr/local/lib/python3.7/dist-packages (from textattack) (8.14.0)\n",
            "Collecting pinyin==0.4.0\n",
            "  Downloading pinyin-0.4.0.tar.gz (3.6 MB)\n",
            "\u001b[K     |████████████████████████████████| 3.6 MB 35.0 MB/s \n",
            "\u001b[?25hCollecting bert-score>=0.3.5\n",
            "  Downloading bert_score-0.3.12-py3-none-any.whl (60 kB)\n",
            "\u001b[K     |████████████████████████████████| 60 kB 8.3 MB/s \n",
            "\u001b[?25hRequirement already satisfied: editdistance in /usr/local/lib/python3.7/dist-packages (from textattack) (0.5.3)\n",
            "Requirement already satisfied: pandas>=1.0.1 in /usr/local/lib/python3.7/dist-packages (from textattack) (1.3.5)\n",
            "Collecting pycld2\n",
            "  Downloading pycld2-0.41.tar.gz (41.4 MB)\n",
            "\u001b[K     |████████████████████████████████| 41.4 MB 1.2 MB/s \n",
            "\u001b[?25hCollecting datasets==2.4.0\n",
            "  Downloading datasets-2.4.0-py3-none-any.whl (365 kB)\n",
            "\u001b[K     |████████████████████████████████| 365 kB 57.4 MB/s \n",
            "\u001b[?25hRequirement already satisfied: jieba in /usr/local/lib/python3.7/dist-packages (from textattack) (0.42.1)\n",
            "Collecting flair\n",
            "  Downloading flair-0.11.3-py3-none-any.whl (401 kB)\n",
            "\u001b[K     |████████████████████████████████| 401 kB 46.7 MB/s \n",
            "\u001b[?25hCollecting word2number\n",
            "  Downloading word2number-1.1.zip (9.7 kB)\n",
            "Collecting language-tool-python\n",
            "  Downloading language_tool_python-2.7.1-py3-none-any.whl (34 kB)\n",
            "Requirement already satisfied: scipy>=1.4.1 in /usr/local/lib/python3.7/dist-packages (from textattack) (1.7.3)\n",
            "Requirement already satisfied: pyarrow>=6.0.0 in /usr/local/lib/python3.7/dist-packages (from datasets==2.4.0->textattack) (6.0.1)\n",
            "Collecting xxhash\n",
            "  Downloading xxhash-3.1.0-cp37-cp37m-manylinux_2_17_x86_64.manylinux2014_x86_64.whl (212 kB)\n",
            "\u001b[K     |████████████████████████████████| 212 kB 44.5 MB/s \n",
            "\u001b[?25hRequirement already satisfied: dill<0.3.6 in /usr/local/lib/python3.7/dist-packages (from datasets==2.4.0->textattack) (0.3.5.1)\n",
            "Collecting responses<0.19\n",
            "  Downloading responses-0.18.0-py3-none-any.whl (38 kB)\n",
            "Requirement already satisfied: aiohttp in /usr/local/lib/python3.7/dist-packages (from datasets==2.4.0->textattack) (3.8.3)\n",
            "Requirement already satisfied: importlib-metadata in /usr/local/lib/python3.7/dist-packages (from datasets==2.4.0->textattack) (4.13.0)\n",
            "Collecting huggingface-hub<1.0.0,>=0.1.0\n",
            "  Downloading huggingface_hub-0.10.1-py3-none-any.whl (163 kB)\n",
            "\u001b[K     |████████████████████████████████| 163 kB 54.6 MB/s \n",
            "\u001b[?25hRequirement already satisfied: requests>=2.19.0 in /usr/local/lib/python3.7/dist-packages (from datasets==2.4.0->textattack) (2.23.0)\n",
            "Collecting multiprocess\n",
            "  Downloading multiprocess-0.70.13-py37-none-any.whl (115 kB)\n",
            "\u001b[K     |████████████████████████████████| 115 kB 45.6 MB/s \n",
            "\u001b[?25hRequirement already satisfied: fsspec[http]>=2021.11.1 in /usr/local/lib/python3.7/dist-packages (from datasets==2.4.0->textattack) (2022.8.2)\n",
            "Requirement already satisfied: packaging in /usr/local/lib/python3.7/dist-packages (from datasets==2.4.0->textattack) (21.3)\n",
            "Requirement already satisfied: matplotlib in /usr/local/lib/python3.7/dist-packages (from bert-score>=0.3.5->textattack) (3.2.2)\n",
            "Requirement already satisfied: frozenlist>=1.1.1 in /usr/local/lib/python3.7/dist-packages (from aiohttp->datasets==2.4.0->textattack) (1.3.1)\n",
            "Requirement already satisfied: attrs>=17.3.0 in /usr/local/lib/python3.7/dist-packages (from aiohttp->datasets==2.4.0->textattack) (22.1.0)\n",
            "Requirement already satisfied: async-timeout<5.0,>=4.0.0a3 in /usr/local/lib/python3.7/dist-packages (from aiohttp->datasets==2.4.0->textattack) (4.0.2)\n",
            "Requirement already satisfied: aiosignal>=1.1.2 in /usr/local/lib/python3.7/dist-packages (from aiohttp->datasets==2.4.0->textattack) (1.2.0)\n",
            "Requirement already satisfied: asynctest==0.13.0 in /usr/local/lib/python3.7/dist-packages (from aiohttp->datasets==2.4.0->textattack) (0.13.0)\n",
            "Requirement already satisfied: multidict<7.0,>=4.5 in /usr/local/lib/python3.7/dist-packages (from aiohttp->datasets==2.4.0->textattack) (6.0.2)\n",
            "Requirement already satisfied: yarl<2.0,>=1.0 in /usr/local/lib/python3.7/dist-packages (from aiohttp->datasets==2.4.0->textattack) (1.8.1)\n",
            "Requirement already satisfied: typing-extensions>=3.7.4 in /usr/local/lib/python3.7/dist-packages (from aiohttp->datasets==2.4.0->textattack) (4.1.1)\n",
            "Requirement already satisfied: charset-normalizer<3.0,>=2.0 in /usr/local/lib/python3.7/dist-packages (from aiohttp->datasets==2.4.0->textattack) (2.1.1)\n",
            "Requirement already satisfied: pyyaml>=5.1 in /usr/local/lib/python3.7/dist-packages (from huggingface-hub<1.0.0,>=0.1.0->datasets==2.4.0->textattack) (6.0)\n",
            "Requirement already satisfied: pyparsing!=3.0.5,>=2.0.2 in /usr/local/lib/python3.7/dist-packages (from packaging->datasets==2.4.0->textattack) (3.0.9)\n",
            "Requirement already satisfied: pytz>=2017.3 in /usr/local/lib/python3.7/dist-packages (from pandas>=1.0.1->textattack) (2022.4)\n",
            "Requirement already satisfied: python-dateutil>=2.7.3 in /usr/local/lib/python3.7/dist-packages (from pandas>=1.0.1->textattack) (2.8.2)\n",
            "Requirement already satisfied: six>=1.5 in /usr/local/lib/python3.7/dist-packages (from python-dateutil>=2.7.3->pandas>=1.0.1->textattack) (1.15.0)\n",
            "Requirement already satisfied: chardet<4,>=3.0.2 in /usr/local/lib/python3.7/dist-packages (from requests>=2.19.0->datasets==2.4.0->textattack) (3.0.4)\n",
            "Requirement already satisfied: certifi>=2017.4.17 in /usr/local/lib/python3.7/dist-packages (from requests>=2.19.0->datasets==2.4.0->textattack) (2022.9.24)\n",
            "Requirement already satisfied: urllib3!=1.25.0,!=1.25.1,<1.26,>=1.21.1 in /usr/local/lib/python3.7/dist-packages (from requests>=2.19.0->datasets==2.4.0->textattack) (1.24.3)\n",
            "Requirement already satisfied: idna<3,>=2.5 in /usr/local/lib/python3.7/dist-packages (from requests>=2.19.0->datasets==2.4.0->textattack) (2.10)\n",
            "Collecting urllib3!=1.25.0,!=1.25.1,<1.26,>=1.21.1\n",
            "  Downloading urllib3-1.25.11-py2.py3-none-any.whl (127 kB)\n",
            "\u001b[K     |████████████████████████████████| 127 kB 48.9 MB/s \n",
            "\u001b[?25hRequirement already satisfied: regex!=2019.12.17 in /usr/local/lib/python3.7/dist-packages (from transformers>=4.21.0->textattack) (2022.6.2)\n",
            "Collecting tokenizers!=0.11.3,<0.14,>=0.11.1\n",
            "  Downloading tokenizers-0.13.1-cp37-cp37m-manylinux_2_17_x86_64.manylinux2014_x86_64.whl (7.6 MB)\n",
            "\u001b[K     |████████████████████████████████| 7.6 MB 28.1 MB/s \n",
            "\u001b[?25hCollecting segtok>=1.5.7\n",
            "  Downloading segtok-1.5.11-py3-none-any.whl (24 kB)\n",
            "Collecting konoha<5.0.0,>=4.0.0\n",
            "  Downloading konoha-4.6.5-py3-none-any.whl (20 kB)\n",
            "Collecting conllu>=4.0\n",
            "  Downloading conllu-4.5.2-py2.py3-none-any.whl (16 kB)\n",
            "Collecting sqlitedict>=1.6.0\n",
            "  Downloading sqlitedict-2.0.0.tar.gz (46 kB)\n",
            "\u001b[K     |████████████████████████████████| 46 kB 4.1 MB/s \n",
            "\u001b[?25hCollecting mpld3==0.3\n",
            "  Downloading mpld3-0.3.tar.gz (788 kB)\n",
            "\u001b[K     |████████████████████████████████| 788 kB 43.0 MB/s \n",
            "\u001b[?25hCollecting bpemb>=0.3.2\n",
            "  Downloading bpemb-0.3.4-py3-none-any.whl (19 kB)\n",
            "Requirement already satisfied: tabulate in /usr/local/lib/python3.7/dist-packages (from flair->textattack) (0.8.10)\n",
            "Requirement already satisfied: scikit-learn>=0.21.3 in /usr/local/lib/python3.7/dist-packages (from flair->textattack) (1.0.2)\n",
            "Collecting sentencepiece==0.1.95\n",
            "  Downloading sentencepiece-0.1.95-cp37-cp37m-manylinux2014_x86_64.whl (1.2 MB)\n",
            "\u001b[K     |████████████████████████████████| 1.2 MB 43.3 MB/s \n",
            "\u001b[?25hCollecting wikipedia-api\n",
            "  Downloading Wikipedia-API-0.5.4.tar.gz (18 kB)\n",
            "Collecting langdetect\n",
            "  Downloading langdetect-1.0.9.tar.gz (981 kB)\n",
            "\u001b[K     |████████████████████████████████| 981 kB 18.2 MB/s \n",
            "\u001b[?25hCollecting pptree\n",
            "  Downloading pptree-3.1.tar.gz (3.0 kB)\n",
            "Collecting hyperopt>=0.2.7\n",
            "  Downloading hyperopt-0.2.7-py2.py3-none-any.whl (1.6 MB)\n",
            "\u001b[K     |████████████████████████████████| 1.6 MB 55.9 MB/s \n",
            "\u001b[?25hCollecting ftfy\n",
            "  Downloading ftfy-6.1.1-py3-none-any.whl (53 kB)\n",
            "\u001b[K     |████████████████████████████████| 53 kB 1.4 MB/s \n",
            "\u001b[?25hCollecting deprecated>=1.2.4\n",
            "  Downloading Deprecated-1.2.13-py2.py3-none-any.whl (9.6 kB)\n",
            "Collecting janome\n",
            "  Downloading Janome-0.4.2-py2.py3-none-any.whl (19.7 MB)\n",
            "\u001b[K     |████████████████████████████████| 19.7 MB 50.9 MB/s \n",
            "\u001b[?25hRequirement already satisfied: lxml in /usr/local/lib/python3.7/dist-packages (from flair->textattack) (4.9.1)\n",
            "Requirement already satisfied: gdown==4.4.0 in /usr/local/lib/python3.7/dist-packages (from flair->textattack) (4.4.0)\n",
            "Requirement already satisfied: gensim>=3.4.0 in /usr/local/lib/python3.7/dist-packages (from flair->textattack) (3.6.0)\n",
            "Requirement already satisfied: beautifulsoup4 in /usr/local/lib/python3.7/dist-packages (from gdown==4.4.0->flair->textattack) (4.6.3)\n",
            "Requirement already satisfied: wrapt<2,>=1.10 in /usr/local/lib/python3.7/dist-packages (from deprecated>=1.2.4->flair->textattack) (1.14.1)\n",
            "Requirement already satisfied: smart-open>=1.2.1 in /usr/local/lib/python3.7/dist-packages (from gensim>=3.4.0->flair->textattack) (5.2.1)\n",
            "Requirement already satisfied: future in /usr/local/lib/python3.7/dist-packages (from hyperopt>=0.2.7->flair->textattack) (0.16.0)\n",
            "Requirement already satisfied: cloudpickle in /usr/local/lib/python3.7/dist-packages (from hyperopt>=0.2.7->flair->textattack) (1.5.0)\n",
            "Collecting py4j\n",
            "  Downloading py4j-0.10.9.7-py2.py3-none-any.whl (200 kB)\n",
            "\u001b[K     |████████████████████████████████| 200 kB 49.6 MB/s \n",
            "\u001b[?25hRequirement already satisfied: networkx>=2.2 in /usr/local/lib/python3.7/dist-packages (from hyperopt>=0.2.7->flair->textattack) (2.6.3)\n",
            "Collecting overrides<4.0.0,>=3.0.0\n",
            "  Downloading overrides-3.1.0.tar.gz (11 kB)\n",
            "Collecting requests>=2.19.0\n",
            "  Downloading requests-2.28.1-py3-none-any.whl (62 kB)\n",
            "\u001b[K     |████████████████████████████████| 62 kB 1.8 MB/s \n",
            "\u001b[?25hCollecting importlib-metadata\n",
            "  Downloading importlib_metadata-3.10.1-py3-none-any.whl (14 kB)\n",
            "Requirement already satisfied: zipp>=0.5 in /usr/local/lib/python3.7/dist-packages (from importlib-metadata->datasets==2.4.0->textattack) (3.9.0)\n",
            "Requirement already satisfied: cycler>=0.10 in /usr/local/lib/python3.7/dist-packages (from matplotlib->bert-score>=0.3.5->textattack) (0.11.0)\n",
            "Requirement already satisfied: kiwisolver>=1.0.1 in /usr/local/lib/python3.7/dist-packages (from matplotlib->bert-score>=0.3.5->textattack) (1.4.4)\n",
            "Requirement already satisfied: joblib>=0.11 in /usr/local/lib/python3.7/dist-packages (from scikit-learn>=0.21.3->flair->textattack) (1.2.0)\n",
            "Requirement already satisfied: threadpoolctl>=2.0.0 in /usr/local/lib/python3.7/dist-packages (from scikit-learn>=0.21.3->flair->textattack) (3.1.0)\n",
            "Requirement already satisfied: wcwidth>=0.2.5 in /usr/local/lib/python3.7/dist-packages (from ftfy->flair->textattack) (0.2.5)\n",
            "Collecting docopt>=0.6.2\n",
            "  Downloading docopt-0.6.2.tar.gz (25 kB)\n",
            "Requirement already satisfied: setuptools in /usr/local/lib/python3.7/dist-packages (from OpenHowNet->textattack) (57.4.0)\n",
            "Collecting anytree\n",
            "  Downloading anytree-2.8.0-py2.py3-none-any.whl (41 kB)\n",
            "\u001b[K     |████████████████████████████████| 41 kB 451 kB/s \n",
            "\u001b[?25hBuilding wheels for collected packages: pinyin, mpld3, overrides, sqlitedict, langdetect, docopt, pptree, pycld2, wikipedia-api, word2number\n",
            "  Building wheel for pinyin (setup.py) ... \u001b[?25l\u001b[?25hdone\n",
            "  Created wheel for pinyin: filename=pinyin-0.4.0-py3-none-any.whl size=3630494 sha256=da50fca749194380da9117c70d0ba299048fceafabd2737e1ca7daf1b48bbcd1\n",
            "  Stored in directory: /root/.cache/pip/wheels/b8/7d/a6/f2fe72950e89e84982e1982f7a68805a37773693188a9c889c\n",
            "  Building wheel for mpld3 (setup.py) ... \u001b[?25l\u001b[?25hdone\n",
            "  Created wheel for mpld3: filename=mpld3-0.3-py3-none-any.whl size=116702 sha256=36e9633f0854c170e1421af5d44da02cb3da56d246c28a9f2c96d3020ca0a7ad\n",
            "  Stored in directory: /root/.cache/pip/wheels/26/70/6a/1c79e59951a41b4045497da187b2724f5659ca64033cf4548e\n",
            "  Building wheel for overrides (setup.py) ... \u001b[?25l\u001b[?25hdone\n",
            "  Created wheel for overrides: filename=overrides-3.1.0-py3-none-any.whl size=10187 sha256=98689dd79cadb2d419a61b3d834b8b44a087add6c2f928faf95f734fd554d3ec\n",
            "  Stored in directory: /root/.cache/pip/wheels/3a/0d/38/01a9bc6e20dcfaf0a6a7b552d03137558ba1c38aea47644682\n",
            "  Building wheel for sqlitedict (setup.py) ... \u001b[?25l\u001b[?25hdone\n",
            "  Created wheel for sqlitedict: filename=sqlitedict-2.0.0-py3-none-any.whl size=15736 sha256=a3d0e7681bcfbe157e27addf257e0c8adf8667890f533d08a6f2a4b06aeef7a3\n",
            "  Stored in directory: /root/.cache/pip/wheels/96/dd/2e/0ed4a25cb73fc30c7ea8d10b50acb7226175736067e40a7ea3\n",
            "  Building wheel for langdetect (setup.py) ... \u001b[?25l\u001b[?25hdone\n",
            "  Created wheel for langdetect: filename=langdetect-1.0.9-py3-none-any.whl size=993242 sha256=1946b67248c24c7d44374973596c946fd7194c0adb499d049d0860293f41c68e\n",
            "  Stored in directory: /root/.cache/pip/wheels/c5/96/8a/f90c59ed25d75e50a8c10a1b1c2d4c402e4dacfa87f3aff36a\n",
            "  Building wheel for docopt (setup.py) ... \u001b[?25l\u001b[?25hdone\n",
            "  Created wheel for docopt: filename=docopt-0.6.2-py2.py3-none-any.whl size=13723 sha256=97d0f88c843fe6ca2e36a69051ae09dab969bb17ac1239400c842008f29bd523\n",
            "  Stored in directory: /root/.cache/pip/wheels/72/b0/3f/1d95f96ff986c7dfffe46ce2be4062f38ebd04b506c77c81b9\n",
            "  Building wheel for pptree (setup.py) ... \u001b[?25l\u001b[?25hdone\n",
            "  Created wheel for pptree: filename=pptree-3.1-py3-none-any.whl size=4629 sha256=b65beff5e1ab5b90928584437e251dcaed24cf8f544d65b84823e10fc57afa5e\n",
            "  Stored in directory: /root/.cache/pip/wheels/9e/e8/7d/a9c3c19b4722608a0d8b05a38c36bc3f230c43becd2a46794b\n",
            "  Building wheel for pycld2 (setup.py) ... \u001b[?25l\u001b[?25hdone\n",
            "  Created wheel for pycld2: filename=pycld2-0.41-cp37-cp37m-linux_x86_64.whl size=9834250 sha256=876411a2db9b6a1e0f2686aad882babc73f0e58f17b31a63c604169bdb44d62d\n",
            "  Stored in directory: /root/.cache/pip/wheels/ed/e4/58/ed2e9f43c07d617cc81fe7aff0fc6e42b16c9cf6afe960b614\n",
            "  Building wheel for wikipedia-api (setup.py) ... \u001b[?25l\u001b[?25hdone\n",
            "  Created wheel for wikipedia-api: filename=Wikipedia_API-0.5.4-py3-none-any.whl size=13477 sha256=0f5aeffe06179552426f843b1939fb68d61162e0db13c04a82c3feff50bf521e\n",
            "  Stored in directory: /root/.cache/pip/wheels/d3/24/56/58ba93cf78be162451144e7a9889603f437976ef1ae7013d04\n",
            "  Building wheel for word2number (setup.py) ... \u001b[?25l\u001b[?25hdone\n",
            "  Created wheel for word2number: filename=word2number-1.1-py3-none-any.whl size=5582 sha256=afec0f8d0bb47cc86ce6d26bf3f0061a6a7ab43b9522b223225610922a9e2742\n",
            "  Stored in directory: /root/.cache/pip/wheels/4b/c3/77/a5f48aeb0d3efb7cd5ad61cbd3da30bbf9ffc9662b07c9f879\n",
            "Successfully built pinyin mpld3 overrides sqlitedict langdetect docopt pptree pycld2 wikipedia-api word2number\n",
            "Installing collected packages: urllib3, requests, importlib-metadata, tokenizers, sentencepiece, py4j, overrides, huggingface-hub, xxhash, wikipedia-api, transformers, sqlitedict, segtok, responses, pptree, multiprocess, mpld3, langdetect, konoha, janome, hyperopt, ftfy, docopt, deprecated, conllu, bpemb, anytree, word2number, terminaltables, pycld2, pinyin, OpenHowNet, num2words, lru-dict, lemminflect, language-tool-python, flair, datasets, bert-score, textattack\n",
            "  Attempting uninstall: urllib3\n",
            "    Found existing installation: urllib3 1.24.3\n",
            "    Uninstalling urllib3-1.24.3:\n",
            "      Successfully uninstalled urllib3-1.24.3\n",
            "  Attempting uninstall: requests\n",
            "    Found existing installation: requests 2.23.0\n",
            "    Uninstalling requests-2.23.0:\n",
            "      Successfully uninstalled requests-2.23.0\n",
            "  Attempting uninstall: importlib-metadata\n",
            "    Found existing installation: importlib-metadata 4.13.0\n",
            "    Uninstalling importlib-metadata-4.13.0:\n",
            "      Successfully uninstalled importlib-metadata-4.13.0\n",
            "  Attempting uninstall: hyperopt\n",
            "    Found existing installation: hyperopt 0.1.2\n",
            "    Uninstalling hyperopt-0.1.2:\n",
            "      Successfully uninstalled hyperopt-0.1.2\n",
            "\u001b[31mERROR: pip's dependency resolver does not currently take into account all the packages that are installed. This behaviour is the source of the following dependency conflicts.\n",
            "markdown 3.4.1 requires importlib-metadata>=4.4; python_version < \"3.10\", but you have importlib-metadata 3.10.1 which is incompatible.\n",
            "gym 0.25.2 requires importlib-metadata>=4.8.0; python_version < \"3.10\", but you have importlib-metadata 3.10.1 which is incompatible.\u001b[0m\n",
            "Successfully installed OpenHowNet-2.0 anytree-2.8.0 bert-score-0.3.12 bpemb-0.3.4 conllu-4.5.2 datasets-2.4.0 deprecated-1.2.13 docopt-0.6.2 flair-0.11.3 ftfy-6.1.1 huggingface-hub-0.10.1 hyperopt-0.2.7 importlib-metadata-3.10.1 janome-0.4.2 konoha-4.6.5 langdetect-1.0.9 language-tool-python-2.7.1 lemminflect-0.2.3 lru-dict-1.1.8 mpld3-0.3 multiprocess-0.70.13 num2words-0.5.12 overrides-3.1.0 pinyin-0.4.0 pptree-3.1 py4j-0.10.9.7 pycld2-0.41 requests-2.28.1 responses-0.18.0 segtok-1.5.11 sentencepiece-0.1.95 sqlitedict-2.0.0 terminaltables-3.1.10 textattack-0.3.7 tokenizers-0.13.1 transformers-4.23.1 urllib3-1.25.11 wikipedia-api-0.5.4 word2number-1.1 xxhash-3.1.0\n",
            "Looking in indexes: https://pypi.org/simple, https://us-python.pkg.dev/colab-wheels/public/simple/\n",
            "Collecting tensorflow_text\n",
            "  Downloading tensorflow_text-2.10.0-cp37-cp37m-manylinux_2_17_x86_64.manylinux2014_x86_64.whl (5.9 MB)\n",
            "\u001b[K     |████████████████████████████████| 5.9 MB 7.8 MB/s \n",
            "\u001b[?25hCollecting tensorflow<2.11,>=2.10.0\n",
            "  Downloading tensorflow-2.10.0-cp37-cp37m-manylinux_2_17_x86_64.manylinux2014_x86_64.whl (578.0 MB)\n",
            "\u001b[K     |████████████████████████████████| 578.0 MB 18 kB/s \n",
            "\u001b[?25hRequirement already satisfied: tensorflow-hub>=0.8.0 in /usr/local/lib/python3.7/dist-packages (from tensorflow_text) (0.12.0)\n",
            "Requirement already satisfied: absl-py>=1.0.0 in /usr/local/lib/python3.7/dist-packages (from tensorflow<2.11,>=2.10.0->tensorflow_text) (1.3.0)\n",
            "Requirement already satisfied: astunparse>=1.6.0 in /usr/local/lib/python3.7/dist-packages (from tensorflow<2.11,>=2.10.0->tensorflow_text) (1.6.3)\n",
            "Requirement already satisfied: numpy>=1.20 in /usr/local/lib/python3.7/dist-packages (from tensorflow<2.11,>=2.10.0->tensorflow_text) (1.21.6)\n",
            "Requirement already satisfied: setuptools in /usr/local/lib/python3.7/dist-packages (from tensorflow<2.11,>=2.10.0->tensorflow_text) (57.4.0)\n",
            "Requirement already satisfied: wrapt>=1.11.0 in /usr/local/lib/python3.7/dist-packages (from tensorflow<2.11,>=2.10.0->tensorflow_text) (1.14.1)\n",
            "Requirement already satisfied: typing-extensions>=3.6.6 in /usr/local/lib/python3.7/dist-packages (from tensorflow<2.11,>=2.10.0->tensorflow_text) (4.1.1)\n",
            "Requirement already satisfied: google-pasta>=0.1.1 in /usr/local/lib/python3.7/dist-packages (from tensorflow<2.11,>=2.10.0->tensorflow_text) (0.2.0)\n",
            "Requirement already satisfied: keras-preprocessing>=1.1.1 in /usr/local/lib/python3.7/dist-packages (from tensorflow<2.11,>=2.10.0->tensorflow_text) (1.1.2)\n",
            "Requirement already satisfied: protobuf<3.20,>=3.9.2 in /usr/local/lib/python3.7/dist-packages (from tensorflow<2.11,>=2.10.0->tensorflow_text) (3.17.3)\n",
            "Collecting tensorboard<2.11,>=2.10\n",
            "  Downloading tensorboard-2.10.1-py3-none-any.whl (5.9 MB)\n",
            "\u001b[K     |████████████████████████████████| 5.9 MB 41.5 MB/s \n",
            "\u001b[?25hRequirement already satisfied: packaging in /usr/local/lib/python3.7/dist-packages (from tensorflow<2.11,>=2.10.0->tensorflow_text) (21.3)\n",
            "Requirement already satisfied: h5py>=2.9.0 in /usr/local/lib/python3.7/dist-packages (from tensorflow<2.11,>=2.10.0->tensorflow_text) (3.1.0)\n",
            "Collecting flatbuffers>=2.0\n",
            "  Downloading flatbuffers-22.9.24-py2.py3-none-any.whl (26 kB)\n",
            "Requirement already satisfied: opt-einsum>=2.3.2 in /usr/local/lib/python3.7/dist-packages (from tensorflow<2.11,>=2.10.0->tensorflow_text) (3.3.0)\n",
            "Requirement already satisfied: six>=1.12.0 in /usr/local/lib/python3.7/dist-packages (from tensorflow<2.11,>=2.10.0->tensorflow_text) (1.15.0)\n",
            "Collecting keras<2.11,>=2.10.0\n",
            "  Downloading keras-2.10.0-py2.py3-none-any.whl (1.7 MB)\n",
            "\u001b[K     |████████████████████████████████| 1.7 MB 47.1 MB/s \n",
            "\u001b[?25hRequirement already satisfied: gast<=0.4.0,>=0.2.1 in /usr/local/lib/python3.7/dist-packages (from tensorflow<2.11,>=2.10.0->tensorflow_text) (0.4.0)\n",
            "Requirement already satisfied: tensorflow-io-gcs-filesystem>=0.23.1 in /usr/local/lib/python3.7/dist-packages (from tensorflow<2.11,>=2.10.0->tensorflow_text) (0.27.0)\n",
            "Collecting tensorflow-estimator<2.11,>=2.10.0\n",
            "  Downloading tensorflow_estimator-2.10.0-py2.py3-none-any.whl (438 kB)\n",
            "\u001b[K     |████████████████████████████████| 438 kB 54.0 MB/s \n",
            "\u001b[?25hRequirement already satisfied: termcolor>=1.1.0 in /usr/local/lib/python3.7/dist-packages (from tensorflow<2.11,>=2.10.0->tensorflow_text) (2.0.1)\n",
            "Requirement already satisfied: grpcio<2.0,>=1.24.3 in /usr/local/lib/python3.7/dist-packages (from tensorflow<2.11,>=2.10.0->tensorflow_text) (1.49.1)\n",
            "Requirement already satisfied: libclang>=13.0.0 in /usr/local/lib/python3.7/dist-packages (from tensorflow<2.11,>=2.10.0->tensorflow_text) (14.0.6)\n",
            "Requirement already satisfied: wheel<1.0,>=0.23.0 in /usr/local/lib/python3.7/dist-packages (from astunparse>=1.6.0->tensorflow<2.11,>=2.10.0->tensorflow_text) (0.37.1)\n",
            "Requirement already satisfied: cached-property in /usr/local/lib/python3.7/dist-packages (from h5py>=2.9.0->tensorflow<2.11,>=2.10.0->tensorflow_text) (1.5.2)\n",
            "Requirement already satisfied: markdown>=2.6.8 in /usr/local/lib/python3.7/dist-packages (from tensorboard<2.11,>=2.10->tensorflow<2.11,>=2.10.0->tensorflow_text) (3.4.1)\n",
            "Requirement already satisfied: tensorboard-data-server<0.7.0,>=0.6.0 in /usr/local/lib/python3.7/dist-packages (from tensorboard<2.11,>=2.10->tensorflow<2.11,>=2.10.0->tensorflow_text) (0.6.1)\n",
            "Requirement already satisfied: tensorboard-plugin-wit>=1.6.0 in /usr/local/lib/python3.7/dist-packages (from tensorboard<2.11,>=2.10->tensorflow<2.11,>=2.10.0->tensorflow_text) (1.8.1)\n",
            "Requirement already satisfied: werkzeug>=1.0.1 in /usr/local/lib/python3.7/dist-packages (from tensorboard<2.11,>=2.10->tensorflow<2.11,>=2.10.0->tensorflow_text) (1.0.1)\n",
            "Requirement already satisfied: google-auth<3,>=1.6.3 in /usr/local/lib/python3.7/dist-packages (from tensorboard<2.11,>=2.10->tensorflow<2.11,>=2.10.0->tensorflow_text) (1.35.0)\n",
            "Requirement already satisfied: requests<3,>=2.21.0 in /usr/local/lib/python3.7/dist-packages (from tensorboard<2.11,>=2.10->tensorflow<2.11,>=2.10.0->tensorflow_text) (2.28.1)\n",
            "Requirement already satisfied: google-auth-oauthlib<0.5,>=0.4.1 in /usr/local/lib/python3.7/dist-packages (from tensorboard<2.11,>=2.10->tensorflow<2.11,>=2.10.0->tensorflow_text) (0.4.6)\n",
            "Requirement already satisfied: pyasn1-modules>=0.2.1 in /usr/local/lib/python3.7/dist-packages (from google-auth<3,>=1.6.3->tensorboard<2.11,>=2.10->tensorflow<2.11,>=2.10.0->tensorflow_text) (0.2.8)\n",
            "Requirement already satisfied: rsa<5,>=3.1.4 in /usr/local/lib/python3.7/dist-packages (from google-auth<3,>=1.6.3->tensorboard<2.11,>=2.10->tensorflow<2.11,>=2.10.0->tensorflow_text) (4.9)\n",
            "Requirement already satisfied: cachetools<5.0,>=2.0.0 in /usr/local/lib/python3.7/dist-packages (from google-auth<3,>=1.6.3->tensorboard<2.11,>=2.10->tensorflow<2.11,>=2.10.0->tensorflow_text) (4.2.4)\n",
            "Requirement already satisfied: requests-oauthlib>=0.7.0 in /usr/local/lib/python3.7/dist-packages (from google-auth-oauthlib<0.5,>=0.4.1->tensorboard<2.11,>=2.10->tensorflow<2.11,>=2.10.0->tensorflow_text) (1.3.1)\n",
            "Collecting importlib-metadata>=4.4\n",
            "  Downloading importlib_metadata-5.0.0-py3-none-any.whl (21 kB)\n",
            "Requirement already satisfied: zipp>=0.5 in /usr/local/lib/python3.7/dist-packages (from importlib-metadata>=4.4->markdown>=2.6.8->tensorboard<2.11,>=2.10->tensorflow<2.11,>=2.10.0->tensorflow_text) (3.9.0)\n",
            "Requirement already satisfied: pyasn1<0.5.0,>=0.4.6 in /usr/local/lib/python3.7/dist-packages (from pyasn1-modules>=0.2.1->google-auth<3,>=1.6.3->tensorboard<2.11,>=2.10->tensorflow<2.11,>=2.10.0->tensorflow_text) (0.4.8)\n",
            "Requirement already satisfied: certifi>=2017.4.17 in /usr/local/lib/python3.7/dist-packages (from requests<3,>=2.21.0->tensorboard<2.11,>=2.10->tensorflow<2.11,>=2.10.0->tensorflow_text) (2022.9.24)\n",
            "Requirement already satisfied: urllib3<1.27,>=1.21.1 in /usr/local/lib/python3.7/dist-packages (from requests<3,>=2.21.0->tensorboard<2.11,>=2.10->tensorflow<2.11,>=2.10.0->tensorflow_text) (1.25.11)\n",
            "Requirement already satisfied: idna<4,>=2.5 in /usr/local/lib/python3.7/dist-packages (from requests<3,>=2.21.0->tensorboard<2.11,>=2.10->tensorflow<2.11,>=2.10.0->tensorflow_text) (2.10)\n",
            "Requirement already satisfied: charset-normalizer<3,>=2 in /usr/local/lib/python3.7/dist-packages (from requests<3,>=2.21.0->tensorboard<2.11,>=2.10->tensorflow<2.11,>=2.10.0->tensorflow_text) (2.1.1)\n",
            "Requirement already satisfied: oauthlib>=3.0.0 in /usr/local/lib/python3.7/dist-packages (from requests-oauthlib>=0.7.0->google-auth-oauthlib<0.5,>=0.4.1->tensorboard<2.11,>=2.10->tensorflow<2.11,>=2.10.0->tensorflow_text) (3.2.1)\n",
            "Requirement already satisfied: pyparsing!=3.0.5,>=2.0.2 in /usr/local/lib/python3.7/dist-packages (from packaging->tensorflow<2.11,>=2.10.0->tensorflow_text) (3.0.9)\n",
            "Installing collected packages: importlib-metadata, tensorflow-estimator, tensorboard, keras, flatbuffers, tensorflow, tensorflow-text\n",
            "  Attempting uninstall: importlib-metadata\n",
            "    Found existing installation: importlib-metadata 3.10.1\n",
            "    Uninstalling importlib-metadata-3.10.1:\n",
            "      Successfully uninstalled importlib-metadata-3.10.1\n",
            "  Attempting uninstall: tensorflow-estimator\n",
            "    Found existing installation: tensorflow-estimator 2.9.0\n",
            "    Uninstalling tensorflow-estimator-2.9.0:\n",
            "      Successfully uninstalled tensorflow-estimator-2.9.0\n",
            "  Attempting uninstall: tensorboard\n",
            "    Found existing installation: tensorboard 2.9.1\n",
            "    Uninstalling tensorboard-2.9.1:\n",
            "      Successfully uninstalled tensorboard-2.9.1\n",
            "  Attempting uninstall: keras\n",
            "    Found existing installation: keras 2.9.0\n",
            "    Uninstalling keras-2.9.0:\n",
            "      Successfully uninstalled keras-2.9.0\n",
            "  Attempting uninstall: flatbuffers\n",
            "    Found existing installation: flatbuffers 1.12\n",
            "    Uninstalling flatbuffers-1.12:\n",
            "      Successfully uninstalled flatbuffers-1.12\n",
            "  Attempting uninstall: tensorflow\n",
            "    Found existing installation: tensorflow 2.9.2\n",
            "    Uninstalling tensorflow-2.9.2:\n",
            "      Successfully uninstalled tensorflow-2.9.2\n",
            "\u001b[31mERROR: pip's dependency resolver does not currently take into account all the packages that are installed. This behaviour is the source of the following dependency conflicts.\n",
            "konoha 4.6.5 requires importlib-metadata<4.0.0,>=3.7.0, but you have importlib-metadata 5.0.0 which is incompatible.\u001b[0m\n",
            "Successfully installed flatbuffers-22.9.24 importlib-metadata-5.0.0 keras-2.10.0 tensorboard-2.10.1 tensorflow-2.10.0 tensorflow-estimator-2.10.0 tensorflow-text-2.10.0\n"
          ]
        },
        {
          "output_type": "stream",
          "name": "stderr",
          "text": [
            "textattack: Updating TextAttack package dependencies.\n",
            "textattack: Downloading NLTK required packages.\n",
            "[nltk_data] Downloading package averaged_perceptron_tagger to\n",
            "[nltk_data]     /root/nltk_data...\n",
            "[nltk_data]   Unzipping taggers/averaged_perceptron_tagger.zip.\n",
            "[nltk_data] Downloading package stopwords to /root/nltk_data...\n",
            "[nltk_data]   Package stopwords is already up-to-date!\n",
            "[nltk_data] Downloading package omw to /root/nltk_data...\n",
            "[nltk_data] Downloading package universal_tagset to /root/nltk_data...\n",
            "[nltk_data]   Unzipping taggers/universal_tagset.zip.\n",
            "[nltk_data] Downloading package wordnet to /root/nltk_data...\n",
            "[nltk_data]   Package wordnet is already up-to-date!\n",
            "[nltk_data] Downloading package punkt to /root/nltk_data...\n",
            "[nltk_data]   Package punkt is already up-to-date!\n"
          ]
        },
        {
          "output_type": "stream",
          "name": "stdout",
          "text": [
            "Looking in indexes: https://pypi.org/simple, https://us-python.pkg.dev/colab-wheels/public/simple/\n",
            "Collecting googletrans==3.1.0a0\n",
            "  Downloading googletrans-3.1.0a0.tar.gz (19 kB)\n",
            "Collecting httpx==0.13.3\n",
            "  Downloading httpx-0.13.3-py3-none-any.whl (55 kB)\n",
            "\u001b[K     |████████████████████████████████| 55 kB 3.0 MB/s \n",
            "\u001b[?25hCollecting httpcore==0.9.*\n",
            "  Downloading httpcore-0.9.1-py3-none-any.whl (42 kB)\n",
            "\u001b[K     |████████████████████████████████| 42 kB 1.5 MB/s \n",
            "\u001b[?25hCollecting sniffio\n",
            "  Downloading sniffio-1.3.0-py3-none-any.whl (10 kB)\n",
            "Requirement already satisfied: chardet==3.* in /usr/local/lib/python3.7/dist-packages (from httpx==0.13.3->googletrans==3.1.0a0) (3.0.4)\n",
            "Collecting hstspreload\n",
            "  Downloading hstspreload-2022.10.1-py3-none-any.whl (1.4 MB)\n",
            "\u001b[K     |████████████████████████████████| 1.4 MB 18.2 MB/s \n",
            "\u001b[?25hRequirement already satisfied: certifi in /usr/local/lib/python3.7/dist-packages (from httpx==0.13.3->googletrans==3.1.0a0) (2022.9.24)\n",
            "Requirement already satisfied: idna==2.* in /usr/local/lib/python3.7/dist-packages (from httpx==0.13.3->googletrans==3.1.0a0) (2.10)\n",
            "Collecting rfc3986<2,>=1.3\n",
            "  Downloading rfc3986-1.5.0-py2.py3-none-any.whl (31 kB)\n",
            "Collecting h2==3.*\n",
            "  Downloading h2-3.2.0-py2.py3-none-any.whl (65 kB)\n",
            "\u001b[K     |████████████████████████████████| 65 kB 4.1 MB/s \n",
            "\u001b[?25hCollecting h11<0.10,>=0.8\n",
            "  Downloading h11-0.9.0-py2.py3-none-any.whl (53 kB)\n",
            "\u001b[K     |████████████████████████████████| 53 kB 2.2 MB/s \n",
            "\u001b[?25hCollecting hyperframe<6,>=5.2.0\n",
            "  Downloading hyperframe-5.2.0-py2.py3-none-any.whl (12 kB)\n",
            "Collecting hpack<4,>=3.0\n",
            "  Downloading hpack-3.0.0-py2.py3-none-any.whl (38 kB)\n",
            "Building wheels for collected packages: googletrans\n",
            "  Building wheel for googletrans (setup.py) ... \u001b[?25l\u001b[?25hdone\n",
            "  Created wheel for googletrans: filename=googletrans-3.1.0a0-py3-none-any.whl size=16367 sha256=c5cc52943fb1e70d5c661c614470b5ae62f258870f9daa5bf805f9189327ea19\n",
            "  Stored in directory: /root/.cache/pip/wheels/0c/be/fe/93a6a40ffe386e16089e44dad9018ebab9dc4cb9eb7eab65ae\n",
            "Successfully built googletrans\n",
            "Installing collected packages: hyperframe, hpack, sniffio, h2, h11, rfc3986, httpcore, hstspreload, httpx, googletrans\n",
            "Successfully installed googletrans-3.1.0a0 h11-0.9.0 h2-3.2.0 hpack-3.0.0 hstspreload-2022.10.1 httpcore-0.9.1 httpx-0.13.3 hyperframe-5.2.0 rfc3986-1.5.0 sniffio-1.3.0\n"
          ]
        }
      ],
      "source": [
        "import pandas as pd\n",
        "import numpy as np\n",
        "from pandas.api.types import is_string_dtype\n",
        "import matplotlib.pyplot as plt\n",
        "import seaborn as sns\n",
        "from sklearn.model_selection import train_test_split\n",
        "from sklearn.preprocessing import LabelEncoder\n",
        "from sklearn.impute import SimpleImputer\n",
        "from sklearn.feature_extraction import text\n",
        "from sklearn.neighbors import KNeighborsClassifier\n",
        "from sklearn.feature_extraction.text import CountVectorizer\n",
        "from sklearn.metrics import accuracy_score, f1_score, recall_score, confusion_matrix\n",
        "import random\n",
        "import re\n",
        "import string\n",
        "import nltk\n",
        "from nltk.stem.wordnet import WordNetLemmatizer\n",
        "nltk.download('punkt')\n",
        "nltk.download('wordnet')\n",
        "from nltk.corpus import stopwords\n",
        "nltk.download('stopwords')\n",
        "nltk.download('omw-1.4')\n",
        "from sklearn.naive_bayes import MultinomialNB\n",
        "from sklearn.model_selection import RepeatedStratifiedKFold\n",
        "#library for data augmentation\n",
        "try:\n",
        "  from textattack.augmentation import WordNetAugmenter\n",
        "  from textattack.augmentation import EmbeddingAugmenter\n",
        "  from textattack.augmentation import CLAREAugmenter\n",
        "  from textattack.augmentation import EasyDataAugmenter\n",
        "except ModuleNotFoundError:\n",
        "  %pip install textattack\n",
        "  %pip install tensorflow_text\n",
        "  from textattack.augmentation import WordNetAugmenter\n",
        "  from textattack.augmentation import EmbeddingAugmenter\n",
        "  from textattack.augmentation import CLAREAugmenter\n",
        "  from textattack.augmentation import EasyDataAugmenter\n",
        "#google translator for backtranslation\n",
        "try:\n",
        "  import googletrans\n",
        "  from googletrans.client import Translator\n",
        "except:\n",
        "  %pip install googletrans==3.1.0a0\n",
        "  import googletrans\n",
        "  from googletrans.client import Translator"
      ]
    },
    {
      "cell_type": "markdown",
      "metadata": {
        "id": "Wec4TOvH_WFF"
      },
      "source": [
        "# Augmentation Example"
      ]
    },
    {
      "cell_type": "markdown",
      "metadata": {
        "id": "zobwvTkS3X8q"
      },
      "source": [
        "**Augmentation Based on cosine Similarity**"
      ]
    },
    {
      "cell_type": "code",
      "execution_count": null,
      "metadata": {
        "colab": {
          "base_uri": "https://localhost:8080/"
        },
        "id": "4n3-TKO80J8r",
        "outputId": "74ba5ee1-e67a-4a95-fa8f-db6b340c7ae8"
      },
      "outputs": [
        {
          "output_type": "stream",
          "name": "stderr",
          "text": [
            "textattack: Downloading https://textattack.s3.amazonaws.com/word_embeddings/paragramcf.\n",
            "100%|██████████| 481M/481M [00:16<00:00, 29.5MB/s]\n",
            "textattack: Unzipping file /root/.cache/textattack/tmpph3b5mrr.zip to /root/.cache/textattack/word_embeddings/paragramcf.\n",
            "textattack: Successfully saved word_embeddings/paragramcf to cache.\n"
          ]
        },
        {
          "output_type": "execute_result",
          "data": {
            "text/plain": [
              "[\"Yeah hopefully, if tyler can't do it I could potentially ask around a bit\"]"
            ]
          },
          "metadata": {},
          "execution_count": 2
        }
      ],
      "source": [
        "em_augment = EmbeddingAugmenter()\n",
        "em_augment.augment(\"Yeah hopefully, if tyler can't do it I could maybe ask around a bit\")"
      ]
    },
    {
      "cell_type": "markdown",
      "metadata": {
        "id": "mMc4bHbQ4JR9"
      },
      "source": [
        "**Augment Based on Synonym**"
      ]
    },
    {
      "cell_type": "code",
      "execution_count": null,
      "metadata": {
        "colab": {
          "base_uri": "https://localhost:8080/"
        },
        "id": "AELSuSVM4I1O",
        "outputId": "a857c5b5-3b46-4d29-aca7-6622e97aa01b"
      },
      "outputs": [
        {
          "output_type": "stream",
          "name": "stderr",
          "text": [
            "[nltk_data] Downloading package omw-1.4 to /root/nltk_data...\n",
            "[nltk_data]   Package omw-1.4 is already up-to-date!\n"
          ]
        },
        {
          "output_type": "execute_result",
          "data": {
            "text/plain": [
              "[\"Yeah hopefully, if tyler can't do it I could maybe take around a bit\"]"
            ]
          },
          "metadata": {},
          "execution_count": 3
        }
      ],
      "source": [
        "wc_augment = WordNetAugmenter()\n",
        "wc_augment.augment(\"Yeah hopefully, if tyler can't do it I could maybe ask around a bit\")"
      ]
    },
    {
      "cell_type": "markdown",
      "metadata": {
        "id": "HDJU6NkK6JNG"
      },
      "source": [
        "**Augment Text by eplacing, inserting, and merging with a pre-trained masked language model**"
      ]
    },
    {
      "cell_type": "code",
      "execution_count": null,
      "metadata": {
        "colab": {
          "base_uri": "https://localhost:8080/",
          "height": 333,
          "referenced_widgets": [
            "a3f8b880eaf440609add0726f3c6468e",
            "898a04958b5b4670bd66e118814e8f04",
            "cb7d6fca5867468f9b804ffa59ab26aa",
            "068b0d3eeb4442549bd832317b793f85",
            "f63c231a26f040f7ab68f66ce48f2873",
            "bc4f5f8a43c54776a81cf61041accf05",
            "42769921b03644ba9ceff7abfdd442ca",
            "5a1755e80a014c75a7c78c06ffaf2ff8",
            "c78dbe5c36b9482dabc7573ac7f04c03",
            "7d8b340a108740f7bbcc47a0c349e4b0",
            "d64d4c17a57a48c9977e85a7a7a1defe",
            "e1f9d1605f0b46d2b2dc5d926446ace2",
            "f1b03106b44d404ab7ee00ee8ab62f16",
            "01281c0e6abc4069a99d7d35150df9a2",
            "d26a8abb269e456abea8d00fe5986f5b",
            "ea0edef3c3eb4d1d9b66105fa85c896b",
            "519c7a6164414eb18298af4b2c9df4f3",
            "dcc23e65bfa246fcb07ebc21536fad31",
            "d7ca39a278554968aa2fb7ea556aa874",
            "2ceae2a4c94d45f994aaf78d0ac34e72",
            "bcc3674a428548fab9957fb72c7e26f7",
            "c69645e785d9426e981e86703ca1a058",
            "42750d8028a54e11a340969bfaebb74f",
            "d63b5b1c8e86480b836c2d5dd468ac5c",
            "32a89a0000484cc4a55fe8adbfbef2e7",
            "68178b54972449fbac5046c51571b056",
            "8dc2e0737c0c4fca9713fe0122a37f10",
            "d8cf8e83d11840129c8151070f2dcb42",
            "4b3b0bcb6be54d5b808f2e3637b3bc4d",
            "0bc25f162ac54a44bf5d63a7f8d0f468",
            "5b2c2f271aad46838843b8875746c8ea",
            "90ce873304204cf9ba72c9e495406d79",
            "febfc87725774dc8a8e39368dd4aeef2",
            "ba20df5e09e14f8680c28ba01cbbc7c2",
            "10b0bc87cbc64752aef37ff962ddb36e",
            "7318611bdf61463e80b62d7da73b1449",
            "78410673429a4bd981e6c77679fa8fdd",
            "44886a3b54ee43f59107a090bd679f96",
            "d1ca1f4281a440f98c13866997c9ed60",
            "1ee571f8438e43cba4ed8f0be9ba1e19",
            "b92c481a9a1f45bebe4e59d0886cdb8d",
            "fb026c8c1ab24f119420b1acdcd3b942",
            "04b7eff7aaca4816b46c860d0215ee13",
            "03d2b0d95ec6406689daeaa373286344",
            "5c206fe4070744f1b1d356bbca014a96",
            "e4621e7bab904629ae36f307e7ecccf9",
            "7eb7c3b09a384331b527a61ea2613e04",
            "e721917ab9f64451b7dd1e23fd0948b6",
            "efbf0903630242ddb4022e67084f97f0",
            "feb99e9d364a4190a095b01100792aad",
            "517ef8bc23de4bab8d2d4f29bc9c7e70",
            "f70c4c13545a42b5ae82bf12ce30199f",
            "30c4026268014fc09d3b709865fb23f1",
            "3bd8866555384a91ba5a48cd0ab8cf27",
            "009999a357dd4b9daa275f0181f38b63",
            "6db38c64d3954eaeb788551386e45fd5",
            "39eaa647758f43bfb9ee9de669c9ddef",
            "6362360730234c1783ab3fce934c5070",
            "f4b4a2ea1175446a98ab0d7b67aff590",
            "73412b4677c74310b143e700e6c9bbf6",
            "7e5d07df7eea4ae8acc42a069f1fce1b",
            "7297e721d2314c90bf44319e402a7eb9",
            "af293f00ca78498699e5e0072ed47730",
            "780732dc255e4b38aa9924e311e95012",
            "4e6b9fa2ac9d4c02a1c823781c41b1a2",
            "ff9142a5b2b941d4b917f4fe8f9af917"
          ]
        },
        "id": "0H4UGDAe6X7w",
        "outputId": "4a4f5927-b1c9-4561-b488-34a3b06c2de9"
      },
      "outputs": [
        {
          "data": {
            "application/vnd.jupyter.widget-view+json": {
              "model_id": "a3f8b880eaf440609add0726f3c6468e",
              "version_major": 2,
              "version_minor": 0
            },
            "text/plain": [
              "Downloading:   0%|          | 0.00/480 [00:00<?, ?B/s]"
            ]
          },
          "metadata": {},
          "output_type": "display_data"
        },
        {
          "data": {
            "application/vnd.jupyter.widget-view+json": {
              "model_id": "e1f9d1605f0b46d2b2dc5d926446ace2",
              "version_major": 2,
              "version_minor": 0
            },
            "text/plain": [
              "Downloading:   0%|          | 0.00/331M [00:00<?, ?B/s]"
            ]
          },
          "metadata": {},
          "output_type": "display_data"
        },
        {
          "name": "stderr",
          "output_type": "stream",
          "text": [
            "If you want to use `RobertaLMHeadModel` as a standalone, add `is_decoder=True.`\n"
          ]
        },
        {
          "data": {
            "application/vnd.jupyter.widget-view+json": {
              "model_id": "42750d8028a54e11a340969bfaebb74f",
              "version_major": 2,
              "version_minor": 0
            },
            "text/plain": [
              "Downloading:   0%|          | 0.00/899k [00:00<?, ?B/s]"
            ]
          },
          "metadata": {},
          "output_type": "display_data"
        },
        {
          "data": {
            "application/vnd.jupyter.widget-view+json": {
              "model_id": "ba20df5e09e14f8680c28ba01cbbc7c2",
              "version_major": 2,
              "version_minor": 0
            },
            "text/plain": [
              "Downloading:   0%|          | 0.00/456k [00:00<?, ?B/s]"
            ]
          },
          "metadata": {},
          "output_type": "display_data"
        },
        {
          "data": {
            "application/vnd.jupyter.widget-view+json": {
              "model_id": "5c206fe4070744f1b1d356bbca014a96",
              "version_major": 2,
              "version_minor": 0
            },
            "text/plain": [
              "Downloading:   0%|          | 0.00/1.36M [00:00<?, ?B/s]"
            ]
          },
          "metadata": {},
          "output_type": "display_data"
        },
        {
          "name": "stderr",
          "output_type": "stream",
          "text": [
            "/usr/local/lib/python3.7/dist-packages/huggingface_hub/file_download.py:591: FutureWarning: `cached_download` is the legacy way to download files from the HF hub, please consider upgrading to `hf_hub_download`\n",
            "  FutureWarning,\n"
          ]
        },
        {
          "data": {
            "application/vnd.jupyter.widget-view+json": {
              "model_id": "6db38c64d3954eaeb788551386e45fd5",
              "version_major": 2,
              "version_minor": 0
            },
            "text/plain": [
              "Downloading:   0%|          | 0.00/75.2M [00:00<?, ?B/s]"
            ]
          },
          "metadata": {},
          "output_type": "display_data"
        },
        {
          "name": "stdout",
          "output_type": "stream",
          "text": [
            "2022-10-12 15:09:39,871 loading file /root/.flair/models/upos-english-fast/b631371788604e95f27b6567fe7220e4a7e8d03201f3d862e6204dbf90f9f164.0afb95b43b32509bf4fcc3687f7c64157d8880d08f813124c1bd371c3d8ee3f7\n",
            "2022-10-12 15:09:39,964 SequenceTagger predicts: Dictionary with 20 tags: <unk>, O, INTJ, PUNCT, VERB, PRON, NOUN, ADV, DET, ADJ, ADP, NUM, PROPN, CCONJ, PART, AUX, X, SYM, <START>, <STOP>\n",
            "[\"Yeah hopefully, if tyler can't do it that I could maybe ask around a bit\"]\n"
          ]
        }
      ],
      "source": [
        "clare_aug = CLAREAugmenter()\n",
        "print(clare_aug.augment(\"Yeah hopefully, if tyler can't do it I could maybe ask around a bit\"))"
      ]
    },
    {
      "cell_type": "markdown",
      "metadata": {
        "id": "ujwTn8efSV8a"
      },
      "source": [
        "**Augment by Easy Data augmentar**"
      ]
    },
    {
      "cell_type": "code",
      "execution_count": null,
      "metadata": {
        "colab": {
          "base_uri": "https://localhost:8080/"
        },
        "id": "cPY3legoSHer",
        "outputId": "03aa1d06-c1e1-4f94-a7a6-9213b0219cda"
      },
      "outputs": [
        {
          "name": "stderr",
          "output_type": "stream",
          "text": [
            "[nltk_data] Downloading package omw-1.4 to /root/nltk_data...\n",
            "[nltk_data]   Package omw-1.4 is already up-to-date!\n"
          ]
        },
        {
          "data": {
            "text/plain": [
              "[\"Yeah hopefully, could tyler can't do it I if maybe ask around a bit\",\n",
              " \"Yeah hopefully, if tyler can't do it I could maybe around a bit\",\n",
              " \"Yeah hopefully, if peradventure tyler can't do it I could maybe ask around a bit\",\n",
              " \"Yeah hopefully, if tyler can't do it 1 could maybe ask around a bit\"]"
            ]
          },
          "execution_count": 5,
          "metadata": {},
          "output_type": "execute_result"
        }
      ],
      "source": [
        "eda_aug = EasyDataAugmenter()\n",
        "eda_aug.augment(\"Yeah hopefully, if tyler can't do it I could maybe ask around a bit\")"
      ]
    },
    {
      "cell_type": "markdown",
      "metadata": {
        "id": "6vhjGJ1wACKy"
      },
      "source": [
        "**Backtranslation Example**"
      ]
    },
    {
      "cell_type": "code",
      "execution_count": null,
      "metadata": {
        "colab": {
          "base_uri": "https://localhost:8080/"
        },
        "id": "oS_UomAJABXs",
        "outputId": "b40b48eb-4dbc-49cf-de51-3b67e7d02fa4"
      },
      "outputs": [
        {
          "output_type": "stream",
          "name": "stdout",
          "text": [
            "Number of Languages:  107\n",
            "{'af': 'afrikaans', 'sq': 'albanian', 'am': 'amharic', 'ar': 'arabic', 'hy': 'armenian', 'az': 'azerbaijani', 'eu': 'basque', 'be': 'belarusian', 'bn': 'bengali', 'bs': 'bosnian', 'bg': 'bulgarian', 'ca': 'catalan', 'ceb': 'cebuano', 'ny': 'chichewa', 'zh-cn': 'chinese (simplified)', 'zh-tw': 'chinese (traditional)', 'co': 'corsican', 'hr': 'croatian', 'cs': 'czech', 'da': 'danish', 'nl': 'dutch', 'en': 'english', 'eo': 'esperanto', 'et': 'estonian', 'tl': 'filipino', 'fi': 'finnish', 'fr': 'french', 'fy': 'frisian', 'gl': 'galician', 'ka': 'georgian', 'de': 'german', 'el': 'greek', 'gu': 'gujarati', 'ht': 'haitian creole', 'ha': 'hausa', 'haw': 'hawaiian', 'iw': 'hebrew', 'he': 'hebrew', 'hi': 'hindi', 'hmn': 'hmong', 'hu': 'hungarian', 'is': 'icelandic', 'ig': 'igbo', 'id': 'indonesian', 'ga': 'irish', 'it': 'italian', 'ja': 'japanese', 'jw': 'javanese', 'kn': 'kannada', 'kk': 'kazakh', 'km': 'khmer', 'ko': 'korean', 'ku': 'kurdish (kurmanji)', 'ky': 'kyrgyz', 'lo': 'lao', 'la': 'latin', 'lv': 'latvian', 'lt': 'lithuanian', 'lb': 'luxembourgish', 'mk': 'macedonian', 'mg': 'malagasy', 'ms': 'malay', 'ml': 'malayalam', 'mt': 'maltese', 'mi': 'maori', 'mr': 'marathi', 'mn': 'mongolian', 'my': 'myanmar (burmese)', 'ne': 'nepali', 'no': 'norwegian', 'or': 'odia', 'ps': 'pashto', 'fa': 'persian', 'pl': 'polish', 'pt': 'portuguese', 'pa': 'punjabi', 'ro': 'romanian', 'ru': 'russian', 'sm': 'samoan', 'gd': 'scots gaelic', 'sr': 'serbian', 'st': 'sesotho', 'sn': 'shona', 'sd': 'sindhi', 'si': 'sinhala', 'sk': 'slovak', 'sl': 'slovenian', 'so': 'somali', 'es': 'spanish', 'su': 'sundanese', 'sw': 'swahili', 'sv': 'swedish', 'tg': 'tajik', 'ta': 'tamil', 'te': 'telugu', 'th': 'thai', 'tr': 'turkish', 'uk': 'ukrainian', 'ur': 'urdu', 'ug': 'uyghur', 'uz': 'uzbek', 'vi': 'vietnamese', 'cy': 'welsh', 'xh': 'xhosa', 'yi': 'yiddish', 'yo': 'yoruba', 'zu': 'zulu'}\n",
            "\n",
            "Hello World -->  Bonjour le monde\n",
            "Bonjour le monde -->  Hi world\n"
          ]
        }
      ],
      "source": [
        "print(\"Number of Languages: \", len(googletrans.LANGUAGES))\n",
        "print(googletrans.LANGUAGES)\n",
        "print()\n",
        "print(\"Hello World --> \", Translator().translate(\"Hello world\", dest='fr').text)\n",
        "bangla = Translator().translate(\"hello world\", dest='fr').text\n",
        "english = Translator().translate(bangla, dest='en').text\n",
        "print(bangla, \"--> \", english)"
      ]
    },
    {
      "cell_type": "markdown",
      "source": [
        "### Specific Example on one sentence"
      ],
      "metadata": {
        "id": "zSjY6IS2XlQ7"
      }
    },
    {
      "cell_type": "code",
      "source": [
        "sentence = \"The girl I have seen yesterday on shopping mall is beautiful\"\n",
        "print('________________________________________________________')\n",
        "print(\"Embedding Augmentor: \\n\")\n",
        "print(em_augment.augment(sentence)[0])\n",
        "print(\"________________________________________________________\")\n",
        "print('\\n__________________________________________________________')\n",
        "print(\"Wordnet Augmentor:\\n\")\n",
        "print(wc_augment.augment(sentence)[0])\n",
        "print('__________________________________________________________')\n",
        "french = Translator().translate(sentence, dest='fr').text\n",
        "english = Translator().translate(sentence, dest='en').text\n",
        "print('________________________________________________________')\n",
        "print(\"Back Translation: \\n\")\n",
        "print(\"English --> French:\", french)\n",
        "print(\"French --> English:\", english)"
      ],
      "metadata": {
        "colab": {
          "base_uri": "https://localhost:8080/"
        },
        "id": "FXsdtuWBXk4l",
        "outputId": "73410f39-5a46-4d32-f43d-0c24b116d8b3"
      },
      "execution_count": null,
      "outputs": [
        {
          "output_type": "stream",
          "name": "stdout",
          "text": [
            "________________________________________________________\n",
            "Embedding Augmentor: \n",
            "\n",
            "The girl I have seen yesterday on shopping supermarket is beautiful\n",
            "________________________________________________________\n",
            "\n",
            "__________________________________________________________\n",
            "Wordnet Augmentor:\n",
            "\n",
            "The girl I have learn yesterday on shopping mall is beautiful\n",
            "__________________________________________________________\n",
            "________________________________________________________\n",
            "Back Translation: \n",
            "\n",
            "English --> French: La fille que j'ai vue hier au centre commercial est magnifique\n",
            "French --> English: The girl I have seen yesterday on shopping mall is beautiful\n"
          ]
        }
      ]
    },
    {
      "cell_type": "markdown",
      "metadata": {
        "id": "TD2SWL6b_eqG"
      },
      "source": [
        "# Data Preprocessing"
      ]
    },
    {
      "cell_type": "code",
      "execution_count": null,
      "metadata": {
        "id": "UGzdjvtmdj7W"
      },
      "outputs": [],
      "source": [
        "def replace_null(df):\n",
        "  for col in df.columns:\n",
        "    if is_string_dtype(col):\n",
        "      si = SimpleImputer(strategy=\"most_frequent\")\n",
        "      si.fit(df[col])\n",
        "      df[col] = si.transform(df[col]).flatten()\n",
        "  return df"
      ]
    },
    {
      "cell_type": "code",
      "execution_count": null,
      "metadata": {
        "id": "ytKlJmVXZOYt"
      },
      "outputs": [],
      "source": [
        "def pre_processing(text):\n",
        "  text = text.lower()\n",
        "  text = re.sub(r'\\d+', '', text)\n",
        "  text = re.sub(r'http\\S+', '', text)\n",
        "  return text"
      ]
    },
    {
      "cell_type": "markdown",
      "metadata": {
        "id": "jQXa5_7GvTfi"
      },
      "source": [
        "### Dataset loading"
      ]
    },
    {
      "cell_type": "markdown",
      "metadata": {
        "id": "hKKmlEM9v0GL"
      },
      "source": [
        "**`Loading bbc news dataset`**"
      ]
    },
    {
      "cell_type": "code",
      "execution_count": null,
      "metadata": {
        "colab": {
          "base_uri": "https://localhost:8080/",
          "height": 424
        },
        "id": "HWm74CXuvSu5",
        "outputId": "f5264cb6-d6b9-44c2-ab28-4b18406e57fe"
      },
      "outputs": [
        {
          "output_type": "execute_result",
          "data": {
            "text/plain": [
              "                                               title  \\\n",
              "0  Ukraine: Angry Zelensky vows to punish Russian...   \n",
              "1  War in Ukraine: Taking cover in a town under a...   \n",
              "2         Ukraine war 'catastrophic for global food'   \n",
              "3  Manchester Arena bombing: Saffie Roussos's par...   \n",
              "4  Ukraine conflict: Oil price soars to highest l...   \n",
              "\n",
              "                         pubDate  \\\n",
              "0  Mon, 07 Mar 2022 08:01:56 GMT   \n",
              "1  Sun, 06 Mar 2022 22:49:58 GMT   \n",
              "2  Mon, 07 Mar 2022 00:14:42 GMT   \n",
              "3  Mon, 07 Mar 2022 00:05:40 GMT   \n",
              "4  Mon, 07 Mar 2022 08:15:53 GMT   \n",
              "\n",
              "                                               guid  \\\n",
              "0  https://www.bbc.co.uk/news/world-europe-60638042   \n",
              "1  https://www.bbc.co.uk/news/world-europe-60641873   \n",
              "2      https://www.bbc.co.uk/news/business-60623941   \n",
              "3            https://www.bbc.co.uk/news/uk-60579079   \n",
              "4      https://www.bbc.co.uk/news/business-60642786   \n",
              "\n",
              "                                                link  \\\n",
              "0  https://www.bbc.co.uk/news/world-europe-606380...   \n",
              "1  https://www.bbc.co.uk/news/world-europe-606418...   \n",
              "2  https://www.bbc.co.uk/news/business-60623941?a...   \n",
              "3  https://www.bbc.co.uk/news/uk-60579079?at_medi...   \n",
              "4  https://www.bbc.co.uk/news/business-60642786?a...   \n",
              "\n",
              "                                         description  \n",
              "0  The Ukrainian president says the country will ...  \n",
              "1  Jeremy Bowen was on the frontline in Irpin, as...  \n",
              "2  One of the world's biggest fertiliser firms sa...  \n",
              "3  The parents of the Manchester Arena bombing's ...  \n",
              "4  Consumers are feeling the impact of higher ene...  "
            ],
            "text/html": [
              "\n",
              "  <div id=\"df-bce9ad68-7d6c-4b78-a51c-5eeb4a604490\">\n",
              "    <div class=\"colab-df-container\">\n",
              "      <div>\n",
              "<style scoped>\n",
              "    .dataframe tbody tr th:only-of-type {\n",
              "        vertical-align: middle;\n",
              "    }\n",
              "\n",
              "    .dataframe tbody tr th {\n",
              "        vertical-align: top;\n",
              "    }\n",
              "\n",
              "    .dataframe thead th {\n",
              "        text-align: right;\n",
              "    }\n",
              "</style>\n",
              "<table border=\"1\" class=\"dataframe\">\n",
              "  <thead>\n",
              "    <tr style=\"text-align: right;\">\n",
              "      <th></th>\n",
              "      <th>title</th>\n",
              "      <th>pubDate</th>\n",
              "      <th>guid</th>\n",
              "      <th>link</th>\n",
              "      <th>description</th>\n",
              "    </tr>\n",
              "  </thead>\n",
              "  <tbody>\n",
              "    <tr>\n",
              "      <th>0</th>\n",
              "      <td>Ukraine: Angry Zelensky vows to punish Russian...</td>\n",
              "      <td>Mon, 07 Mar 2022 08:01:56 GMT</td>\n",
              "      <td>https://www.bbc.co.uk/news/world-europe-60638042</td>\n",
              "      <td>https://www.bbc.co.uk/news/world-europe-606380...</td>\n",
              "      <td>The Ukrainian president says the country will ...</td>\n",
              "    </tr>\n",
              "    <tr>\n",
              "      <th>1</th>\n",
              "      <td>War in Ukraine: Taking cover in a town under a...</td>\n",
              "      <td>Sun, 06 Mar 2022 22:49:58 GMT</td>\n",
              "      <td>https://www.bbc.co.uk/news/world-europe-60641873</td>\n",
              "      <td>https://www.bbc.co.uk/news/world-europe-606418...</td>\n",
              "      <td>Jeremy Bowen was on the frontline in Irpin, as...</td>\n",
              "    </tr>\n",
              "    <tr>\n",
              "      <th>2</th>\n",
              "      <td>Ukraine war 'catastrophic for global food'</td>\n",
              "      <td>Mon, 07 Mar 2022 00:14:42 GMT</td>\n",
              "      <td>https://www.bbc.co.uk/news/business-60623941</td>\n",
              "      <td>https://www.bbc.co.uk/news/business-60623941?a...</td>\n",
              "      <td>One of the world's biggest fertiliser firms sa...</td>\n",
              "    </tr>\n",
              "    <tr>\n",
              "      <th>3</th>\n",
              "      <td>Manchester Arena bombing: Saffie Roussos's par...</td>\n",
              "      <td>Mon, 07 Mar 2022 00:05:40 GMT</td>\n",
              "      <td>https://www.bbc.co.uk/news/uk-60579079</td>\n",
              "      <td>https://www.bbc.co.uk/news/uk-60579079?at_medi...</td>\n",
              "      <td>The parents of the Manchester Arena bombing's ...</td>\n",
              "    </tr>\n",
              "    <tr>\n",
              "      <th>4</th>\n",
              "      <td>Ukraine conflict: Oil price soars to highest l...</td>\n",
              "      <td>Mon, 07 Mar 2022 08:15:53 GMT</td>\n",
              "      <td>https://www.bbc.co.uk/news/business-60642786</td>\n",
              "      <td>https://www.bbc.co.uk/news/business-60642786?a...</td>\n",
              "      <td>Consumers are feeling the impact of higher ene...</td>\n",
              "    </tr>\n",
              "  </tbody>\n",
              "</table>\n",
              "</div>\n",
              "      <button class=\"colab-df-convert\" onclick=\"convertToInteractive('df-bce9ad68-7d6c-4b78-a51c-5eeb4a604490')\"\n",
              "              title=\"Convert this dataframe to an interactive table.\"\n",
              "              style=\"display:none;\">\n",
              "        \n",
              "  <svg xmlns=\"http://www.w3.org/2000/svg\" height=\"24px\"viewBox=\"0 0 24 24\"\n",
              "       width=\"24px\">\n",
              "    <path d=\"M0 0h24v24H0V0z\" fill=\"none\"/>\n",
              "    <path d=\"M18.56 5.44l.94 2.06.94-2.06 2.06-.94-2.06-.94-.94-2.06-.94 2.06-2.06.94zm-11 1L8.5 8.5l.94-2.06 2.06-.94-2.06-.94L8.5 2.5l-.94 2.06-2.06.94zm10 10l.94 2.06.94-2.06 2.06-.94-2.06-.94-.94-2.06-.94 2.06-2.06.94z\"/><path d=\"M17.41 7.96l-1.37-1.37c-.4-.4-.92-.59-1.43-.59-.52 0-1.04.2-1.43.59L10.3 9.45l-7.72 7.72c-.78.78-.78 2.05 0 2.83L4 21.41c.39.39.9.59 1.41.59.51 0 1.02-.2 1.41-.59l7.78-7.78 2.81-2.81c.8-.78.8-2.07 0-2.86zM5.41 20L4 18.59l7.72-7.72 1.47 1.35L5.41 20z\"/>\n",
              "  </svg>\n",
              "      </button>\n",
              "      \n",
              "  <style>\n",
              "    .colab-df-container {\n",
              "      display:flex;\n",
              "      flex-wrap:wrap;\n",
              "      gap: 12px;\n",
              "    }\n",
              "\n",
              "    .colab-df-convert {\n",
              "      background-color: #E8F0FE;\n",
              "      border: none;\n",
              "      border-radius: 50%;\n",
              "      cursor: pointer;\n",
              "      display: none;\n",
              "      fill: #1967D2;\n",
              "      height: 32px;\n",
              "      padding: 0 0 0 0;\n",
              "      width: 32px;\n",
              "    }\n",
              "\n",
              "    .colab-df-convert:hover {\n",
              "      background-color: #E2EBFA;\n",
              "      box-shadow: 0px 1px 2px rgba(60, 64, 67, 0.3), 0px 1px 3px 1px rgba(60, 64, 67, 0.15);\n",
              "      fill: #174EA6;\n",
              "    }\n",
              "\n",
              "    [theme=dark] .colab-df-convert {\n",
              "      background-color: #3B4455;\n",
              "      fill: #D2E3FC;\n",
              "    }\n",
              "\n",
              "    [theme=dark] .colab-df-convert:hover {\n",
              "      background-color: #434B5C;\n",
              "      box-shadow: 0px 1px 3px 1px rgba(0, 0, 0, 0.15);\n",
              "      filter: drop-shadow(0px 1px 2px rgba(0, 0, 0, 0.3));\n",
              "      fill: #FFFFFF;\n",
              "    }\n",
              "  </style>\n",
              "\n",
              "      <script>\n",
              "        const buttonEl =\n",
              "          document.querySelector('#df-bce9ad68-7d6c-4b78-a51c-5eeb4a604490 button.colab-df-convert');\n",
              "        buttonEl.style.display =\n",
              "          google.colab.kernel.accessAllowed ? 'block' : 'none';\n",
              "\n",
              "        async function convertToInteractive(key) {\n",
              "          const element = document.querySelector('#df-bce9ad68-7d6c-4b78-a51c-5eeb4a604490');\n",
              "          const dataTable =\n",
              "            await google.colab.kernel.invokeFunction('convertToInteractive',\n",
              "                                                     [key], {});\n",
              "          if (!dataTable) return;\n",
              "\n",
              "          const docLinkHtml = 'Like what you see? Visit the ' +\n",
              "            '<a target=\"_blank\" href=https://colab.research.google.com/notebooks/data_table.ipynb>data table notebook</a>'\n",
              "            + ' to learn more about interactive tables.';\n",
              "          element.innerHTML = '';\n",
              "          dataTable['output_type'] = 'display_data';\n",
              "          await google.colab.output.renderOutput(dataTable, element);\n",
              "          const docLink = document.createElement('div');\n",
              "          docLink.innerHTML = docLinkHtml;\n",
              "          element.appendChild(docLink);\n",
              "        }\n",
              "      </script>\n",
              "    </div>\n",
              "  </div>\n",
              "  "
            ]
          },
          "metadata": {},
          "execution_count": 4
        }
      ],
      "source": [
        "df = pd.read_csv(\"/content/drive/MyDrive/Colab Notebooks/Pattern Lab/Text Augmentation/bbc_news.csv\", na_values=\"?\")\n",
        "df.head()"
      ]
    },
    {
      "cell_type": "code",
      "execution_count": null,
      "metadata": {
        "colab": {
          "base_uri": "https://localhost:8080/",
          "height": 424
        },
        "id": "mEV8piAAdXnj",
        "outputId": "7e03ba77-1038-4329-944c-988cfce16885"
      },
      "outputs": [
        {
          "output_type": "execute_result",
          "data": {
            "text/plain": [
              "                                               title  \\\n",
              "0  Ukraine: Angry Zelensky vows to punish Russian...   \n",
              "1  War in Ukraine: Taking cover in a town under a...   \n",
              "2         Ukraine war 'catastrophic for global food'   \n",
              "3  Manchester Arena bombing: Saffie Roussos's par...   \n",
              "4  Ukraine conflict: Oil price soars to highest l...   \n",
              "\n",
              "                         pubDate  \\\n",
              "0  Mon, 07 Mar 2022 08:01:56 GMT   \n",
              "1  Sun, 06 Mar 2022 22:49:58 GMT   \n",
              "2  Mon, 07 Mar 2022 00:14:42 GMT   \n",
              "3  Mon, 07 Mar 2022 00:05:40 GMT   \n",
              "4  Mon, 07 Mar 2022 08:15:53 GMT   \n",
              "\n",
              "                                               guid  \\\n",
              "0  https://www.bbc.co.uk/news/world-europe-60638042   \n",
              "1  https://www.bbc.co.uk/news/world-europe-60641873   \n",
              "2      https://www.bbc.co.uk/news/business-60623941   \n",
              "3            https://www.bbc.co.uk/news/uk-60579079   \n",
              "4      https://www.bbc.co.uk/news/business-60642786   \n",
              "\n",
              "                                                link  \\\n",
              "0  https://www.bbc.co.uk/news/world-europe-606380...   \n",
              "1  https://www.bbc.co.uk/news/world-europe-606418...   \n",
              "2  https://www.bbc.co.uk/news/business-60623941?a...   \n",
              "3  https://www.bbc.co.uk/news/uk-60579079?at_medi...   \n",
              "4  https://www.bbc.co.uk/news/business-60642786?a...   \n",
              "\n",
              "                                         description  \n",
              "0  the ukrainian president says the country will ...  \n",
              "1  jeremy bowen was on the frontline in irpin, as...  \n",
              "2  one of the world's biggest fertiliser firms sa...  \n",
              "3  the parents of the manchester arena bombing's ...  \n",
              "4  consumers are feeling the impact of higher ene...  "
            ],
            "text/html": [
              "\n",
              "  <div id=\"df-9f94384f-8b3a-4956-ae53-f4ed1a7f87b6\">\n",
              "    <div class=\"colab-df-container\">\n",
              "      <div>\n",
              "<style scoped>\n",
              "    .dataframe tbody tr th:only-of-type {\n",
              "        vertical-align: middle;\n",
              "    }\n",
              "\n",
              "    .dataframe tbody tr th {\n",
              "        vertical-align: top;\n",
              "    }\n",
              "\n",
              "    .dataframe thead th {\n",
              "        text-align: right;\n",
              "    }\n",
              "</style>\n",
              "<table border=\"1\" class=\"dataframe\">\n",
              "  <thead>\n",
              "    <tr style=\"text-align: right;\">\n",
              "      <th></th>\n",
              "      <th>title</th>\n",
              "      <th>pubDate</th>\n",
              "      <th>guid</th>\n",
              "      <th>link</th>\n",
              "      <th>description</th>\n",
              "    </tr>\n",
              "  </thead>\n",
              "  <tbody>\n",
              "    <tr>\n",
              "      <th>0</th>\n",
              "      <td>Ukraine: Angry Zelensky vows to punish Russian...</td>\n",
              "      <td>Mon, 07 Mar 2022 08:01:56 GMT</td>\n",
              "      <td>https://www.bbc.co.uk/news/world-europe-60638042</td>\n",
              "      <td>https://www.bbc.co.uk/news/world-europe-606380...</td>\n",
              "      <td>the ukrainian president says the country will ...</td>\n",
              "    </tr>\n",
              "    <tr>\n",
              "      <th>1</th>\n",
              "      <td>War in Ukraine: Taking cover in a town under a...</td>\n",
              "      <td>Sun, 06 Mar 2022 22:49:58 GMT</td>\n",
              "      <td>https://www.bbc.co.uk/news/world-europe-60641873</td>\n",
              "      <td>https://www.bbc.co.uk/news/world-europe-606418...</td>\n",
              "      <td>jeremy bowen was on the frontline in irpin, as...</td>\n",
              "    </tr>\n",
              "    <tr>\n",
              "      <th>2</th>\n",
              "      <td>Ukraine war 'catastrophic for global food'</td>\n",
              "      <td>Mon, 07 Mar 2022 00:14:42 GMT</td>\n",
              "      <td>https://www.bbc.co.uk/news/business-60623941</td>\n",
              "      <td>https://www.bbc.co.uk/news/business-60623941?a...</td>\n",
              "      <td>one of the world's biggest fertiliser firms sa...</td>\n",
              "    </tr>\n",
              "    <tr>\n",
              "      <th>3</th>\n",
              "      <td>Manchester Arena bombing: Saffie Roussos's par...</td>\n",
              "      <td>Mon, 07 Mar 2022 00:05:40 GMT</td>\n",
              "      <td>https://www.bbc.co.uk/news/uk-60579079</td>\n",
              "      <td>https://www.bbc.co.uk/news/uk-60579079?at_medi...</td>\n",
              "      <td>the parents of the manchester arena bombing's ...</td>\n",
              "    </tr>\n",
              "    <tr>\n",
              "      <th>4</th>\n",
              "      <td>Ukraine conflict: Oil price soars to highest l...</td>\n",
              "      <td>Mon, 07 Mar 2022 08:15:53 GMT</td>\n",
              "      <td>https://www.bbc.co.uk/news/business-60642786</td>\n",
              "      <td>https://www.bbc.co.uk/news/business-60642786?a...</td>\n",
              "      <td>consumers are feeling the impact of higher ene...</td>\n",
              "    </tr>\n",
              "  </tbody>\n",
              "</table>\n",
              "</div>\n",
              "      <button class=\"colab-df-convert\" onclick=\"convertToInteractive('df-9f94384f-8b3a-4956-ae53-f4ed1a7f87b6')\"\n",
              "              title=\"Convert this dataframe to an interactive table.\"\n",
              "              style=\"display:none;\">\n",
              "        \n",
              "  <svg xmlns=\"http://www.w3.org/2000/svg\" height=\"24px\"viewBox=\"0 0 24 24\"\n",
              "       width=\"24px\">\n",
              "    <path d=\"M0 0h24v24H0V0z\" fill=\"none\"/>\n",
              "    <path d=\"M18.56 5.44l.94 2.06.94-2.06 2.06-.94-2.06-.94-.94-2.06-.94 2.06-2.06.94zm-11 1L8.5 8.5l.94-2.06 2.06-.94-2.06-.94L8.5 2.5l-.94 2.06-2.06.94zm10 10l.94 2.06.94-2.06 2.06-.94-2.06-.94-.94-2.06-.94 2.06-2.06.94z\"/><path d=\"M17.41 7.96l-1.37-1.37c-.4-.4-.92-.59-1.43-.59-.52 0-1.04.2-1.43.59L10.3 9.45l-7.72 7.72c-.78.78-.78 2.05 0 2.83L4 21.41c.39.39.9.59 1.41.59.51 0 1.02-.2 1.41-.59l7.78-7.78 2.81-2.81c.8-.78.8-2.07 0-2.86zM5.41 20L4 18.59l7.72-7.72 1.47 1.35L5.41 20z\"/>\n",
              "  </svg>\n",
              "      </button>\n",
              "      \n",
              "  <style>\n",
              "    .colab-df-container {\n",
              "      display:flex;\n",
              "      flex-wrap:wrap;\n",
              "      gap: 12px;\n",
              "    }\n",
              "\n",
              "    .colab-df-convert {\n",
              "      background-color: #E8F0FE;\n",
              "      border: none;\n",
              "      border-radius: 50%;\n",
              "      cursor: pointer;\n",
              "      display: none;\n",
              "      fill: #1967D2;\n",
              "      height: 32px;\n",
              "      padding: 0 0 0 0;\n",
              "      width: 32px;\n",
              "    }\n",
              "\n",
              "    .colab-df-convert:hover {\n",
              "      background-color: #E2EBFA;\n",
              "      box-shadow: 0px 1px 2px rgba(60, 64, 67, 0.3), 0px 1px 3px 1px rgba(60, 64, 67, 0.15);\n",
              "      fill: #174EA6;\n",
              "    }\n",
              "\n",
              "    [theme=dark] .colab-df-convert {\n",
              "      background-color: #3B4455;\n",
              "      fill: #D2E3FC;\n",
              "    }\n",
              "\n",
              "    [theme=dark] .colab-df-convert:hover {\n",
              "      background-color: #434B5C;\n",
              "      box-shadow: 0px 1px 3px 1px rgba(0, 0, 0, 0.15);\n",
              "      filter: drop-shadow(0px 1px 2px rgba(0, 0, 0, 0.3));\n",
              "      fill: #FFFFFF;\n",
              "    }\n",
              "  </style>\n",
              "\n",
              "      <script>\n",
              "        const buttonEl =\n",
              "          document.querySelector('#df-9f94384f-8b3a-4956-ae53-f4ed1a7f87b6 button.colab-df-convert');\n",
              "        buttonEl.style.display =\n",
              "          google.colab.kernel.accessAllowed ? 'block' : 'none';\n",
              "\n",
              "        async function convertToInteractive(key) {\n",
              "          const element = document.querySelector('#df-9f94384f-8b3a-4956-ae53-f4ed1a7f87b6');\n",
              "          const dataTable =\n",
              "            await google.colab.kernel.invokeFunction('convertToInteractive',\n",
              "                                                     [key], {});\n",
              "          if (!dataTable) return;\n",
              "\n",
              "          const docLinkHtml = 'Like what you see? Visit the ' +\n",
              "            '<a target=\"_blank\" href=https://colab.research.google.com/notebooks/data_table.ipynb>data table notebook</a>'\n",
              "            + ' to learn more about interactive tables.';\n",
              "          element.innerHTML = '';\n",
              "          dataTable['output_type'] = 'display_data';\n",
              "          await google.colab.output.renderOutput(dataTable, element);\n",
              "          const docLink = document.createElement('div');\n",
              "          docLink.innerHTML = docLinkHtml;\n",
              "          element.appendChild(docLink);\n",
              "        }\n",
              "      </script>\n",
              "    </div>\n",
              "  </div>\n",
              "  "
            ]
          },
          "metadata": {},
          "execution_count": 5
        }
      ],
      "source": [
        "df = replace_null(df)\n",
        "df['description'] = df['description'].apply(pre_processing)\n",
        "df.head()"
      ]
    },
    {
      "cell_type": "markdown",
      "metadata": {
        "id": "XG0xjh0RwD0S"
      },
      "source": [
        "**`Loading Spam Classification Dataset`**"
      ]
    },
    {
      "cell_type": "code",
      "execution_count": null,
      "metadata": {
        "colab": {
          "base_uri": "https://localhost:8080/",
          "height": 206
        },
        "id": "GP6GIDRQw1Ay",
        "outputId": "2b6b34e6-f329-4cef-fee2-0fa03fe043a6"
      },
      "outputs": [
        {
          "output_type": "execute_result",
          "data": {
            "text/plain": [
              "   S. No.                                       Message_body     Label\n",
              "0       1                         Rofl. Its true to its name  Non-Spam\n",
              "1       2  The guy did some bitching but I acted like i'd...  Non-Spam\n",
              "2       3  Pity, * was in mood for that. So...any other s...  Non-Spam\n",
              "3       4               Will ü b going to esplanade fr home?  Non-Spam\n",
              "4       5  This is the 2nd time we have tried 2 contact u...      Spam"
            ],
            "text/html": [
              "\n",
              "  <div id=\"df-70372e83-45a9-4ac2-833f-afff4039c040\">\n",
              "    <div class=\"colab-df-container\">\n",
              "      <div>\n",
              "<style scoped>\n",
              "    .dataframe tbody tr th:only-of-type {\n",
              "        vertical-align: middle;\n",
              "    }\n",
              "\n",
              "    .dataframe tbody tr th {\n",
              "        vertical-align: top;\n",
              "    }\n",
              "\n",
              "    .dataframe thead th {\n",
              "        text-align: right;\n",
              "    }\n",
              "</style>\n",
              "<table border=\"1\" class=\"dataframe\">\n",
              "  <thead>\n",
              "    <tr style=\"text-align: right;\">\n",
              "      <th></th>\n",
              "      <th>S. No.</th>\n",
              "      <th>Message_body</th>\n",
              "      <th>Label</th>\n",
              "    </tr>\n",
              "  </thead>\n",
              "  <tbody>\n",
              "    <tr>\n",
              "      <th>0</th>\n",
              "      <td>1</td>\n",
              "      <td>Rofl. Its true to its name</td>\n",
              "      <td>Non-Spam</td>\n",
              "    </tr>\n",
              "    <tr>\n",
              "      <th>1</th>\n",
              "      <td>2</td>\n",
              "      <td>The guy did some bitching but I acted like i'd...</td>\n",
              "      <td>Non-Spam</td>\n",
              "    </tr>\n",
              "    <tr>\n",
              "      <th>2</th>\n",
              "      <td>3</td>\n",
              "      <td>Pity, * was in mood for that. So...any other s...</td>\n",
              "      <td>Non-Spam</td>\n",
              "    </tr>\n",
              "    <tr>\n",
              "      <th>3</th>\n",
              "      <td>4</td>\n",
              "      <td>Will ü b going to esplanade fr home?</td>\n",
              "      <td>Non-Spam</td>\n",
              "    </tr>\n",
              "    <tr>\n",
              "      <th>4</th>\n",
              "      <td>5</td>\n",
              "      <td>This is the 2nd time we have tried 2 contact u...</td>\n",
              "      <td>Spam</td>\n",
              "    </tr>\n",
              "  </tbody>\n",
              "</table>\n",
              "</div>\n",
              "      <button class=\"colab-df-convert\" onclick=\"convertToInteractive('df-70372e83-45a9-4ac2-833f-afff4039c040')\"\n",
              "              title=\"Convert this dataframe to an interactive table.\"\n",
              "              style=\"display:none;\">\n",
              "        \n",
              "  <svg xmlns=\"http://www.w3.org/2000/svg\" height=\"24px\"viewBox=\"0 0 24 24\"\n",
              "       width=\"24px\">\n",
              "    <path d=\"M0 0h24v24H0V0z\" fill=\"none\"/>\n",
              "    <path d=\"M18.56 5.44l.94 2.06.94-2.06 2.06-.94-2.06-.94-.94-2.06-.94 2.06-2.06.94zm-11 1L8.5 8.5l.94-2.06 2.06-.94-2.06-.94L8.5 2.5l-.94 2.06-2.06.94zm10 10l.94 2.06.94-2.06 2.06-.94-2.06-.94-.94-2.06-.94 2.06-2.06.94z\"/><path d=\"M17.41 7.96l-1.37-1.37c-.4-.4-.92-.59-1.43-.59-.52 0-1.04.2-1.43.59L10.3 9.45l-7.72 7.72c-.78.78-.78 2.05 0 2.83L4 21.41c.39.39.9.59 1.41.59.51 0 1.02-.2 1.41-.59l7.78-7.78 2.81-2.81c.8-.78.8-2.07 0-2.86zM5.41 20L4 18.59l7.72-7.72 1.47 1.35L5.41 20z\"/>\n",
              "  </svg>\n",
              "      </button>\n",
              "      \n",
              "  <style>\n",
              "    .colab-df-container {\n",
              "      display:flex;\n",
              "      flex-wrap:wrap;\n",
              "      gap: 12px;\n",
              "    }\n",
              "\n",
              "    .colab-df-convert {\n",
              "      background-color: #E8F0FE;\n",
              "      border: none;\n",
              "      border-radius: 50%;\n",
              "      cursor: pointer;\n",
              "      display: none;\n",
              "      fill: #1967D2;\n",
              "      height: 32px;\n",
              "      padding: 0 0 0 0;\n",
              "      width: 32px;\n",
              "    }\n",
              "\n",
              "    .colab-df-convert:hover {\n",
              "      background-color: #E2EBFA;\n",
              "      box-shadow: 0px 1px 2px rgba(60, 64, 67, 0.3), 0px 1px 3px 1px rgba(60, 64, 67, 0.15);\n",
              "      fill: #174EA6;\n",
              "    }\n",
              "\n",
              "    [theme=dark] .colab-df-convert {\n",
              "      background-color: #3B4455;\n",
              "      fill: #D2E3FC;\n",
              "    }\n",
              "\n",
              "    [theme=dark] .colab-df-convert:hover {\n",
              "      background-color: #434B5C;\n",
              "      box-shadow: 0px 1px 3px 1px rgba(0, 0, 0, 0.15);\n",
              "      filter: drop-shadow(0px 1px 2px rgba(0, 0, 0, 0.3));\n",
              "      fill: #FFFFFF;\n",
              "    }\n",
              "  </style>\n",
              "\n",
              "      <script>\n",
              "        const buttonEl =\n",
              "          document.querySelector('#df-70372e83-45a9-4ac2-833f-afff4039c040 button.colab-df-convert');\n",
              "        buttonEl.style.display =\n",
              "          google.colab.kernel.accessAllowed ? 'block' : 'none';\n",
              "\n",
              "        async function convertToInteractive(key) {\n",
              "          const element = document.querySelector('#df-70372e83-45a9-4ac2-833f-afff4039c040');\n",
              "          const dataTable =\n",
              "            await google.colab.kernel.invokeFunction('convertToInteractive',\n",
              "                                                     [key], {});\n",
              "          if (!dataTable) return;\n",
              "\n",
              "          const docLinkHtml = 'Like what you see? Visit the ' +\n",
              "            '<a target=\"_blank\" href=https://colab.research.google.com/notebooks/data_table.ipynb>data table notebook</a>'\n",
              "            + ' to learn more about interactive tables.';\n",
              "          element.innerHTML = '';\n",
              "          dataTable['output_type'] = 'display_data';\n",
              "          await google.colab.output.renderOutput(dataTable, element);\n",
              "          const docLink = document.createElement('div');\n",
              "          docLink.innerHTML = docLinkHtml;\n",
              "          element.appendChild(docLink);\n",
              "        }\n",
              "      </script>\n",
              "    </div>\n",
              "  </div>\n",
              "  "
            ]
          },
          "metadata": {},
          "execution_count": 6
        }
      ],
      "source": [
        "df2 = pd.read_csv(\"/content/drive/MyDrive/Colab Notebooks/Pattern Lab/Text Augmentation/Dataset/Spam Classification/SMS_train.csv\", encoding='cp1252',na_values=\"?\")\n",
        "df2.head()"
      ]
    },
    {
      "cell_type": "code",
      "execution_count": null,
      "metadata": {
        "colab": {
          "base_uri": "https://localhost:8080/",
          "height": 206
        },
        "id": "LabBuYrfxw25",
        "outputId": "f2bbb214-c021-423c-a610-308d36847d35"
      },
      "outputs": [
        {
          "output_type": "execute_result",
          "data": {
            "text/plain": [
              "   S. No.                                       Message_body     Label\n",
              "0       1                         rofl. its true to its name  Non-Spam\n",
              "1       2  the guy did some bitching but i acted like i'd...  Non-Spam\n",
              "2       3  pity, * was in mood for that. so...any other s...  Non-Spam\n",
              "3       4               will ü b going to esplanade fr home?  Non-Spam\n",
              "4       5  this is the nd time we have tried  contact u. ...      Spam"
            ],
            "text/html": [
              "\n",
              "  <div id=\"df-f588d144-e363-40ef-b599-d020baad2237\">\n",
              "    <div class=\"colab-df-container\">\n",
              "      <div>\n",
              "<style scoped>\n",
              "    .dataframe tbody tr th:only-of-type {\n",
              "        vertical-align: middle;\n",
              "    }\n",
              "\n",
              "    .dataframe tbody tr th {\n",
              "        vertical-align: top;\n",
              "    }\n",
              "\n",
              "    .dataframe thead th {\n",
              "        text-align: right;\n",
              "    }\n",
              "</style>\n",
              "<table border=\"1\" class=\"dataframe\">\n",
              "  <thead>\n",
              "    <tr style=\"text-align: right;\">\n",
              "      <th></th>\n",
              "      <th>S. No.</th>\n",
              "      <th>Message_body</th>\n",
              "      <th>Label</th>\n",
              "    </tr>\n",
              "  </thead>\n",
              "  <tbody>\n",
              "    <tr>\n",
              "      <th>0</th>\n",
              "      <td>1</td>\n",
              "      <td>rofl. its true to its name</td>\n",
              "      <td>Non-Spam</td>\n",
              "    </tr>\n",
              "    <tr>\n",
              "      <th>1</th>\n",
              "      <td>2</td>\n",
              "      <td>the guy did some bitching but i acted like i'd...</td>\n",
              "      <td>Non-Spam</td>\n",
              "    </tr>\n",
              "    <tr>\n",
              "      <th>2</th>\n",
              "      <td>3</td>\n",
              "      <td>pity, * was in mood for that. so...any other s...</td>\n",
              "      <td>Non-Spam</td>\n",
              "    </tr>\n",
              "    <tr>\n",
              "      <th>3</th>\n",
              "      <td>4</td>\n",
              "      <td>will ü b going to esplanade fr home?</td>\n",
              "      <td>Non-Spam</td>\n",
              "    </tr>\n",
              "    <tr>\n",
              "      <th>4</th>\n",
              "      <td>5</td>\n",
              "      <td>this is the nd time we have tried  contact u. ...</td>\n",
              "      <td>Spam</td>\n",
              "    </tr>\n",
              "  </tbody>\n",
              "</table>\n",
              "</div>\n",
              "      <button class=\"colab-df-convert\" onclick=\"convertToInteractive('df-f588d144-e363-40ef-b599-d020baad2237')\"\n",
              "              title=\"Convert this dataframe to an interactive table.\"\n",
              "              style=\"display:none;\">\n",
              "        \n",
              "  <svg xmlns=\"http://www.w3.org/2000/svg\" height=\"24px\"viewBox=\"0 0 24 24\"\n",
              "       width=\"24px\">\n",
              "    <path d=\"M0 0h24v24H0V0z\" fill=\"none\"/>\n",
              "    <path d=\"M18.56 5.44l.94 2.06.94-2.06 2.06-.94-2.06-.94-.94-2.06-.94 2.06-2.06.94zm-11 1L8.5 8.5l.94-2.06 2.06-.94-2.06-.94L8.5 2.5l-.94 2.06-2.06.94zm10 10l.94 2.06.94-2.06 2.06-.94-2.06-.94-.94-2.06-.94 2.06-2.06.94z\"/><path d=\"M17.41 7.96l-1.37-1.37c-.4-.4-.92-.59-1.43-.59-.52 0-1.04.2-1.43.59L10.3 9.45l-7.72 7.72c-.78.78-.78 2.05 0 2.83L4 21.41c.39.39.9.59 1.41.59.51 0 1.02-.2 1.41-.59l7.78-7.78 2.81-2.81c.8-.78.8-2.07 0-2.86zM5.41 20L4 18.59l7.72-7.72 1.47 1.35L5.41 20z\"/>\n",
              "  </svg>\n",
              "      </button>\n",
              "      \n",
              "  <style>\n",
              "    .colab-df-container {\n",
              "      display:flex;\n",
              "      flex-wrap:wrap;\n",
              "      gap: 12px;\n",
              "    }\n",
              "\n",
              "    .colab-df-convert {\n",
              "      background-color: #E8F0FE;\n",
              "      border: none;\n",
              "      border-radius: 50%;\n",
              "      cursor: pointer;\n",
              "      display: none;\n",
              "      fill: #1967D2;\n",
              "      height: 32px;\n",
              "      padding: 0 0 0 0;\n",
              "      width: 32px;\n",
              "    }\n",
              "\n",
              "    .colab-df-convert:hover {\n",
              "      background-color: #E2EBFA;\n",
              "      box-shadow: 0px 1px 2px rgba(60, 64, 67, 0.3), 0px 1px 3px 1px rgba(60, 64, 67, 0.15);\n",
              "      fill: #174EA6;\n",
              "    }\n",
              "\n",
              "    [theme=dark] .colab-df-convert {\n",
              "      background-color: #3B4455;\n",
              "      fill: #D2E3FC;\n",
              "    }\n",
              "\n",
              "    [theme=dark] .colab-df-convert:hover {\n",
              "      background-color: #434B5C;\n",
              "      box-shadow: 0px 1px 3px 1px rgba(0, 0, 0, 0.15);\n",
              "      filter: drop-shadow(0px 1px 2px rgba(0, 0, 0, 0.3));\n",
              "      fill: #FFFFFF;\n",
              "    }\n",
              "  </style>\n",
              "\n",
              "      <script>\n",
              "        const buttonEl =\n",
              "          document.querySelector('#df-f588d144-e363-40ef-b599-d020baad2237 button.colab-df-convert');\n",
              "        buttonEl.style.display =\n",
              "          google.colab.kernel.accessAllowed ? 'block' : 'none';\n",
              "\n",
              "        async function convertToInteractive(key) {\n",
              "          const element = document.querySelector('#df-f588d144-e363-40ef-b599-d020baad2237');\n",
              "          const dataTable =\n",
              "            await google.colab.kernel.invokeFunction('convertToInteractive',\n",
              "                                                     [key], {});\n",
              "          if (!dataTable) return;\n",
              "\n",
              "          const docLinkHtml = 'Like what you see? Visit the ' +\n",
              "            '<a target=\"_blank\" href=https://colab.research.google.com/notebooks/data_table.ipynb>data table notebook</a>'\n",
              "            + ' to learn more about interactive tables.';\n",
              "          element.innerHTML = '';\n",
              "          dataTable['output_type'] = 'display_data';\n",
              "          await google.colab.output.renderOutput(dataTable, element);\n",
              "          const docLink = document.createElement('div');\n",
              "          docLink.innerHTML = docLinkHtml;\n",
              "          element.appendChild(docLink);\n",
              "        }\n",
              "      </script>\n",
              "    </div>\n",
              "  </div>\n",
              "  "
            ]
          },
          "metadata": {},
          "execution_count": 7
        }
      ],
      "source": [
        "df2 = replace_null(df2)\n",
        "df2['Message_body'] = df2['Message_body'].apply(pre_processing)\n",
        "df2.head()"
      ]
    },
    {
      "cell_type": "markdown",
      "metadata": {
        "id": "45H2QypFyb_S"
      },
      "source": [
        "### `Data Augmentation Model`"
      ]
    },
    {
      "cell_type": "code",
      "execution_count": null,
      "metadata": {
        "id": "gB-vISDEd38-"
      },
      "outputs": [],
      "source": [
        "class MixAugmenter():\n",
        "  def __init__(self, backtranslation=True, english_to='fr'):\n",
        "    self.embeddingaugmenter = EmbeddingAugmenter()\n",
        "    self.wordnetaugmenter = WordNetAugmenter()\n",
        "    self.translator = Translator()\n",
        "    self.translate_to = english_to\n",
        "    self.backtranslation = backtranslation\n",
        "\n",
        "  def __str__(self):\n",
        "    return \"MixAugmenter\"\n",
        "\n",
        "  def fit_dataset(self, dataframe, augment_column_name):\n",
        "    x = dataframe.loc[:, dataframe.columns!=augment_column_name]\n",
        "    augment_column = dataframe[augment_column_name]\n",
        "    return (x, augment_column)\n",
        "\n",
        "  def Augmentation(self, othercol, augment_col):\n",
        "    augmentdata = []\n",
        "    otherthings = []\n",
        "\n",
        "    for j, text in enumerate(augment_col):\n",
        "      temparray=[]\n",
        "      for a in othercol:\n",
        "        temparray.append(othercol[a].iloc[j])\n",
        "\n",
        "      #augmentation by replacing synonym\n",
        "      text2 = self.wordnetaugmenter.augment(text)\n",
        "      if text2 != text and text2 not in augmentdata:\n",
        "        augmentdata.append(text2)\n",
        "        otherthings.append(temparray)\n",
        "\n",
        "      #augmentation based on cosine similarity\n",
        "      text2 = self.embeddingaugmenter.augment(text)\n",
        "      if text2 != text and text2 not in augmentdata:\n",
        "        augmentdata.append(text2)\n",
        "        otherthings.append(temparray)\n",
        "\n",
        "      #augmentation by using backtranlation\n",
        "      if self.backtranslation:\n",
        "        #converting english data to french\n",
        "        french = self.translator.translate(text, dest=self.translate_to)\n",
        "        #then converting french to english\n",
        "        english = self.translator.translate(french.text, dest='en')\n",
        "\n",
        "        if english != text and english not in augmentdata:\n",
        "          augmentdata.append([english.text])\n",
        "          otherthings.append(temparray)\n",
        "\n",
        "    return augmentdata, otherthings\n",
        "\n",
        "  def Augment(self, dataframe, col_name):\n",
        "    other_col, augment_col = self.fit_dataset(dataframe, col_name)\n",
        "    augment_data, data = self.Augmentation(other_col, augment_col)\n",
        "    length = len(augment_data)\n",
        "    npdata = np.array(data)\n",
        "    npaug = np.array(augment_data)\n",
        "    print(npdata.shape, npaug.shape)\n",
        "    dataframe = pd.DataFrame()\n",
        "    print(data)\n",
        "    count = 0\n",
        "    for col_nm in other_col:\n",
        "      dataframe[col_nm] = npdata[:, count].flatten()\n",
        "      # print(npdata[:, count].flatten())\n",
        "      # print(\"###############################\")\n",
        "      count += 1\n",
        "    dataframe[col_name] = npaug[:, 0].flatten()\n",
        "    return dataframe\n",
        "\n",
        "  def dataframe_to_csv(self, dataframe, path=\".\", filename='augmentdata.csv'):\n",
        "    dataframe.to_csv(path + \"/\" + filename)\n",
        "    return \"Converted Sucessfully\""
      ]
    },
    {
      "cell_type": "markdown",
      "metadata": {
        "id": "Lm_sEK7xzJaI"
      },
      "source": [
        "### `Applying augmentation on dataframe`\n",
        "\n",
        "\n"
      ]
    },
    {
      "cell_type": "code",
      "execution_count": null,
      "metadata": {
        "colab": {
          "base_uri": "https://localhost:8080/"
        },
        "id": "n8JIBEoOxXWU",
        "outputId": "2b98259a-5b60-4099-8059-ca6f607c382c"
      },
      "outputs": [
        {
          "output_type": "stream",
          "name": "stderr",
          "text": [
            "textattack: Downloading https://textattack.s3.amazonaws.com/word_embeddings/paragramcf.\n",
            "100%|██████████| 481M/481M [00:08<00:00, 58.2MB/s]\n",
            "textattack: Unzipping file /root/.cache/textattack/tmp9551pd47.zip to /root/.cache/textattack/word_embeddings/paragramcf.\n",
            "textattack: Successfully saved word_embeddings/paragramcf to cache.\n",
            "[nltk_data] Downloading package omw-1.4 to /root/nltk_data...\n",
            "[nltk_data]   Package omw-1.4 is already up-to-date!\n"
          ]
        }
      ],
      "source": [
        "augmentor = MixAugmenter()"
      ]
    },
    {
      "cell_type": "code",
      "execution_count": null,
      "metadata": {
        "colab": {
          "base_uri": "https://localhost:8080/",
          "height": 562
        },
        "id": "rFEPTcLwadd3",
        "outputId": "bc72badd-2c7a-4d11-d4bc-96a889fa304a"
      },
      "outputs": [
        {
          "name": "stderr",
          "output_type": "stream",
          "text": [
            "IOPub data rate exceeded.\n",
            "The notebook server will temporarily stop sending output\n",
            "to the client in order to avoid crashing it.\n",
            "To change this limit, set the config variable\n",
            "`--NotebookApp.iopub_data_rate_limit`.\n",
            "\n",
            "Current values:\n",
            "NotebookApp.iopub_data_rate_limit=1000000.0 (bytes/sec)\n",
            "NotebookApp.rate_limit_window=3.0 (secs)\n",
            "\n"
          ]
        },
        {
          "data": {
            "text/html": [
              "\n",
              "  <div id=\"df-04c2d1f7-8372-4e38-83b6-254f6a2ce77d\">\n",
              "    <div class=\"colab-df-container\">\n",
              "      <div>\n",
              "<style scoped>\n",
              "    .dataframe tbody tr th:only-of-type {\n",
              "        vertical-align: middle;\n",
              "    }\n",
              "\n",
              "    .dataframe tbody tr th {\n",
              "        vertical-align: top;\n",
              "    }\n",
              "\n",
              "    .dataframe thead th {\n",
              "        text-align: right;\n",
              "    }\n",
              "</style>\n",
              "<table border=\"1\" class=\"dataframe\">\n",
              "  <thead>\n",
              "    <tr style=\"text-align: right;\">\n",
              "      <th></th>\n",
              "      <th>title</th>\n",
              "      <th>pubDate</th>\n",
              "      <th>guid</th>\n",
              "      <th>link</th>\n",
              "      <th>description</th>\n",
              "    </tr>\n",
              "  </thead>\n",
              "  <tbody>\n",
              "    <tr>\n",
              "      <th>0</th>\n",
              "      <td>Ukraine: Angry Zelensky vows to punish Russian...</td>\n",
              "      <td>Mon, 07 Mar 2022 08:01:56 GMT</td>\n",
              "      <td>https://www.bbc.co.uk/news/world-europe-60638042</td>\n",
              "      <td>https://www.bbc.co.uk/news/world-europe-606380...</td>\n",
              "      <td>the ukrainian president says the country will ...</td>\n",
              "    </tr>\n",
              "    <tr>\n",
              "      <th>1</th>\n",
              "      <td>Ukraine: Angry Zelensky vows to punish Russian...</td>\n",
              "      <td>Mon, 07 Mar 2022 08:01:56 GMT</td>\n",
              "      <td>https://www.bbc.co.uk/news/world-europe-60638042</td>\n",
              "      <td>https://www.bbc.co.uk/news/world-europe-606380...</td>\n",
              "      <td>the ukrainian chairing says the country will n...</td>\n",
              "    </tr>\n",
              "    <tr>\n",
              "      <th>2</th>\n",
              "      <td>Ukraine: Angry Zelensky vows to punish Russian...</td>\n",
              "      <td>Mon, 07 Mar 2022 08:01:56 GMT</td>\n",
              "      <td>https://www.bbc.co.uk/news/world-europe-60638042</td>\n",
              "      <td>https://www.bbc.co.uk/news/world-europe-606380...</td>\n",
              "      <td>Ukraine's president says the country will not ...</td>\n",
              "    </tr>\n",
              "    <tr>\n",
              "      <th>3</th>\n",
              "      <td>War in Ukraine: Taking cover in a town under a...</td>\n",
              "      <td>Sun, 06 Mar 2022 22:49:58 GMT</td>\n",
              "      <td>https://www.bbc.co.uk/news/world-europe-60641873</td>\n",
              "      <td>https://www.bbc.co.uk/news/world-europe-606418...</td>\n",
              "      <td>jeremy bowen was on the frontline in irpin, as...</td>\n",
              "    </tr>\n",
              "    <tr>\n",
              "      <th>4</th>\n",
              "      <td>War in Ukraine: Taking cover in a town under a...</td>\n",
              "      <td>Sun, 06 Mar 2022 22:49:58 GMT</td>\n",
              "      <td>https://www.bbc.co.uk/news/world-europe-60641873</td>\n",
              "      <td>https://www.bbc.co.uk/news/world-europe-606418...</td>\n",
              "      <td>jeremy bowen was on the frontline in irpin, as...</td>\n",
              "    </tr>\n",
              "  </tbody>\n",
              "</table>\n",
              "</div>\n",
              "      <button class=\"colab-df-convert\" onclick=\"convertToInteractive('df-04c2d1f7-8372-4e38-83b6-254f6a2ce77d')\"\n",
              "              title=\"Convert this dataframe to an interactive table.\"\n",
              "              style=\"display:none;\">\n",
              "        \n",
              "  <svg xmlns=\"http://www.w3.org/2000/svg\" height=\"24px\"viewBox=\"0 0 24 24\"\n",
              "       width=\"24px\">\n",
              "    <path d=\"M0 0h24v24H0V0z\" fill=\"none\"/>\n",
              "    <path d=\"M18.56 5.44l.94 2.06.94-2.06 2.06-.94-2.06-.94-.94-2.06-.94 2.06-2.06.94zm-11 1L8.5 8.5l.94-2.06 2.06-.94-2.06-.94L8.5 2.5l-.94 2.06-2.06.94zm10 10l.94 2.06.94-2.06 2.06-.94-2.06-.94-.94-2.06-.94 2.06-2.06.94z\"/><path d=\"M17.41 7.96l-1.37-1.37c-.4-.4-.92-.59-1.43-.59-.52 0-1.04.2-1.43.59L10.3 9.45l-7.72 7.72c-.78.78-.78 2.05 0 2.83L4 21.41c.39.39.9.59 1.41.59.51 0 1.02-.2 1.41-.59l7.78-7.78 2.81-2.81c.8-.78.8-2.07 0-2.86zM5.41 20L4 18.59l7.72-7.72 1.47 1.35L5.41 20z\"/>\n",
              "  </svg>\n",
              "      </button>\n",
              "      \n",
              "  <style>\n",
              "    .colab-df-container {\n",
              "      display:flex;\n",
              "      flex-wrap:wrap;\n",
              "      gap: 12px;\n",
              "    }\n",
              "\n",
              "    .colab-df-convert {\n",
              "      background-color: #E8F0FE;\n",
              "      border: none;\n",
              "      border-radius: 50%;\n",
              "      cursor: pointer;\n",
              "      display: none;\n",
              "      fill: #1967D2;\n",
              "      height: 32px;\n",
              "      padding: 0 0 0 0;\n",
              "      width: 32px;\n",
              "    }\n",
              "\n",
              "    .colab-df-convert:hover {\n",
              "      background-color: #E2EBFA;\n",
              "      box-shadow: 0px 1px 2px rgba(60, 64, 67, 0.3), 0px 1px 3px 1px rgba(60, 64, 67, 0.15);\n",
              "      fill: #174EA6;\n",
              "    }\n",
              "\n",
              "    [theme=dark] .colab-df-convert {\n",
              "      background-color: #3B4455;\n",
              "      fill: #D2E3FC;\n",
              "    }\n",
              "\n",
              "    [theme=dark] .colab-df-convert:hover {\n",
              "      background-color: #434B5C;\n",
              "      box-shadow: 0px 1px 3px 1px rgba(0, 0, 0, 0.15);\n",
              "      filter: drop-shadow(0px 1px 2px rgba(0, 0, 0, 0.3));\n",
              "      fill: #FFFFFF;\n",
              "    }\n",
              "  </style>\n",
              "\n",
              "      <script>\n",
              "        const buttonEl =\n",
              "          document.querySelector('#df-04c2d1f7-8372-4e38-83b6-254f6a2ce77d button.colab-df-convert');\n",
              "        buttonEl.style.display =\n",
              "          google.colab.kernel.accessAllowed ? 'block' : 'none';\n",
              "\n",
              "        async function convertToInteractive(key) {\n",
              "          const element = document.querySelector('#df-04c2d1f7-8372-4e38-83b6-254f6a2ce77d');\n",
              "          const dataTable =\n",
              "            await google.colab.kernel.invokeFunction('convertToInteractive',\n",
              "                                                     [key], {});\n",
              "          if (!dataTable) return;\n",
              "\n",
              "          const docLinkHtml = 'Like what you see? Visit the ' +\n",
              "            '<a target=\"_blank\" href=https://colab.research.google.com/notebooks/data_table.ipynb>data table notebook</a>'\n",
              "            + ' to learn more about interactive tables.';\n",
              "          element.innerHTML = '';\n",
              "          dataTable['output_type'] = 'display_data';\n",
              "          await google.colab.output.renderOutput(dataTable, element);\n",
              "          const docLink = document.createElement('div');\n",
              "          docLink.innerHTML = docLinkHtml;\n",
              "          element.appendChild(docLink);\n",
              "        }\n",
              "      </script>\n",
              "    </div>\n",
              "  </div>\n",
              "  "
            ],
            "text/plain": [
              "                                               title  \\\n",
              "0  Ukraine: Angry Zelensky vows to punish Russian...   \n",
              "1  Ukraine: Angry Zelensky vows to punish Russian...   \n",
              "2  Ukraine: Angry Zelensky vows to punish Russian...   \n",
              "3  War in Ukraine: Taking cover in a town under a...   \n",
              "4  War in Ukraine: Taking cover in a town under a...   \n",
              "\n",
              "                         pubDate  \\\n",
              "0  Mon, 07 Mar 2022 08:01:56 GMT   \n",
              "1  Mon, 07 Mar 2022 08:01:56 GMT   \n",
              "2  Mon, 07 Mar 2022 08:01:56 GMT   \n",
              "3  Sun, 06 Mar 2022 22:49:58 GMT   \n",
              "4  Sun, 06 Mar 2022 22:49:58 GMT   \n",
              "\n",
              "                                               guid  \\\n",
              "0  https://www.bbc.co.uk/news/world-europe-60638042   \n",
              "1  https://www.bbc.co.uk/news/world-europe-60638042   \n",
              "2  https://www.bbc.co.uk/news/world-europe-60638042   \n",
              "3  https://www.bbc.co.uk/news/world-europe-60641873   \n",
              "4  https://www.bbc.co.uk/news/world-europe-60641873   \n",
              "\n",
              "                                                link  \\\n",
              "0  https://www.bbc.co.uk/news/world-europe-606380...   \n",
              "1  https://www.bbc.co.uk/news/world-europe-606380...   \n",
              "2  https://www.bbc.co.uk/news/world-europe-606380...   \n",
              "3  https://www.bbc.co.uk/news/world-europe-606418...   \n",
              "4  https://www.bbc.co.uk/news/world-europe-606418...   \n",
              "\n",
              "                                         description  \n",
              "0  the ukrainian president says the country will ...  \n",
              "1  the ukrainian chairing says the country will n...  \n",
              "2  Ukraine's president says the country will not ...  \n",
              "3  jeremy bowen was on the frontline in irpin, as...  \n",
              "4  jeremy bowen was on the frontline in irpin, as...  "
            ]
          },
          "execution_count": 23,
          "metadata": {},
          "output_type": "execute_result"
        }
      ],
      "source": [
        "bbc_augment_data = augmentor.Augment(df, 'description')\n",
        "bbc_augment_data.head()"
      ]
    },
    {
      "cell_type": "code",
      "execution_count": null,
      "metadata": {
        "id": "h3tAdG_D0y48"
      },
      "outputs": [],
      "source": [
        "#svaing the augmentated data\n",
        "augmented_data_folder_path = \"/content/drive/MyDrive/Colab Notebooks/Pattern Lab/Text Augmentation/Augmented Data\""
      ]
    },
    {
      "cell_type": "code",
      "execution_count": null,
      "metadata": {
        "colab": {
          "base_uri": "https://localhost:8080/",
          "height": 165
        },
        "id": "8OTPl1o90SNS",
        "outputId": "8c4bb443-7ac7-4c6e-fc6c-293dd6fdb146"
      },
      "outputs": [
        {
          "output_type": "error",
          "ename": "NameError",
          "evalue": "ignored",
          "traceback": [
            "\u001b[0;31m---------------------------------------------------------------------------\u001b[0m",
            "\u001b[0;31mNameError\u001b[0m                                 Traceback (most recent call last)",
            "\u001b[0;32m<ipython-input-13-92428ee69cb4>\u001b[0m in \u001b[0;36m<module>\u001b[0;34m\u001b[0m\n\u001b[0;32m----> 1\u001b[0;31m \u001b[0maugmentor\u001b[0m\u001b[0;34m.\u001b[0m\u001b[0mdataframe_to_csv\u001b[0m\u001b[0;34m(\u001b[0m\u001b[0mbbc_augment_data\u001b[0m\u001b[0;34m,\u001b[0m \u001b[0maugmented_data_folder_path\u001b[0m\u001b[0;34m,\u001b[0m\u001b[0;34m'bbc_augment_data.csv'\u001b[0m\u001b[0;34m)\u001b[0m\u001b[0;34m\u001b[0m\u001b[0;34m\u001b[0m\u001b[0m\n\u001b[0m",
            "\u001b[0;31mNameError\u001b[0m: name 'augmentor' is not defined"
          ]
        }
      ],
      "source": [
        "augmentor.dataframe_to_csv(bbc_augment_data, augmented_data_folder_path,'bbc_augment_data.csv')"
      ]
    },
    {
      "cell_type": "code",
      "execution_count": null,
      "metadata": {
        "colab": {
          "base_uri": "https://localhost:8080/",
          "height": 261
        },
        "id": "AtG_upML0gax",
        "outputId": "0940eba5-5d01-4722-e030-72ec44a2d976"
      },
      "outputs": [
        {
          "name": "stdout",
          "output_type": "stream",
          "text": [
            "(2864, 2) (2864, 1)\n",
            "[[1, 'Non-Spam'], [1, 'Non-Spam'], [1, 'Non-Spam'], [2, 'Non-Spam'], [2, 'Non-Spam'], [2, 'Non-Spam'], [3, 'Non-Spam'], [3, 'Non-Spam'], [3, 'Non-Spam'], [4, 'Non-Spam'], [4, 'Non-Spam'], [4, 'Non-Spam'], [5, 'Spam'], [5, 'Spam'], [5, 'Spam'], [6, 'Spam'], [6, 'Spam'], [6, 'Spam'], [7, 'Non-Spam'], [7, 'Non-Spam'], [7, 'Non-Spam'], [8, 'Non-Spam'], [8, 'Non-Spam'], [8, 'Non-Spam'], [9, 'Non-Spam'], [9, 'Non-Spam'], [9, 'Non-Spam'], [10, 'Non-Spam'], [10, 'Non-Spam'], [10, 'Non-Spam'], [11, 'Non-Spam'], [11, 'Non-Spam'], [11, 'Non-Spam'], [12, 'Non-Spam'], [12, 'Non-Spam'], [12, 'Non-Spam'], [13, 'Non-Spam'], [13, 'Non-Spam'], [13, 'Non-Spam'], [14, 'Non-Spam'], [14, 'Non-Spam'], [14, 'Non-Spam'], [15, 'Non-Spam'], [15, 'Non-Spam'], [15, 'Non-Spam'], [16, 'Non-Spam'], [16, 'Non-Spam'], [16, 'Non-Spam'], [17, 'Non-Spam'], [17, 'Non-Spam'], [17, 'Non-Spam'], [18, 'Non-Spam'], [18, 'Non-Spam'], [18, 'Non-Spam'], [19, 'Non-Spam'], [19, 'Non-Spam'], [19, 'Non-Spam'], [20, 'Non-Spam'], [20, 'Non-Spam'], [20, 'Non-Spam'], [21, 'Non-Spam'], [21, 'Non-Spam'], [21, 'Non-Spam'], [22, 'Non-Spam'], [22, 'Non-Spam'], [22, 'Non-Spam'], [23, 'Non-Spam'], [23, 'Non-Spam'], [23, 'Non-Spam'], [24, 'Non-Spam'], [24, 'Non-Spam'], [24, 'Non-Spam'], [25, 'Non-Spam'], [25, 'Non-Spam'], [25, 'Non-Spam'], [26, 'Non-Spam'], [26, 'Non-Spam'], [26, 'Non-Spam'], [27, 'Non-Spam'], [27, 'Non-Spam'], [27, 'Non-Spam'], [28, 'Non-Spam'], [28, 'Non-Spam'], [28, 'Non-Spam'], [29, 'Non-Spam'], [29, 'Non-Spam'], [29, 'Non-Spam'], [30, 'Non-Spam'], [30, 'Non-Spam'], [30, 'Non-Spam'], [31, 'Spam'], [31, 'Spam'], [31, 'Spam'], [32, 'Non-Spam'], [32, 'Non-Spam'], [32, 'Non-Spam'], [33, 'Non-Spam'], [33, 'Non-Spam'], [33, 'Non-Spam'], [34, 'Spam'], [34, 'Spam'], [34, 'Spam'], [35, 'Non-Spam'], [35, 'Non-Spam'], [35, 'Non-Spam'], [36, 'Non-Spam'], [36, 'Non-Spam'], [36, 'Non-Spam'], [37, 'Non-Spam'], [37, 'Non-Spam'], [37, 'Non-Spam'], [38, 'Non-Spam'], [38, 'Non-Spam'], [38, 'Non-Spam'], [39, 'Non-Spam'], [39, 'Non-Spam'], [39, 'Non-Spam'], [40, 'Non-Spam'], [40, 'Non-Spam'], [40, 'Non-Spam'], [41, 'Non-Spam'], [41, 'Non-Spam'], [41, 'Non-Spam'], [42, 'Non-Spam'], [42, 'Non-Spam'], [42, 'Non-Spam'], [43, 'Non-Spam'], [43, 'Non-Spam'], [43, 'Non-Spam'], [44, 'Non-Spam'], [44, 'Non-Spam'], [44, 'Non-Spam'], [45, 'Spam'], [45, 'Spam'], [45, 'Spam'], [46, 'Non-Spam'], [46, 'Non-Spam'], [46, 'Non-Spam'], [47, 'Spam'], [47, 'Spam'], [47, 'Spam'], [48, 'Non-Spam'], [48, 'Non-Spam'], [48, 'Non-Spam'], [49, 'Non-Spam'], [49, 'Non-Spam'], [49, 'Non-Spam'], [50, 'Non-Spam'], [50, 'Non-Spam'], [50, 'Non-Spam'], [51, 'Non-Spam'], [51, 'Non-Spam'], [51, 'Non-Spam'], [52, 'Non-Spam'], [52, 'Non-Spam'], [52, 'Non-Spam'], [53, 'Non-Spam'], [53, 'Non-Spam'], [53, 'Non-Spam'], [54, 'Non-Spam'], [54, 'Non-Spam'], [54, 'Non-Spam'], [55, 'Non-Spam'], [55, 'Non-Spam'], [55, 'Non-Spam'], [56, 'Non-Spam'], [56, 'Non-Spam'], [56, 'Non-Spam'], [57, 'Non-Spam'], [57, 'Non-Spam'], [57, 'Non-Spam'], [58, 'Non-Spam'], [58, 'Non-Spam'], [58, 'Non-Spam'], [59, 'Non-Spam'], [59, 'Non-Spam'], [59, 'Non-Spam'], [60, 'Non-Spam'], [60, 'Non-Spam'], [60, 'Non-Spam'], [61, 'Non-Spam'], [61, 'Non-Spam'], [61, 'Non-Spam'], [62, 'Non-Spam'], [62, 'Non-Spam'], [62, 'Non-Spam'], [63, 'Non-Spam'], [63, 'Non-Spam'], [63, 'Non-Spam'], [64, 'Non-Spam'], [64, 'Non-Spam'], [64, 'Non-Spam'], [65, 'Non-Spam'], [65, 'Non-Spam'], [65, 'Non-Spam'], [66, 'Non-Spam'], [66, 'Non-Spam'], [66, 'Non-Spam'], [67, 'Non-Spam'], [67, 'Non-Spam'], [67, 'Non-Spam'], [68, 'Non-Spam'], [68, 'Non-Spam'], [68, 'Non-Spam'], [69, 'Non-Spam'], [69, 'Non-Spam'], [69, 'Non-Spam'], [70, 'Spam'], [70, 'Spam'], [70, 'Spam'], [71, 'Non-Spam'], [71, 'Non-Spam'], [71, 'Non-Spam'], [72, 'Non-Spam'], [72, 'Non-Spam'], [72, 'Non-Spam'], [73, 'Non-Spam'], [73, 'Non-Spam'], [73, 'Non-Spam'], [74, 'Spam'], [74, 'Spam'], [74, 'Spam'], [75, 'Non-Spam'], [75, 'Non-Spam'], [75, 'Non-Spam'], [76, 'Non-Spam'], [76, 'Non-Spam'], [76, 'Non-Spam'], [77, 'Non-Spam'], [77, 'Non-Spam'], [77, 'Non-Spam'], [78, 'Non-Spam'], [78, 'Non-Spam'], [78, 'Non-Spam'], [79, 'Spam'], [79, 'Spam'], [79, 'Spam'], [80, 'Non-Spam'], [80, 'Non-Spam'], [80, 'Non-Spam'], [81, 'Non-Spam'], [81, 'Non-Spam'], [81, 'Non-Spam'], [82, 'Non-Spam'], [82, 'Non-Spam'], [82, 'Non-Spam'], [83, 'Non-Spam'], [83, 'Non-Spam'], [83, 'Non-Spam'], [84, 'Spam'], [84, 'Spam'], [84, 'Spam'], [85, 'Non-Spam'], [85, 'Non-Spam'], [85, 'Non-Spam'], [86, 'Non-Spam'], [86, 'Non-Spam'], [86, 'Non-Spam'], [87, 'Non-Spam'], [87, 'Non-Spam'], [87, 'Non-Spam'], [88, 'Non-Spam'], [88, 'Non-Spam'], [88, 'Non-Spam'], [89, 'Spam'], [89, 'Spam'], [89, 'Spam'], [90, 'Non-Spam'], [90, 'Non-Spam'], [90, 'Non-Spam'], [91, 'Non-Spam'], [91, 'Non-Spam'], [91, 'Non-Spam'], [92, 'Non-Spam'], [92, 'Non-Spam'], [92, 'Non-Spam'], [93, 'Non-Spam'], [93, 'Non-Spam'], [93, 'Non-Spam'], [94, 'Non-Spam'], [94, 'Non-Spam'], [94, 'Non-Spam'], [95, 'Non-Spam'], [95, 'Non-Spam'], [95, 'Non-Spam'], [96, 'Non-Spam'], [96, 'Non-Spam'], [96, 'Non-Spam'], [97, 'Non-Spam'], [97, 'Non-Spam'], [97, 'Non-Spam'], [98, 'Non-Spam'], [98, 'Non-Spam'], [98, 'Non-Spam'], [99, 'Non-Spam'], [99, 'Non-Spam'], [99, 'Non-Spam'], [100, 'Non-Spam'], [100, 'Non-Spam'], [100, 'Non-Spam'], [101, 'Non-Spam'], [101, 'Non-Spam'], [101, 'Non-Spam'], [102, 'Non-Spam'], [102, 'Non-Spam'], [102, 'Non-Spam'], [103, 'Spam'], [103, 'Spam'], [103, 'Spam'], [104, 'Spam'], [104, 'Spam'], [104, 'Spam'], [105, 'Spam'], [105, 'Spam'], [105, 'Spam'], [106, 'Non-Spam'], [106, 'Non-Spam'], [106, 'Non-Spam'], [107, 'Non-Spam'], [107, 'Non-Spam'], [107, 'Non-Spam'], [108, 'Non-Spam'], [108, 'Non-Spam'], [108, 'Non-Spam'], [109, 'Spam'], [109, 'Spam'], [109, 'Spam'], [110, 'Non-Spam'], [110, 'Non-Spam'], [110, 'Non-Spam'], [111, 'Spam'], [111, 'Spam'], [111, 'Spam'], [112, 'Non-Spam'], [112, 'Non-Spam'], [112, 'Non-Spam'], [113, 'Non-Spam'], [113, 'Non-Spam'], [113, 'Non-Spam'], [114, 'Non-Spam'], [114, 'Non-Spam'], [114, 'Non-Spam'], [115, 'Spam'], [115, 'Spam'], [115, 'Spam'], [116, 'Non-Spam'], [116, 'Non-Spam'], [116, 'Non-Spam'], [117, 'Non-Spam'], [117, 'Non-Spam'], [117, 'Non-Spam'], [118, 'Non-Spam'], [118, 'Non-Spam'], [118, 'Non-Spam'], [119, 'Non-Spam'], [119, 'Non-Spam'], [119, 'Non-Spam'], [120, 'Non-Spam'], [120, 'Non-Spam'], [120, 'Non-Spam'], [121, 'Non-Spam'], [121, 'Non-Spam'], [121, 'Non-Spam'], [122, 'Spam'], [122, 'Spam'], [122, 'Spam'], [123, 'Non-Spam'], [123, 'Non-Spam'], [123, 'Non-Spam'], [124, 'Non-Spam'], [124, 'Non-Spam'], [124, 'Non-Spam'], [125, 'Non-Spam'], [125, 'Non-Spam'], [125, 'Non-Spam'], [126, 'Non-Spam'], [126, 'Non-Spam'], [126, 'Non-Spam'], [127, 'Non-Spam'], [127, 'Non-Spam'], [127, 'Non-Spam'], [128, 'Spam'], [128, 'Spam'], [128, 'Spam'], [129, 'Non-Spam'], [129, 'Non-Spam'], [129, 'Non-Spam'], [130, 'Non-Spam'], [130, 'Non-Spam'], [130, 'Non-Spam'], [131, 'Non-Spam'], [131, 'Non-Spam'], [131, 'Non-Spam'], [132, 'Non-Spam'], [132, 'Non-Spam'], [132, 'Non-Spam'], [133, 'Non-Spam'], [133, 'Non-Spam'], [133, 'Non-Spam'], [134, 'Non-Spam'], [134, 'Non-Spam'], [134, 'Non-Spam'], [135, 'Non-Spam'], [135, 'Non-Spam'], [135, 'Non-Spam'], [136, 'Non-Spam'], [136, 'Non-Spam'], [136, 'Non-Spam'], [137, 'Non-Spam'], [137, 'Non-Spam'], [137, 'Non-Spam'], [138, 'Non-Spam'], [138, 'Non-Spam'], [138, 'Non-Spam'], [139, 'Non-Spam'], [139, 'Non-Spam'], [139, 'Non-Spam'], [140, 'Non-Spam'], [140, 'Non-Spam'], [140, 'Non-Spam'], [141, 'Non-Spam'], [141, 'Non-Spam'], [141, 'Non-Spam'], [142, 'Non-Spam'], [142, 'Non-Spam'], [142, 'Non-Spam'], [143, 'Non-Spam'], [143, 'Non-Spam'], [143, 'Non-Spam'], [144, 'Spam'], [144, 'Spam'], [144, 'Spam'], [145, 'Non-Spam'], [145, 'Non-Spam'], [145, 'Non-Spam'], [146, 'Non-Spam'], [146, 'Non-Spam'], [146, 'Non-Spam'], [147, 'Non-Spam'], [147, 'Non-Spam'], [147, 'Non-Spam'], [148, 'Non-Spam'], [148, 'Non-Spam'], [148, 'Non-Spam'], [149, 'Non-Spam'], [149, 'Non-Spam'], [149, 'Non-Spam'], [150, 'Non-Spam'], [150, 'Non-Spam'], [150, 'Non-Spam'], [151, 'Non-Spam'], [151, 'Non-Spam'], [151, 'Non-Spam'], [152, 'Non-Spam'], [152, 'Non-Spam'], [152, 'Non-Spam'], [153, 'Non-Spam'], [153, 'Non-Spam'], [153, 'Non-Spam'], [154, 'Non-Spam'], [154, 'Non-Spam'], [154, 'Non-Spam'], [155, 'Non-Spam'], [155, 'Non-Spam'], [155, 'Non-Spam'], [156, 'Non-Spam'], [156, 'Non-Spam'], [156, 'Non-Spam'], [157, 'Non-Spam'], [157, 'Non-Spam'], [157, 'Non-Spam'], [158, 'Non-Spam'], [158, 'Non-Spam'], [158, 'Non-Spam'], [159, 'Non-Spam'], [159, 'Non-Spam'], [159, 'Non-Spam'], [160, 'Non-Spam'], [160, 'Non-Spam'], [160, 'Non-Spam'], [161, 'Non-Spam'], [161, 'Non-Spam'], [161, 'Non-Spam'], [162, 'Non-Spam'], [162, 'Non-Spam'], [162, 'Non-Spam'], [163, 'Non-Spam'], [163, 'Non-Spam'], [163, 'Non-Spam'], [164, 'Non-Spam'], [164, 'Non-Spam'], [164, 'Non-Spam'], [165, 'Non-Spam'], [165, 'Non-Spam'], [165, 'Non-Spam'], [166, 'Non-Spam'], [166, 'Non-Spam'], [166, 'Non-Spam'], [167, 'Non-Spam'], [167, 'Non-Spam'], [167, 'Non-Spam'], [168, 'Non-Spam'], [168, 'Non-Spam'], [168, 'Non-Spam'], [169, 'Non-Spam'], [169, 'Non-Spam'], [169, 'Non-Spam'], [170, 'Non-Spam'], [170, 'Non-Spam'], [170, 'Non-Spam'], [171, 'Non-Spam'], [171, 'Non-Spam'], [171, 'Non-Spam'], [172, 'Non-Spam'], [172, 'Non-Spam'], [172, 'Non-Spam'], [173, 'Non-Spam'], [173, 'Non-Spam'], [173, 'Non-Spam'], [174, 'Non-Spam'], [174, 'Non-Spam'], [174, 'Non-Spam'], [175, 'Non-Spam'], [175, 'Non-Spam'], [175, 'Non-Spam'], [176, 'Non-Spam'], [176, 'Non-Spam'], [176, 'Non-Spam'], [177, 'Non-Spam'], [177, 'Non-Spam'], [177, 'Non-Spam'], [178, 'Non-Spam'], [178, 'Non-Spam'], [178, 'Non-Spam'], [179, 'Non-Spam'], [179, 'Non-Spam'], [179, 'Non-Spam'], [180, 'Non-Spam'], [180, 'Non-Spam'], [180, 'Non-Spam'], [181, 'Non-Spam'], [181, 'Non-Spam'], [181, 'Non-Spam'], [182, 'Non-Spam'], [182, 'Non-Spam'], [182, 'Non-Spam'], [183, 'Non-Spam'], [183, 'Non-Spam'], [183, 'Non-Spam'], [184, 'Non-Spam'], [184, 'Non-Spam'], [184, 'Non-Spam'], [185, 'Non-Spam'], [185, 'Non-Spam'], [185, 'Non-Spam'], [186, 'Non-Spam'], [186, 'Non-Spam'], [186, 'Non-Spam'], [187, 'Non-Spam'], [187, 'Non-Spam'], [187, 'Non-Spam'], [188, 'Non-Spam'], [188, 'Non-Spam'], [188, 'Non-Spam'], [189, 'Non-Spam'], [189, 'Non-Spam'], [189, 'Non-Spam'], [190, 'Spam'], [190, 'Spam'], [190, 'Spam'], [191, 'Non-Spam'], [191, 'Non-Spam'], [191, 'Non-Spam'], [192, 'Non-Spam'], [192, 'Non-Spam'], [192, 'Non-Spam'], [193, 'Spam'], [193, 'Spam'], [193, 'Spam'], [194, 'Spam'], [194, 'Spam'], [194, 'Spam'], [195, 'Non-Spam'], [195, 'Non-Spam'], [195, 'Non-Spam'], [196, 'Non-Spam'], [196, 'Non-Spam'], [196, 'Non-Spam'], [197, 'Non-Spam'], [197, 'Non-Spam'], [197, 'Non-Spam'], [198, 'Non-Spam'], [198, 'Non-Spam'], [198, 'Non-Spam'], [199, 'Non-Spam'], [199, 'Non-Spam'], [199, 'Non-Spam'], [200, 'Non-Spam'], [200, 'Non-Spam'], [200, 'Non-Spam'], [201, 'Spam'], [201, 'Spam'], [201, 'Spam'], [202, 'Non-Spam'], [202, 'Non-Spam'], [202, 'Non-Spam'], [203, 'Spam'], [203, 'Spam'], [203, 'Spam'], [204, 'Non-Spam'], [204, 'Non-Spam'], [204, 'Non-Spam'], [205, 'Spam'], [205, 'Spam'], [205, 'Spam'], [206, 'Spam'], [206, 'Spam'], [206, 'Spam'], [207, 'Non-Spam'], [207, 'Non-Spam'], [207, 'Non-Spam'], [208, 'Non-Spam'], [208, 'Non-Spam'], [208, 'Non-Spam'], [209, 'Non-Spam'], [209, 'Non-Spam'], [209, 'Non-Spam'], [210, 'Non-Spam'], [210, 'Non-Spam'], [210, 'Non-Spam'], [211, 'Non-Spam'], [211, 'Non-Spam'], [211, 'Non-Spam'], [212, 'Non-Spam'], [212, 'Non-Spam'], [212, 'Non-Spam'], [213, 'Non-Spam'], [213, 'Non-Spam'], [213, 'Non-Spam'], [214, 'Non-Spam'], [214, 'Non-Spam'], [214, 'Non-Spam'], [215, 'Non-Spam'], [215, 'Non-Spam'], [215, 'Non-Spam'], [216, 'Non-Spam'], [216, 'Non-Spam'], [216, 'Non-Spam'], [217, 'Non-Spam'], [217, 'Non-Spam'], [217, 'Non-Spam'], [218, 'Non-Spam'], [218, 'Non-Spam'], [218, 'Non-Spam'], [219, 'Non-Spam'], [219, 'Non-Spam'], [219, 'Non-Spam'], [220, 'Non-Spam'], [220, 'Non-Spam'], [220, 'Non-Spam'], [221, 'Non-Spam'], [221, 'Non-Spam'], [221, 'Non-Spam'], [222, 'Non-Spam'], [222, 'Non-Spam'], [222, 'Non-Spam'], [223, 'Non-Spam'], [223, 'Non-Spam'], [223, 'Non-Spam'], [224, 'Non-Spam'], [224, 'Non-Spam'], [224, 'Non-Spam'], [225, 'Non-Spam'], [225, 'Non-Spam'], [225, 'Non-Spam'], [226, 'Non-Spam'], [226, 'Non-Spam'], [226, 'Non-Spam'], [227, 'Non-Spam'], [227, 'Non-Spam'], [227, 'Non-Spam'], [228, 'Spam'], [228, 'Spam'], [228, 'Spam'], [229, 'Non-Spam'], [229, 'Non-Spam'], [229, 'Non-Spam'], [230, 'Non-Spam'], [230, 'Non-Spam'], [230, 'Non-Spam'], [231, 'Non-Spam'], [231, 'Non-Spam'], [231, 'Non-Spam'], [232, 'Non-Spam'], [232, 'Non-Spam'], [232, 'Non-Spam'], [233, 'Non-Spam'], [233, 'Non-Spam'], [233, 'Non-Spam'], [234, 'Non-Spam'], [234, 'Non-Spam'], [234, 'Non-Spam'], [235, 'Non-Spam'], [235, 'Non-Spam'], [235, 'Non-Spam'], [236, 'Non-Spam'], [236, 'Non-Spam'], [236, 'Non-Spam'], [237, 'Non-Spam'], [237, 'Non-Spam'], [237, 'Non-Spam'], [238, 'Non-Spam'], [238, 'Non-Spam'], [238, 'Non-Spam'], [239, 'Non-Spam'], [239, 'Non-Spam'], [239, 'Non-Spam'], [240, 'Non-Spam'], [240, 'Non-Spam'], [240, 'Non-Spam'], [241, 'Non-Spam'], [241, 'Non-Spam'], [241, 'Non-Spam'], [242, 'Non-Spam'], [242, 'Non-Spam'], [242, 'Non-Spam'], [243, 'Non-Spam'], [243, 'Non-Spam'], [243, 'Non-Spam'], [244, 'Non-Spam'], [244, 'Non-Spam'], [244, 'Non-Spam'], [245, 'Non-Spam'], [245, 'Non-Spam'], [245, 'Non-Spam'], [246, 'Non-Spam'], [246, 'Non-Spam'], [246, 'Non-Spam'], [247, 'Non-Spam'], [247, 'Non-Spam'], [247, 'Non-Spam'], [248, 'Non-Spam'], [248, 'Non-Spam'], [248, 'Non-Spam'], [249, 'Non-Spam'], [249, 'Non-Spam'], [249, 'Non-Spam'], [250, 'Non-Spam'], [250, 'Non-Spam'], [250, 'Non-Spam'], [251, 'Non-Spam'], [251, 'Non-Spam'], [251, 'Non-Spam'], [252, 'Non-Spam'], [252, 'Non-Spam'], [252, 'Non-Spam'], [253, 'Non-Spam'], [253, 'Non-Spam'], [253, 'Non-Spam'], [254, 'Non-Spam'], [254, 'Non-Spam'], [254, 'Non-Spam'], [255, 'Non-Spam'], [255, 'Non-Spam'], [255, 'Non-Spam'], [256, 'Spam'], [256, 'Spam'], [256, 'Spam'], [257, 'Non-Spam'], [257, 'Non-Spam'], [257, 'Non-Spam'], [258, 'Non-Spam'], [258, 'Non-Spam'], [258, 'Non-Spam'], [259, 'Non-Spam'], [259, 'Non-Spam'], [259, 'Non-Spam'], [260, 'Non-Spam'], [260, 'Non-Spam'], [260, 'Non-Spam'], [261, 'Non-Spam'], [261, 'Non-Spam'], [261, 'Non-Spam'], [262, 'Non-Spam'], [262, 'Non-Spam'], [262, 'Non-Spam'], [263, 'Non-Spam'], [263, 'Non-Spam'], [263, 'Non-Spam'], [264, 'Non-Spam'], [264, 'Non-Spam'], [264, 'Non-Spam'], [265, 'Non-Spam'], [265, 'Non-Spam'], [265, 'Non-Spam'], [266, 'Non-Spam'], [266, 'Non-Spam'], [266, 'Non-Spam'], [267, 'Non-Spam'], [267, 'Non-Spam'], [267, 'Non-Spam'], [268, 'Non-Spam'], [268, 'Non-Spam'], [268, 'Non-Spam'], [269, 'Non-Spam'], [269, 'Non-Spam'], [269, 'Non-Spam'], [270, 'Non-Spam'], [270, 'Non-Spam'], [270, 'Non-Spam'], [271, 'Non-Spam'], [271, 'Non-Spam'], [271, 'Non-Spam'], [272, 'Non-Spam'], [272, 'Non-Spam'], [272, 'Non-Spam'], [273, 'Non-Spam'], [273, 'Non-Spam'], [273, 'Non-Spam'], [274, 'Non-Spam'], [274, 'Non-Spam'], [274, 'Non-Spam'], [275, 'Non-Spam'], [275, 'Non-Spam'], [275, 'Non-Spam'], [276, 'Spam'], [276, 'Spam'], [276, 'Spam'], [277, 'Non-Spam'], [277, 'Non-Spam'], [277, 'Non-Spam'], [278, 'Spam'], [278, 'Spam'], [278, 'Spam'], [279, 'Non-Spam'], [279, 'Non-Spam'], [279, 'Non-Spam'], [280, 'Non-Spam'], [280, 'Non-Spam'], [280, 'Non-Spam'], [281, 'Non-Spam'], [281, 'Non-Spam'], [281, 'Non-Spam'], [282, 'Non-Spam'], [282, 'Non-Spam'], [282, 'Non-Spam'], [283, 'Non-Spam'], [283, 'Non-Spam'], [283, 'Non-Spam'], [284, 'Non-Spam'], [284, 'Non-Spam'], [284, 'Non-Spam'], [285, 'Spam'], [285, 'Spam'], [285, 'Spam'], [286, 'Non-Spam'], [286, 'Non-Spam'], [286, 'Non-Spam'], [287, 'Non-Spam'], [287, 'Non-Spam'], [287, 'Non-Spam'], [288, 'Non-Spam'], [288, 'Non-Spam'], [288, 'Non-Spam'], [289, 'Non-Spam'], [289, 'Non-Spam'], [289, 'Non-Spam'], [290, 'Non-Spam'], [290, 'Non-Spam'], [290, 'Non-Spam'], [291, 'Non-Spam'], [291, 'Non-Spam'], [291, 'Non-Spam'], [292, 'Spam'], [292, 'Spam'], [292, 'Spam'], [293, 'Non-Spam'], [293, 'Non-Spam'], [293, 'Non-Spam'], [294, 'Non-Spam'], [294, 'Non-Spam'], [294, 'Non-Spam'], [295, 'Non-Spam'], [295, 'Non-Spam'], [295, 'Non-Spam'], [296, 'Non-Spam'], [296, 'Non-Spam'], [296, 'Non-Spam'], [297, 'Non-Spam'], [297, 'Non-Spam'], [297, 'Non-Spam'], [298, 'Non-Spam'], [298, 'Non-Spam'], [298, 'Non-Spam'], [299, 'Non-Spam'], [299, 'Non-Spam'], [299, 'Non-Spam'], [300, 'Non-Spam'], [300, 'Non-Spam'], [300, 'Non-Spam'], [301, 'Spam'], [301, 'Spam'], [301, 'Spam'], [302, 'Non-Spam'], [302, 'Non-Spam'], [302, 'Non-Spam'], [303, 'Non-Spam'], [303, 'Non-Spam'], [303, 'Non-Spam'], [304, 'Non-Spam'], [304, 'Non-Spam'], [304, 'Non-Spam'], [305, 'Non-Spam'], [305, 'Non-Spam'], [305, 'Non-Spam'], [306, 'Non-Spam'], [306, 'Non-Spam'], [306, 'Non-Spam'], [307, 'Non-Spam'], [307, 'Non-Spam'], [307, 'Non-Spam'], [308, 'Non-Spam'], [308, 'Non-Spam'], [308, 'Non-Spam'], [309, 'Non-Spam'], [309, 'Non-Spam'], [309, 'Non-Spam'], [310, 'Non-Spam'], [310, 'Non-Spam'], [310, 'Non-Spam'], [311, 'Non-Spam'], [311, 'Non-Spam'], [311, 'Non-Spam'], [312, 'Non-Spam'], [312, 'Non-Spam'], [312, 'Non-Spam'], [313, 'Non-Spam'], [313, 'Non-Spam'], [313, 'Non-Spam'], [314, 'Non-Spam'], [314, 'Non-Spam'], [314, 'Non-Spam'], [315, 'Non-Spam'], [315, 'Non-Spam'], [315, 'Non-Spam'], [316, 'Non-Spam'], [316, 'Non-Spam'], [316, 'Non-Spam'], [317, 'Non-Spam'], [317, 'Non-Spam'], [317, 'Non-Spam'], [318, 'Non-Spam'], [318, 'Non-Spam'], [318, 'Non-Spam'], [319, 'Non-Spam'], [319, 'Non-Spam'], [319, 'Non-Spam'], [320, 'Spam'], [320, 'Spam'], [320, 'Spam'], [321, 'Non-Spam'], [321, 'Non-Spam'], [321, 'Non-Spam'], [322, 'Non-Spam'], [322, 'Non-Spam'], [322, 'Non-Spam'], [323, 'Non-Spam'], [323, 'Non-Spam'], [323, 'Non-Spam'], [324, 'Non-Spam'], [324, 'Non-Spam'], [324, 'Non-Spam'], [325, 'Non-Spam'], [325, 'Non-Spam'], [325, 'Non-Spam'], [326, 'Non-Spam'], [326, 'Non-Spam'], [326, 'Non-Spam'], [327, 'Non-Spam'], [327, 'Non-Spam'], [327, 'Non-Spam'], [328, 'Non-Spam'], [328, 'Non-Spam'], [328, 'Non-Spam'], [329, 'Non-Spam'], [329, 'Non-Spam'], [329, 'Non-Spam'], [330, 'Non-Spam'], [330, 'Non-Spam'], [330, 'Non-Spam'], [331, 'Non-Spam'], [331, 'Non-Spam'], [331, 'Non-Spam'], [332, 'Non-Spam'], [332, 'Non-Spam'], [332, 'Non-Spam'], [333, 'Spam'], [333, 'Spam'], [333, 'Spam'], [334, 'Non-Spam'], [334, 'Non-Spam'], [334, 'Non-Spam'], [335, 'Non-Spam'], [335, 'Non-Spam'], [335, 'Non-Spam'], [336, 'Non-Spam'], [336, 'Non-Spam'], [336, 'Non-Spam'], [337, 'Spam'], [337, 'Spam'], [337, 'Spam'], [338, 'Non-Spam'], [338, 'Non-Spam'], [338, 'Non-Spam'], [339, 'Non-Spam'], [339, 'Non-Spam'], [339, 'Non-Spam'], [340, 'Non-Spam'], [340, 'Non-Spam'], [340, 'Non-Spam'], [341, 'Spam'], [341, 'Spam'], [341, 'Spam'], [342, 'Non-Spam'], [342, 'Non-Spam'], [342, 'Non-Spam'], [343, 'Non-Spam'], [343, 'Non-Spam'], [343, 'Non-Spam'], [344, 'Non-Spam'], [344, 'Non-Spam'], [344, 'Non-Spam'], [345, 'Non-Spam'], [345, 'Non-Spam'], [345, 'Non-Spam'], [346, 'Non-Spam'], [346, 'Non-Spam'], [346, 'Non-Spam'], [347, 'Non-Spam'], [347, 'Non-Spam'], [347, 'Non-Spam'], [348, 'Non-Spam'], [348, 'Non-Spam'], [348, 'Non-Spam'], [349, 'Non-Spam'], [349, 'Non-Spam'], [349, 'Non-Spam'], [350, 'Non-Spam'], [350, 'Non-Spam'], [350, 'Non-Spam'], [351, 'Non-Spam'], [351, 'Non-Spam'], [351, 'Non-Spam'], [352, 'Non-Spam'], [352, 'Non-Spam'], [352, 'Non-Spam'], [353, 'Non-Spam'], [353, 'Non-Spam'], [353, 'Non-Spam'], [354, 'Non-Spam'], [354, 'Non-Spam'], [354, 'Non-Spam'], [355, 'Spam'], [355, 'Spam'], [355, 'Spam'], [356, 'Non-Spam'], [356, 'Non-Spam'], [356, 'Non-Spam'], [357, 'Non-Spam'], [357, 'Non-Spam'], [357, 'Non-Spam'], [358, 'Non-Spam'], [358, 'Non-Spam'], [358, 'Non-Spam'], [359, 'Non-Spam'], [359, 'Non-Spam'], [359, 'Non-Spam'], [360, 'Non-Spam'], [360, 'Non-Spam'], [360, 'Non-Spam'], [361, 'Non-Spam'], [361, 'Non-Spam'], [361, 'Non-Spam'], [362, 'Non-Spam'], [362, 'Non-Spam'], [362, 'Non-Spam'], [363, 'Non-Spam'], [363, 'Non-Spam'], [363, 'Non-Spam'], [364, 'Spam'], [364, 'Spam'], [364, 'Spam'], [365, 'Non-Spam'], [365, 'Non-Spam'], [365, 'Non-Spam'], [366, 'Non-Spam'], [366, 'Non-Spam'], [366, 'Non-Spam'], [367, 'Non-Spam'], [367, 'Non-Spam'], [367, 'Non-Spam'], [368, 'Spam'], [368, 'Spam'], [368, 'Spam'], [369, 'Spam'], [369, 'Spam'], [369, 'Spam'], [370, 'Non-Spam'], [370, 'Non-Spam'], [370, 'Non-Spam'], [371, 'Non-Spam'], [371, 'Non-Spam'], [371, 'Non-Spam'], [372, 'Non-Spam'], [372, 'Non-Spam'], [372, 'Non-Spam'], [373, 'Spam'], [373, 'Spam'], [373, 'Spam'], [374, 'Non-Spam'], [374, 'Non-Spam'], [374, 'Non-Spam'], [375, 'Non-Spam'], [375, 'Non-Spam'], [375, 'Non-Spam'], [376, 'Non-Spam'], [376, 'Non-Spam'], [376, 'Non-Spam'], [377, 'Non-Spam'], [377, 'Non-Spam'], [377, 'Non-Spam'], [378, 'Non-Spam'], [378, 'Non-Spam'], [378, 'Non-Spam'], [379, 'Spam'], [379, 'Spam'], [379, 'Spam'], [380, 'Spam'], [380, 'Spam'], [380, 'Spam'], [381, 'Non-Spam'], [381, 'Non-Spam'], [382, 'Non-Spam'], [382, 'Non-Spam'], [382, 'Non-Spam'], [383, 'Non-Spam'], [383, 'Non-Spam'], [383, 'Non-Spam'], [384, 'Non-Spam'], [384, 'Non-Spam'], [384, 'Non-Spam'], [385, 'Non-Spam'], [385, 'Non-Spam'], [385, 'Non-Spam'], [386, 'Non-Spam'], [386, 'Non-Spam'], [386, 'Non-Spam'], [387, 'Non-Spam'], [387, 'Non-Spam'], [387, 'Non-Spam'], [388, 'Non-Spam'], [388, 'Non-Spam'], [388, 'Non-Spam'], [389, 'Non-Spam'], [389, 'Non-Spam'], [389, 'Non-Spam'], [390, 'Non-Spam'], [390, 'Non-Spam'], [390, 'Non-Spam'], [391, 'Spam'], [391, 'Spam'], [391, 'Spam'], [392, 'Non-Spam'], [392, 'Non-Spam'], [392, 'Non-Spam'], [393, 'Non-Spam'], [393, 'Non-Spam'], [393, 'Non-Spam'], [394, 'Non-Spam'], [394, 'Non-Spam'], [394, 'Non-Spam'], [395, 'Non-Spam'], [395, 'Non-Spam'], [395, 'Non-Spam'], [396, 'Non-Spam'], [396, 'Non-Spam'], [396, 'Non-Spam'], [397, 'Non-Spam'], [397, 'Non-Spam'], [397, 'Non-Spam'], [398, 'Non-Spam'], [398, 'Non-Spam'], [398, 'Non-Spam'], [399, 'Non-Spam'], [399, 'Non-Spam'], [399, 'Non-Spam'], [400, 'Non-Spam'], [400, 'Non-Spam'], [400, 'Non-Spam'], [401, 'Non-Spam'], [401, 'Non-Spam'], [401, 'Non-Spam'], [402, 'Non-Spam'], [402, 'Non-Spam'], [402, 'Non-Spam'], [403, 'Non-Spam'], [403, 'Non-Spam'], [403, 'Non-Spam'], [404, 'Non-Spam'], [404, 'Non-Spam'], [404, 'Non-Spam'], [405, 'Spam'], [405, 'Spam'], [405, 'Spam'], [406, 'Non-Spam'], [406, 'Non-Spam'], [406, 'Non-Spam'], [407, 'Non-Spam'], [407, 'Non-Spam'], [407, 'Non-Spam'], [408, 'Non-Spam'], [408, 'Non-Spam'], [408, 'Non-Spam'], [409, 'Non-Spam'], [409, 'Non-Spam'], [409, 'Non-Spam'], [410, 'Non-Spam'], [410, 'Non-Spam'], [410, 'Non-Spam'], [411, 'Non-Spam'], [411, 'Non-Spam'], [411, 'Non-Spam'], [412, 'Non-Spam'], [412, 'Non-Spam'], [412, 'Non-Spam'], [413, 'Non-Spam'], [413, 'Non-Spam'], [413, 'Non-Spam'], [414, 'Non-Spam'], [414, 'Non-Spam'], [414, 'Non-Spam'], [415, 'Non-Spam'], [415, 'Non-Spam'], [415, 'Non-Spam'], [416, 'Non-Spam'], [416, 'Non-Spam'], [416, 'Non-Spam'], [417, 'Non-Spam'], [417, 'Non-Spam'], [417, 'Non-Spam'], [418, 'Non-Spam'], [418, 'Non-Spam'], [418, 'Non-Spam'], [419, 'Non-Spam'], [419, 'Non-Spam'], [419, 'Non-Spam'], [420, 'Non-Spam'], [420, 'Non-Spam'], [420, 'Non-Spam'], [421, 'Non-Spam'], [421, 'Non-Spam'], [421, 'Non-Spam'], [422, 'Spam'], [422, 'Spam'], [422, 'Spam'], [423, 'Non-Spam'], [423, 'Non-Spam'], [423, 'Non-Spam'], [424, 'Non-Spam'], [424, 'Non-Spam'], [424, 'Non-Spam'], [425, 'Non-Spam'], [425, 'Non-Spam'], [425, 'Non-Spam'], [426, 'Non-Spam'], [426, 'Non-Spam'], [426, 'Non-Spam'], [427, 'Non-Spam'], [427, 'Non-Spam'], [427, 'Non-Spam'], [428, 'Spam'], [428, 'Spam'], [428, 'Spam'], [429, 'Non-Spam'], [429, 'Non-Spam'], [429, 'Non-Spam'], [430, 'Non-Spam'], [430, 'Non-Spam'], [430, 'Non-Spam'], [431, 'Non-Spam'], [431, 'Non-Spam'], [431, 'Non-Spam'], [432, 'Spam'], [432, 'Spam'], [432, 'Spam'], [433, 'Non-Spam'], [433, 'Non-Spam'], [433, 'Non-Spam'], [434, 'Non-Spam'], [434, 'Non-Spam'], [434, 'Non-Spam'], [435, 'Non-Spam'], [435, 'Non-Spam'], [435, 'Non-Spam'], [436, 'Non-Spam'], [436, 'Non-Spam'], [436, 'Non-Spam'], [437, 'Non-Spam'], [437, 'Non-Spam'], [437, 'Non-Spam'], [438, 'Non-Spam'], [438, 'Non-Spam'], [438, 'Non-Spam'], [439, 'Non-Spam'], [439, 'Non-Spam'], [439, 'Non-Spam'], [440, 'Non-Spam'], [440, 'Non-Spam'], [440, 'Non-Spam'], [441, 'Non-Spam'], [441, 'Non-Spam'], [441, 'Non-Spam'], [442, 'Non-Spam'], [442, 'Non-Spam'], [442, 'Non-Spam'], [443, 'Non-Spam'], [443, 'Non-Spam'], [443, 'Non-Spam'], [444, 'Non-Spam'], [444, 'Non-Spam'], [444, 'Non-Spam'], [445, 'Non-Spam'], [445, 'Non-Spam'], [445, 'Non-Spam'], [446, 'Non-Spam'], [446, 'Non-Spam'], [446, 'Non-Spam'], [447, 'Non-Spam'], [447, 'Non-Spam'], [447, 'Non-Spam'], [448, 'Non-Spam'], [448, 'Non-Spam'], [448, 'Non-Spam'], [449, 'Spam'], [449, 'Spam'], [449, 'Spam'], [450, 'Non-Spam'], [450, 'Non-Spam'], [450, 'Non-Spam'], [451, 'Non-Spam'], [451, 'Non-Spam'], [452, 'Non-Spam'], [452, 'Non-Spam'], [452, 'Non-Spam'], [453, 'Non-Spam'], [453, 'Non-Spam'], [453, 'Non-Spam'], [454, 'Spam'], [454, 'Spam'], [454, 'Spam'], [455, 'Non-Spam'], [455, 'Non-Spam'], [455, 'Non-Spam'], [456, 'Non-Spam'], [456, 'Non-Spam'], [456, 'Non-Spam'], [457, 'Spam'], [457, 'Spam'], [457, 'Spam'], [458, 'Non-Spam'], [458, 'Non-Spam'], [458, 'Non-Spam'], [459, 'Spam'], [459, 'Spam'], [459, 'Spam'], [460, 'Non-Spam'], [460, 'Non-Spam'], [460, 'Non-Spam'], [461, 'Non-Spam'], [461, 'Non-Spam'], [461, 'Non-Spam'], [462, 'Non-Spam'], [462, 'Non-Spam'], [462, 'Non-Spam'], [463, 'Non-Spam'], [463, 'Non-Spam'], [463, 'Non-Spam'], [464, 'Non-Spam'], [464, 'Non-Spam'], [464, 'Non-Spam'], [465, 'Non-Spam'], [465, 'Non-Spam'], [465, 'Non-Spam'], [466, 'Non-Spam'], [466, 'Non-Spam'], [466, 'Non-Spam'], [467, 'Spam'], [467, 'Spam'], [467, 'Spam'], [468, 'Non-Spam'], [468, 'Non-Spam'], [468, 'Non-Spam'], [469, 'Non-Spam'], [469, 'Non-Spam'], [469, 'Non-Spam'], [470, 'Non-Spam'], [470, 'Non-Spam'], [470, 'Non-Spam'], [471, 'Spam'], [471, 'Spam'], [471, 'Spam'], [472, 'Non-Spam'], [472, 'Non-Spam'], [472, 'Non-Spam'], [473, 'Non-Spam'], [473, 'Non-Spam'], [473, 'Non-Spam'], [474, 'Non-Spam'], [474, 'Non-Spam'], [474, 'Non-Spam'], [475, 'Non-Spam'], [475, 'Non-Spam'], [475, 'Non-Spam'], [476, 'Non-Spam'], [476, 'Non-Spam'], [476, 'Non-Spam'], [477, 'Non-Spam'], [477, 'Non-Spam'], [477, 'Non-Spam'], [478, 'Non-Spam'], [478, 'Non-Spam'], [478, 'Non-Spam'], [479, 'Non-Spam'], [479, 'Non-Spam'], [479, 'Non-Spam'], [480, 'Non-Spam'], [480, 'Non-Spam'], [480, 'Non-Spam'], [481, 'Non-Spam'], [481, 'Non-Spam'], [481, 'Non-Spam'], [482, 'Non-Spam'], [482, 'Non-Spam'], [482, 'Non-Spam'], [483, 'Non-Spam'], [483, 'Non-Spam'], [483, 'Non-Spam'], [484, 'Non-Spam'], [484, 'Non-Spam'], [484, 'Non-Spam'], [485, 'Non-Spam'], [485, 'Non-Spam'], [485, 'Non-Spam'], [486, 'Non-Spam'], [486, 'Non-Spam'], [486, 'Non-Spam'], [487, 'Non-Spam'], [487, 'Non-Spam'], [487, 'Non-Spam'], [488, 'Non-Spam'], [488, 'Non-Spam'], [488, 'Non-Spam'], [489, 'Non-Spam'], [489, 'Non-Spam'], [489, 'Non-Spam'], [490, 'Spam'], [490, 'Spam'], [490, 'Spam'], [491, 'Non-Spam'], [491, 'Non-Spam'], [491, 'Non-Spam'], [492, 'Non-Spam'], [492, 'Non-Spam'], [492, 'Non-Spam'], [493, 'Spam'], [493, 'Spam'], [493, 'Spam'], [494, 'Non-Spam'], [494, 'Non-Spam'], [494, 'Non-Spam'], [495, 'Non-Spam'], [495, 'Non-Spam'], [495, 'Non-Spam'], [496, 'Spam'], [496, 'Spam'], [496, 'Spam'], [497, 'Non-Spam'], [497, 'Non-Spam'], [497, 'Non-Spam'], [498, 'Spam'], [498, 'Spam'], [498, 'Spam'], [499, 'Non-Spam'], [499, 'Non-Spam'], [499, 'Non-Spam'], [500, 'Non-Spam'], [500, 'Non-Spam'], [500, 'Non-Spam'], [501, 'Spam'], [501, 'Spam'], [501, 'Spam'], [502, 'Non-Spam'], [502, 'Non-Spam'], [502, 'Non-Spam'], [503, 'Non-Spam'], [503, 'Non-Spam'], [503, 'Non-Spam'], [504, 'Non-Spam'], [504, 'Non-Spam'], [504, 'Non-Spam'], [505, 'Non-Spam'], [505, 'Non-Spam'], [505, 'Non-Spam'], [506, 'Non-Spam'], [506, 'Non-Spam'], [506, 'Non-Spam'], [507, 'Non-Spam'], [507, 'Non-Spam'], [507, 'Non-Spam'], [508, 'Non-Spam'], [508, 'Non-Spam'], [508, 'Non-Spam'], [509, 'Spam'], [509, 'Spam'], [509, 'Spam'], [510, 'Non-Spam'], [510, 'Non-Spam'], [510, 'Non-Spam'], [511, 'Non-Spam'], [511, 'Non-Spam'], [511, 'Non-Spam'], [512, 'Non-Spam'], [512, 'Non-Spam'], [512, 'Non-Spam'], [513, 'Non-Spam'], [513, 'Non-Spam'], [513, 'Non-Spam'], [514, 'Spam'], [514, 'Spam'], [514, 'Spam'], [515, 'Non-Spam'], [515, 'Non-Spam'], [515, 'Non-Spam'], [516, 'Non-Spam'], [516, 'Non-Spam'], [516, 'Non-Spam'], [517, 'Non-Spam'], [517, 'Non-Spam'], [517, 'Non-Spam'], [518, 'Non-Spam'], [518, 'Non-Spam'], [518, 'Non-Spam'], [519, 'Non-Spam'], [519, 'Non-Spam'], [519, 'Non-Spam'], [520, 'Non-Spam'], [520, 'Non-Spam'], [520, 'Non-Spam'], [521, 'Non-Spam'], [521, 'Non-Spam'], [521, 'Non-Spam'], [522, 'Non-Spam'], [522, 'Non-Spam'], [522, 'Non-Spam'], [523, 'Non-Spam'], [523, 'Non-Spam'], [523, 'Non-Spam'], [524, 'Non-Spam'], [524, 'Non-Spam'], [524, 'Non-Spam'], [525, 'Spam'], [525, 'Spam'], [525, 'Spam'], [526, 'Non-Spam'], [526, 'Non-Spam'], [526, 'Non-Spam'], [527, 'Spam'], [527, 'Spam'], [527, 'Spam'], [528, 'Non-Spam'], [528, 'Non-Spam'], [528, 'Non-Spam'], [529, 'Non-Spam'], [529, 'Non-Spam'], [529, 'Non-Spam'], [530, 'Non-Spam'], [530, 'Non-Spam'], [530, 'Non-Spam'], [531, 'Spam'], [531, 'Spam'], [531, 'Spam'], [532, 'Non-Spam'], [532, 'Non-Spam'], [532, 'Non-Spam'], [533, 'Non-Spam'], [533, 'Non-Spam'], [533, 'Non-Spam'], [534, 'Non-Spam'], [534, 'Non-Spam'], [534, 'Non-Spam'], [535, 'Non-Spam'], [535, 'Non-Spam'], [535, 'Non-Spam'], [536, 'Non-Spam'], [536, 'Non-Spam'], [536, 'Non-Spam'], [537, 'Non-Spam'], [537, 'Non-Spam'], [537, 'Non-Spam'], [538, 'Spam'], [538, 'Spam'], [538, 'Spam'], [539, 'Non-Spam'], [539, 'Non-Spam'], [539, 'Non-Spam'], [540, 'Spam'], [540, 'Spam'], [540, 'Spam'], [541, 'Spam'], [541, 'Spam'], [541, 'Spam'], [542, 'Non-Spam'], [542, 'Non-Spam'], [542, 'Non-Spam'], [543, 'Non-Spam'], [543, 'Non-Spam'], [543, 'Non-Spam'], [544, 'Non-Spam'], [544, 'Non-Spam'], [544, 'Non-Spam'], [545, 'Non-Spam'], [545, 'Non-Spam'], [545, 'Non-Spam'], [546, 'Non-Spam'], [546, 'Non-Spam'], [546, 'Non-Spam'], [547, 'Non-Spam'], [547, 'Non-Spam'], [547, 'Non-Spam'], [548, 'Non-Spam'], [548, 'Non-Spam'], [548, 'Non-Spam'], [549, 'Non-Spam'], [549, 'Non-Spam'], [549, 'Non-Spam'], [550, 'Spam'], [550, 'Spam'], [550, 'Spam'], [551, 'Non-Spam'], [551, 'Non-Spam'], [551, 'Non-Spam'], [552, 'Non-Spam'], [552, 'Non-Spam'], [552, 'Non-Spam'], [553, 'Non-Spam'], [553, 'Non-Spam'], [553, 'Non-Spam'], [554, 'Non-Spam'], [554, 'Non-Spam'], [554, 'Non-Spam'], [555, 'Non-Spam'], [555, 'Non-Spam'], [555, 'Non-Spam'], [556, 'Spam'], [556, 'Spam'], [556, 'Spam'], [557, 'Non-Spam'], [557, 'Non-Spam'], [557, 'Non-Spam'], [558, 'Non-Spam'], [558, 'Non-Spam'], [558, 'Non-Spam'], [559, 'Non-Spam'], [559, 'Non-Spam'], [559, 'Non-Spam'], [560, 'Non-Spam'], [560, 'Non-Spam'], [560, 'Non-Spam'], [561, 'Non-Spam'], [561, 'Non-Spam'], [561, 'Non-Spam'], [562, 'Non-Spam'], [562, 'Non-Spam'], [562, 'Non-Spam'], [563, 'Non-Spam'], [563, 'Non-Spam'], [563, 'Non-Spam'], [564, 'Spam'], [564, 'Spam'], [564, 'Spam'], [565, 'Non-Spam'], [565, 'Non-Spam'], [565, 'Non-Spam'], [566, 'Non-Spam'], [566, 'Non-Spam'], [566, 'Non-Spam'], [567, 'Non-Spam'], [567, 'Non-Spam'], [567, 'Non-Spam'], [568, 'Non-Spam'], [568, 'Non-Spam'], [568, 'Non-Spam'], [569, 'Non-Spam'], [569, 'Non-Spam'], [569, 'Non-Spam'], [570, 'Non-Spam'], [570, 'Non-Spam'], [570, 'Non-Spam'], [571, 'Non-Spam'], [571, 'Non-Spam'], [571, 'Non-Spam'], [572, 'Non-Spam'], [572, 'Non-Spam'], [572, 'Non-Spam'], [573, 'Non-Spam'], [573, 'Non-Spam'], [573, 'Non-Spam'], [574, 'Non-Spam'], [574, 'Non-Spam'], [574, 'Non-Spam'], [575, 'Non-Spam'], [575, 'Non-Spam'], [575, 'Non-Spam'], [576, 'Non-Spam'], [576, 'Non-Spam'], [576, 'Non-Spam'], [577, 'Spam'], [577, 'Spam'], [577, 'Spam'], [578, 'Non-Spam'], [578, 'Non-Spam'], [578, 'Non-Spam'], [579, 'Non-Spam'], [579, 'Non-Spam'], [579, 'Non-Spam'], [580, 'Non-Spam'], [580, 'Non-Spam'], [580, 'Non-Spam'], [581, 'Non-Spam'], [581, 'Non-Spam'], [581, 'Non-Spam'], [582, 'Non-Spam'], [582, 'Non-Spam'], [582, 'Non-Spam'], [583, 'Spam'], [583, 'Spam'], [583, 'Spam'], [584, 'Non-Spam'], [584, 'Non-Spam'], [584, 'Non-Spam'], [585, 'Non-Spam'], [585, 'Non-Spam'], [585, 'Non-Spam'], [586, 'Non-Spam'], [586, 'Non-Spam'], [586, 'Non-Spam'], [587, 'Non-Spam'], [587, 'Non-Spam'], [587, 'Non-Spam'], [588, 'Non-Spam'], [588, 'Non-Spam'], [588, 'Non-Spam'], [589, 'Non-Spam'], [589, 'Non-Spam'], [589, 'Non-Spam'], [590, 'Non-Spam'], [590, 'Non-Spam'], [590, 'Non-Spam'], [591, 'Non-Spam'], [591, 'Non-Spam'], [591, 'Non-Spam'], [592, 'Non-Spam'], [592, 'Non-Spam'], [592, 'Non-Spam'], [593, 'Non-Spam'], [593, 'Non-Spam'], [593, 'Non-Spam'], [594, 'Non-Spam'], [594, 'Non-Spam'], [594, 'Non-Spam'], [595, 'Non-Spam'], [595, 'Non-Spam'], [595, 'Non-Spam'], [596, 'Non-Spam'], [596, 'Non-Spam'], [596, 'Non-Spam'], [597, 'Non-Spam'], [597, 'Non-Spam'], [597, 'Non-Spam'], [598, 'Non-Spam'], [598, 'Non-Spam'], [598, 'Non-Spam'], [599, 'Non-Spam'], [599, 'Non-Spam'], [599, 'Non-Spam'], [600, 'Spam'], [600, 'Spam'], [600, 'Spam'], [601, 'Spam'], [601, 'Spam'], [601, 'Spam'], [602, 'Non-Spam'], [602, 'Non-Spam'], [602, 'Non-Spam'], [603, 'Spam'], [603, 'Spam'], [603, 'Spam'], [604, 'Non-Spam'], [604, 'Non-Spam'], [604, 'Non-Spam'], [605, 'Non-Spam'], [605, 'Non-Spam'], [605, 'Non-Spam'], [606, 'Non-Spam'], [606, 'Non-Spam'], [606, 'Non-Spam'], [607, 'Non-Spam'], [607, 'Non-Spam'], [607, 'Non-Spam'], [608, 'Non-Spam'], [608, 'Non-Spam'], [608, 'Non-Spam'], [609, 'Non-Spam'], [609, 'Non-Spam'], [609, 'Non-Spam'], [610, 'Non-Spam'], [610, 'Non-Spam'], [610, 'Non-Spam'], [611, 'Non-Spam'], [611, 'Non-Spam'], [611, 'Non-Spam'], [612, 'Non-Spam'], [612, 'Non-Spam'], [612, 'Non-Spam'], [613, 'Non-Spam'], [613, 'Non-Spam'], [613, 'Non-Spam'], [614, 'Non-Spam'], [614, 'Non-Spam'], [614, 'Non-Spam'], [615, 'Spam'], [615, 'Spam'], [615, 'Spam'], [616, 'Non-Spam'], [616, 'Non-Spam'], [616, 'Non-Spam'], [617, 'Non-Spam'], [617, 'Non-Spam'], [617, 'Non-Spam'], [618, 'Non-Spam'], [618, 'Non-Spam'], [618, 'Non-Spam'], [619, 'Spam'], [619, 'Spam'], [619, 'Spam'], [620, 'Spam'], [620, 'Spam'], [620, 'Spam'], [621, 'Non-Spam'], [621, 'Non-Spam'], [622, 'Non-Spam'], [622, 'Non-Spam'], [622, 'Non-Spam'], [623, 'Non-Spam'], [623, 'Non-Spam'], [623, 'Non-Spam'], [624, 'Non-Spam'], [624, 'Non-Spam'], [624, 'Non-Spam'], [625, 'Non-Spam'], [625, 'Non-Spam'], [625, 'Non-Spam'], [626, 'Non-Spam'], [626, 'Non-Spam'], [626, 'Non-Spam'], [627, 'Non-Spam'], [627, 'Non-Spam'], [627, 'Non-Spam'], [628, 'Non-Spam'], [628, 'Non-Spam'], [628, 'Non-Spam'], [629, 'Non-Spam'], [629, 'Non-Spam'], [629, 'Non-Spam'], [630, 'Non-Spam'], [630, 'Non-Spam'], [630, 'Non-Spam'], [631, 'Non-Spam'], [631, 'Non-Spam'], [631, 'Non-Spam'], [632, 'Non-Spam'], [632, 'Non-Spam'], [632, 'Non-Spam'], [633, 'Non-Spam'], [633, 'Non-Spam'], [633, 'Non-Spam'], [634, 'Non-Spam'], [634, 'Non-Spam'], [634, 'Non-Spam'], [635, 'Non-Spam'], [635, 'Non-Spam'], [635, 'Non-Spam'], [636, 'Non-Spam'], [636, 'Non-Spam'], [636, 'Non-Spam'], [637, 'Spam'], [637, 'Spam'], [637, 'Spam'], [638, 'Spam'], [638, 'Spam'], [638, 'Spam'], [639, 'Non-Spam'], [639, 'Non-Spam'], [639, 'Non-Spam'], [640, 'Non-Spam'], [640, 'Non-Spam'], [640, 'Non-Spam'], [641, 'Non-Spam'], [641, 'Non-Spam'], [641, 'Non-Spam'], [642, 'Non-Spam'], [642, 'Non-Spam'], [642, 'Non-Spam'], [643, 'Non-Spam'], [643, 'Non-Spam'], [643, 'Non-Spam'], [644, 'Non-Spam'], [644, 'Non-Spam'], [644, 'Non-Spam'], [645, 'Non-Spam'], [645, 'Non-Spam'], [645, 'Non-Spam'], [646, 'Non-Spam'], [646, 'Non-Spam'], [646, 'Non-Spam'], [647, 'Non-Spam'], [647, 'Non-Spam'], [647, 'Non-Spam'], [648, 'Non-Spam'], [648, 'Non-Spam'], [648, 'Non-Spam'], [649, 'Non-Spam'], [649, 'Non-Spam'], [649, 'Non-Spam'], [650, 'Spam'], [650, 'Spam'], [650, 'Spam'], [651, 'Non-Spam'], [651, 'Non-Spam'], [651, 'Non-Spam'], [652, 'Non-Spam'], [652, 'Non-Spam'], [652, 'Non-Spam'], [653, 'Non-Spam'], [653, 'Non-Spam'], [653, 'Non-Spam'], [654, 'Spam'], [654, 'Spam'], [654, 'Spam'], [655, 'Non-Spam'], [655, 'Non-Spam'], [655, 'Non-Spam'], [656, 'Non-Spam'], [656, 'Non-Spam'], [656, 'Non-Spam'], [657, 'Non-Spam'], [657, 'Non-Spam'], [657, 'Non-Spam'], [658, 'Non-Spam'], [658, 'Non-Spam'], [658, 'Non-Spam'], [659, 'Non-Spam'], [659, 'Non-Spam'], [659, 'Non-Spam'], [660, 'Non-Spam'], [660, 'Non-Spam'], [660, 'Non-Spam'], [661, 'Non-Spam'], [661, 'Non-Spam'], [661, 'Non-Spam'], [662, 'Spam'], [662, 'Spam'], [662, 'Spam'], [663, 'Non-Spam'], [663, 'Non-Spam'], [663, 'Non-Spam'], [664, 'Non-Spam'], [664, 'Non-Spam'], [664, 'Non-Spam'], [665, 'Spam'], [665, 'Spam'], [665, 'Spam'], [666, 'Non-Spam'], [666, 'Non-Spam'], [666, 'Non-Spam'], [667, 'Spam'], [667, 'Spam'], [667, 'Spam'], [668, 'Non-Spam'], [668, 'Non-Spam'], [668, 'Non-Spam'], [669, 'Non-Spam'], [669, 'Non-Spam'], [669, 'Non-Spam'], [670, 'Non-Spam'], [670, 'Non-Spam'], [670, 'Non-Spam'], [671, 'Non-Spam'], [671, 'Non-Spam'], [671, 'Non-Spam'], [672, 'Spam'], [672, 'Spam'], [672, 'Spam'], [673, 'Non-Spam'], [673, 'Non-Spam'], [673, 'Non-Spam'], [674, 'Non-Spam'], [674, 'Non-Spam'], [674, 'Non-Spam'], [675, 'Non-Spam'], [675, 'Non-Spam'], [675, 'Non-Spam'], [676, 'Non-Spam'], [676, 'Non-Spam'], [676, 'Non-Spam'], [677, 'Non-Spam'], [677, 'Non-Spam'], [677, 'Non-Spam'], [678, 'Non-Spam'], [678, 'Non-Spam'], [678, 'Non-Spam'], [679, 'Non-Spam'], [679, 'Non-Spam'], [679, 'Non-Spam'], [680, 'Spam'], [680, 'Spam'], [680, 'Spam'], [681, 'Non-Spam'], [681, 'Non-Spam'], [681, 'Non-Spam'], [682, 'Non-Spam'], [682, 'Non-Spam'], [682, 'Non-Spam'], [683, 'Non-Spam'], [683, 'Non-Spam'], [683, 'Non-Spam'], [684, 'Non-Spam'], [684, 'Non-Spam'], [684, 'Non-Spam'], [685, 'Non-Spam'], [685, 'Non-Spam'], [685, 'Non-Spam'], [686, 'Non-Spam'], [686, 'Non-Spam'], [686, 'Non-Spam'], [687, 'Non-Spam'], [687, 'Non-Spam'], [687, 'Non-Spam'], [688, 'Non-Spam'], [688, 'Non-Spam'], [688, 'Non-Spam'], [689, 'Spam'], [689, 'Spam'], [689, 'Spam'], [690, 'Non-Spam'], [690, 'Non-Spam'], [690, 'Non-Spam'], [691, 'Spam'], [691, 'Spam'], [691, 'Spam'], [692, 'Non-Spam'], [692, 'Non-Spam'], [692, 'Non-Spam'], [693, 'Non-Spam'], [693, 'Non-Spam'], [693, 'Non-Spam'], [694, 'Non-Spam'], [694, 'Non-Spam'], [694, 'Non-Spam'], [695, 'Non-Spam'], [695, 'Non-Spam'], [695, 'Non-Spam'], [696, 'Non-Spam'], [696, 'Non-Spam'], [696, 'Non-Spam'], [697, 'Non-Spam'], [697, 'Non-Spam'], [697, 'Non-Spam'], [698, 'Non-Spam'], [698, 'Non-Spam'], [698, 'Non-Spam'], [699, 'Non-Spam'], [699, 'Non-Spam'], [699, 'Non-Spam'], [700, 'Non-Spam'], [700, 'Non-Spam'], [700, 'Non-Spam'], [701, 'Non-Spam'], [701, 'Non-Spam'], [701, 'Non-Spam'], [702, 'Non-Spam'], [702, 'Non-Spam'], [702, 'Non-Spam'], [703, 'Non-Spam'], [703, 'Non-Spam'], [703, 'Non-Spam'], [704, 'Spam'], [704, 'Spam'], [704, 'Spam'], [705, 'Spam'], [705, 'Spam'], [705, 'Spam'], [706, 'Non-Spam'], [706, 'Non-Spam'], [706, 'Non-Spam'], [707, 'Non-Spam'], [707, 'Non-Spam'], [707, 'Non-Spam'], [708, 'Non-Spam'], [708, 'Non-Spam'], [708, 'Non-Spam'], [709, 'Non-Spam'], [709, 'Non-Spam'], [709, 'Non-Spam'], [710, 'Non-Spam'], [710, 'Non-Spam'], [710, 'Non-Spam'], [711, 'Non-Spam'], [711, 'Non-Spam'], [711, 'Non-Spam'], [712, 'Non-Spam'], [712, 'Non-Spam'], [712, 'Non-Spam'], [713, 'Non-Spam'], [713, 'Non-Spam'], [713, 'Non-Spam'], [714, 'Non-Spam'], [714, 'Non-Spam'], [714, 'Non-Spam'], [715, 'Non-Spam'], [715, 'Non-Spam'], [715, 'Non-Spam'], [716, 'Non-Spam'], [716, 'Non-Spam'], [716, 'Non-Spam'], [717, 'Non-Spam'], [717, 'Non-Spam'], [717, 'Non-Spam'], [718, 'Non-Spam'], [718, 'Non-Spam'], [718, 'Non-Spam'], [719, 'Non-Spam'], [719, 'Non-Spam'], [719, 'Non-Spam'], [720, 'Non-Spam'], [720, 'Non-Spam'], [720, 'Non-Spam'], [721, 'Non-Spam'], [721, 'Non-Spam'], [721, 'Non-Spam'], [722, 'Non-Spam'], [722, 'Non-Spam'], [722, 'Non-Spam'], [723, 'Spam'], [723, 'Spam'], [723, 'Spam'], [724, 'Non-Spam'], [724, 'Non-Spam'], [724, 'Non-Spam'], [725, 'Non-Spam'], [725, 'Non-Spam'], [725, 'Non-Spam'], [726, 'Non-Spam'], [726, 'Non-Spam'], [726, 'Non-Spam'], [727, 'Spam'], [727, 'Spam'], [727, 'Spam'], [728, 'Non-Spam'], [728, 'Non-Spam'], [728, 'Non-Spam'], [729, 'Non-Spam'], [729, 'Non-Spam'], [729, 'Non-Spam'], [730, 'Non-Spam'], [730, 'Non-Spam'], [730, 'Non-Spam'], [731, 'Non-Spam'], [731, 'Non-Spam'], [731, 'Non-Spam'], [732, 'Non-Spam'], [732, 'Non-Spam'], [732, 'Non-Spam'], [733, 'Non-Spam'], [733, 'Non-Spam'], [733, 'Non-Spam'], [734, 'Spam'], [734, 'Spam'], [734, 'Spam'], [735, 'Non-Spam'], [735, 'Non-Spam'], [735, 'Non-Spam'], [736, 'Non-Spam'], [736, 'Non-Spam'], [736, 'Non-Spam'], [737, 'Non-Spam'], [737, 'Non-Spam'], [737, 'Non-Spam'], [738, 'Non-Spam'], [738, 'Non-Spam'], [738, 'Non-Spam'], [739, 'Non-Spam'], [739, 'Non-Spam'], [739, 'Non-Spam'], [740, 'Non-Spam'], [740, 'Non-Spam'], [740, 'Non-Spam'], [741, 'Non-Spam'], [741, 'Non-Spam'], [741, 'Non-Spam'], [742, 'Non-Spam'], [742, 'Non-Spam'], [742, 'Non-Spam'], [743, 'Non-Spam'], [743, 'Non-Spam'], [743, 'Non-Spam'], [744, 'Non-Spam'], [744, 'Non-Spam'], [745, 'Spam'], [745, 'Spam'], [745, 'Spam'], [746, 'Non-Spam'], [746, 'Non-Spam'], [746, 'Non-Spam'], [747, 'Spam'], [747, 'Spam'], [747, 'Spam'], [748, 'Non-Spam'], [748, 'Non-Spam'], [748, 'Non-Spam'], [749, 'Non-Spam'], [749, 'Non-Spam'], [749, 'Non-Spam'], [750, 'Non-Spam'], [750, 'Non-Spam'], [750, 'Non-Spam'], [751, 'Non-Spam'], [751, 'Non-Spam'], [751, 'Non-Spam'], [752, 'Non-Spam'], [752, 'Non-Spam'], [752, 'Non-Spam'], [753, 'Non-Spam'], [753, 'Non-Spam'], [753, 'Non-Spam'], [754, 'Non-Spam'], [754, 'Non-Spam'], [754, 'Non-Spam'], [755, 'Non-Spam'], [755, 'Non-Spam'], [755, 'Non-Spam'], [756, 'Non-Spam'], [756, 'Non-Spam'], [756, 'Non-Spam'], [757, 'Non-Spam'], [757, 'Non-Spam'], [757, 'Non-Spam'], [758, 'Non-Spam'], [758, 'Non-Spam'], [758, 'Non-Spam'], [759, 'Non-Spam'], [759, 'Non-Spam'], [759, 'Non-Spam'], [760, 'Spam'], [760, 'Spam'], [760, 'Spam'], [761, 'Non-Spam'], [761, 'Non-Spam'], [761, 'Non-Spam'], [762, 'Non-Spam'], [762, 'Non-Spam'], [762, 'Non-Spam'], [763, 'Non-Spam'], [763, 'Non-Spam'], [763, 'Non-Spam'], [764, 'Non-Spam'], [764, 'Non-Spam'], [764, 'Non-Spam'], [765, 'Non-Spam'], [765, 'Non-Spam'], [765, 'Non-Spam'], [766, 'Non-Spam'], [766, 'Non-Spam'], [766, 'Non-Spam'], [767, 'Non-Spam'], [767, 'Non-Spam'], [767, 'Non-Spam'], [768, 'Non-Spam'], [768, 'Non-Spam'], [768, 'Non-Spam'], [769, 'Non-Spam'], [769, 'Non-Spam'], [769, 'Non-Spam'], [770, 'Spam'], [770, 'Spam'], [770, 'Spam'], [771, 'Spam'], [771, 'Spam'], [771, 'Spam'], [772, 'Non-Spam'], [772, 'Non-Spam'], [772, 'Non-Spam'], [773, 'Non-Spam'], [773, 'Non-Spam'], [773, 'Non-Spam'], [774, 'Non-Spam'], [774, 'Non-Spam'], [774, 'Non-Spam'], [775, 'Non-Spam'], [775, 'Non-Spam'], [775, 'Non-Spam'], [776, 'Non-Spam'], [776, 'Non-Spam'], [776, 'Non-Spam'], [777, 'Non-Spam'], [777, 'Non-Spam'], [777, 'Non-Spam'], [778, 'Non-Spam'], [778, 'Non-Spam'], [778, 'Non-Spam'], [779, 'Non-Spam'], [779, 'Non-Spam'], [779, 'Non-Spam'], [780, 'Non-Spam'], [780, 'Non-Spam'], [780, 'Non-Spam'], [781, 'Non-Spam'], [781, 'Non-Spam'], [781, 'Non-Spam'], [782, 'Spam'], [782, 'Spam'], [782, 'Spam'], [783, 'Non-Spam'], [783, 'Non-Spam'], [783, 'Non-Spam'], [784, 'Non-Spam'], [784, 'Non-Spam'], [784, 'Non-Spam'], [785, 'Non-Spam'], [785, 'Non-Spam'], [785, 'Non-Spam'], [786, 'Non-Spam'], [786, 'Non-Spam'], [786, 'Non-Spam'], [787, 'Non-Spam'], [787, 'Non-Spam'], [787, 'Non-Spam'], [788, 'Non-Spam'], [788, 'Non-Spam'], [788, 'Non-Spam'], [789, 'Non-Spam'], [789, 'Non-Spam'], [789, 'Non-Spam'], [790, 'Non-Spam'], [790, 'Non-Spam'], [790, 'Non-Spam'], [791, 'Non-Spam'], [791, 'Non-Spam'], [791, 'Non-Spam'], [792, 'Non-Spam'], [792, 'Non-Spam'], [792, 'Non-Spam'], [793, 'Non-Spam'], [793, 'Non-Spam'], [793, 'Non-Spam'], [794, 'Non-Spam'], [794, 'Non-Spam'], [794, 'Non-Spam'], [795, 'Non-Spam'], [795, 'Non-Spam'], [795, 'Non-Spam'], [796, 'Non-Spam'], [796, 'Non-Spam'], [796, 'Non-Spam'], [797, 'Non-Spam'], [797, 'Non-Spam'], [797, 'Non-Spam'], [798, 'Non-Spam'], [798, 'Non-Spam'], [798, 'Non-Spam'], [799, 'Non-Spam'], [799, 'Non-Spam'], [799, 'Non-Spam'], [800, 'Spam'], [800, 'Spam'], [800, 'Spam'], [801, 'Non-Spam'], [801, 'Non-Spam'], [801, 'Non-Spam'], [802, 'Non-Spam'], [802, 'Non-Spam'], [802, 'Non-Spam'], [803, 'Non-Spam'], [803, 'Non-Spam'], [803, 'Non-Spam'], [804, 'Non-Spam'], [804, 'Non-Spam'], [804, 'Non-Spam'], [805, 'Non-Spam'], [805, 'Non-Spam'], [805, 'Non-Spam'], [806, 'Non-Spam'], [806, 'Non-Spam'], [806, 'Non-Spam'], [807, 'Non-Spam'], [807, 'Non-Spam'], [807, 'Non-Spam'], [808, 'Spam'], [808, 'Spam'], [808, 'Spam'], [809, 'Spam'], [809, 'Spam'], [809, 'Spam'], [810, 'Non-Spam'], [810, 'Non-Spam'], [810, 'Non-Spam'], [811, 'Non-Spam'], [811, 'Non-Spam'], [811, 'Non-Spam'], [812, 'Non-Spam'], [812, 'Non-Spam'], [812, 'Non-Spam'], [813, 'Non-Spam'], [813, 'Non-Spam'], [813, 'Non-Spam'], [814, 'Spam'], [814, 'Spam'], [814, 'Spam'], [815, 'Non-Spam'], [815, 'Non-Spam'], [815, 'Non-Spam'], [816, 'Spam'], [816, 'Spam'], [816, 'Spam'], [817, 'Non-Spam'], [817, 'Non-Spam'], [817, 'Non-Spam'], [818, 'Non-Spam'], [818, 'Non-Spam'], [818, 'Non-Spam'], [819, 'Non-Spam'], [819, 'Non-Spam'], [819, 'Non-Spam'], [820, 'Non-Spam'], [820, 'Non-Spam'], [820, 'Non-Spam'], [821, 'Non-Spam'], [821, 'Non-Spam'], [821, 'Non-Spam'], [822, 'Spam'], [822, 'Spam'], [822, 'Spam'], [823, 'Non-Spam'], [823, 'Non-Spam'], [823, 'Non-Spam'], [824, 'Non-Spam'], [824, 'Non-Spam'], [824, 'Non-Spam'], [825, 'Non-Spam'], [825, 'Non-Spam'], [825, 'Non-Spam'], [826, 'Non-Spam'], [826, 'Non-Spam'], [826, 'Non-Spam'], [827, 'Non-Spam'], [827, 'Non-Spam'], [827, 'Non-Spam'], [828, 'Non-Spam'], [828, 'Non-Spam'], [828, 'Non-Spam'], [829, 'Non-Spam'], [829, 'Non-Spam'], [829, 'Non-Spam'], [830, 'Non-Spam'], [830, 'Non-Spam'], [830, 'Non-Spam'], [831, 'Non-Spam'], [831, 'Non-Spam'], [831, 'Non-Spam'], [832, 'Non-Spam'], [832, 'Non-Spam'], [832, 'Non-Spam'], [833, 'Spam'], [833, 'Spam'], [833, 'Spam'], [834, 'Non-Spam'], [834, 'Non-Spam'], [834, 'Non-Spam'], [835, 'Non-Spam'], [835, 'Non-Spam'], [835, 'Non-Spam'], [836, 'Non-Spam'], [836, 'Non-Spam'], [836, 'Non-Spam'], [837, 'Non-Spam'], [837, 'Non-Spam'], [837, 'Non-Spam'], [838, 'Non-Spam'], [838, 'Non-Spam'], [838, 'Non-Spam'], [839, 'Non-Spam'], [839, 'Non-Spam'], [839, 'Non-Spam'], [840, 'Spam'], [840, 'Spam'], [840, 'Spam'], [841, 'Non-Spam'], [841, 'Non-Spam'], [841, 'Non-Spam'], [842, 'Non-Spam'], [842, 'Non-Spam'], [842, 'Non-Spam'], [843, 'Spam'], [843, 'Spam'], [843, 'Spam'], [844, 'Non-Spam'], [844, 'Non-Spam'], [844, 'Non-Spam'], [845, 'Non-Spam'], [845, 'Non-Spam'], [845, 'Non-Spam'], [846, 'Non-Spam'], [846, 'Non-Spam'], [846, 'Non-Spam'], [847, 'Non-Spam'], [847, 'Non-Spam'], [847, 'Non-Spam'], [848, 'Non-Spam'], [848, 'Non-Spam'], [848, 'Non-Spam'], [849, 'Non-Spam'], [849, 'Non-Spam'], [849, 'Non-Spam'], [850, 'Non-Spam'], [850, 'Non-Spam'], [850, 'Non-Spam'], [851, 'Non-Spam'], [851, 'Non-Spam'], [851, 'Non-Spam'], [852, 'Non-Spam'], [852, 'Non-Spam'], [852, 'Non-Spam'], [853, 'Non-Spam'], [853, 'Non-Spam'], [853, 'Non-Spam'], [854, 'Non-Spam'], [854, 'Non-Spam'], [854, 'Non-Spam'], [855, 'Non-Spam'], [855, 'Non-Spam'], [855, 'Non-Spam'], [856, 'Non-Spam'], [856, 'Non-Spam'], [856, 'Non-Spam'], [857, 'Non-Spam'], [857, 'Non-Spam'], [857, 'Non-Spam'], [858, 'Non-Spam'], [858, 'Non-Spam'], [858, 'Non-Spam'], [859, 'Non-Spam'], [859, 'Non-Spam'], [859, 'Non-Spam'], [860, 'Non-Spam'], [860, 'Non-Spam'], [860, 'Non-Spam'], [861, 'Non-Spam'], [861, 'Non-Spam'], [861, 'Non-Spam'], [862, 'Non-Spam'], [862, 'Non-Spam'], [863, 'Non-Spam'], [863, 'Non-Spam'], [863, 'Non-Spam'], [864, 'Non-Spam'], [864, 'Non-Spam'], [864, 'Non-Spam'], [865, 'Non-Spam'], [865, 'Non-Spam'], [866, 'Non-Spam'], [866, 'Non-Spam'], [866, 'Non-Spam'], [867, 'Spam'], [867, 'Spam'], [867, 'Spam'], [868, 'Non-Spam'], [868, 'Non-Spam'], [868, 'Non-Spam'], [869, 'Non-Spam'], [869, 'Non-Spam'], [869, 'Non-Spam'], [870, 'Non-Spam'], [870, 'Non-Spam'], [870, 'Non-Spam'], [871, 'Non-Spam'], [871, 'Non-Spam'], [871, 'Non-Spam'], [872, 'Spam'], [872, 'Spam'], [872, 'Spam'], [873, 'Non-Spam'], [873, 'Non-Spam'], [873, 'Non-Spam'], [874, 'Non-Spam'], [874, 'Non-Spam'], [874, 'Non-Spam'], [875, 'Non-Spam'], [875, 'Non-Spam'], [875, 'Non-Spam'], [876, 'Non-Spam'], [876, 'Non-Spam'], [876, 'Non-Spam'], [877, 'Non-Spam'], [877, 'Non-Spam'], [877, 'Non-Spam'], [878, 'Non-Spam'], [878, 'Non-Spam'], [878, 'Non-Spam'], [879, 'Non-Spam'], [879, 'Non-Spam'], [879, 'Non-Spam'], [880, 'Non-Spam'], [880, 'Non-Spam'], [880, 'Non-Spam'], [881, 'Non-Spam'], [881, 'Non-Spam'], [881, 'Non-Spam'], [882, 'Non-Spam'], [882, 'Non-Spam'], [882, 'Non-Spam'], [883, 'Non-Spam'], [883, 'Non-Spam'], [883, 'Non-Spam'], [884, 'Non-Spam'], [884, 'Non-Spam'], [884, 'Non-Spam'], [885, 'Non-Spam'], [885, 'Non-Spam'], [885, 'Non-Spam'], [886, 'Non-Spam'], [886, 'Non-Spam'], [886, 'Non-Spam'], [887, 'Non-Spam'], [887, 'Non-Spam'], [887, 'Non-Spam'], [888, 'Non-Spam'], [888, 'Non-Spam'], [888, 'Non-Spam'], [889, 'Non-Spam'], [889, 'Non-Spam'], [889, 'Non-Spam'], [890, 'Non-Spam'], [890, 'Non-Spam'], [890, 'Non-Spam'], [891, 'Non-Spam'], [891, 'Non-Spam'], [891, 'Non-Spam'], [892, 'Spam'], [892, 'Spam'], [892, 'Spam'], [893, 'Non-Spam'], [893, 'Non-Spam'], [893, 'Non-Spam'], [894, 'Non-Spam'], [894, 'Non-Spam'], [894, 'Non-Spam'], [895, 'Spam'], [895, 'Spam'], [895, 'Spam'], [896, 'Non-Spam'], [896, 'Non-Spam'], [896, 'Non-Spam'], [897, 'Non-Spam'], [897, 'Non-Spam'], [897, 'Non-Spam'], [898, 'Non-Spam'], [898, 'Non-Spam'], [898, 'Non-Spam'], [899, 'Non-Spam'], [899, 'Non-Spam'], [899, 'Non-Spam'], [900, 'Non-Spam'], [900, 'Non-Spam'], [900, 'Non-Spam'], [901, 'Non-Spam'], [901, 'Non-Spam'], [901, 'Non-Spam'], [902, 'Non-Spam'], [902, 'Non-Spam'], [902, 'Non-Spam'], [903, 'Non-Spam'], [903, 'Non-Spam'], [903, 'Non-Spam'], [904, 'Non-Spam'], [904, 'Non-Spam'], [904, 'Non-Spam'], [905, 'Non-Spam'], [905, 'Non-Spam'], [905, 'Non-Spam'], [906, 'Non-Spam'], [906, 'Non-Spam'], [907, 'Non-Spam'], [907, 'Non-Spam'], [907, 'Non-Spam'], [908, 'Non-Spam'], [908, 'Non-Spam'], [908, 'Non-Spam'], [909, 'Non-Spam'], [909, 'Non-Spam'], [909, 'Non-Spam'], [910, 'Spam'], [910, 'Spam'], [910, 'Spam'], [911, 'Non-Spam'], [911, 'Non-Spam'], [911, 'Non-Spam'], [912, 'Non-Spam'], [912, 'Non-Spam'], [912, 'Non-Spam'], [913, 'Non-Spam'], [913, 'Non-Spam'], [913, 'Non-Spam'], [914, 'Non-Spam'], [914, 'Non-Spam'], [914, 'Non-Spam'], [915, 'Non-Spam'], [915, 'Non-Spam'], [915, 'Non-Spam'], [916, 'Spam'], [916, 'Spam'], [916, 'Spam'], [917, 'Non-Spam'], [917, 'Non-Spam'], [917, 'Non-Spam'], [918, 'Non-Spam'], [918, 'Non-Spam'], [918, 'Non-Spam'], [919, 'Non-Spam'], [919, 'Non-Spam'], [919, 'Non-Spam'], [920, 'Non-Spam'], [920, 'Non-Spam'], [920, 'Non-Spam'], [921, 'Spam'], [921, 'Spam'], [921, 'Spam'], [922, 'Non-Spam'], [922, 'Non-Spam'], [922, 'Non-Spam'], [923, 'Non-Spam'], [923, 'Non-Spam'], [923, 'Non-Spam'], [924, 'Non-Spam'], [924, 'Non-Spam'], [924, 'Non-Spam'], [925, 'Spam'], [925, 'Spam'], [925, 'Spam'], [926, 'Non-Spam'], [926, 'Non-Spam'], [926, 'Non-Spam'], [927, 'Non-Spam'], [927, 'Non-Spam'], [927, 'Non-Spam'], [928, 'Non-Spam'], [928, 'Non-Spam'], [928, 'Non-Spam'], [929, 'Non-Spam'], [929, 'Non-Spam'], [929, 'Non-Spam'], [930, 'Non-Spam'], [930, 'Non-Spam'], [930, 'Non-Spam'], [931, 'Non-Spam'], [931, 'Non-Spam'], [931, 'Non-Spam'], [932, 'Non-Spam'], [932, 'Non-Spam'], [932, 'Non-Spam'], [933, 'Non-Spam'], [933, 'Non-Spam'], [933, 'Non-Spam'], [934, 'Non-Spam'], [934, 'Non-Spam'], [934, 'Non-Spam'], [935, 'Non-Spam'], [935, 'Non-Spam'], [935, 'Non-Spam'], [936, 'Non-Spam'], [936, 'Non-Spam'], [936, 'Non-Spam'], [937, 'Non-Spam'], [937, 'Non-Spam'], [937, 'Non-Spam'], [938, 'Non-Spam'], [938, 'Non-Spam'], [938, 'Non-Spam'], [939, 'Spam'], [939, 'Spam'], [939, 'Spam'], [940, 'Spam'], [940, 'Spam'], [940, 'Spam'], [941, 'Non-Spam'], [941, 'Non-Spam'], [941, 'Non-Spam'], [942, 'Non-Spam'], [942, 'Non-Spam'], [942, 'Non-Spam'], [943, 'Non-Spam'], [943, 'Non-Spam'], [943, 'Non-Spam'], [944, 'Non-Spam'], [944, 'Non-Spam'], [944, 'Non-Spam'], [945, 'Non-Spam'], [945, 'Non-Spam'], [945, 'Non-Spam'], [946, 'Non-Spam'], [946, 'Non-Spam'], [946, 'Non-Spam'], [947, 'Non-Spam'], [947, 'Non-Spam'], [947, 'Non-Spam'], [948, 'Non-Spam'], [948, 'Non-Spam'], [948, 'Non-Spam'], [949, 'Non-Spam'], [949, 'Non-Spam'], [949, 'Non-Spam'], [950, 'Non-Spam'], [950, 'Non-Spam'], [950, 'Non-Spam'], [951, 'Non-Spam'], [951, 'Non-Spam'], [951, 'Non-Spam'], [952, 'Spam'], [952, 'Spam'], [952, 'Spam'], [953, 'Non-Spam'], [953, 'Non-Spam'], [953, 'Non-Spam'], [954, 'Non-Spam'], [954, 'Non-Spam'], [954, 'Non-Spam'], [955, 'Non-Spam'], [955, 'Non-Spam'], [955, 'Non-Spam'], [956, 'Non-Spam'], [956, 'Non-Spam'], [956, 'Non-Spam'], [957, 'Non-Spam'], [957, 'Non-Spam'], [957, 'Non-Spam']]\n"
          ]
        },
        {
          "data": {
            "text/html": [
              "\n",
              "  <div id=\"df-0ad58621-37d4-490e-a69b-192c2905e5d1\">\n",
              "    <div class=\"colab-df-container\">\n",
              "      <div>\n",
              "<style scoped>\n",
              "    .dataframe tbody tr th:only-of-type {\n",
              "        vertical-align: middle;\n",
              "    }\n",
              "\n",
              "    .dataframe tbody tr th {\n",
              "        vertical-align: top;\n",
              "    }\n",
              "\n",
              "    .dataframe thead th {\n",
              "        text-align: right;\n",
              "    }\n",
              "</style>\n",
              "<table border=\"1\" class=\"dataframe\">\n",
              "  <thead>\n",
              "    <tr style=\"text-align: right;\">\n",
              "      <th></th>\n",
              "      <th>S. No.</th>\n",
              "      <th>Label</th>\n",
              "      <th>Message_body</th>\n",
              "    </tr>\n",
              "  </thead>\n",
              "  <tbody>\n",
              "    <tr>\n",
              "      <th>0</th>\n",
              "      <td>1</td>\n",
              "      <td>Non-Spam</td>\n",
              "      <td>rofl. its true to its list</td>\n",
              "    </tr>\n",
              "    <tr>\n",
              "      <th>1</th>\n",
              "      <td>1</td>\n",
              "      <td>Non-Spam</td>\n",
              "      <td>rofl. its authentic to its name</td>\n",
              "    </tr>\n",
              "    <tr>\n",
              "      <th>2</th>\n",
              "      <td>1</td>\n",
              "      <td>Non-Spam</td>\n",
              "      <td>rof. it's true to its name</td>\n",
              "    </tr>\n",
              "    <tr>\n",
              "      <th>3</th>\n",
              "      <td>2</td>\n",
              "      <td>Non-Spam</td>\n",
              "      <td>the guy did some crab but i acted like i'd be ...</td>\n",
              "    </tr>\n",
              "    <tr>\n",
              "      <th>4</th>\n",
              "      <td>2</td>\n",
              "      <td>Non-Spam</td>\n",
              "      <td>the guy did some bitching but i acted like i'd...</td>\n",
              "    </tr>\n",
              "  </tbody>\n",
              "</table>\n",
              "</div>\n",
              "      <button class=\"colab-df-convert\" onclick=\"convertToInteractive('df-0ad58621-37d4-490e-a69b-192c2905e5d1')\"\n",
              "              title=\"Convert this dataframe to an interactive table.\"\n",
              "              style=\"display:none;\">\n",
              "        \n",
              "  <svg xmlns=\"http://www.w3.org/2000/svg\" height=\"24px\"viewBox=\"0 0 24 24\"\n",
              "       width=\"24px\">\n",
              "    <path d=\"M0 0h24v24H0V0z\" fill=\"none\"/>\n",
              "    <path d=\"M18.56 5.44l.94 2.06.94-2.06 2.06-.94-2.06-.94-.94-2.06-.94 2.06-2.06.94zm-11 1L8.5 8.5l.94-2.06 2.06-.94-2.06-.94L8.5 2.5l-.94 2.06-2.06.94zm10 10l.94 2.06.94-2.06 2.06-.94-2.06-.94-.94-2.06-.94 2.06-2.06.94z\"/><path d=\"M17.41 7.96l-1.37-1.37c-.4-.4-.92-.59-1.43-.59-.52 0-1.04.2-1.43.59L10.3 9.45l-7.72 7.72c-.78.78-.78 2.05 0 2.83L4 21.41c.39.39.9.59 1.41.59.51 0 1.02-.2 1.41-.59l7.78-7.78 2.81-2.81c.8-.78.8-2.07 0-2.86zM5.41 20L4 18.59l7.72-7.72 1.47 1.35L5.41 20z\"/>\n",
              "  </svg>\n",
              "      </button>\n",
              "      \n",
              "  <style>\n",
              "    .colab-df-container {\n",
              "      display:flex;\n",
              "      flex-wrap:wrap;\n",
              "      gap: 12px;\n",
              "    }\n",
              "\n",
              "    .colab-df-convert {\n",
              "      background-color: #E8F0FE;\n",
              "      border: none;\n",
              "      border-radius: 50%;\n",
              "      cursor: pointer;\n",
              "      display: none;\n",
              "      fill: #1967D2;\n",
              "      height: 32px;\n",
              "      padding: 0 0 0 0;\n",
              "      width: 32px;\n",
              "    }\n",
              "\n",
              "    .colab-df-convert:hover {\n",
              "      background-color: #E2EBFA;\n",
              "      box-shadow: 0px 1px 2px rgba(60, 64, 67, 0.3), 0px 1px 3px 1px rgba(60, 64, 67, 0.15);\n",
              "      fill: #174EA6;\n",
              "    }\n",
              "\n",
              "    [theme=dark] .colab-df-convert {\n",
              "      background-color: #3B4455;\n",
              "      fill: #D2E3FC;\n",
              "    }\n",
              "\n",
              "    [theme=dark] .colab-df-convert:hover {\n",
              "      background-color: #434B5C;\n",
              "      box-shadow: 0px 1px 3px 1px rgba(0, 0, 0, 0.15);\n",
              "      filter: drop-shadow(0px 1px 2px rgba(0, 0, 0, 0.3));\n",
              "      fill: #FFFFFF;\n",
              "    }\n",
              "  </style>\n",
              "\n",
              "      <script>\n",
              "        const buttonEl =\n",
              "          document.querySelector('#df-0ad58621-37d4-490e-a69b-192c2905e5d1 button.colab-df-convert');\n",
              "        buttonEl.style.display =\n",
              "          google.colab.kernel.accessAllowed ? 'block' : 'none';\n",
              "\n",
              "        async function convertToInteractive(key) {\n",
              "          const element = document.querySelector('#df-0ad58621-37d4-490e-a69b-192c2905e5d1');\n",
              "          const dataTable =\n",
              "            await google.colab.kernel.invokeFunction('convertToInteractive',\n",
              "                                                     [key], {});\n",
              "          if (!dataTable) return;\n",
              "\n",
              "          const docLinkHtml = 'Like what you see? Visit the ' +\n",
              "            '<a target=\"_blank\" href=https://colab.research.google.com/notebooks/data_table.ipynb>data table notebook</a>'\n",
              "            + ' to learn more about interactive tables.';\n",
              "          element.innerHTML = '';\n",
              "          dataTable['output_type'] = 'display_data';\n",
              "          await google.colab.output.renderOutput(dataTable, element);\n",
              "          const docLink = document.createElement('div');\n",
              "          docLink.innerHTML = docLinkHtml;\n",
              "          element.appendChild(docLink);\n",
              "        }\n",
              "      </script>\n",
              "    </div>\n",
              "  </div>\n",
              "  "
            ],
            "text/plain": [
              "  S. No.     Label                                       Message_body\n",
              "0      1  Non-Spam                         rofl. its true to its list\n",
              "1      1  Non-Spam                    rofl. its authentic to its name\n",
              "2      1  Non-Spam                         rof. it's true to its name\n",
              "3      2  Non-Spam  the guy did some crab but i acted like i'd be ...\n",
              "4      2  Non-Spam  the guy did some bitching but i acted like i'd..."
            ]
          },
          "execution_count": 25,
          "metadata": {},
          "output_type": "execute_result"
        }
      ],
      "source": [
        "spam_classification_augment_data = augmentor.Augment(df2, 'Message_body')\n",
        "spam_classification_augment_data.head()"
      ]
    },
    {
      "cell_type": "code",
      "execution_count": null,
      "metadata": {
        "colab": {
          "base_uri": "https://localhost:8080/",
          "height": 36
        },
        "id": "Zf-pChzf0zEU",
        "outputId": "4418bd5d-c0d4-420b-92a9-386947d41396"
      },
      "outputs": [
        {
          "data": {
            "application/vnd.google.colaboratory.intrinsic+json": {
              "type": "string"
            },
            "text/plain": [
              "'Converted Sucessfully'"
            ]
          },
          "execution_count": 26,
          "metadata": {},
          "output_type": "execute_result"
        }
      ],
      "source": [
        "augmentor.dataframe_to_csv(spam_classification_augment_data, augmented_data_folder_path,'spam_classification_augmented_data.csv')"
      ]
    },
    {
      "cell_type": "markdown",
      "metadata": {
        "id": "ZrRcgiKfEv8S"
      },
      "source": [
        "### `Necessary Function for classification`"
      ]
    },
    {
      "cell_type": "code",
      "execution_count": null,
      "metadata": {
        "id": "lfUK6CiRFhya"
      },
      "outputs": [],
      "source": [
        "from sklearn.metrics import ConfusionMatrixDisplay\n",
        "from sklearn.metrics import RocCurveDisplay\n",
        "\n",
        "def divide_into_train_test(X, Y):\n",
        "  train_x, test_x, train_y, test_y = train_test_split(X, Y, test_size=0.2, random_state=0, stratify=Y)\n",
        "  return train_x, test_x, train_y, test_y\n",
        "\n",
        "def vectorize(train_x, test_x):\n",
        "  vectorizer = CountVectorizer()\n",
        "  vectorizer.fit(train_x)\n",
        "\n",
        "  train_x = vectorizer.transform(train_x)\n",
        "  test_x = vectorizer.transform(test_x)\n",
        "  return train_x, test_x\n",
        "\n",
        "def Plot_confusion_matrix(y_test, y_predict):\n",
        "  ConfusionMatrixDisplay.from_predictions(y_test, y_predict)\n",
        "  plt.show()\n",
        "\n",
        "def fit_multinomialnb_and_predict(train_x, train_y, test_x):\n",
        "  mnb = MultinomialNB()\n",
        "  clf = mnb.fit(train_x, train_y)\n",
        "  predicty = mnb.predict(test_x)\n",
        "\n",
        "  return predicty"
      ]
    },
    {
      "cell_type": "markdown",
      "metadata": {
        "id": "arOYYGNjLHYp"
      },
      "source": [
        "### `Prediction for spam classification on original data by using MutinomialNB`"
      ]
    },
    {
      "cell_type": "code",
      "execution_count": null,
      "metadata": {
        "colab": {
          "base_uri": "https://localhost:8080/"
        },
        "id": "vcrAigYNHicA",
        "outputId": "3f3c925b-1be2-4ff8-8fa3-64054cb7f402"
      },
      "outputs": [
        {
          "output_type": "execute_result",
          "data": {
            "text/plain": [
              "((765,), (192,), (765,), (192,))"
            ]
          },
          "metadata": {},
          "execution_count": 12
        }
      ],
      "source": [
        "X = df2['Message_body']\n",
        "Y = df2['Label']\n",
        "compare_x = []\n",
        "compare_y = []\n",
        "train_x, test_x, train_y, test_y = divide_into_train_test(X, Y)\n",
        "train_x.shape, test_x.shape, train_y.shape, test_y.shape"
      ]
    },
    {
      "cell_type": "code",
      "execution_count": null,
      "metadata": {
        "colab": {
          "base_uri": "https://localhost:8080/"
        },
        "id": "aI8O1cgoIF9a",
        "outputId": "a5d7ff00-7ed2-443c-9bcc-ca2037cfae52"
      },
      "outputs": [
        {
          "output_type": "execute_result",
          "data": {
            "text/plain": [
              "((765, 2509), (192, 2509))"
            ]
          },
          "metadata": {},
          "execution_count": 13
        }
      ],
      "source": [
        "train_x, test_x = vectorize(train_x, test_x)\n",
        "train_x.shape, test_x.shape"
      ]
    },
    {
      "cell_type": "code",
      "execution_count": null,
      "metadata": {
        "colab": {
          "base_uri": "https://localhost:8080/"
        },
        "id": "iEHW_nM0IvEq",
        "outputId": "abc094d8-2418-463d-cad0-881a07416ee4"
      },
      "outputs": [
        {
          "output_type": "stream",
          "name": "stdout",
          "text": [
            "Accuracy of orginal Dataframe by using MultinomialNB: 96.35416666666666 %\n"
          ]
        }
      ],
      "source": [
        "predicty_original_df= fit_multinomialnb_and_predict(train_x, train_y, test_x)\n",
        "accuracy_original = accuracy_score(test_y, predicty_original_df)\n",
        "print(\"Accuracy of orginal Dataframe by using MultinomialNB: {} %\".format(accuracy_original*100))\n",
        "compare_x.append(train_x.shape[0])\n",
        "compare_y.append(accuracy_original)"
      ]
    },
    {
      "cell_type": "code",
      "execution_count": null,
      "metadata": {
        "colab": {
          "base_uri": "https://localhost:8080/",
          "height": 279
        },
        "id": "34fFob5OJpO4",
        "outputId": "347aac46-b6e1-4711-e06e-cae9ac23c100"
      },
      "outputs": [
        {
          "output_type": "display_data",
          "data": {
            "text/plain": [
              "<Figure size 432x288 with 2 Axes>"
            ],
            "image/png": "[encoded data removed]"
          },
          "metadata": {
            "needs_background": "light"
          }
        }
      ],
      "source": [
        "Plot_confusion_matrix(test_y, predicty_original_df)"
      ]
    },
    {
      "cell_type": "markdown",
      "metadata": {
        "id": "WCXLiKhULVyZ"
      },
      "source": [
        "### `Prediction for spam classification on augmented data by using MultinomialNB`"
      ]
    },
    {
      "cell_type": "code",
      "execution_count": null,
      "metadata": {
        "id": "SisU_zlMK0Yk"
      },
      "outputs": [],
      "source": [
        "spam_augmented_df = pd.read_csv('/content/drive/MyDrive/Colab Notebooks/Pattern Lab/Text Augmentation/Augmented Data/spam_classification_augmented_data.csv', na_values='?')"
      ]
    },
    {
      "cell_type": "code",
      "execution_count": null,
      "metadata": {
        "colab": {
          "base_uri": "https://localhost:8080/"
        },
        "id": "IHcObaSsLh8A",
        "outputId": "7ab3ac74-5c87-4334-95f8-bc95b5786726"
      },
      "outputs": [
        {
          "output_type": "execute_result",
          "data": {
            "text/plain": [
              "((2291,), (573,), (2291,), (573,))"
            ]
          },
          "metadata": {},
          "execution_count": 17
        }
      ],
      "source": [
        "X = spam_augmented_df['Message_body']\n",
        "Y = spam_augmented_df['Label']\n",
        "train_x, test_x, train_y, test_y = divide_into_train_test(X, Y)\n",
        "train_x.shape, test_x.shape, train_y.shape, test_y.shape"
      ]
    },
    {
      "cell_type": "code",
      "execution_count": null,
      "metadata": {
        "colab": {
          "base_uri": "https://localhost:8080/"
        },
        "id": "uwPDHhUkLwJI",
        "outputId": "9e73b2e9-f969-477c-c7cf-d93b8aeaa570"
      },
      "outputs": [
        {
          "output_type": "execute_result",
          "data": {
            "text/plain": [
              "((2291, 4418), (573, 4418))"
            ]
          },
          "metadata": {},
          "execution_count": 18
        }
      ],
      "source": [
        "train_x, test_x = vectorize(train_x, test_x)\n",
        "train_x.shape, test_x.shape"
      ]
    },
    {
      "cell_type": "code",
      "execution_count": null,
      "metadata": {
        "colab": {
          "base_uri": "https://localhost:8080/"
        },
        "id": "CD48x3kRL4iT",
        "outputId": "3c299a1a-7961-41cd-cb6e-49b87c17c95b"
      },
      "outputs": [
        {
          "output_type": "stream",
          "name": "stdout",
          "text": [
            "Accuracy of augmented Dataframe by using MultinomialNB: 98.77835951134381 %\n"
          ]
        }
      ],
      "source": [
        "predicty_augment_df = fit_multinomialnb_and_predict(train_x, train_y, test_x)\n",
        "accuracy_augmented = accuracy_score(test_y, predicty_augment_df)\n",
        "print(\"Accuracy of augmented Dataframe by using MultinomialNB: {} %\".format(accuracy_augmented*100))\n",
        "compare_x.append(train_x.shape[0])\n",
        "compare_y.append(accuracy_augmented)"
      ]
    },
    {
      "cell_type": "code",
      "execution_count": null,
      "metadata": {
        "colab": {
          "base_uri": "https://localhost:8080/",
          "height": 279
        },
        "id": "MEA31IreMbz2",
        "outputId": "ccf5b2ae-6a1a-48f7-bbaf-121104fc3748"
      },
      "outputs": [
        {
          "output_type": "display_data",
          "data": {
            "text/plain": [
              "<Figure size 432x288 with 2 Axes>"
            ],
            "image/png": "[encoded data removed]"
          },
          "metadata": {
            "needs_background": "light"
          }
        }
      ],
      "source": [
        "Plot_confusion_matrix(test_y, predicty_augment_df)"
      ]
    },
    {
      "cell_type": "markdown",
      "source": [
        "### `Prediction for spam classification on original data and augmented data by using MultinomialNB`\n",
        "\n"
      ],
      "metadata": {
        "id": "mE7-f5u-s9UR"
      }
    },
    {
      "cell_type": "code",
      "source": [
        "concatdf = pd.concat([df2, spam_augmented_df])\n",
        "concatdf.shape"
      ],
      "metadata": {
        "colab": {
          "base_uri": "https://localhost:8080/"
        },
        "id": "AggSdlrqq3vp",
        "outputId": "d069f13a-a37f-45e6-8096-62d6eb74a329"
      },
      "execution_count": null,
      "outputs": [
        {
          "output_type": "execute_result",
          "data": {
            "text/plain": [
              "(3821, 4)"
            ]
          },
          "metadata": {},
          "execution_count": 21
        }
      ]
    },
    {
      "cell_type": "code",
      "source": [
        "X = concatdf['Message_body']\n",
        "Y = concatdf['Label']\n",
        "train_x, test_x, train_y, test_y = divide_into_train_test(X, Y)\n",
        "train_x.shape, test_x.shape, train_y.shape, test_y.shape"
      ],
      "metadata": {
        "colab": {
          "base_uri": "https://localhost:8080/"
        },
        "id": "PnnISbcWsGa7",
        "outputId": "347e13ff-752c-4cae-c981-1e9dafb51c4e"
      },
      "execution_count": null,
      "outputs": [
        {
          "output_type": "execute_result",
          "data": {
            "text/plain": [
              "((3056,), (765,), (3056,), (765,))"
            ]
          },
          "metadata": {},
          "execution_count": 22
        }
      ]
    },
    {
      "cell_type": "code",
      "source": [
        "train_x, test_x = vectorize(train_x, test_x)\n",
        "train_x.shape, test_x.shape"
      ],
      "metadata": {
        "colab": {
          "base_uri": "https://localhost:8080/"
        },
        "id": "BzHPMlLWshHZ",
        "outputId": "17a7f49a-a879-4a77-d07a-f3db1a39c42f"
      },
      "execution_count": null,
      "outputs": [
        {
          "output_type": "execute_result",
          "data": {
            "text/plain": [
              "((3056, 4429), (765, 4429))"
            ]
          },
          "metadata": {},
          "execution_count": 23
        }
      ]
    },
    {
      "cell_type": "code",
      "source": [
        "predicty_augment_df = fit_multinomialnb_and_predict(train_x, train_y, test_x)\n",
        "accuracy_augmented = accuracy_score(test_y, predicty_augment_df)\n",
        "print(\"Accuracy of augmented Dataframe by using MultinomialNB: {} %\".format(accuracy_augmented*100))\n",
        "compare_x.append(train_x.shape[0])\n",
        "compare_y.append(accuracy_augmented)"
      ],
      "metadata": {
        "colab": {
          "base_uri": "https://localhost:8080/"
        },
        "id": "UOdz2GgDsjie",
        "outputId": "38f5bb69-6eb3-4a83-b24f-bd435186f6eb"
      },
      "execution_count": null,
      "outputs": [
        {
          "output_type": "stream",
          "name": "stdout",
          "text": [
            "Accuracy of augmented Dataframe by using MultinomialNB: 99.2156862745098 %\n"
          ]
        }
      ]
    },
    {
      "cell_type": "code",
      "source": [
        "Plot_confusion_matrix(test_y, predicty_augment_df)"
      ],
      "metadata": {
        "colab": {
          "base_uri": "https://localhost:8080/",
          "height": 279
        },
        "id": "od2Gr-S_sS7w",
        "outputId": "a78ad9e9-dff8-4cb1-8b39-8dfb1a9ffa23"
      },
      "execution_count": null,
      "outputs": [
        {
          "output_type": "display_data",
          "data": {
            "text/plain": [
              "<Figure size 432x288 with 2 Axes>"
            ],
            "image/png": "[encoded data removed]"
          },
          "metadata": {
            "needs_background": "light"
          }
        }
      ]
    },
    {
      "cell_type": "markdown",
      "source": [
        "### `Comparision for spam classification`"
      ],
      "metadata": {
        "id": "Xa9CLlD2wMXQ"
      }
    },
    {
      "cell_type": "code",
      "execution_count": null,
      "metadata": {
        "colab": {
          "base_uri": "https://localhost:8080/",
          "height": 283
        },
        "id": "1bk9ki5e4hqZ",
        "outputId": "a2874326-1737-4b6d-9440-7a628b46d0ce"
      },
      "outputs": [
        {
          "output_type": "display_data",
          "data": {
            "text/plain": [
              "<Figure size 432x288 with 2 Axes>"
            ],
            "image/png": "[encoded data removed]"
          },
          "metadata": {
            "needs_background": "light"
          }
        }
      ],
      "source": [
        "plt.scatter(compare_x, compare_y, s=100)\n",
        "plt.plot(compare_x, compare_y)\n",
        "plt.colorbar()\n",
        "plt.xlabel('Number of Data')\n",
        "plt.ylabel('Accuracy ')\n",
        "plt.show()"
      ]
    },
    {
      "cell_type": "markdown",
      "source": [
        "### `Twitter text sentiment analysis `\n",
        "\n",
        "\n",
        "\n"
      ],
      "metadata": {
        "id": "3uKJAnxgwurO"
      }
    },
    {
      "cell_type": "code",
      "source": [
        "twitter_df = pd.read_csv('/content/drive/MyDrive/Colab Notebooks/Pattern Lab/Text Augmentation/Dataset/Corona_NLP_train.csv', encoding='cp850', na_values='?')\n",
        "twitter_df.head()"
      ],
      "metadata": {
        "colab": {
          "base_uri": "https://localhost:8080/",
          "height": 206
        },
        "id": "hN2bbDSLrGNz",
        "outputId": "48b11974-542c-4ccc-ba88-47a72d949d4a"
      },
      "execution_count": null,
      "outputs": [
        {
          "output_type": "execute_result",
          "data": {
            "text/plain": [
              "   UserName  ScreenName   Location     TweetAt  \\\n",
              "0      3799       48751     London  16-03-2020   \n",
              "1      3800       48752         UK  16-03-2020   \n",
              "2      3801       48753  Vagabonds  16-03-2020   \n",
              "3      3802       48754        NaN  16-03-2020   \n",
              "4      3803       48755        NaN  16-03-2020   \n",
              "\n",
              "                                       OriginalTweet           Sentiment  \n",
              "0  @MeNyrbie @Phil_Gahan @Chrisitv https://t.co/i...             Neutral  \n",
              "1  advice Talk to your neighbours family to excha...            Positive  \n",
              "2  Coronavirus Australia: Woolworths to give elde...            Positive  \n",
              "3  My food stock is not the only one which is emp...            Positive  \n",
              "4  Me, ready to go at supermarket during the #COV...  Extremely Negative  "
            ],
            "text/html": [
              "\n",
              "  <div id=\"df-ecd7f211-84cf-4367-a932-3eb715074f3e\">\n",
              "    <div class=\"colab-df-container\">\n",
              "      <div>\n",
              "<style scoped>\n",
              "    .dataframe tbody tr th:only-of-type {\n",
              "        vertical-align: middle;\n",
              "    }\n",
              "\n",
              "    .dataframe tbody tr th {\n",
              "        vertical-align: top;\n",
              "    }\n",
              "\n",
              "    .dataframe thead th {\n",
              "        text-align: right;\n",
              "    }\n",
              "</style>\n",
              "<table border=\"1\" class=\"dataframe\">\n",
              "  <thead>\n",
              "    <tr style=\"text-align: right;\">\n",
              "      <th></th>\n",
              "      <th>UserName</th>\n",
              "      <th>ScreenName</th>\n",
              "      <th>Location</th>\n",
              "      <th>TweetAt</th>\n",
              "      <th>OriginalTweet</th>\n",
              "      <th>Sentiment</th>\n",
              "    </tr>\n",
              "  </thead>\n",
              "  <tbody>\n",
              "    <tr>\n",
              "      <th>0</th>\n",
              "      <td>3799</td>\n",
              "      <td>48751</td>\n",
              "      <td>London</td>\n",
              "      <td>16-03-2020</td>\n",
              "      <td>@MeNyrbie @Phil_Gahan @Chrisitv https://t.co/i...</td>\n",
              "      <td>Neutral</td>\n",
              "    </tr>\n",
              "    <tr>\n",
              "      <th>1</th>\n",
              "      <td>3800</td>\n",
              "      <td>48752</td>\n",
              "      <td>UK</td>\n",
              "      <td>16-03-2020</td>\n",
              "      <td>advice Talk to your neighbours family to excha...</td>\n",
              "      <td>Positive</td>\n",
              "    </tr>\n",
              "    <tr>\n",
              "      <th>2</th>\n",
              "      <td>3801</td>\n",
              "      <td>48753</td>\n",
              "      <td>Vagabonds</td>\n",
              "      <td>16-03-2020</td>\n",
              "      <td>Coronavirus Australia: Woolworths to give elde...</td>\n",
              "      <td>Positive</td>\n",
              "    </tr>\n",
              "    <tr>\n",
              "      <th>3</th>\n",
              "      <td>3802</td>\n",
              "      <td>48754</td>\n",
              "      <td>NaN</td>\n",
              "      <td>16-03-2020</td>\n",
              "      <td>My food stock is not the only one which is emp...</td>\n",
              "      <td>Positive</td>\n",
              "    </tr>\n",
              "    <tr>\n",
              "      <th>4</th>\n",
              "      <td>3803</td>\n",
              "      <td>48755</td>\n",
              "      <td>NaN</td>\n",
              "      <td>16-03-2020</td>\n",
              "      <td>Me, ready to go at supermarket during the #COV...</td>\n",
              "      <td>Extremely Negative</td>\n",
              "    </tr>\n",
              "  </tbody>\n",
              "</table>\n",
              "</div>\n",
              "      <button class=\"colab-df-convert\" onclick=\"convertToInteractive('df-ecd7f211-84cf-4367-a932-3eb715074f3e')\"\n",
              "              title=\"Convert this dataframe to an interactive table.\"\n",
              "              style=\"display:none;\">\n",
              "        \n",
              "  <svg xmlns=\"http://www.w3.org/2000/svg\" height=\"24px\"viewBox=\"0 0 24 24\"\n",
              "       width=\"24px\">\n",
              "    <path d=\"M0 0h24v24H0V0z\" fill=\"none\"/>\n",
              "    <path d=\"M18.56 5.44l.94 2.06.94-2.06 2.06-.94-2.06-.94-.94-2.06-.94 2.06-2.06.94zm-11 1L8.5 8.5l.94-2.06 2.06-.94-2.06-.94L8.5 2.5l-.94 2.06-2.06.94zm10 10l.94 2.06.94-2.06 2.06-.94-2.06-.94-.94-2.06-.94 2.06-2.06.94z\"/><path d=\"M17.41 7.96l-1.37-1.37c-.4-.4-.92-.59-1.43-.59-.52 0-1.04.2-1.43.59L10.3 9.45l-7.72 7.72c-.78.78-.78 2.05 0 2.83L4 21.41c.39.39.9.59 1.41.59.51 0 1.02-.2 1.41-.59l7.78-7.78 2.81-2.81c.8-.78.8-2.07 0-2.86zM5.41 20L4 18.59l7.72-7.72 1.47 1.35L5.41 20z\"/>\n",
              "  </svg>\n",
              "      </button>\n",
              "      \n",
              "  <style>\n",
              "    .colab-df-container {\n",
              "      display:flex;\n",
              "      flex-wrap:wrap;\n",
              "      gap: 12px;\n",
              "    }\n",
              "\n",
              "    .colab-df-convert {\n",
              "      background-color: #E8F0FE;\n",
              "      border: none;\n",
              "      border-radius: 50%;\n",
              "      cursor: pointer;\n",
              "      display: none;\n",
              "      fill: #1967D2;\n",
              "      height: 32px;\n",
              "      padding: 0 0 0 0;\n",
              "      width: 32px;\n",
              "    }\n",
              "\n",
              "    .colab-df-convert:hover {\n",
              "      background-color: #E2EBFA;\n",
              "      box-shadow: 0px 1px 2px rgba(60, 64, 67, 0.3), 0px 1px 3px 1px rgba(60, 64, 67, 0.15);\n",
              "      fill: #174EA6;\n",
              "    }\n",
              "\n",
              "    [theme=dark] .colab-df-convert {\n",
              "      background-color: #3B4455;\n",
              "      fill: #D2E3FC;\n",
              "    }\n",
              "\n",
              "    [theme=dark] .colab-df-convert:hover {\n",
              "      background-color: #434B5C;\n",
              "      box-shadow: 0px 1px 3px 1px rgba(0, 0, 0, 0.15);\n",
              "      filter: drop-shadow(0px 1px 2px rgba(0, 0, 0, 0.3));\n",
              "      fill: #FFFFFF;\n",
              "    }\n",
              "  </style>\n",
              "\n",
              "      <script>\n",
              "        const buttonEl =\n",
              "          document.querySelector('#df-ecd7f211-84cf-4367-a932-3eb715074f3e button.colab-df-convert');\n",
              "        buttonEl.style.display =\n",
              "          google.colab.kernel.accessAllowed ? 'block' : 'none';\n",
              "\n",
              "        async function convertToInteractive(key) {\n",
              "          const element = document.querySelector('#df-ecd7f211-84cf-4367-a932-3eb715074f3e');\n",
              "          const dataTable =\n",
              "            await google.colab.kernel.invokeFunction('convertToInteractive',\n",
              "                                                     [key], {});\n",
              "          if (!dataTable) return;\n",
              "\n",
              "          const docLinkHtml = 'Like what you see? Visit the ' +\n",
              "            '<a target=\"_blank\" href=https://colab.research.google.com/notebooks/data_table.ipynb>data table notebook</a>'\n",
              "            + ' to learn more about interactive tables.';\n",
              "          element.innerHTML = '';\n",
              "          dataTable['output_type'] = 'display_data';\n",
              "          await google.colab.output.renderOutput(dataTable, element);\n",
              "          const docLink = document.createElement('div');\n",
              "          docLink.innerHTML = docLinkHtml;\n",
              "          element.appendChild(docLink);\n",
              "        }\n",
              "      </script>\n",
              "    </div>\n",
              "  </div>\n",
              "  "
            ]
          },
          "metadata": {},
          "execution_count": 27
        }
      ]
    },
    {
      "cell_type": "code",
      "source": [
        "from sklearn.utils import shuffle\n",
        "twitter_df = shuffle(twitter_df.iloc[:2000, :])\n",
        "twitter_df = replace_null(twitter_df)\n",
        "twitter_df['OriginalTweet'] = twitter_df['OriginalTweet'].apply(pre_processing)\n",
        "twitter_df.head()"
      ],
      "metadata": {
        "colab": {
          "base_uri": "https://localhost:8080/",
          "height": 206
        },
        "id": "ZAV9aSMLsSTD",
        "outputId": "d8ddf51a-e2a2-46c0-d4f1-66d7d74ab059"
      },
      "execution_count": null,
      "outputs": [
        {
          "output_type": "execute_result",
          "data": {
            "text/plain": [
              "      UserName  ScreenName                Location     TweetAt  \\\n",
              "620       4419       49371                Malaysia  16-03-2020   \n",
              "637       4436       49388         Indianapolis IN  16-03-2020   \n",
              "1068      4867       49819             Los angeles  17-03-2020   \n",
              "293       4092       49044             Chicago, IL  16-03-2020   \n",
              "882       4681       49633  Turfloop, South Africa  17-03-2020   \n",
              "\n",
              "                                          OriginalTweet           Sentiment  \n",
              "620   if i don't die bc of covid-, i'll die from the...  Extremely Negative  \n",
              "637   is #coronavirus making @realdonaldtrump look b...            Positive  \n",
              "1068  only  people allowed in the grocery store at a...             Neutral  \n",
              "293   on #owhealth: times of turmoil allow for the f...            Positive  \n",
              "882   south africa is not going to run out of food h...            Negative  "
            ],
            "text/html": [
              "\n",
              "  <div id=\"df-db43649c-5b20-436b-b090-f5a15439d4e8\">\n",
              "    <div class=\"colab-df-container\">\n",
              "      <div>\n",
              "<style scoped>\n",
              "    .dataframe tbody tr th:only-of-type {\n",
              "        vertical-align: middle;\n",
              "    }\n",
              "\n",
              "    .dataframe tbody tr th {\n",
              "        vertical-align: top;\n",
              "    }\n",
              "\n",
              "    .dataframe thead th {\n",
              "        text-align: right;\n",
              "    }\n",
              "</style>\n",
              "<table border=\"1\" class=\"dataframe\">\n",
              "  <thead>\n",
              "    <tr style=\"text-align: right;\">\n",
              "      <th></th>\n",
              "      <th>UserName</th>\n",
              "      <th>ScreenName</th>\n",
              "      <th>Location</th>\n",
              "      <th>TweetAt</th>\n",
              "      <th>OriginalTweet</th>\n",
              "      <th>Sentiment</th>\n",
              "    </tr>\n",
              "  </thead>\n",
              "  <tbody>\n",
              "    <tr>\n",
              "      <th>620</th>\n",
              "      <td>4419</td>\n",
              "      <td>49371</td>\n",
              "      <td>Malaysia</td>\n",
              "      <td>16-03-2020</td>\n",
              "      <td>if i don't die bc of covid-, i'll die from the...</td>\n",
              "      <td>Extremely Negative</td>\n",
              "    </tr>\n",
              "    <tr>\n",
              "      <th>637</th>\n",
              "      <td>4436</td>\n",
              "      <td>49388</td>\n",
              "      <td>Indianapolis IN</td>\n",
              "      <td>16-03-2020</td>\n",
              "      <td>is #coronavirus making @realdonaldtrump look b...</td>\n",
              "      <td>Positive</td>\n",
              "    </tr>\n",
              "    <tr>\n",
              "      <th>1068</th>\n",
              "      <td>4867</td>\n",
              "      <td>49819</td>\n",
              "      <td>Los angeles</td>\n",
              "      <td>17-03-2020</td>\n",
              "      <td>only  people allowed in the grocery store at a...</td>\n",
              "      <td>Neutral</td>\n",
              "    </tr>\n",
              "    <tr>\n",
              "      <th>293</th>\n",
              "      <td>4092</td>\n",
              "      <td>49044</td>\n",
              "      <td>Chicago, IL</td>\n",
              "      <td>16-03-2020</td>\n",
              "      <td>on #owhealth: times of turmoil allow for the f...</td>\n",
              "      <td>Positive</td>\n",
              "    </tr>\n",
              "    <tr>\n",
              "      <th>882</th>\n",
              "      <td>4681</td>\n",
              "      <td>49633</td>\n",
              "      <td>Turfloop, South Africa</td>\n",
              "      <td>17-03-2020</td>\n",
              "      <td>south africa is not going to run out of food h...</td>\n",
              "      <td>Negative</td>\n",
              "    </tr>\n",
              "  </tbody>\n",
              "</table>\n",
              "</div>\n",
              "      <button class=\"colab-df-convert\" onclick=\"convertToInteractive('df-db43649c-5b20-436b-b090-f5a15439d4e8')\"\n",
              "              title=\"Convert this dataframe to an interactive table.\"\n",
              "              style=\"display:none;\">\n",
              "        \n",
              "  <svg xmlns=\"http://www.w3.org/2000/svg\" height=\"24px\"viewBox=\"0 0 24 24\"\n",
              "       width=\"24px\">\n",
              "    <path d=\"M0 0h24v24H0V0z\" fill=\"none\"/>\n",
              "    <path d=\"M18.56 5.44l.94 2.06.94-2.06 2.06-.94-2.06-.94-.94-2.06-.94 2.06-2.06.94zm-11 1L8.5 8.5l.94-2.06 2.06-.94-2.06-.94L8.5 2.5l-.94 2.06-2.06.94zm10 10l.94 2.06.94-2.06 2.06-.94-2.06-.94-.94-2.06-.94 2.06-2.06.94z\"/><path d=\"M17.41 7.96l-1.37-1.37c-.4-.4-.92-.59-1.43-.59-.52 0-1.04.2-1.43.59L10.3 9.45l-7.72 7.72c-.78.78-.78 2.05 0 2.83L4 21.41c.39.39.9.59 1.41.59.51 0 1.02-.2 1.41-.59l7.78-7.78 2.81-2.81c.8-.78.8-2.07 0-2.86zM5.41 20L4 18.59l7.72-7.72 1.47 1.35L5.41 20z\"/>\n",
              "  </svg>\n",
              "      </button>\n",
              "      \n",
              "  <style>\n",
              "    .colab-df-container {\n",
              "      display:flex;\n",
              "      flex-wrap:wrap;\n",
              "      gap: 12px;\n",
              "    }\n",
              "\n",
              "    .colab-df-convert {\n",
              "      background-color: #E8F0FE;\n",
              "      border: none;\n",
              "      border-radius: 50%;\n",
              "      cursor: pointer;\n",
              "      display: none;\n",
              "      fill: #1967D2;\n",
              "      height: 32px;\n",
              "      padding: 0 0 0 0;\n",
              "      width: 32px;\n",
              "    }\n",
              "\n",
              "    .colab-df-convert:hover {\n",
              "      background-color: #E2EBFA;\n",
              "      box-shadow: 0px 1px 2px rgba(60, 64, 67, 0.3), 0px 1px 3px 1px rgba(60, 64, 67, 0.15);\n",
              "      fill: #174EA6;\n",
              "    }\n",
              "\n",
              "    [theme=dark] .colab-df-convert {\n",
              "      background-color: #3B4455;\n",
              "      fill: #D2E3FC;\n",
              "    }\n",
              "\n",
              "    [theme=dark] .colab-df-convert:hover {\n",
              "      background-color: #434B5C;\n",
              "      box-shadow: 0px 1px 3px 1px rgba(0, 0, 0, 0.15);\n",
              "      filter: drop-shadow(0px 1px 2px rgba(0, 0, 0, 0.3));\n",
              "      fill: #FFFFFF;\n",
              "    }\n",
              "  </style>\n",
              "\n",
              "      <script>\n",
              "        const buttonEl =\n",
              "          document.querySelector('#df-db43649c-5b20-436b-b090-f5a15439d4e8 button.colab-df-convert');\n",
              "        buttonEl.style.display =\n",
              "          google.colab.kernel.accessAllowed ? 'block' : 'none';\n",
              "\n",
              "        async function convertToInteractive(key) {\n",
              "          const element = document.querySelector('#df-db43649c-5b20-436b-b090-f5a15439d4e8');\n",
              "          const dataTable =\n",
              "            await google.colab.kernel.invokeFunction('convertToInteractive',\n",
              "                                                     [key], {});\n",
              "          if (!dataTable) return;\n",
              "\n",
              "          const docLinkHtml = 'Like what you see? Visit the ' +\n",
              "            '<a target=\"_blank\" href=https://colab.research.google.com/notebooks/data_table.ipynb>data table notebook</a>'\n",
              "            + ' to learn more about interactive tables.';\n",
              "          element.innerHTML = '';\n",
              "          dataTable['output_type'] = 'display_data';\n",
              "          await google.colab.output.renderOutput(dataTable, element);\n",
              "          const docLink = document.createElement('div');\n",
              "          docLink.innerHTML = docLinkHtml;\n",
              "          element.appendChild(docLink);\n",
              "        }\n",
              "      </script>\n",
              "    </div>\n",
              "  </div>\n",
              "  "
            ]
          },
          "metadata": {},
          "execution_count": 35
        }
      ]
    },
    {
      "cell_type": "markdown",
      "source": [
        "\n",
        "\n",
        "```\n",
        " Augmenting twitter data\n",
        "```\n",
        "\n",
        "\n"
      ],
      "metadata": {
        "id": "oBk_agrm6Vk4"
      }
    },
    {
      "cell_type": "code",
      "source": [
        "twitter_df_augment_data = augmentor.Augment(twitter_df, 'OriginalTweet')\n",
        "augmentor.dataframe_to_csv(twitter_df_augment_data, augmented_data_folder_path,'twitter_df_augment_data.csv')"
      ],
      "metadata": {
        "colab": {
          "base_uri": "https://localhost:8080/",
          "height": 90
        },
        "id": "Upzfcr6wt5K_",
        "outputId": "5451262c-812b-4fac-f14a-c6ed7e223714"
      },
      "execution_count": null,
      "outputs": [
        {
          "output_type": "stream",
          "name": "stdout",
          "text": [
            "(3594, 5) (3594, 1)\n",
            "[[4419, 49371, 'Malaysia', '16-03-2020', 'Extremely Negative'], [4419, 49371, 'Malaysia', '16-03-2020', 'Extremely Negative'], [4419, 49371, 'Malaysia', '16-03-2020', 'Extremely Negative'], [4436, 49388, 'Indianapolis IN', '16-03-2020', 'Positive'], [4436, 49388, 'Indianapolis IN', '16-03-2020', 'Positive'], [4436, 49388, 'Indianapolis IN', '16-03-2020', 'Positive'], [4867, 49819, 'Los angeles', '17-03-2020', 'Neutral'], [4867, 49819, 'Los angeles', '17-03-2020', 'Neutral'], [4867, 49819, 'Los angeles', '17-03-2020', 'Neutral'], [4092, 49044, 'Chicago, IL', '16-03-2020', 'Positive'], [4092, 49044, 'Chicago, IL', '16-03-2020', 'Positive'], [4092, 49044, 'Chicago, IL', '16-03-2020', 'Positive'], [4681, 49633, 'Turfloop, South Africa', '17-03-2020', 'Negative'], [4681, 49633, 'Turfloop, South Africa', '17-03-2020', 'Negative'], [4681, 49633, 'Turfloop, South Africa', '17-03-2020', 'Negative'], [3813, 48765, nan, '16-03-2020', 'Positive'], [3813, 48765, nan, '16-03-2020', 'Positive'], [3813, 48765, nan, '16-03-2020', 'Positive'], [4435, 49387, 'Dundee, Scotland', '16-03-2020', 'Extremely Positive'], [4435, 49387, 'Dundee, Scotland', '16-03-2020', 'Extremely Positive'], [4435, 49387, 'Dundee, Scotland', '16-03-2020', 'Extremely Positive'], [4052, 49004, 'Sandy, UT', '16-03-2020', 'Extremely Positive'], [4052, 49004, 'Sandy, UT', '16-03-2020', 'Extremely Positive'], [4052, 49004, 'Sandy, UT', '16-03-2020', 'Extremely Positive'], [4496, 49448, 'on your nerves', '17-03-2020', 'Extremely Negative'], [4496, 49448, 'on your nerves', '17-03-2020', 'Extremely Negative'], [4496, 49448, 'on your nerves', '17-03-2020', 'Extremely Negative'], [3952, 48904, 'Global citizen', '16-03-2020', 'Negative'], [3952, 48904, 'Global citizen', '16-03-2020', 'Negative'], [3952, 48904, 'Global citizen', '16-03-2020', 'Negative'], [3914, 48866, 'Lots of different places', '16-03-2020', 'Positive'], [3914, 48866, 'Lots of different places', '16-03-2020', 'Positive'], [3914, 48866, 'Lots of different places', '16-03-2020', 'Positive'], [4576, 49528, 'kkura', '17-03-2020', 'Neutral'], [4576, 49528, 'kkura', '17-03-2020', 'Neutral'], [4576, 49528, 'kkura', '17-03-2020', 'Neutral'], [4868, 49820, 'Toronto, Ontario', '17-03-2020', 'Negative'], [4868, 49820, 'Toronto, Ontario', '17-03-2020', 'Negative'], [4868, 49820, 'Toronto, Ontario', '17-03-2020', 'Negative'], [4995, 49947, 'Boston, Massachusetts USA', '17-03-2020', 'Neutral'], [4995, 49947, 'Boston, Massachusetts USA', '17-03-2020', 'Neutral'], [4995, 49947, 'Boston, Massachusetts USA', '17-03-2020', 'Neutral'], [4477, 49429, 'Royal Leamington Spa', '17-03-2020', 'Positive'], [4477, 49429, 'Royal Leamington Spa', '17-03-2020', 'Positive'], [4477, 49429, 'Royal Leamington Spa', '17-03-2020', 'Positive'], [4516, 49468, nan, '17-03-2020', 'Extremely Negative'], [4516, 49468, nan, '17-03-2020', 'Extremely Negative'], [4516, 49468, nan, '17-03-2020', 'Extremely Negative'], [4910, 49862, 'Philippines', '17-03-2020', 'Extremely Negative'], [4910, 49862, 'Philippines', '17-03-2020', 'Extremely Negative'], [4910, 49862, 'Philippines', '17-03-2020', 'Extremely Negative'], [4045, 48997, 'LDN, CHI, SHG & worldwide', '16-03-2020', 'Extremely Positive'], [4045, 48997, 'LDN, CHI, SHG & worldwide', '16-03-2020', 'Extremely Positive'], [4045, 48997, 'LDN, CHI, SHG & worldwide', '16-03-2020', 'Extremely Positive'], [4446, 49398, nan, '16-03-2020', 'Extremely Positive'], [4446, 49398, nan, '16-03-2020', 'Extremely Positive'], [4446, 49398, nan, '16-03-2020', 'Extremely Positive'], [4423, 49375, 'Pgh', '16-03-2020', 'Extremely Positive'], [4423, 49375, 'Pgh', '16-03-2020', 'Extremely Positive'], [4423, 49375, 'Pgh', '16-03-2020', 'Extremely Positive'], [4604, 49556, nan, '17-03-2020', 'Negative'], [4604, 49556, nan, '17-03-2020', 'Negative'], [4604, 49556, nan, '17-03-2020', 'Negative'], [4977, 49929, 'New England, USA', '17-03-2020', 'Negative'], [4977, 49929, 'New England, USA', '17-03-2020', 'Negative'], [4977, 49929, 'New England, USA', '17-03-2020', 'Negative'], [4172, 49124, 'Toronto', '16-03-2020', 'Neutral'], [4172, 49124, 'Toronto', '16-03-2020', 'Neutral'], [4172, 49124, 'Toronto', '16-03-2020', 'Neutral'], [3832, 48784, 'Virginia, USA', '16-03-2020', 'Extremely Positive'], [3832, 48784, 'Virginia, USA', '16-03-2020', 'Extremely Positive'], [3832, 48784, 'Virginia, USA', '16-03-2020', 'Extremely Positive'], [4441, 49393, 'Staying humble', '16-03-2020', 'Positive'], [4441, 49393, 'Staying humble', '16-03-2020', 'Positive'], [4441, 49393, 'Staying humble', '16-03-2020', 'Positive'], [4760, 49712, 'Old Calcutta ', '17-03-2020', 'Extremely Negative'], [4760, 49712, 'Old Calcutta ', '17-03-2020', 'Extremely Negative'], [4760, 49712, 'Old Calcutta ', '17-03-2020', 'Extremely Negative'], [4259, 49211, 'Seattle, WA', '16-03-2020', 'Extremely Negative'], [4259, 49211, 'Seattle, WA', '16-03-2020', 'Extremely Negative'], [4259, 49211, 'Seattle, WA', '16-03-2020', 'Extremely Negative'], [4181, 49133, nan, '16-03-2020', 'Negative'], [4181, 49133, nan, '16-03-2020', 'Negative'], [4181, 49133, nan, '16-03-2020', 'Negative'], [3871, 48823, nan, '16-03-2020', 'Neutral'], [3871, 48823, nan, '16-03-2020', 'Neutral'], [3871, 48823, nan, '16-03-2020', 'Neutral'], [4226, 49178, 'Stamford, CT', '16-03-2020', 'Negative'], [4226, 49178, 'Stamford, CT', '16-03-2020', 'Negative'], [4226, 49178, 'Stamford, CT', '16-03-2020', 'Negative'], [4176, 49128, 'Berkeley, CA', '16-03-2020', 'Positive'], [4176, 49128, 'Berkeley, CA', '16-03-2020', 'Positive'], [4176, 49128, 'Berkeley, CA', '16-03-2020', 'Positive'], [4374, 49326, 'Ottawa, Ontario', '16-03-2020', 'Positive'], [4374, 49326, 'Ottawa, Ontario', '16-03-2020', 'Positive'], [4374, 49326, 'Ottawa, Ontario', '16-03-2020', 'Positive'], [4038, 48990, 'Right behind you :)', '16-03-2020', 'Positive'], [4038, 48990, 'Right behind you :)', '16-03-2020', 'Positive'], [4038, 48990, 'Right behind you :)', '16-03-2020', 'Positive'], [4459, 49411, 'United Kingdom', '17-03-2020', 'Negative'], [4459, 49411, 'United Kingdom', '17-03-2020', 'Negative'], [4459, 49411, 'United Kingdom', '17-03-2020', 'Negative'], [3799, 48751, 'London', '16-03-2020', 'Neutral'], [3799, 48751, 'London', '16-03-2020', 'Neutral'], [4457, 49409, 'TX', '17-03-2020', 'Neutral'], [4457, 49409, 'TX', '17-03-2020', 'Neutral'], [4457, 49409, 'TX', '17-03-2020', 'Neutral'], [4286, 49238, 'United States', '16-03-2020', 'Extremely Negative'], [4286, 49238, 'United States', '16-03-2020', 'Extremely Negative'], [4286, 49238, 'United States', '16-03-2020', 'Extremely Negative'], [4135, 49087, 'Global', '16-03-2020', 'Extremely Positive'], [4135, 49087, 'Global', '16-03-2020', 'Extremely Positive'], [4135, 49087, 'Global', '16-03-2020', 'Extremely Positive'], [4084, 49036, '16 Greevegate, Hunstanton', '16-03-2020', 'Extremely Positive'], [4084, 49036, '16 Greevegate, Hunstanton', '16-03-2020', 'Extremely Positive'], [4084, 49036, '16 Greevegate, Hunstanton', '16-03-2020', 'Extremely Positive'], [4020, 48972, 'NoVA', '16-03-2020', 'Negative'], [4020, 48972, 'NoVA', '16-03-2020', 'Negative'], [4020, 48972, 'NoVA', '16-03-2020', 'Negative'], [3910, 48862, 'Los Angeles, CA', '16-03-2020', 'Positive'], [3910, 48862, 'Los Angeles, CA', '16-03-2020', 'Positive'], [3910, 48862, 'Los Angeles, CA', '16-03-2020', 'Positive'], [4602, 49554, 'The Depths of Findom', '17-03-2020', 'Extremely Negative'], [4602, 49554, 'The Depths of Findom', '17-03-2020', 'Extremely Negative'], [4602, 49554, 'The Depths of Findom', '17-03-2020', 'Extremely Negative'], [3826, 48778, 'Everywhere You Are!', '16-03-2020', 'Extremely Negative'], [3826, 48778, 'Everywhere You Are!', '16-03-2020', 'Extremely Negative'], [3826, 48778, 'Everywhere You Are!', '16-03-2020', 'Extremely Negative'], [4292, 49244, nan, '16-03-2020', 'Positive'], [4292, 49244, nan, '16-03-2020', 'Positive'], [4292, 49244, nan, '16-03-2020', 'Positive'], [3817, 48769, 'North America', '16-03-2020', 'Extremely Positive'], [3817, 48769, 'North America', '16-03-2020', 'Extremely Positive'], [3817, 48769, 'North America', '16-03-2020', 'Extremely Positive'], [4917, 49869, 'Saskatoon', '17-03-2020', 'Negative'], [4917, 49869, 'Saskatoon', '17-03-2020', 'Negative'], [4917, 49869, 'Saskatoon', '17-03-2020', 'Negative'], [3848, 48800, 'Washington, DC', '16-03-2020', 'Neutral'], [3848, 48800, 'Washington, DC', '16-03-2020', 'Neutral'], [3848, 48800, 'Washington, DC', '16-03-2020', 'Neutral'], [4601, 49553, 'United Kingdom', '17-03-2020', 'Negative'], [4601, 49553, 'United Kingdom', '17-03-2020', 'Negative'], [4601, 49553, 'United Kingdom', '17-03-2020', 'Negative'], [4684, 49636, nan, '17-03-2020', 'Extremely Negative'], [4684, 49636, nan, '17-03-2020', 'Extremely Negative'], [4684, 49636, nan, '17-03-2020', 'Extremely Negative'], [3985, 48937, 'United States', '16-03-2020', 'Neutral'], [3985, 48937, 'United States', '16-03-2020', 'Neutral'], [3985, 48937, 'United States', '16-03-2020', 'Neutral'], [4384, 49336, 'Issaquah, WA', '16-03-2020', 'Neutral'], [4384, 49336, 'Issaquah, WA', '16-03-2020', 'Neutral'], [4384, 49336, 'Issaquah, WA', '16-03-2020', 'Neutral'], [3810, 48762, 'Pitt Meadows, BC, Canada ', '16-03-2020', 'Extremely Positive'], [3810, 48762, 'Pitt Meadows, BC, Canada ', '16-03-2020', 'Extremely Positive'], [3810, 48762, 'Pitt Meadows, BC, Canada ', '16-03-2020', 'Extremely Positive'], [4437, 49389, 'Irvine, CA', '16-03-2020', 'Negative'], [4437, 49389, 'Irvine, CA', '16-03-2020', 'Negative'], [4437, 49389, 'Irvine, CA', '16-03-2020', 'Negative'], [3875, 48827, 'Napa, Ca', '16-03-2020', 'Extremely Negative'], [3875, 48827, 'Napa, Ca', '16-03-2020', 'Extremely Negative'], [3875, 48827, 'Napa, Ca', '16-03-2020', 'Extremely Negative'], [4717, 49669, 'Estambul, Turqu├¡a', '17-03-2020', 'Extremely Negative'], [4717, 49669, 'Estambul, Turqu├¡a', '17-03-2020', 'Extremely Negative'], [4717, 49669, 'Estambul, Turqu├¡a', '17-03-2020', 'Extremely Negative'], [4270, 49222, 'Des Moines, IA', '16-03-2020', 'Negative'], [4270, 49222, 'Des Moines, IA', '16-03-2020', 'Negative'], [4270, 49222, 'Des Moines, IA', '16-03-2020', 'Negative'], [4633, 49585, 'Australia', '17-03-2020', 'Neutral'], [4633, 49585, 'Australia', '17-03-2020', 'Neutral'], [4633, 49585, 'Australia', '17-03-2020', 'Neutral'], [3877, 48829, 'Cornwall England', '16-03-2020', 'Extremely Negative'], [3877, 48829, 'Cornwall England', '16-03-2020', 'Extremely Negative'], [3877, 48829, 'Cornwall England', '16-03-2020', 'Extremely Negative'], [4429, 49381, nan, '16-03-2020', 'Extremely Positive'], [4429, 49381, nan, '16-03-2020', 'Extremely Positive'], [4429, 49381, nan, '16-03-2020', 'Extremely Positive'], [4902, 49854, nan, '17-03-2020', 'Positive'], [4902, 49854, nan, '17-03-2020', 'Positive'], [4902, 49854, nan, '17-03-2020', 'Positive'], [4585, 49537, 'Denver, Colorado', '17-03-2020', 'Negative'], [4585, 49537, 'Denver, Colorado', '17-03-2020', 'Negative'], [4585, 49537, 'Denver, Colorado', '17-03-2020', 'Negative'], [3865, 48817, 'The European Union', '16-03-2020', 'Negative'], [3865, 48817, 'The European Union', '16-03-2020', 'Negative'], [3865, 48817, 'The European Union', '16-03-2020', 'Negative'], [4855, 49807, 'Utah, USA', '17-03-2020', 'Negative'], [4855, 49807, 'Utah, USA', '17-03-2020', 'Negative'], [4855, 49807, 'Utah, USA', '17-03-2020', 'Negative'], [4937, 49889, nan, '17-03-2020', 'Neutral'], [4937, 49889, nan, '17-03-2020', 'Neutral'], [4937, 49889, nan, '17-03-2020', 'Neutral'], [4170, 49122, nan, '16-03-2020', 'Positive'], [4170, 49122, nan, '16-03-2020', 'Positive'], [4170, 49122, nan, '16-03-2020', 'Positive'], [4641, 49593, 'Amsterdam, The Netherlands', '17-03-2020', 'Negative'], [4641, 49593, 'Amsterdam, The Netherlands', '17-03-2020', 'Negative'], [4641, 49593, 'Amsterdam, The Netherlands', '17-03-2020', 'Negative'], [4097, 49049, 'Washington, D.C.', '16-03-2020', 'Negative'], [4097, 49049, 'Washington, D.C.', '16-03-2020', 'Negative'], [4097, 49049, 'Washington, D.C.', '16-03-2020', 'Negative'], [4268, 49220, 'Earth', '16-03-2020', 'Extremely Negative'], [4268, 49220, 'Earth', '16-03-2020', 'Extremely Negative'], [4268, 49220, 'Earth', '16-03-2020', 'Extremely Negative'], [3888, 48840, nan, '16-03-2020', 'Extremely Positive'], [3888, 48840, nan, '16-03-2020', 'Extremely Positive'], [3888, 48840, nan, '16-03-2020', 'Extremely Positive'], [4587, 49539, 'Nevada', '17-03-2020', 'Negative'], [4587, 49539, 'Nevada', '17-03-2020', 'Negative'], [4587, 49539, 'Nevada', '17-03-2020', 'Negative'], [4112, 49064, nan, '16-03-2020', 'Negative'], [4112, 49064, nan, '16-03-2020', 'Negative'], [4112, 49064, nan, '16-03-2020', 'Negative'], [4492, 49444, 'Dubai, United Arab Emirates', '17-03-2020', 'Extremely Negative'], [4492, 49444, 'Dubai, United Arab Emirates', '17-03-2020', 'Extremely Negative'], [4492, 49444, 'Dubai, United Arab Emirates', '17-03-2020', 'Extremely Negative'], [4736, 49688, 'Tel-Aviv', '17-03-2020', 'Negative'], [4736, 49688, 'Tel-Aviv', '17-03-2020', 'Negative'], [4736, 49688, 'Tel-Aviv', '17-03-2020', 'Negative'], [4319, 49271, 'Canada & USA', '16-03-2020', 'Extremely Negative'], [4319, 49271, 'Canada & USA', '16-03-2020', 'Extremely Negative'], [4319, 49271, 'Canada & USA', '16-03-2020', 'Extremely Negative'], [4007, 48959, 'Arlington, VA', '16-03-2020', 'Positive'], [4007, 48959, 'Arlington, VA', '16-03-2020', 'Positive'], [4007, 48959, 'Arlington, VA', '16-03-2020', 'Positive'], [4069, 49021, 'Orange County, CA', '16-03-2020', 'Positive'], [4069, 49021, 'Orange County, CA', '16-03-2020', 'Positive'], [4069, 49021, 'Orange County, CA', '16-03-2020', 'Positive'], [4939, 49891, 'Cape Town, South Africa', '17-03-2020', 'Positive'], [4939, 49891, 'Cape Town, South Africa', '17-03-2020', 'Positive'], [4939, 49891, 'Cape Town, South Africa', '17-03-2020', 'Positive'], [4347, 49299, nan, '16-03-2020', 'Positive'], [4347, 49299, nan, '16-03-2020', 'Positive'], [4347, 49299, nan, '16-03-2020', 'Positive'], [4197, 49149, 'Genesis', '16-03-2020', 'Negative'], [4197, 49149, 'Genesis', '16-03-2020', 'Negative'], [4197, 49149, 'Genesis', '16-03-2020', 'Negative'], [4941, 49893, 'Rome, Lazio', '17-03-2020', 'Positive'], [4941, 49893, 'Rome, Lazio', '17-03-2020', 'Positive'], [4941, 49893, 'Rome, Lazio', '17-03-2020', 'Positive'], [4865, 49817, 'Undisclosed Location ', '17-03-2020', 'Negative'], [4865, 49817, 'Undisclosed Location ', '17-03-2020', 'Negative'], [4865, 49817, 'Undisclosed Location ', '17-03-2020', 'Negative'], [4782, 49734, 'United Kingdom', '17-03-2020', 'Negative'], [4782, 49734, 'United Kingdom', '17-03-2020', 'Negative'], [4782, 49734, 'United Kingdom', '17-03-2020', 'Negative'], [4119, 49071, 'Maryland, USA', '16-03-2020', 'Negative'], [4119, 49071, 'Maryland, USA', '16-03-2020', 'Negative'], [4119, 49071, 'Maryland, USA', '16-03-2020', 'Negative'], [4885, 49837, 'Kolkata, India', '17-03-2020', 'Extremely Negative'], [4885, 49837, 'Kolkata, India', '17-03-2020', 'Extremely Negative'], [4885, 49837, 'Kolkata, India', '17-03-2020', 'Extremely Negative'], [4694, 49646, 'Barcelona, Catalu├▒a', '17-03-2020', 'Neutral'], [4694, 49646, 'Barcelona, Catalu├▒a', '17-03-2020', 'Neutral'], [4694, 49646, 'Barcelona, Catalu├▒a', '17-03-2020', 'Neutral'], [4393, 49345, 'guantanamo', '16-03-2020', 'Negative'], [4393, 49345, 'guantanamo', '16-03-2020', 'Negative'], [4393, 49345, 'guantanamo', '16-03-2020', 'Negative'], [3909, 48861, 'Los Angeles, CA', '16-03-2020', 'Positive'], [3909, 48861, 'Los Angeles, CA', '16-03-2020', 'Positive'], [3909, 48861, 'Los Angeles, CA', '16-03-2020', 'Positive'], [3872, 48824, 'Morgantown, WV', '16-03-2020', 'Neutral'], [3872, 48824, 'Morgantown, WV', '16-03-2020', 'Neutral'], [3872, 48824, 'Morgantown, WV', '16-03-2020', 'Neutral'], [4482, 49434, nan, '17-03-2020', 'Positive'], [4482, 49434, nan, '17-03-2020', 'Positive'], [4482, 49434, nan, '17-03-2020', 'Positive'], [4896, 49848, 'Canberra, Australia', '17-03-2020', 'Negative'], [4896, 49848, 'Canberra, Australia', '17-03-2020', 'Negative'], [4896, 49848, 'Canberra, Australia', '17-03-2020', 'Negative'], [4740, 49692, 'New Orleans, Louisiana', '17-03-2020', 'Negative'], [4740, 49692, 'New Orleans, Louisiana', '17-03-2020', 'Negative'], [4740, 49692, 'New Orleans, Louisiana', '17-03-2020', 'Negative'], [4843, 49795, 'Belmont, MA', '17-03-2020', 'Extremely Negative'], [4843, 49795, 'Belmont, MA', '17-03-2020', 'Extremely Negative'], [4843, 49795, 'Belmont, MA', '17-03-2020', 'Extremely Negative'], [4040, 48992, 'Peterborough', '16-03-2020', 'Extremely Negative'], [4040, 48992, 'Peterborough', '16-03-2020', 'Extremely Negative'], [4040, 48992, 'Peterborough', '16-03-2020', 'Extremely Negative'], [3812, 48764, 'Chicago, IL', '16-03-2020', 'Positive'], [3812, 48764, 'Chicago, IL', '16-03-2020', 'Positive'], [3812, 48764, 'Chicago, IL', '16-03-2020', 'Positive'], [4994, 49946, 'Cambridge, England', '17-03-2020', 'Negative'], [4994, 49946, 'Cambridge, England', '17-03-2020', 'Negative'], [4994, 49946, 'Cambridge, England', '17-03-2020', 'Negative'], [4951, 49903, 'SE North Dakota', '17-03-2020', 'Positive'], [4951, 49903, 'SE North Dakota', '17-03-2020', 'Positive'], [4951, 49903, 'SE North Dakota', '17-03-2020', 'Positive'], [4071, 49023, 'Rangia, Assam, India', '16-03-2020', 'Negative'], [4071, 49023, 'Rangia, Assam, India', '16-03-2020', 'Negative'], [4071, 49023, 'Rangia, Assam, India', '16-03-2020', 'Negative'], [4153, 49105, 'Everywhere & u are Never There', '16-03-2020', 'Extremely Positive'], [4153, 49105, 'Everywhere & u are Never There', '16-03-2020', 'Extremely Positive'], [4153, 49105, 'Everywhere & u are Never There', '16-03-2020', 'Extremely Positive'], [3884, 48836, 'Barnsley, England', '16-03-2020', 'Positive'], [3884, 48836, 'Barnsley, England', '16-03-2020', 'Positive'], [3884, 48836, 'Barnsley, England', '16-03-2020', 'Positive'], [4047, 48999, 'out of this world', '16-03-2020', 'Negative'], [4047, 48999, 'out of this world', '16-03-2020', 'Negative'], [4047, 48999, 'out of this world', '16-03-2020', 'Negative'], [4359, 49311, 'Trinidad and Tobago', '16-03-2020', 'Negative'], [4359, 49311, 'Trinidad and Tobago', '16-03-2020', 'Negative'], [4359, 49311, 'Trinidad and Tobago', '16-03-2020', 'Negative'], [4166, 49118, nan, '16-03-2020', 'Positive'], [4166, 49118, nan, '16-03-2020', 'Positive'], [4166, 49118, nan, '16-03-2020', 'Positive'], [4107, 49059, 'Dja Dja Warrung Land', '16-03-2020', 'Negative'], [4107, 49059, 'Dja Dja Warrung Land', '16-03-2020', 'Negative'], [4107, 49059, 'Dja Dja Warrung Land', '16-03-2020', 'Negative'], [3911, 48863, nan, '16-03-2020', 'Negative'], [3911, 48863, nan, '16-03-2020', 'Negative'], [3911, 48863, nan, '16-03-2020', 'Negative'], [4991, 49943, nan, '17-03-2020', 'Extremely Positive'], [4991, 49943, nan, '17-03-2020', 'Extremely Positive'], [4991, 49943, nan, '17-03-2020', 'Extremely Positive'], [4231, 49183, 'Fife Heights, WA', '16-03-2020', 'Negative'], [4231, 49183, 'Fife Heights, WA', '16-03-2020', 'Negative'], [4231, 49183, 'Fife Heights, WA', '16-03-2020', 'Negative'], [4282, 49234, 'TORONTO, LAS VEGAS', '16-03-2020', 'Positive'], [4282, 49234, 'TORONTO, LAS VEGAS', '16-03-2020', 'Positive'], [4282, 49234, 'TORONTO, LAS VEGAS', '16-03-2020', 'Positive'], [4692, 49644, 'Washington, DC', '17-03-2020', 'Positive'], [4692, 49644, 'Washington, DC', '17-03-2020', 'Positive'], [4692, 49644, 'Washington, DC', '17-03-2020', 'Positive'], [4533, 49485, 'England, United Kingdom ???', '17-03-2020', 'Positive'], [4533, 49485, 'England, United Kingdom ???', '17-03-2020', 'Positive'], [4533, 49485, 'England, United Kingdom ???', '17-03-2020', 'Positive'], [4930, 49882, 'Guelph, ON', '17-03-2020', 'Negative'], [4930, 49882, 'Guelph, ON', '17-03-2020', 'Negative'], [4930, 49882, 'Guelph, ON', '17-03-2020', 'Negative'], [4364, 49316, nan, '16-03-2020', 'Negative'], [4364, 49316, nan, '16-03-2020', 'Negative'], [4364, 49316, nan, '16-03-2020', 'Negative'], [4489, 49441, 'Bern, Switzerland.', '17-03-2020', 'Positive'], [4489, 49441, 'Bern, Switzerland.', '17-03-2020', 'Positive'], [4489, 49441, 'Bern, Switzerland.', '17-03-2020', 'Positive'], [4165, 49117, 'London', '16-03-2020', 'Neutral'], [4165, 49117, 'London', '16-03-2020', 'Neutral'], [4165, 49117, 'London', '16-03-2020', 'Neutral'], [4122, 49074, 'denial', '16-03-2020', 'Extremely Negative'], [4122, 49074, 'denial', '16-03-2020', 'Extremely Negative'], [4122, 49074, 'denial', '16-03-2020', 'Extremely Negative'], [4249, 49201, 'Gazing at Mt Baker.', '16-03-2020', 'Extremely Negative'], [4249, 49201, 'Gazing at Mt Baker.', '16-03-2020', 'Extremely Negative'], [4249, 49201, 'Gazing at Mt Baker.', '16-03-2020', 'Extremely Negative'], [4179, 49131, 'Kampala, Uganda', '16-03-2020', 'Extremely Positive'], [4179, 49131, 'Kampala, Uganda', '16-03-2020', 'Extremely Positive'], [4179, 49131, 'Kampala, Uganda', '16-03-2020', 'Extremely Positive'], [4444, 49396, nan, '16-03-2020', 'Negative'], [4444, 49396, nan, '16-03-2020', 'Negative'], [4444, 49396, nan, '16-03-2020', 'Negative'], [4337, 49289, nan, '16-03-2020', 'Extremely Negative'], [4337, 49289, nan, '16-03-2020', 'Extremely Negative'], [4337, 49289, nan, '16-03-2020', 'Extremely Negative'], [4456, 49408, nan, '17-03-2020', 'Extremely Positive'], [4456, 49408, nan, '17-03-2020', 'Extremely Positive'], [4456, 49408, nan, '17-03-2020', 'Extremely Positive'], [3861, 48813, 'Hamilton, Ontario', '16-03-2020', 'Positive'], [3861, 48813, 'Hamilton, Ontario', '16-03-2020', 'Positive'], [3861, 48813, 'Hamilton, Ontario', '16-03-2020', 'Positive'], [4512, 49464, nan, '17-03-2020', 'Positive'], [4512, 49464, nan, '17-03-2020', 'Positive'], [4512, 49464, nan, '17-03-2020', 'Positive'], [4993, 49945, 'Melbourne, Australia', '17-03-2020', 'Positive'], [4993, 49945, 'Melbourne, Australia', '17-03-2020', 'Positive'], [4993, 49945, 'Melbourne, Australia', '17-03-2020', 'Positive'], [4572, 49524, 'DurhamNH/CambridgeMA/Wakanda', '17-03-2020', 'Positive'], [4572, 49524, 'DurhamNH/CambridgeMA/Wakanda', '17-03-2020', 'Positive'], [4572, 49524, 'DurhamNH/CambridgeMA/Wakanda', '17-03-2020', 'Positive'], [4975, 49927, 'Nashville, TN', '17-03-2020', 'Extremely Positive'], [4975, 49927, 'Nashville, TN', '17-03-2020', 'Extremely Positive'], [4975, 49927, 'Nashville, TN', '17-03-2020', 'Extremely Positive'], [4256, 49208, 'South Australia', '16-03-2020', 'Neutral'], [4256, 49208, 'South Australia', '16-03-2020', 'Neutral'], [4256, 49208, 'South Australia', '16-03-2020', 'Neutral'], [4854, 49806, nan, '17-03-2020', 'Positive'], [4854, 49806, nan, '17-03-2020', 'Positive'], [4854, 49806, nan, '17-03-2020', 'Positive'], [4636, 49588, nan, '17-03-2020', 'Neutral'], [4636, 49588, nan, '17-03-2020', 'Neutral'], [4636, 49588, nan, '17-03-2020', 'Neutral'], [3830, 48782, nan, '16-03-2020', 'Extremely Positive'], [3830, 48782, nan, '16-03-2020', 'Extremely Positive'], [3830, 48782, nan, '16-03-2020', 'Extremely Positive'], [3925, 48877, nan, '16-03-2020', 'Extremely Negative'], [3925, 48877, nan, '16-03-2020', 'Extremely Negative'], [3925, 48877, nan, '16-03-2020', 'Extremely Negative'], [4220, 49172, 'New York ', '16-03-2020', 'Extremely Negative'], [4220, 49172, 'New York ', '16-03-2020', 'Extremely Negative'], [4220, 49172, 'New York ', '16-03-2020', 'Extremely Negative'], [4952, 49904, 'High Wycombe, England', '17-03-2020', 'Positive'], [4952, 49904, 'High Wycombe, England', '17-03-2020', 'Positive'], [4952, 49904, 'High Wycombe, England', '17-03-2020', 'Positive'], [4840, 49792, nan, '17-03-2020', 'Neutral'], [4840, 49792, nan, '17-03-2020', 'Neutral'], [4840, 49792, nan, '17-03-2020', 'Neutral'], [4485, 49437, 'Cairo, Egypt', '17-03-2020', 'Positive'], [4485, 49437, 'Cairo, Egypt', '17-03-2020', 'Positive'], [4485, 49437, 'Cairo, Egypt', '17-03-2020', 'Positive'], [4187, 49139, 'Edinburgh, Scotland ?????', '16-03-2020', 'Negative'], [4187, 49139, 'Edinburgh, Scotland ?????', '16-03-2020', 'Negative'], [4187, 49139, 'Edinburgh, Scotland ?????', '16-03-2020', 'Negative'], [4086, 49038, nan, '16-03-2020', 'Neutral'], [4086, 49038, nan, '16-03-2020', 'Neutral'], [4086, 49038, nan, '16-03-2020', 'Neutral'], [4519, 49471, nan, '17-03-2020', 'Extremely Negative'], [4519, 49471, nan, '17-03-2020', 'Extremely Negative'], [4519, 49471, nan, '17-03-2020', 'Extremely Negative'], [4925, 49877, 'Beijing', '17-03-2020', 'Negative'], [4925, 49877, 'Beijing', '17-03-2020', 'Negative'], [4925, 49877, 'Beijing', '17-03-2020', 'Negative'], [4983, 49935, 'USC #classof2019', '17-03-2020', 'Negative'], [4983, 49935, 'USC #classof2019', '17-03-2020', 'Negative'], [4983, 49935, 'USC #classof2019', '17-03-2020', 'Negative'], [4133, 49085, 'New York, NY', '16-03-2020', 'Extremely Negative'], [4133, 49085, 'New York, NY', '16-03-2020', 'Extremely Negative'], [4133, 49085, 'New York, NY', '16-03-2020', 'Extremely Negative'], [4856, 49808, 'Florida, USA', '17-03-2020', 'Extremely Positive'], [4856, 49808, 'Florida, USA', '17-03-2020', 'Extremely Positive'], [4856, 49808, 'Florida, USA', '17-03-2020', 'Extremely Positive'], [4759, 49711, nan, '17-03-2020', 'Negative'], [4759, 49711, nan, '17-03-2020', 'Negative'], [4759, 49711, nan, '17-03-2020', 'Negative'], [4232, 49184, nan, '16-03-2020', 'Negative'], [4232, 49184, nan, '16-03-2020', 'Negative'], [4232, 49184, nan, '16-03-2020', 'Negative'], [4651, 49603, 'United Kingdom', '17-03-2020', 'Negative'], [4651, 49603, 'United Kingdom', '17-03-2020', 'Negative'], [4651, 49603, 'United Kingdom', '17-03-2020', 'Negative'], [3933, 48885, ' Malaysia', '16-03-2020', 'Positive'], [3933, 48885, ' Malaysia', '16-03-2020', 'Positive'], [3933, 48885, ' Malaysia', '16-03-2020', 'Positive'], [3938, 48890, 'Phoenix, AZ', '16-03-2020', 'Extremely Positive'], [3938, 48890, 'Phoenix, AZ', '16-03-2020', 'Extremely Positive'], [3938, 48890, 'Phoenix, AZ', '16-03-2020', 'Extremely Positive'], [4452, 49404, nan, '16-03-2020', 'Extremely Positive'], [4452, 49404, nan, '16-03-2020', 'Extremely Positive'], [4452, 49404, nan, '16-03-2020', 'Extremely Positive'], [4411, 49363, 'South Carolina, USA', '16-03-2020', 'Negative'], [4411, 49363, 'South Carolina, USA', '16-03-2020', 'Negative'], [4411, 49363, 'South Carolina, USA', '16-03-2020', 'Negative'], [4873, 49825, 'New Delhi, India', '17-03-2020', 'Neutral'], [4873, 49825, 'New Delhi, India', '17-03-2020', 'Neutral'], [4873, 49825, 'New Delhi, India', '17-03-2020', 'Neutral'], [4796, 49748, 'San Francisco, CA', '17-03-2020', 'Extremely Positive'], [4796, 49748, 'San Francisco, CA', '17-03-2020', 'Extremely Positive'], [4796, 49748, 'San Francisco, CA', '17-03-2020', 'Extremely Positive'], [4857, 49809, nan, '17-03-2020', 'Neutral'], [4857, 49809, nan, '17-03-2020', 'Neutral'], [4857, 49809, nan, '17-03-2020', 'Neutral'], [4063, 49015, 'Lahore, Pakistan', '16-03-2020', 'Extremely Negative'], [4063, 49015, 'Lahore, Pakistan', '16-03-2020', 'Extremely Negative'], [4063, 49015, 'Lahore, Pakistan', '16-03-2020', 'Extremely Negative'], [3934, 48886, 'The Great State of Texas', '16-03-2020', 'Negative'], [3934, 48886, 'The Great State of Texas', '16-03-2020', 'Negative'], [3934, 48886, 'The Great State of Texas', '16-03-2020', 'Negative'], [4858, 49810, 'South Hill VA', '17-03-2020', 'Negative'], [4858, 49810, 'South Hill VA', '17-03-2020', 'Negative'], [4858, 49810, 'South Hill VA', '17-03-2020', 'Negative'], [3958, 48910, 'Nottinghamshire', '16-03-2020', 'Neutral'], [3958, 48910, 'Nottinghamshire', '16-03-2020', 'Neutral'], [3958, 48910, 'Nottinghamshire', '16-03-2020', 'Neutral'], [3944, 48896, 'Adelaide, Australia', '16-03-2020', 'Extremely Negative'], [3944, 48896, 'Adelaide, Australia', '16-03-2020', 'Extremely Negative'], [3944, 48896, 'Adelaide, Australia', '16-03-2020', 'Extremely Negative'], [4832, 49784, 'Leeds - UK', '17-03-2020', 'Neutral'], [4832, 49784, 'Leeds - UK', '17-03-2020', 'Neutral'], [4832, 49784, 'Leeds - UK', '17-03-2020', 'Neutral'], [4171, 49123, 'Somewhere gettin $$', '16-03-2020', 'Negative'], [4171, 49123, 'Somewhere gettin $$', '16-03-2020', 'Negative'], [4171, 49123, 'Somewhere gettin $$', '16-03-2020', 'Negative'], [4607, 49559, nan, '17-03-2020', 'Negative'], [4607, 49559, nan, '17-03-2020', 'Negative'], [4607, 49559, nan, '17-03-2020', 'Negative'], [4033, 48985, 'Florida, USA', '16-03-2020', 'Extremely Negative'], [4033, 48985, 'Florida, USA', '16-03-2020', 'Extremely Negative'], [4033, 48985, 'Florida, USA', '16-03-2020', 'Extremely Negative'], [4754, 49706, 'In the kitchen', '17-03-2020', 'Extremely Positive'], [4754, 49706, 'In the kitchen', '17-03-2020', 'Extremely Positive'], [4754, 49706, 'In the kitchen', '17-03-2020', 'Extremely Positive'], [3803, 48755, nan, '16-03-2020', 'Extremely Negative'], [3803, 48755, nan, '16-03-2020', 'Extremely Negative'], [3803, 48755, nan, '16-03-2020', 'Extremely Negative'], [4784, 49736, 'Queens, NY', '17-03-2020', 'Neutral'], [4784, 49736, 'Queens, NY', '17-03-2020', 'Neutral'], [4784, 49736, 'Queens, NY', '17-03-2020', 'Neutral'], [4023, 48975, nan, '16-03-2020', 'Positive'], [4023, 48975, nan, '16-03-2020', 'Positive'], [4023, 48975, nan, '16-03-2020', 'Positive'], [3897, 48849, 'San Joaquin Valley CA', '16-03-2020', 'Positive'], [3897, 48849, 'San Joaquin Valley CA', '16-03-2020', 'Positive'], [3897, 48849, 'San Joaquin Valley CA', '16-03-2020', 'Positive'], [4396, 49348, 'glocal', '16-03-2020', 'Extremely Negative'], [4396, 49348, 'glocal', '16-03-2020', 'Extremely Negative'], [4396, 49348, 'glocal', '16-03-2020', 'Extremely Negative'], [4708, 49660, 'Winchester UK', '17-03-2020', 'Extremely Negative'], [4708, 49660, 'Winchester UK', '17-03-2020', 'Extremely Negative'], [4708, 49660, 'Winchester UK', '17-03-2020', 'Extremely Negative'], [4839, 49791, nan, '17-03-2020', 'Neutral'], [4839, 49791, nan, '17-03-2020', 'Neutral'], [4839, 49791, nan, '17-03-2020', 'Neutral'], [3940, 48892, 'United States', '16-03-2020', 'Negative'], [3940, 48892, 'United States', '16-03-2020', 'Negative'], [3940, 48892, 'United States', '16-03-2020', 'Negative'], [4261, 49213, 'Belfast', '16-03-2020', 'Extremely Positive'], [4261, 49213, 'Belfast', '16-03-2020', 'Extremely Positive'], [4261, 49213, 'Belfast', '16-03-2020', 'Extremely Positive'], [4884, 49836, 'Baltimore, MD', '17-03-2020', 'Extremely Positive'], [4884, 49836, 'Baltimore, MD', '17-03-2020', 'Extremely Positive'], [4884, 49836, 'Baltimore, MD', '17-03-2020', 'Extremely Positive'], [4383, 49335, 'MIA - MCO/BOS - PVD', '16-03-2020', 'Extremely Positive'], [4383, 49335, 'MIA - MCO/BOS - PVD', '16-03-2020', 'Extremely Positive'], [4383, 49335, 'MIA - MCO/BOS - PVD', '16-03-2020', 'Extremely Positive'], [3825, 48777, 'Ketchum, Idaho', '16-03-2020', 'Negative'], [3825, 48777, 'Ketchum, Idaho', '16-03-2020', 'Negative'], [3825, 48777, 'Ketchum, Idaho', '16-03-2020', 'Negative'], [4731, 49683, 'England, United Kingdom', '17-03-2020', 'Extremely Negative'], [4731, 49683, 'England, United Kingdom', '17-03-2020', 'Extremely Negative'], [4731, 49683, 'England, United Kingdom', '17-03-2020', 'Extremely Negative'], [3860, 48812, 'Drifter ', '16-03-2020', 'Neutral'], [3860, 48812, 'Drifter ', '16-03-2020', 'Neutral'], [3860, 48812, 'Drifter ', '16-03-2020', 'Neutral'], [4462, 49414, 'London, England', '17-03-2020', 'Positive'], [4462, 49414, 'London, England', '17-03-2020', 'Positive'], [4462, 49414, 'London, England', '17-03-2020', 'Positive'], [3987, 48939, 'Italy', '16-03-2020', 'Neutral'], [3987, 48939, 'Italy', '16-03-2020', 'Neutral'], [3987, 48939, 'Italy', '16-03-2020', 'Neutral'], [4106, 49058, 'Manchester, UK', '16-03-2020', 'Extremely Negative'], [4106, 49058, 'Manchester, UK', '16-03-2020', 'Extremely Negative'], [4106, 49058, 'Manchester, UK', '16-03-2020', 'Extremely Negative'], [4932, 49884, 'Southampton, England', '17-03-2020', 'Neutral'], [4932, 49884, 'Southampton, England', '17-03-2020', 'Neutral'], [4932, 49884, 'Southampton, England', '17-03-2020', 'Neutral'], [4831, 49783, 'Knoxville, TN', '17-03-2020', 'Positive'], [4831, 49783, 'Knoxville, TN', '17-03-2020', 'Positive'], [4831, 49783, 'Knoxville, TN', '17-03-2020', 'Positive'], [4386, 49338, nan, '16-03-2020', 'Negative'], [4386, 49338, nan, '16-03-2020', 'Negative'], [4386, 49338, nan, '16-03-2020', 'Negative'], [4969, 49921, 'Windsor, Ontario, Canada', '17-03-2020', 'Positive'], [4969, 49921, 'Windsor, Ontario, Canada', '17-03-2020', 'Positive'], [4969, 49921, 'Windsor, Ontario, Canada', '17-03-2020', 'Positive'], [4376, 49328, 'Renton, WA', '16-03-2020', 'Negative'], [4376, 49328, 'Renton, WA', '16-03-2020', 'Negative'], [4376, 49328, 'Renton, WA', '16-03-2020', 'Negative'], [4466, 49418, 'Everywhere + Nigeria + Globe', '17-03-2020', 'Negative'], [4466, 49418, 'Everywhere + Nigeria + Globe', '17-03-2020', 'Negative'], [4466, 49418, 'Everywhere + Nigeria + Globe', '17-03-2020', 'Negative'], [4730, 49682, nan, '17-03-2020', 'Negative'], [4730, 49682, nan, '17-03-2020', 'Negative'], [4730, 49682, nan, '17-03-2020', 'Negative'], [4912, 49864, nan, '17-03-2020', 'Positive'], [4912, 49864, nan, '17-03-2020', 'Positive'], [4912, 49864, nan, '17-03-2020', 'Positive'], [4916, 49868, nan, '17-03-2020', 'Negative'], [4916, 49868, nan, '17-03-2020', 'Negative'], [4916, 49868, nan, '17-03-2020', 'Negative'], [4874, 49826, 'Rural GA a minor level of hell', '17-03-2020', 'Extremely Positive'], [4874, 49826, 'Rural GA a minor level of hell', '17-03-2020', 'Extremely Positive'], [4874, 49826, 'Rural GA a minor level of hell', '17-03-2020', 'Extremely Positive'], [4095, 49047, 'Belgium', '16-03-2020', 'Negative'], [4095, 49047, 'Belgium', '16-03-2020', 'Negative'], [4095, 49047, 'Belgium', '16-03-2020', 'Negative'], [4543, 49495, 'Southern ', '17-03-2020', 'Neutral'], [4543, 49495, 'Southern ', '17-03-2020', 'Neutral'], [4543, 49495, 'Southern ', '17-03-2020', 'Neutral'], [4352, 49304, 'Greenville, NC', '16-03-2020', 'Extremely Positive'], [4352, 49304, 'Greenville, NC', '16-03-2020', 'Extremely Positive'], [4352, 49304, 'Greenville, NC', '16-03-2020', 'Extremely Positive'], [4199, 49151, 'San Francisco, CA', '16-03-2020', 'Extremely Negative'], [4199, 49151, 'San Francisco, CA', '16-03-2020', 'Extremely Negative'], [4199, 49151, 'San Francisco, CA', '16-03-2020', 'Extremely Negative'], [4624, 49576, 'Sheffield, United Kingdom ', '17-03-2020', 'Extremely Positive'], [4624, 49576, 'Sheffield, United Kingdom ', '17-03-2020', 'Extremely Positive'], [4624, 49576, 'Sheffield, United Kingdom ', '17-03-2020', 'Extremely Positive'], [4061, 49013, 'Australia', '16-03-2020', 'Positive'], [4061, 49013, 'Australia', '16-03-2020', 'Positive'], [4061, 49013, 'Australia', '16-03-2020', 'Positive'], [4864, 49816, 'Edmonton Alberta', '17-03-2020', 'Extremely Positive'], [4864, 49816, 'Edmonton Alberta', '17-03-2020', 'Extremely Positive'], [4864, 49816, 'Edmonton Alberta', '17-03-2020', 'Extremely Positive'], [4094, 49046, 'Portland, Ore.', '16-03-2020', 'Negative'], [4094, 49046, 'Portland, Ore.', '16-03-2020', 'Negative'], [4094, 49046, 'Portland, Ore.', '16-03-2020', 'Negative'], [4000, 48952, nan, '16-03-2020', 'Neutral'], [4000, 48952, nan, '16-03-2020', 'Neutral'], [4000, 48952, nan, '16-03-2020', 'Neutral'], [4295, 49247, 'Everett, WA', '16-03-2020', 'Positive'], [4295, 49247, 'Everett, WA', '16-03-2020', 'Positive'], [4295, 49247, 'Everett, WA', '16-03-2020', 'Positive'], [4697, 49649, 'Santa Cruz, CA', '17-03-2020', 'Negative'], [4697, 49649, 'Santa Cruz, CA', '17-03-2020', 'Negative'], [4697, 49649, 'Santa Cruz, CA', '17-03-2020', 'Negative'], [4302, 49254, 'Manchester, England', '16-03-2020', 'Negative'], [4302, 49254, 'Manchester, England', '16-03-2020', 'Negative'], [4302, 49254, 'Manchester, England', '16-03-2020', 'Negative'], [4024, 48976, 'Buffalo, NY', '16-03-2020', 'Negative'], [4024, 48976, 'Buffalo, NY', '16-03-2020', 'Negative'], [4024, 48976, 'Buffalo, NY', '16-03-2020', 'Negative'], [4382, 49334, nan, '16-03-2020', 'Neutral'], [4382, 49334, nan, '16-03-2020', 'Neutral'], [4339, 49291, 'EVERYWHERE!', '16-03-2020', 'Positive'], [4339, 49291, 'EVERYWHERE!', '16-03-2020', 'Positive'], [4339, 49291, 'EVERYWHERE!', '16-03-2020', 'Positive'], [4127, 49079, nan, '16-03-2020', 'Extremely Positive'], [4127, 49079, nan, '16-03-2020', 'Extremely Positive'], [4127, 49079, nan, '16-03-2020', 'Extremely Positive'], [3943, 48895, nan, '16-03-2020', 'Positive'], [3943, 48895, nan, '16-03-2020', 'Positive'], [3943, 48895, nan, '16-03-2020', 'Positive'], [4701, 49653, 'Moscou, Russie', '17-03-2020', 'Positive'], [4701, 49653, 'Moscou, Russie', '17-03-2020', 'Positive'], [4701, 49653, 'Moscou, Russie', '17-03-2020', 'Positive'], [4229, 49181, 'Indiana', '16-03-2020', 'Extremely Negative'], [4229, 49181, 'Indiana', '16-03-2020', 'Extremely Negative'], [4229, 49181, 'Indiana', '16-03-2020', 'Extremely Negative'], [4722, 49674, 'Bangalore, INDIA', '17-03-2020', 'Extremely Negative'], [4722, 49674, 'Bangalore, INDIA', '17-03-2020', 'Extremely Negative'], [4722, 49674, 'Bangalore, INDIA', '17-03-2020', 'Extremely Negative'], [4877, 49829, 'New York', '17-03-2020', 'Positive'], [4877, 49829, 'New York', '17-03-2020', 'Positive'], [4877, 49829, 'New York', '17-03-2020', 'Positive'], [3993, 48945, 'somewhere windy', '16-03-2020', 'Positive'], [3993, 48945, 'somewhere windy', '16-03-2020', 'Positive'], [3993, 48945, 'somewhere windy', '16-03-2020', 'Positive'], [4780, 49732, nan, '17-03-2020', 'Positive'], [4780, 49732, nan, '17-03-2020', 'Positive'], [4780, 49732, nan, '17-03-2020', 'Positive'], [4644, 49596, 'Atlanta, GA', '17-03-2020', 'Extremely Negative'], [4644, 49596, 'Atlanta, GA', '17-03-2020', 'Extremely Negative'], [4644, 49596, 'Atlanta, GA', '17-03-2020', 'Extremely Negative'], [4909, 49861, 'UK', '17-03-2020', 'Negative'], [4909, 49861, 'UK', '17-03-2020', 'Negative'], [4909, 49861, 'UK', '17-03-2020', 'Negative'], [4548, 49500, nan, '17-03-2020', 'Negative'], [4548, 49500, nan, '17-03-2020', 'Negative'], [4548, 49500, nan, '17-03-2020', 'Negative'], [3854, 48806, 'West Midlands, England', '16-03-2020', 'Extremely Positive'], [3854, 48806, 'West Midlands, England', '16-03-2020', 'Extremely Positive'], [3854, 48806, 'West Midlands, England', '16-03-2020', 'Extremely Positive'], [3922, 48874, 'Melbourne, Australia', '16-03-2020', 'Positive'], [3922, 48874, 'Melbourne, Australia', '16-03-2020', 'Positive'], [3922, 48874, 'Melbourne, Australia', '16-03-2020', 'Positive'], [4978, 49930, nan, '17-03-2020', 'Neutral'], [4978, 49930, nan, '17-03-2020', 'Neutral'], [4978, 49930, nan, '17-03-2020', 'Neutral'], [4280, 49232, 'Brookfield, Illinois', '16-03-2020', 'Positive'], [4280, 49232, 'Brookfield, Illinois', '16-03-2020', 'Positive'], [4280, 49232, 'Brookfield, Illinois', '16-03-2020', 'Positive'], [4067, 49019, nan, '16-03-2020', 'Negative'], [4067, 49019, nan, '16-03-2020', 'Negative'], [4067, 49019, nan, '16-03-2020', 'Negative'], [4451, 49403, 'Karachi', '16-03-2020', 'Positive'], [4451, 49403, 'Karachi', '16-03-2020', 'Positive'], [4451, 49403, 'Karachi', '16-03-2020', 'Positive'], [4248, 49200, 'UK', '16-03-2020', 'Positive'], [4248, 49200, 'UK', '16-03-2020', 'Positive'], [4248, 49200, 'UK', '16-03-2020', 'Positive'], [3915, 48867, 'Berkshire, England', '16-03-2020', 'Negative'], [3915, 48867, 'Berkshire, England', '16-03-2020', 'Negative'], [3915, 48867, 'Berkshire, England', '16-03-2020', 'Negative'], [4818, 49770, 'Baton Rouge, LA', '17-03-2020', 'Positive'], [4818, 49770, 'Baton Rouge, LA', '17-03-2020', 'Positive'], [4818, 49770, 'Baton Rouge, LA', '17-03-2020', 'Positive'], [3997, 48949, 'USA', '16-03-2020', 'Extremely Positive'], [3997, 48949, 'USA', '16-03-2020', 'Extremely Positive'], [3997, 48949, 'USA', '16-03-2020', 'Extremely Positive'], [4320, 49272, 'UK, Wales, Ceredigion', '16-03-2020', 'Extremely Negative'], [4320, 49272, 'UK, Wales, Ceredigion', '16-03-2020', 'Extremely Negative'], [4320, 49272, 'UK, Wales, Ceredigion', '16-03-2020', 'Extremely Negative'], [3833, 48785, 'London, England', '16-03-2020', 'Negative'], [3833, 48785, 'London, England', '16-03-2020', 'Negative'], [3833, 48785, 'London, England', '16-03-2020', 'Negative'], [4391, 49343, nan, '16-03-2020', 'Neutral'], [4391, 49343, nan, '16-03-2020', 'Neutral'], [4391, 49343, nan, '16-03-2020', 'Neutral'], [4888, 49840, 'Here and There', '17-03-2020', 'Neutral'], [4888, 49840, 'Here and There', '17-03-2020', 'Neutral'], [4888, 49840, 'Here and There', '17-03-2020', 'Neutral'], [3824, 48776, 'London', '16-03-2020', 'Extremely Positive'], [3824, 48776, 'London', '16-03-2020', 'Extremely Positive'], [3824, 48776, 'London', '16-03-2020', 'Extremely Positive'], [4803, 49755, nan, '17-03-2020', 'Positive'], [4803, 49755, nan, '17-03-2020', 'Positive'], [4803, 49755, nan, '17-03-2020', 'Positive'], [4581, 49533, 'India', '17-03-2020', 'Neutral'], [4581, 49533, 'India', '17-03-2020', 'Neutral'], [4581, 49533, 'India', '17-03-2020', 'Neutral'], [3995, 48947, 'Commonwealth of Massachusetts', '16-03-2020', 'Extremely Positive'], [3995, 48947, 'Commonwealth of Massachusetts', '16-03-2020', 'Extremely Positive'], [3995, 48947, 'Commonwealth of Massachusetts', '16-03-2020', 'Extremely Positive'], [4034, 48986, 'California, USA', '16-03-2020', 'Positive'], [4034, 48986, 'California, USA', '16-03-2020', 'Positive'], [4034, 48986, 'California, USA', '16-03-2020', 'Positive'], [4152, 49104, 'Accra, Ghana', '16-03-2020', 'Extremely Negative'], [4152, 49104, 'Accra, Ghana', '16-03-2020', 'Extremely Negative'], [4152, 49104, 'Accra, Ghana', '16-03-2020', 'Extremely Negative'], [4940, 49892, nan, '17-03-2020', 'Neutral'], [4940, 49892, nan, '17-03-2020', 'Neutral'], [4940, 49892, nan, '17-03-2020', 'Neutral'], [3939, 48891, 'Columbus, Ohio', '16-03-2020', 'Negative'], [3939, 48891, 'Columbus, Ohio', '16-03-2020', 'Negative'], [3939, 48891, 'Columbus, Ohio', '16-03-2020', 'Negative'], [4933, 49885, 'Caledon, Ontario', '17-03-2020', 'Positive'], [4933, 49885, 'Caledon, Ontario', '17-03-2020', 'Positive'], [4933, 49885, 'Caledon, Ontario', '17-03-2020', 'Positive'], [4613, 49565, 'Accra, Ghana', '17-03-2020', 'Negative'], [4613, 49565, 'Accra, Ghana', '17-03-2020', 'Negative'], [4613, 49565, 'Accra, Ghana', '17-03-2020', 'Negative'], [4120, 49072, 'Denmark', '16-03-2020', 'Positive'], [4120, 49072, 'Denmark', '16-03-2020', 'Positive'], [4120, 49072, 'Denmark', '16-03-2020', 'Positive'], [3918, 48870, 'Long Beach, Calif., USA', '16-03-2020', 'Positive'], [3918, 48870, 'Long Beach, Calif., USA', '16-03-2020', 'Positive'], [3918, 48870, 'Long Beach, Calif., USA', '16-03-2020', 'Positive'], [4586, 49538, nan, '17-03-2020', 'Negative'], [4586, 49538, nan, '17-03-2020', 'Negative'], [4586, 49538, nan, '17-03-2020', 'Negative'], [4389, 49341, 'Amsterdam, The Netherlands', '16-03-2020', 'Neutral'], [4389, 49341, 'Amsterdam, The Netherlands', '16-03-2020', 'Neutral'], [4389, 49341, 'Amsterdam, The Netherlands', '16-03-2020', 'Neutral'], [4027, 48979, 'South Africa', '16-03-2020', 'Neutral'], [4027, 48979, 'South Africa', '16-03-2020', 'Neutral'], [4027, 48979, 'South Africa', '16-03-2020', 'Neutral'], [4238, 49190, 'Cascade foothills in PNW', '16-03-2020', 'Positive'], [4238, 49190, 'Cascade foothills in PNW', '16-03-2020', 'Positive'], [4238, 49190, 'Cascade foothills in PNW', '16-03-2020', 'Positive'], [4002, 48954, nan, '16-03-2020', 'Positive'], [4002, 48954, nan, '16-03-2020', 'Positive'], [4002, 48954, nan, '16-03-2020', 'Positive'], [4851, 49803, 'North West', '17-03-2020', 'Negative'], [4851, 49803, 'North West', '17-03-2020', 'Negative'], [4851, 49803, 'North West', '17-03-2020', 'Negative'], [3955, 48907, 'United States', '16-03-2020', 'Positive'], [3955, 48907, 'United States', '16-03-2020', 'Positive'], [3955, 48907, 'United States', '16-03-2020', 'Positive'], [4898, 49850, 'beeboverse', '17-03-2020', 'Positive'], [4898, 49850, 'beeboverse', '17-03-2020', 'Positive'], [4898, 49850, 'beeboverse', '17-03-2020', 'Positive'], [4269, 49221, 'George Town', '16-03-2020', 'Negative'], [4269, 49221, 'George Town', '16-03-2020', 'Negative'], [4269, 49221, 'George Town', '16-03-2020', 'Negative'], [4472, 49424, 'Niagara, Ontario', '17-03-2020', 'Extremely Positive'], [4472, 49424, 'Niagara, Ontario', '17-03-2020', 'Extremely Positive'], [4472, 49424, 'Niagara, Ontario', '17-03-2020', 'Extremely Positive'], [4329, 49281, nan, '16-03-2020', 'Neutral'], [4329, 49281, nan, '16-03-2020', 'Neutral'], [4329, 49281, nan, '16-03-2020', 'Neutral'], [4450, 49402, 'Los Angeles, CA', '16-03-2020', 'Positive'], [4450, 49402, 'Los Angeles, CA', '16-03-2020', 'Positive'], [4450, 49402, 'Los Angeles, CA', '16-03-2020', 'Positive'], [4089, 49041, nan, '16-03-2020', 'Negative'], [4089, 49041, nan, '16-03-2020', 'Negative'], [4089, 49041, nan, '16-03-2020', 'Negative'], [3913, 48865, 'Fort Wayne, IN', '16-03-2020', 'Extremely Negative'], [3913, 48865, 'Fort Wayne, IN', '16-03-2020', 'Extremely Negative'], [3913, 48865, 'Fort Wayne, IN', '16-03-2020', 'Extremely Negative'], [4758, 49710, nan, '17-03-2020', 'Extremely Positive'], [4758, 49710, nan, '17-03-2020', 'Extremely Positive'], [4758, 49710, nan, '17-03-2020', 'Extremely Positive'], [4528, 49480, 'Adelaide, South Australia', '17-03-2020', 'Extremely Positive'], [4528, 49480, 'Adelaide, South Australia', '17-03-2020', 'Extremely Positive'], [4528, 49480, 'Adelaide, South Australia', '17-03-2020', 'Extremely Positive'], [4663, 49615, nan, '17-03-2020', 'Negative'], [4663, 49615, nan, '17-03-2020', 'Negative'], [4663, 49615, nan, '17-03-2020', 'Negative'], [4316, 49268, 'Dallas, TX', '16-03-2020', 'Negative'], [4316, 49268, 'Dallas, TX', '16-03-2020', 'Negative'], [4316, 49268, 'Dallas, TX', '16-03-2020', 'Negative'], [4763, 49715, 'London', '17-03-2020', 'Positive'], [4763, 49715, 'London', '17-03-2020', 'Positive'], [4763, 49715, 'London', '17-03-2020', 'Positive'], [4209, 49161, 'Karachi, Pakistan', '16-03-2020', 'Negative'], [4209, 49161, 'Karachi, Pakistan', '16-03-2020', 'Negative'], [4209, 49161, 'Karachi, Pakistan', '16-03-2020', 'Negative'], [4807, 49759, 'Winnipeg, MB', '17-03-2020', 'Negative'], [4807, 49759, 'Winnipeg, MB', '17-03-2020', 'Negative'], [4807, 49759, 'Winnipeg, MB', '17-03-2020', 'Negative'], [4562, 49514, 'Hardoi, Ahemdabad, India', '17-03-2020', 'Positive'], [4562, 49514, 'Hardoi, Ahemdabad, India', '17-03-2020', 'Positive'], [4562, 49514, 'Hardoi, Ahemdabad, India', '17-03-2020', 'Positive'], [4310, 49262, 'Washington, D.C.', '16-03-2020', 'Extremely Positive'], [4310, 49262, 'Washington, D.C.', '16-03-2020', 'Extremely Positive'], [4310, 49262, 'Washington, D.C.', '16-03-2020', 'Extremely Positive'], [3906, 48858, 'Abilene, TX', '16-03-2020', 'Extremely Negative'], [3906, 48858, 'Abilene, TX', '16-03-2020', 'Extremely Negative'], [3906, 48858, 'Abilene, TX', '16-03-2020', 'Extremely Negative'], [4739, 49691, 'Indonesia', '17-03-2020', 'Negative'], [4739, 49691, 'Indonesia', '17-03-2020', 'Negative'], [4739, 49691, 'Indonesia', '17-03-2020', 'Negative'], [4400, 49352, 'London', '16-03-2020', 'Negative'], [4400, 49352, 'London', '16-03-2020', 'Negative'], [4400, 49352, 'London', '16-03-2020', 'Negative'], [3809, 48761, 'Makati, Manila', '16-03-2020', 'Neutral'], [3809, 48761, 'Makati, Manila', '16-03-2020', 'Neutral'], [3809, 48761, 'Makati, Manila', '16-03-2020', 'Neutral'], [3829, 48781, nan, '16-03-2020', 'Negative'], [3829, 48781, nan, '16-03-2020', 'Negative'], [3829, 48781, nan, '16-03-2020', 'Negative'], [4534, 49486, 'Western NC, USA', '17-03-2020', 'Extremely Positive'], [4534, 49486, 'Western NC, USA', '17-03-2020', 'Extremely Positive'], [4534, 49486, 'Western NC, USA', '17-03-2020', 'Extremely Positive'], [4672, 49624, nan, '17-03-2020', 'Neutral'], [4672, 49624, nan, '17-03-2020', 'Neutral'], [4672, 49624, nan, '17-03-2020', 'Neutral'], [4115, 49067, 'Helsinki, Finland', '16-03-2020', 'Neutral'], [4115, 49067, 'Helsinki, Finland', '16-03-2020', 'Neutral'], [4115, 49067, 'Helsinki, Finland', '16-03-2020', 'Neutral'], [4134, 49086, 'Michigan', '16-03-2020', 'Neutral'], [4134, 49086, 'Michigan', '16-03-2020', 'Neutral'], [4134, 49086, 'Michigan', '16-03-2020', 'Neutral'], [3900, 48852, 'London, UK and....', '16-03-2020', 'Negative'], [3900, 48852, 'London, UK and....', '16-03-2020', 'Negative'], [3900, 48852, 'London, UK and....', '16-03-2020', 'Negative'], [4377, 49329, 'New York, NY', '16-03-2020', 'Negative'], [4377, 49329, 'New York, NY', '16-03-2020', 'Negative'], [4377, 49329, 'New York, NY', '16-03-2020', 'Negative'], [4573, 49525, 'Kreis Viersen Germany ', '17-03-2020', 'Positive'], [4573, 49525, 'Kreis Viersen Germany ', '17-03-2020', 'Positive'], [4573, 49525, 'Kreis Viersen Germany ', '17-03-2020', 'Positive'], [4037, 48989, nan, '16-03-2020', 'Negative'], [4037, 48989, nan, '16-03-2020', 'Negative'], [4037, 48989, nan, '16-03-2020', 'Negative'], [3878, 48830, 'Boston, MA', '16-03-2020', 'Positive'], [3878, 48830, 'Boston, MA', '16-03-2020', 'Positive'], [3878, 48830, 'Boston, MA', '16-03-2020', 'Positive'], [4723, 49675, 'Pakistan', '17-03-2020', 'Extremely Negative'], [4723, 49675, 'Pakistan', '17-03-2020', 'Extremely Negative'], [4723, 49675, 'Pakistan', '17-03-2020', 'Extremely Negative'], [4068, 49020, 'Shanghai', '16-03-2020', 'Positive'], [4068, 49020, 'Shanghai', '16-03-2020', 'Positive'], [4068, 49020, 'Shanghai', '16-03-2020', 'Positive'], [4667, 49619, nan, '17-03-2020', 'Positive'], [4667, 49619, nan, '17-03-2020', 'Positive'], [4667, 49619, nan, '17-03-2020', 'Positive'], [4418, 49370, 'liv', '16-03-2020', 'Extremely Negative'], [4418, 49370, 'liv', '16-03-2020', 'Extremely Negative'], [4418, 49370, 'liv', '16-03-2020', 'Extremely Negative'], [4210, 49162, 'Toronto', '16-03-2020', 'Positive'], [4210, 49162, 'Toronto', '16-03-2020', 'Positive'], [4210, 49162, 'Toronto', '16-03-2020', 'Positive'], [4976, 49928, 'Los Angeles, CA', '17-03-2020', 'Extremely Negative'], [4976, 49928, 'Los Angeles, CA', '17-03-2020', 'Extremely Negative'], [4976, 49928, 'Los Angeles, CA', '17-03-2020', 'Extremely Negative'], [4216, 49168, 'USA', '16-03-2020', 'Negative'], [4216, 49168, 'USA', '16-03-2020', 'Negative'], [4216, 49168, 'USA', '16-03-2020', 'Negative'], [4589, 49541, 'Parys, South Africa', '17-03-2020', 'Positive'], [4589, 49541, 'Parys, South Africa', '17-03-2020', 'Positive'], [4589, 49541, 'Parys, South Africa', '17-03-2020', 'Positive'], [4014, 48966, 'Montreal, QC', '16-03-2020', 'Negative'], [4014, 48966, 'Montreal, QC', '16-03-2020', 'Negative'], [4014, 48966, 'Montreal, QC', '16-03-2020', 'Negative'], [4480, 49432, 'ware', '17-03-2020', 'Extremely Negative'], [4480, 49432, 'ware', '17-03-2020', 'Extremely Negative'], [4480, 49432, 'ware', '17-03-2020', 'Extremely Negative'], [4947, 49899, 'South Central Pennsylvania', '17-03-2020', 'Extremely Positive'], [4947, 49899, 'South Central Pennsylvania', '17-03-2020', 'Extremely Positive'], [4947, 49899, 'South Central Pennsylvania', '17-03-2020', 'Extremely Positive'], [4634, 49586, 'Mid-Michigan', '17-03-2020', 'Negative'], [4634, 49586, 'Mid-Michigan', '17-03-2020', 'Negative'], [4634, 49586, 'Mid-Michigan', '17-03-2020', 'Negative'], [4592, 49544, 'Deadpool is my Patronus ', '17-03-2020', 'Neutral'], [4592, 49544, 'Deadpool is my Patronus ', '17-03-2020', 'Neutral'], [4592, 49544, 'Deadpool is my Patronus ', '17-03-2020', 'Neutral'], [4348, 49300, 'Preston, England', '16-03-2020', 'Neutral'], [4348, 49300, 'Preston, England', '16-03-2020', 'Neutral'], [4348, 49300, 'Preston, England', '16-03-2020', 'Neutral'], [3941, 48893, 'London', '16-03-2020', 'Positive'], [3941, 48893, 'London', '16-03-2020', 'Positive'], [3941, 48893, 'London', '16-03-2020', 'Positive'], [4638, 49590, 'Amsterdam', '17-03-2020', 'Negative'], [4638, 49590, 'Amsterdam', '17-03-2020', 'Negative'], [4638, 49590, 'Amsterdam', '17-03-2020', 'Negative'], [4070, 49022, 'Kuala Lumpur City, Kuala Lumpu', '16-03-2020', 'Positive'], [4070, 49022, 'Kuala Lumpur City, Kuala Lumpu', '16-03-2020', 'Positive'], [4070, 49022, 'Kuala Lumpur City, Kuala Lumpu', '16-03-2020', 'Positive'], [4470, 49422, 'Joburg and wherever life takes', '17-03-2020', 'Negative'], [4470, 49422, 'Joburg and wherever life takes', '17-03-2020', 'Negative'], [4470, 49422, 'Joburg and wherever life takes', '17-03-2020', 'Negative'], [3908, 48860, 'Denver, CO', '16-03-2020', 'Positive'], [3908, 48860, 'Denver, CO', '16-03-2020', 'Positive'], [3908, 48860, 'Denver, CO', '16-03-2020', 'Positive'], [3821, 48773, nan, '16-03-2020', 'Extremely Positive'], [3821, 48773, nan, '16-03-2020', 'Extremely Positive'], [3821, 48773, nan, '16-03-2020', 'Extremely Positive'], [3880, 48832, 'Great Wakering Essex', '16-03-2020', 'Positive'], [3880, 48832, 'Great Wakering Essex', '16-03-2020', 'Positive'], [3880, 48832, 'Great Wakering Essex', '16-03-2020', 'Positive'], [4201, 49153, 'Punjab, India', '16-03-2020', 'Extremely Positive'], [4201, 49153, 'Punjab, India', '16-03-2020', 'Extremely Positive'], [4201, 49153, 'Punjab, India', '16-03-2020', 'Extremely Positive'], [4806, 49758, nan, '17-03-2020', 'Positive'], [4806, 49758, nan, '17-03-2020', 'Positive'], [4806, 49758, nan, '17-03-2020', 'Positive'], [4503, 49455, nan, '17-03-2020', 'Negative'], [4503, 49455, nan, '17-03-2020', 'Negative'], [4503, 49455, nan, '17-03-2020', 'Negative'], [4920, 49872, 'WorldWide', '17-03-2020', 'Negative'], [4920, 49872, 'WorldWide', '17-03-2020', 'Negative'], [4920, 49872, 'WorldWide', '17-03-2020', 'Negative'], [4822, 49774, 'Barrie, Ontario', '17-03-2020', 'Negative'], [4822, 49774, 'Barrie, Ontario', '17-03-2020', 'Negative'], [4822, 49774, 'Barrie, Ontario', '17-03-2020', 'Negative'], [3842, 48794, 'Vancouver, British Columbia', '16-03-2020', 'Neutral'], [3842, 48794, 'Vancouver, British Columbia', '16-03-2020', 'Neutral'], [3842, 48794, 'Vancouver, British Columbia', '16-03-2020', 'Neutral'], [4567, 49519, 'He/him pre-t', '17-03-2020', 'Neutral'], [4567, 49519, 'He/him pre-t', '17-03-2020', 'Neutral'], [4567, 49519, 'He/him pre-t', '17-03-2020', 'Neutral'], [4417, 49369, nan, '16-03-2020', 'Positive'], [4417, 49369, nan, '16-03-2020', 'Positive'], [4417, 49369, nan, '16-03-2020', 'Positive'], [3838, 48790, 'United States', '16-03-2020', 'Positive'], [3838, 48790, 'United States', '16-03-2020', 'Positive'], [3838, 48790, 'United States', '16-03-2020', 'Positive'], [4639, 49591, 'Washington, DC', '17-03-2020', 'Extremely Negative'], [4639, 49591, 'Washington, DC', '17-03-2020', 'Extremely Negative'], [4639, 49591, 'Washington, DC', '17-03-2020', 'Extremely Negative'], [4753, 49705, 'Tennessee, USA', '17-03-2020', 'Neutral'], [4753, 49705, 'Tennessee, USA', '17-03-2020', 'Neutral'], [4753, 49705, 'Tennessee, USA', '17-03-2020', 'Neutral'], [4626, 49578, nan, '17-03-2020', 'Neutral'], [4626, 49578, nan, '17-03-2020', 'Neutral'], [4626, 49578, nan, '17-03-2020', 'Neutral'], [3929, 48881, 'United States', '16-03-2020', 'Extremely Positive'], [3929, 48881, 'United States', '16-03-2020', 'Extremely Positive'], [3929, 48881, 'United States', '16-03-2020', 'Extremely Positive'], [4800, 49752, 'Atlanta, Georgia', '17-03-2020', 'Neutral'], [4800, 49752, 'Atlanta, Georgia', '17-03-2020', 'Neutral'], [4800, 49752, 'Atlanta, Georgia', '17-03-2020', 'Neutral'], [4841, 49793, nan, '17-03-2020', 'Positive'], [4841, 49793, nan, '17-03-2020', 'Positive'], [4841, 49793, nan, '17-03-2020', 'Positive'], [3892, 48844, 'Leicester, England', '16-03-2020', 'Extremely Positive'], [3892, 48844, 'Leicester, England', '16-03-2020', 'Extremely Positive'], [3892, 48844, 'Leicester, England', '16-03-2020', 'Extremely Positive'], [4387, 49339, nan, '16-03-2020', 'Extremely Negative'], [4387, 49339, nan, '16-03-2020', 'Extremely Negative'], [4387, 49339, nan, '16-03-2020', 'Extremely Negative'], [4751, 49703, nan, '17-03-2020', 'Negative'], [4751, 49703, nan, '17-03-2020', 'Negative'], [4751, 49703, nan, '17-03-2020', 'Negative'], [4661, 49613, nan, '17-03-2020', 'Positive'], [4661, 49613, nan, '17-03-2020', 'Positive'], [4661, 49613, nan, '17-03-2020', 'Positive'], [4413, 49365, nan, '16-03-2020', 'Positive'], [4413, 49365, nan, '16-03-2020', 'Positive'], [4413, 49365, nan, '16-03-2020', 'Positive'], [4545, 49497, 'Queens, NY', '17-03-2020', 'Neutral'], [4545, 49497, 'Queens, NY', '17-03-2020', 'Neutral'], [4545, 49497, 'Queens, NY', '17-03-2020', 'Neutral'], [4042, 48994, 'Chicago', '16-03-2020', 'Positive'], [4042, 48994, 'Chicago', '16-03-2020', 'Positive'], [4042, 48994, 'Chicago', '16-03-2020', 'Positive'], [3905, 48857, 'd.', '16-03-2020', 'Positive'], [3905, 48857, 'd.', '16-03-2020', 'Positive'], [3905, 48857, 'd.', '16-03-2020', 'Positive'], [4612, 49564, 'England, United Kingdom', '17-03-2020', 'Extremely Negative'], [4612, 49564, 'England, United Kingdom', '17-03-2020', 'Extremely Negative'], [4612, 49564, 'England, United Kingdom', '17-03-2020', 'Extremely Negative'], [4156, 49108, 'Global', '16-03-2020', 'Negative'], [4156, 49108, 'Global', '16-03-2020', 'Negative'], [4156, 49108, 'Global', '16-03-2020', 'Negative'], [3835, 48787, 'Where The Wild Things Are', '16-03-2020', 'Positive'], [3835, 48787, 'Where The Wild Things Are', '16-03-2020', 'Positive'], [3835, 48787, 'Where The Wild Things Are', '16-03-2020', 'Positive'], [4251, 49203, 'New York City', '16-03-2020', 'Extremely Positive'], [4251, 49203, 'New York City', '16-03-2020', 'Extremely Positive'], [4251, 49203, 'New York City', '16-03-2020', 'Extremely Positive'], [4015, 48967, 'Townsend, TN', '16-03-2020', 'Neutral'], [4015, 48967, 'Townsend, TN', '16-03-2020', 'Neutral'], [4015, 48967, 'Townsend, TN', '16-03-2020', 'Neutral'], [4410, 49362, 'Staten Island, NY', '16-03-2020', 'Neutral'], [4410, 49362, 'Staten Island, NY', '16-03-2020', 'Neutral'], [4410, 49362, 'Staten Island, NY', '16-03-2020', 'Neutral'], [4729, 49681, nan, '17-03-2020', 'Neutral'], [4729, 49681, nan, '17-03-2020', 'Neutral'], [4729, 49681, nan, '17-03-2020', 'Neutral'], [4332, 49284, nan, '16-03-2020', 'Positive'], [4332, 49284, nan, '16-03-2020', 'Positive'], [4332, 49284, nan, '16-03-2020', 'Positive'], [4950, 49902, 'oxford, ohio', '17-03-2020', 'Extremely Positive'], [4950, 49902, 'oxford, ohio', '17-03-2020', 'Extremely Positive'], [4950, 49902, 'oxford, ohio', '17-03-2020', 'Extremely Positive'], [3969, 48921, nan, '16-03-2020', 'Extremely Negative'], [3969, 48921, nan, '16-03-2020', 'Extremely Negative'], [3969, 48921, nan, '16-03-2020', 'Extremely Negative'], [4200, 49152, nan, '16-03-2020', 'Negative'], [4200, 49152, nan, '16-03-2020', 'Negative'], [4200, 49152, nan, '16-03-2020', 'Negative'], [4520, 49472, nan, '17-03-2020', 'Extremely Positive'], [4520, 49472, nan, '17-03-2020', 'Extremely Positive'], [4520, 49472, nan, '17-03-2020', 'Extremely Positive'], [4849, 49801, 'Devon', '17-03-2020', 'Extremely Positive'], [4849, 49801, 'Devon', '17-03-2020', 'Extremely Positive'], [4849, 49801, 'Devon', '17-03-2020', 'Extremely Positive'], [3840, 48792, nan, '16-03-2020', 'Positive'], [3840, 48792, nan, '16-03-2020', 'Positive'], [3840, 48792, nan, '16-03-2020', 'Positive'], [4096, 49048, 'Yorkshire', '16-03-2020', 'Extremely Negative'], [4096, 49048, 'Yorkshire', '16-03-2020', 'Extremely Negative'], [4096, 49048, 'Yorkshire', '16-03-2020', 'Extremely Negative'], [4059, 49011, nan, '16-03-2020', 'Positive'], [4059, 49011, nan, '16-03-2020', 'Positive'], [4059, 49011, nan, '16-03-2020', 'Positive'], [4542, 49494, 'Wadi el-Yawant.', '17-03-2020', 'Positive'], [4542, 49494, 'Wadi el-Yawant.', '17-03-2020', 'Positive'], [4542, 49494, 'Wadi el-Yawant.', '17-03-2020', 'Positive'], [4972, 49924, 'Tampa FL', '17-03-2020', 'Neutral'], [4972, 49924, 'Tampa FL', '17-03-2020', 'Neutral'], [4972, 49924, 'Tampa FL', '17-03-2020', 'Neutral'], [4919, 49871, 'Austin, Texas', '17-03-2020', 'Neutral'], [4919, 49871, 'Austin, Texas', '17-03-2020', 'Neutral'], [4919, 49871, 'Austin, Texas', '17-03-2020', 'Neutral'], [4757, 49709, nan, '17-03-2020', 'Positive'], [4757, 49709, nan, '17-03-2020', 'Positive'], [4757, 49709, nan, '17-03-2020', 'Positive'], [4290, 49242, nan, '16-03-2020', 'Extremely Negative'], [4290, 49242, nan, '16-03-2020', 'Extremely Negative'], [4290, 49242, nan, '16-03-2020', 'Extremely Negative'], [4345, 49297, nan, '16-03-2020', 'Neutral'], [4345, 49297, nan, '16-03-2020', 'Neutral'], [4345, 49297, nan, '16-03-2020', 'Neutral'], [4713, 49665, 'Springfield, Illinois', '17-03-2020', 'Neutral'], [4713, 49665, 'Springfield, Illinois', '17-03-2020', 'Neutral'], [4713, 49665, 'Springfield, Illinois', '17-03-2020', 'Neutral'], [4734, 49686, 'Sacramento, CA', '17-03-2020', 'Positive'], [4734, 49686, 'Sacramento, CA', '17-03-2020', 'Positive'], [4734, 49686, 'Sacramento, CA', '17-03-2020', 'Positive'], [4421, 49373, 'Chicago, Illinois', '16-03-2020', 'Positive'], [4421, 49373, 'Chicago, Illinois', '16-03-2020', 'Positive'], [4421, 49373, 'Chicago, Illinois', '16-03-2020', 'Positive'], [4100, 49052, 'Australia', '16-03-2020', 'Neutral'], [4100, 49052, 'Australia', '16-03-2020', 'Neutral'], [4100, 49052, 'Australia', '16-03-2020', 'Neutral'], [4631, 49583, 'CA-FL-HI-OR-LV', '17-03-2020', 'Extremely Negative'], [4631, 49583, 'CA-FL-HI-OR-LV', '17-03-2020', 'Extremely Negative'], [4631, 49583, 'CA-FL-HI-OR-LV', '17-03-2020', 'Extremely Negative'], [4668, 49620, nan, '17-03-2020', 'Negative'], [4668, 49620, nan, '17-03-2020', 'Negative'], [4668, 49620, nan, '17-03-2020', 'Negative'], [4018, 48970, 'Nairobi', '16-03-2020', 'Extremely Negative'], [4018, 48970, 'Nairobi', '16-03-2020', 'Extremely Negative'], [4018, 48970, 'Nairobi', '16-03-2020', 'Extremely Negative'], [4025, 48977, 'Jackson Heights, NY', '16-03-2020', 'Positive'], [4025, 48977, 'Jackson Heights, NY', '16-03-2020', 'Positive'], [4025, 48977, 'Jackson Heights, NY', '16-03-2020', 'Positive'], [4271, 49223, 'NZ born, Melbourne home', '16-03-2020', 'Negative'], [4271, 49223, 'NZ born, Melbourne home', '16-03-2020', 'Negative'], [4271, 49223, 'NZ born, Melbourne home', '16-03-2020', 'Negative'], [4577, 49529, nan, '17-03-2020', 'Extremely Negative'], [4577, 49529, nan, '17-03-2020', 'Extremely Negative'], [4577, 49529, nan, '17-03-2020', 'Extremely Negative'], [4327, 49279, 'Washington, DC', '16-03-2020', 'Negative'], [4327, 49279, 'Washington, DC', '16-03-2020', 'Negative'], [4327, 49279, 'Washington, DC', '16-03-2020', 'Negative'], [4847, 49799, 'Memphis, TN', '17-03-2020', 'Negative'], [4847, 49799, 'Memphis, TN', '17-03-2020', 'Negative'], [4847, 49799, 'Memphis, TN', '17-03-2020', 'Negative'], [4842, 49794, 'Ottawa, Ontario', '17-03-2020', 'Positive'], [4842, 49794, 'Ottawa, Ontario', '17-03-2020', 'Positive'], [4842, 49794, 'Ottawa, Ontario', '17-03-2020', 'Positive'], [4267, 49219, nan, '16-03-2020', 'Negative'], [4267, 49219, nan, '16-03-2020', 'Negative'], [4267, 49219, nan, '16-03-2020', 'Negative'], [4695, 49647, 'Las Vegas, NV', '17-03-2020', 'Extremely Negative'], [4695, 49647, 'Las Vegas, NV', '17-03-2020', 'Extremely Negative'], [4695, 49647, 'Las Vegas, NV', '17-03-2020', 'Extremely Negative'], [4273, 49225, 'Maine, USA', '16-03-2020', 'Positive'], [4273, 49225, 'Maine, USA', '16-03-2020', 'Positive'], [4273, 49225, 'Maine, USA', '16-03-2020', 'Positive'], [4338, 49290, 'London, UK', '16-03-2020', 'Extremely Positive'], [4338, 49290, 'London, UK', '16-03-2020', 'Extremely Positive'], [4338, 49290, 'London, UK', '16-03-2020', 'Extremely Positive'], [4121, 49073, nan, '16-03-2020', 'Positive'], [4121, 49073, nan, '16-03-2020', 'Positive'], [4121, 49073, nan, '16-03-2020', 'Positive'], [4317, 49269, 'Regina, Saskatchewan Canada ', '16-03-2020', 'Negative'], [4317, 49269, 'Regina, Saskatchewan Canada ', '16-03-2020', 'Negative'], [4317, 49269, 'Regina, Saskatchewan Canada ', '16-03-2020', 'Negative'], [4208, 49160, 'Central African Republic', '16-03-2020', 'Positive'], [4208, 49160, 'Central African Republic', '16-03-2020', 'Positive'], [4208, 49160, 'Central African Republic', '16-03-2020', 'Positive'], [4349, 49301, 'MENA Region', '16-03-2020', 'Negative'], [4349, 49301, 'MENA Region', '16-03-2020', 'Negative'], [4349, 49301, 'MENA Region', '16-03-2020', 'Negative'], [4080, 49032, 'San Francisco, CA', '16-03-2020', 'Extremely Positive'], [4080, 49032, 'San Francisco, CA', '16-03-2020', 'Extremely Positive'], [4080, 49032, 'San Francisco, CA', '16-03-2020', 'Extremely Positive'], [4137, 49089, nan, '16-03-2020', 'Neutral'], [4137, 49089, nan, '16-03-2020', 'Neutral'], [4137, 49089, nan, '16-03-2020', 'Neutral'], [4689, 49641, 'South Carolina, USA', '17-03-2020', 'Negative'], [4689, 49641, 'South Carolina, USA', '17-03-2020', 'Negative'], [4689, 49641, 'South Carolina, USA', '17-03-2020', 'Negative'], [4811, 49763, 'Borehamwood, Hertfordshire', '17-03-2020', 'Positive'], [4811, 49763, 'Borehamwood, Hertfordshire', '17-03-2020', 'Positive'], [4811, 49763, 'Borehamwood, Hertfordshire', '17-03-2020', 'Positive'], [4250, 49202, 'Baltimore, MD', '16-03-2020', 'Positive'], [4250, 49202, 'Baltimore, MD', '16-03-2020', 'Positive'], [4250, 49202, 'Baltimore, MD', '16-03-2020', 'Positive'], [4794, 49746, 'Washington, DC', '17-03-2020', 'Negative'], [4794, 49746, 'Washington, DC', '17-03-2020', 'Negative'], [4794, 49746, 'Washington, DC', '17-03-2020', 'Negative'], [4863, 49815, 'https://www.youtube.com/watch?v=X7_SCzowzR4', '17-03-2020', 'Negative'], [4863, 49815, 'https://www.youtube.com/watch?v=X7_SCzowzR4', '17-03-2020', 'Negative'], [4863, 49815, 'https://www.youtube.com/watch?v=X7_SCzowzR4', '17-03-2020', 'Negative'], [4815, 49767, nan, '17-03-2020', 'Negative'], [4815, 49767, nan, '17-03-2020', 'Negative'], [4815, 49767, nan, '17-03-2020', 'Negative'], [3950, 48902, 'Rear spot ?', '16-03-2020', 'Positive'], [3950, 48902, 'Rear spot ?', '16-03-2020', 'Positive'], [3950, 48902, 'Rear spot ?', '16-03-2020', 'Positive'], [4408, 49360, nan, '16-03-2020', 'Positive'], [4408, 49360, nan, '16-03-2020', 'Positive'], [4408, 49360, nan, '16-03-2020', 'Positive'], [4906, 49858, 'Conwy, Wales', '17-03-2020', 'Neutral'], [4906, 49858, 'Conwy, Wales', '17-03-2020', 'Neutral'], [4906, 49858, 'Conwy, Wales', '17-03-2020', 'Neutral'], [4530, 49482, 'Amsterdam', '17-03-2020', 'Extremely Negative'], [4530, 49482, 'Amsterdam', '17-03-2020', 'Extremely Negative'], [4530, 49482, 'Amsterdam', '17-03-2020', 'Extremely Negative'], [4597, 49549, 'Los Angeles, CA', '17-03-2020', 'Negative'], [4597, 49549, 'Los Angeles, CA', '17-03-2020', 'Negative'], [4597, 49549, 'Los Angeles, CA', '17-03-2020', 'Negative'], [3869, 48821, 'NCSU', '16-03-2020', 'Neutral'], [3869, 48821, 'NCSU', '16-03-2020', 'Neutral'], [3869, 48821, 'NCSU', '16-03-2020', 'Neutral'], [4876, 49828, 'New York', '17-03-2020', 'Extremely Negative'], [4876, 49828, 'New York', '17-03-2020', 'Extremely Negative'], [4876, 49828, 'New York', '17-03-2020', 'Extremely Negative'], [4424, 49376, 'Manhattan, NY', '16-03-2020', 'Neutral'], [4424, 49376, 'Manhattan, NY', '16-03-2020', 'Neutral'], [4424, 49376, 'Manhattan, NY', '16-03-2020', 'Neutral'], [4968, 49920, 'College Station, TX', '17-03-2020', 'Neutral'], [4968, 49920, 'College Station, TX', '17-03-2020', 'Neutral'], [4968, 49920, 'College Station, TX', '17-03-2020', 'Neutral'], [4737, 49689, 'Ohio', '17-03-2020', 'Extremely Negative'], [4737, 49689, 'Ohio', '17-03-2020', 'Extremely Negative'], [4737, 49689, 'Ohio', '17-03-2020', 'Extremely Negative'], [4126, 49078, 'United States', '16-03-2020', 'Neutral'], [4126, 49078, 'United States', '16-03-2020', 'Neutral'], [4126, 49078, 'United States', '16-03-2020', 'Neutral'], [3961, 48913, 'Nowhere', '16-03-2020', 'Extremely Negative'], [3961, 48913, 'Nowhere', '16-03-2020', 'Extremely Negative'], [3961, 48913, 'Nowhere', '16-03-2020', 'Extremely Negative'], [4890, 49842, nan, '17-03-2020', 'Negative'], [4890, 49842, nan, '17-03-2020', 'Negative'], [4890, 49842, nan, '17-03-2020', 'Negative'], [4819, 49771, 'Connecticut, USA', '17-03-2020', 'Positive'], [4819, 49771, 'Connecticut, USA', '17-03-2020', 'Positive'], [4819, 49771, 'Connecticut, USA', '17-03-2020', 'Positive'], [4698, 49650, 'San Francisco, CA', '17-03-2020', 'Extremely Negative'], [4698, 49650, 'San Francisco, CA', '17-03-2020', 'Extremely Negative'], [4698, 49650, 'San Francisco, CA', '17-03-2020', 'Extremely Negative'], [4650, 49602, 'Arlington, VA', '17-03-2020', 'Extremely Negative'], [4650, 49602, 'Arlington, VA', '17-03-2020', 'Extremely Negative'], [4650, 49602, 'Arlington, VA', '17-03-2020', 'Extremely Negative'], [4221, 49173, 'Washington, DC & Cambridge, UK', '16-03-2020', 'Neutral'], [4221, 49173, 'Washington, DC & Cambridge, UK', '16-03-2020', 'Neutral'], [4221, 49173, 'Washington, DC & Cambridge, UK', '16-03-2020', 'Neutral'], [4098, 49050, 'Washington, D.C.', '16-03-2020', 'Negative'], [4098, 49050, 'Washington, D.C.', '16-03-2020', 'Negative'], [4098, 49050, 'Washington, D.C.', '16-03-2020', 'Negative'], [4266, 49218, nan, '16-03-2020', 'Extremely Positive'], [4266, 49218, nan, '16-03-2020', 'Extremely Positive'], [4266, 49218, nan, '16-03-2020', 'Extremely Positive'], [4835, 49787, 'United States', '17-03-2020', 'Extremely Negative'], [4835, 49787, 'United States', '17-03-2020', 'Extremely Negative'], [4835, 49787, 'United States', '17-03-2020', 'Extremely Negative'], [4935, 49887, 'London, UK', '17-03-2020', 'Extremely Positive'], [4935, 49887, 'London, UK', '17-03-2020', 'Extremely Positive'], [4935, 49887, 'London, UK', '17-03-2020', 'Extremely Positive'], [4454, 49406, 'They/she, Nb, bi', '16-03-2020', 'Negative'], [4454, 49406, 'They/she, Nb, bi', '16-03-2020', 'Negative'], [4454, 49406, 'They/she, Nb, bi', '16-03-2020', 'Negative'], [4936, 49888, 'Toronto, Ontario', '17-03-2020', 'Positive'], [4936, 49888, 'Toronto, Ontario', '17-03-2020', 'Positive'], [4936, 49888, 'Toronto, Ontario', '17-03-2020', 'Positive'], [4989, 49941, 'SoCo RI via K-ville PA', '17-03-2020', 'Extremely Positive'], [4989, 49941, 'SoCo RI via K-ville PA', '17-03-2020', 'Extremely Positive'], [4989, 49941, 'SoCo RI via K-ville PA', '17-03-2020', 'Extremely Positive'], [4878, 49830, 'Murcia y Castell├│n. Espa├▒a.', '17-03-2020', 'Neutral'], [4878, 49830, 'Murcia y Castell├│n. Espa├▒a.', '17-03-2020', 'Neutral'], [4132, 49084, 'Patna, India', '16-03-2020', 'Extremely Positive'], [4132, 49084, 'Patna, India', '16-03-2020', 'Extremely Positive'], [4132, 49084, 'Patna, India', '16-03-2020', 'Extremely Positive'], [4820, 49772, 'Jersey, UK', '17-03-2020', 'Positive'], [4820, 49772, 'Jersey, UK', '17-03-2020', 'Positive'], [4820, 49772, 'Jersey, UK', '17-03-2020', 'Positive'], [4598, 49550, nan, '17-03-2020', 'Extremely Negative'], [4598, 49550, nan, '17-03-2020', 'Extremely Negative'], [4598, 49550, nan, '17-03-2020', 'Extremely Negative'], [4957, 49909, 'Australia', '17-03-2020', 'Positive'], [4957, 49909, 'Australia', '17-03-2020', 'Positive'], [4957, 49909, 'Australia', '17-03-2020', 'Positive'], [4707, 49659, 'Plymouth, MN', '17-03-2020', 'Positive'], [4707, 49659, 'Plymouth, MN', '17-03-2020', 'Positive'], [4707, 49659, 'Plymouth, MN', '17-03-2020', 'Positive'], [4009, 48961, 'Bowie, MD', '16-03-2020', 'Neutral'], [4009, 48961, 'Bowie, MD', '16-03-2020', 'Neutral'], [4009, 48961, 'Bowie, MD', '16-03-2020', 'Neutral'], [4341, 49293, 'Valencia County, New Mexico', '16-03-2020', 'Positive'], [4341, 49293, 'Valencia County, New Mexico', '16-03-2020', 'Positive'], [4341, 49293, 'Valencia County, New Mexico', '16-03-2020', 'Positive'], [4755, 49707, nan, '17-03-2020', 'Negative'], [4755, 49707, nan, '17-03-2020', 'Negative'], [4755, 49707, nan, '17-03-2020', 'Negative'], [4322, 49274, 'Pennsylvania, USA', '16-03-2020', 'Extremely Negative'], [4322, 49274, 'Pennsylvania, USA', '16-03-2020', 'Extremely Negative'], [4322, 49274, 'Pennsylvania, USA', '16-03-2020', 'Extremely Negative'], [4090, 49042, 'Vail, CO', '16-03-2020', 'Negative'], [4090, 49042, 'Vail, CO', '16-03-2020', 'Negative'], [4090, 49042, 'Vail, CO', '16-03-2020', 'Negative'], [4017, 48969, 'Kelowna BC Tel Aviv Israel', '16-03-2020', 'Neutral'], [4017, 48969, 'Kelowna BC Tel Aviv Israel', '16-03-2020', 'Neutral'], [4017, 48969, 'Kelowna BC Tel Aviv Israel', '16-03-2020', 'Neutral'], [4124, 49076, 'Philippines', '16-03-2020', 'Negative'], [4124, 49076, 'Philippines', '16-03-2020', 'Negative'], [4124, 49076, 'Philippines', '16-03-2020', 'Negative'], [4078, 49030, 'On Your Timeline', '16-03-2020', 'Negative'], [4078, 49030, 'On Your Timeline', '16-03-2020', 'Negative'], [4078, 49030, 'On Your Timeline', '16-03-2020', 'Negative'], [3928, 48880, 'LA ', '16-03-2020', 'Positive'], [3928, 48880, 'LA ', '16-03-2020', 'Positive'], [3928, 48880, 'LA ', '16-03-2020', 'Positive'], [4549, 49501, 'Cumi├¿res-le-Mort-Homme, France', '17-03-2020', 'Extremely Negative'], [4549, 49501, 'Cumi├¿res-le-Mort-Homme, France', '17-03-2020', 'Extremely Negative'], [4549, 49501, 'Cumi├¿res-le-Mort-Homme, France', '17-03-2020', 'Extremely Negative'], [4525, 49477, 'Singapore', '17-03-2020', 'Extremely Positive'], [4525, 49477, 'Singapore', '17-03-2020', 'Extremely Positive'], [4525, 49477, 'Singapore', '17-03-2020', 'Extremely Positive'], [3966, 48918, 'United States', '16-03-2020', 'Extremely Positive'], [3966, 48918, 'United States', '16-03-2020', 'Extremely Positive'], [3966, 48918, 'United States', '16-03-2020', 'Extremely Positive'], [4575, 49527, 'Cyberjaya', '17-03-2020', 'Negative'], [4575, 49527, 'Cyberjaya', '17-03-2020', 'Negative'], [4575, 49527, 'Cyberjaya', '17-03-2020', 'Negative'], [4887, 49839, 'Dublin', '17-03-2020', 'Extremely Negative'], [4887, 49839, 'Dublin', '17-03-2020', 'Extremely Negative'], [4887, 49839, 'Dublin', '17-03-2020', 'Extremely Negative'], [4363, 49315, 'London', '16-03-2020', 'Neutral'], [4363, 49315, 'London', '16-03-2020', 'Neutral'], [4363, 49315, 'London', '16-03-2020', 'Neutral'], [4013, 48965, 'Montreal, QC', '16-03-2020', 'Negative'], [4013, 48965, 'Montreal, QC', '16-03-2020', 'Negative'], [4013, 48965, 'Montreal, QC', '16-03-2020', 'Negative'], [4283, 49235, 'Lagos, Nigeria', '16-03-2020', 'Extremely Negative'], [4283, 49235, 'Lagos, Nigeria', '16-03-2020', 'Extremely Negative'], [4283, 49235, 'Lagos, Nigeria', '16-03-2020', 'Extremely Negative'], [4561, 49513, ' ?? ???? ??? ????? ??????? ', '17-03-2020', 'Positive'], [4561, 49513, ' ?? ???? ??? ????? ??????? ', '17-03-2020', 'Positive'], [4561, 49513, ' ?? ???? ??? ????? ??????? ', '17-03-2020', 'Positive'], [4314, 49266, 'Northern Ireland', '16-03-2020', 'Positive'], [4314, 49266, 'Northern Ireland', '16-03-2020', 'Positive'], [4314, 49266, 'Northern Ireland', '16-03-2020', 'Positive'], [4767, 49719, 'The Stones Call', '17-03-2020', 'Extremely Negative'], [4767, 49719, 'The Stones Call', '17-03-2020', 'Extremely Negative'], [4767, 49719, 'The Stones Call', '17-03-2020', 'Extremely Negative'], [4353, 49305, 'Sydney, Australia', '16-03-2020', 'Positive'], [4353, 49305, 'Sydney, Australia', '16-03-2020', 'Positive'], [4353, 49305, 'Sydney, Australia', '16-03-2020', 'Positive'], [4157, 49109, 'San Francisco, CA', '16-03-2020', 'Positive'], [4157, 49109, 'San Francisco, CA', '16-03-2020', 'Positive'], [4157, 49109, 'San Francisco, CA', '16-03-2020', 'Positive'], [4207, 49159, 'Wayne, NJ', '16-03-2020', 'Extremely Negative'], [4207, 49159, 'Wayne, NJ', '16-03-2020', 'Extremely Negative'], [4207, 49159, 'Wayne, NJ', '16-03-2020', 'Extremely Negative'], [4541, 49493, '??', '17-03-2020', 'Extremely Negative'], [4541, 49493, '??', '17-03-2020', 'Extremely Negative'], [4541, 49493, '??', '17-03-2020', 'Extremely Negative'], [4010, 48962, nan, '16-03-2020', 'Neutral'], [4010, 48962, nan, '16-03-2020', 'Neutral'], [4010, 48962, nan, '16-03-2020', 'Neutral'], [4060, 49012, 'New York, NY', '16-03-2020', 'Extremely Negative'], [4060, 49012, 'New York, NY', '16-03-2020', 'Extremely Negative'], [4060, 49012, 'New York, NY', '16-03-2020', 'Extremely Negative'], [3890, 48842, 'KDH', '16-03-2020', 'Negative'], [3890, 48842, 'KDH', '16-03-2020', 'Negative'], [3890, 48842, 'KDH', '16-03-2020', 'Negative'], [4833, 49785, 'Baltimore, MD', '17-03-2020', 'Extremely Positive'], [4833, 49785, 'Baltimore, MD', '17-03-2020', 'Extremely Positive'], [4833, 49785, 'Baltimore, MD', '17-03-2020', 'Extremely Positive'], [4682, 49634, nan, '17-03-2020', 'Negative'], [4682, 49634, nan, '17-03-2020', 'Negative'], [4682, 49634, nan, '17-03-2020', 'Negative'], [4511, 49463, 'Los Angeles, CA', '17-03-2020', 'Extremely Negative'], [4511, 49463, 'Los Angeles, CA', '17-03-2020', 'Extremely Negative'], [4511, 49463, 'Los Angeles, CA', '17-03-2020', 'Extremely Negative'], [4768, 49720, 'Canada', '17-03-2020', 'Negative'], [4768, 49720, 'Canada', '17-03-2020', 'Negative'], [4768, 49720, 'Canada', '17-03-2020', 'Negative'], [4926, 49878, nan, '17-03-2020', 'Positive'], [4926, 49878, nan, '17-03-2020', 'Positive'], [4926, 49878, nan, '17-03-2020', 'Positive'], [4048, 49000, 'London, England', '16-03-2020', 'Extremely Negative'], [4048, 49000, 'London, England', '16-03-2020', 'Extremely Negative'], [4048, 49000, 'London, England', '16-03-2020', 'Extremely Negative'], [4372, 49324, nan, '16-03-2020', 'Negative'], [4372, 49324, nan, '16-03-2020', 'Negative'], [4372, 49324, nan, '16-03-2020', 'Negative'], [3984, 48936, 'India', '16-03-2020', 'Extremely Positive'], [3984, 48936, 'India', '16-03-2020', 'Extremely Positive'], [3984, 48936, 'India', '16-03-2020', 'Extremely Positive'], [4883, 49835, nan, '17-03-2020', 'Neutral'], [4883, 49835, nan, '17-03-2020', 'Neutral'], [4883, 49835, nan, '17-03-2020', 'Neutral'], [4213, 49165, 'Washington, DC', '16-03-2020', 'Neutral'], [4213, 49165, 'Washington, DC', '16-03-2020', 'Neutral'], [4213, 49165, 'Washington, DC', '16-03-2020', 'Neutral'], [4495, 49447, 'Strensall, North Yorkshire, UK', '17-03-2020', 'Negative'], [4495, 49447, 'Strensall, North Yorkshire, UK', '17-03-2020', 'Negative'], [4495, 49447, 'Strensall, North Yorkshire, UK', '17-03-2020', 'Negative'], [4340, 49292, 'New York ', '16-03-2020', 'Positive'], [4340, 49292, 'New York ', '16-03-2020', 'Positive'], [4340, 49292, 'New York ', '16-03-2020', 'Positive'], [4252, 49204, 'Kuwait', '16-03-2020', 'Extremely Positive'], [4252, 49204, 'Kuwait', '16-03-2020', 'Extremely Positive'], [4252, 49204, 'Kuwait', '16-03-2020', 'Extremely Positive'], [4065, 49017, 'Melbourne, FL', '16-03-2020', 'Negative'], [4065, 49017, 'Melbourne, FL', '16-03-2020', 'Negative'], [4065, 49017, 'Melbourne, FL', '16-03-2020', 'Negative'], [4529, 49481, 'Dortmund? Stuttgart? Fatsa?', '17-03-2020', 'Positive'], [4529, 49481, 'Dortmund? Stuttgart? Fatsa?', '17-03-2020', 'Positive'], [4529, 49481, 'Dortmund? Stuttgart? Fatsa?', '17-03-2020', 'Positive'], [3998, 48950, 'Cambridge, MA', '16-03-2020', 'Positive'], [3998, 48950, 'Cambridge, MA', '16-03-2020', 'Positive'], [3998, 48950, 'Cambridge, MA', '16-03-2020', 'Positive'], [4838, 49790, 'United Kingdom', '17-03-2020', 'Neutral'], [4838, 49790, 'United Kingdom', '17-03-2020', 'Neutral'], [4838, 49790, 'United Kingdom', '17-03-2020', 'Neutral'], [4138, 49090, 'Accra | Ghana', '16-03-2020', 'Positive'], [4138, 49090, 'Accra | Ghana', '16-03-2020', 'Positive'], [4138, 49090, 'Accra | Ghana', '16-03-2020', 'Positive'], [4284, 49236, 'San Francisco', '16-03-2020', 'Negative'], [4284, 49236, 'San Francisco', '16-03-2020', 'Negative'], [4284, 49236, 'San Francisco', '16-03-2020', 'Negative'], [4431, 49383, 'Dallas, TX', '16-03-2020', 'Extremely Negative'], [4431, 49383, 'Dallas, TX', '16-03-2020', 'Extremely Negative'], [4431, 49383, 'Dallas, TX', '16-03-2020', 'Extremely Negative'], [4307, 49259, nan, '16-03-2020', 'Extremely Negative'], [4307, 49259, nan, '16-03-2020', 'Extremely Negative'], [4307, 49259, nan, '16-03-2020', 'Extremely Negative'], [4313, 49265, 'London, KY', '16-03-2020', 'Negative'], [4313, 49265, 'London, KY', '16-03-2020', 'Negative'], [4313, 49265, 'London, KY', '16-03-2020', 'Negative'], [4473, 49425, 'Northern England', '17-03-2020', 'Extremely Positive'], [4473, 49425, 'Northern England', '17-03-2020', 'Extremely Positive'], [4473, 49425, 'Northern England', '17-03-2020', 'Extremely Positive'], [4632, 49584, 'Melbourne, Australia', '17-03-2020', 'Extremely Positive'], [4632, 49584, 'Melbourne, Australia', '17-03-2020', 'Extremely Positive'], [4632, 49584, 'Melbourne, Australia', '17-03-2020', 'Extremely Positive'], [4088, 49040, 'California, USA', '16-03-2020', 'Positive'], [4088, 49040, 'California, USA', '16-03-2020', 'Positive'], [4088, 49040, 'California, USA', '16-03-2020', 'Positive'], [4136, 49088, 'Washington, D.C.', '16-03-2020', 'Extremely Positive'], [4136, 49088, 'Washington, D.C.', '16-03-2020', 'Extremely Positive'], [4136, 49088, 'Washington, D.C.', '16-03-2020', 'Extremely Positive'], [4693, 49645, 'St. Louis', '17-03-2020', 'Extremely Positive'], [4693, 49645, 'St. Louis', '17-03-2020', 'Extremely Positive'], [4693, 49645, 'St. Louis', '17-03-2020', 'Extremely Positive'], [4521, 49473, nan, '17-03-2020', 'Extremely Negative'], [4521, 49473, nan, '17-03-2020', 'Extremely Negative'], [4521, 49473, nan, '17-03-2020', 'Extremely Negative'], [4455, 49407, '???', '17-03-2020', 'Positive'], [4455, 49407, '???', '17-03-2020', 'Positive'], [4455, 49407, '???', '17-03-2020', 'Positive'], [4099, 49051, nan, '16-03-2020', 'Extremely Negative'], [4099, 49051, nan, '16-03-2020', 'Extremely Negative'], [4099, 49051, nan, '16-03-2020', 'Extremely Negative'], [4370, 49322, 'Geneva, Switzerland', '16-03-2020', 'Extremely Positive'], [4370, 49322, 'Geneva, Switzerland', '16-03-2020', 'Extremely Positive'], [4370, 49322, 'Geneva, Switzerland', '16-03-2020', 'Extremely Positive'], [4504, 49456, 'News & Bible verses USA', '17-03-2020', 'Extremely Negative'], [4504, 49456, 'News & Bible verses USA', '17-03-2020', 'Extremely Negative'], [4504, 49456, 'News & Bible verses USA', '17-03-2020', 'Extremely Negative'], [4733, 49685, 'Turkey', '17-03-2020', 'Negative'], [4733, 49685, 'Turkey', '17-03-2020', 'Negative'], [4733, 49685, 'Turkey', '17-03-2020', 'Negative'], [4946, 49898, 'Maryland, USA', '17-03-2020', 'Neutral'], [4946, 49898, 'Maryland, USA', '17-03-2020', 'Neutral'], [4946, 49898, 'Maryland, USA', '17-03-2020', 'Neutral'], [4741, 49693, \"N 36┬░6' 0'' / W 115┬░6' 0''\", '17-03-2020', 'Negative'], [4741, 49693, \"N 36┬░6' 0'' / W 115┬░6' 0''\", '17-03-2020', 'Negative'], [4741, 49693, \"N 36┬░6' 0'' / W 115┬░6' 0''\", '17-03-2020', 'Negative'], [4217, 49169, 'Hampshire', '16-03-2020', 'Neutral'], [4217, 49169, 'Hampshire', '16-03-2020', 'Neutral'], [4217, 49169, 'Hampshire', '16-03-2020', 'Neutral'], [4728, 49680, 'Ontario, Canada', '17-03-2020', 'Extremely Negative'], [4728, 49680, 'Ontario, Canada', '17-03-2020', 'Extremely Negative'], [4728, 49680, 'Ontario, Canada', '17-03-2020', 'Extremely Negative'], [4934, 49886, 'Kampala, Uganda', '17-03-2020', 'Negative'], [4934, 49886, 'Kampala, Uganda', '17-03-2020', 'Negative'], [4934, 49886, 'Kampala, Uganda', '17-03-2020', 'Negative'], [4700, 49652, 'Toronto, Ontario', '17-03-2020', 'Positive'], [4700, 49652, 'Toronto, Ontario', '17-03-2020', 'Positive'], [4700, 49652, 'Toronto, Ontario', '17-03-2020', 'Positive'], [3800, 48752, 'UK', '16-03-2020', 'Positive'], [3800, 48752, 'UK', '16-03-2020', 'Positive'], [3800, 48752, 'UK', '16-03-2020', 'Positive'], [4113, 49065, 'Boise, ID', '16-03-2020', 'Positive'], [4113, 49065, 'Boise, ID', '16-03-2020', 'Positive'], [4113, 49065, 'Boise, ID', '16-03-2020', 'Positive'], [4036, 48988, 'Global newsroom', '16-03-2020', 'Negative'], [4036, 48988, 'Global newsroom', '16-03-2020', 'Negative'], [4036, 48988, 'Global newsroom', '16-03-2020', 'Negative'], [4050, 49002, 'Mojave Desert, United States', '16-03-2020', 'Positive'], [4050, 49002, 'Mojave Desert, United States', '16-03-2020', 'Positive'], [4050, 49002, 'Mojave Desert, United States', '16-03-2020', 'Positive'], [4889, 49841, 'Norwich, England', '17-03-2020', 'Positive'], [4889, 49841, 'Norwich, England', '17-03-2020', 'Positive'], [4889, 49841, 'Norwich, England', '17-03-2020', 'Positive'], [4735, 49687, 'Naboo', '17-03-2020', 'Extremely Negative'], [4735, 49687, 'Naboo', '17-03-2020', 'Extremely Negative'], [4735, 49687, 'Naboo', '17-03-2020', 'Extremely Negative'], [4904, 49856, 'Toronto, Canada', '17-03-2020', 'Neutral'], [4904, 49856, 'Toronto, Canada', '17-03-2020', 'Neutral'], [4904, 49856, 'Toronto, Canada', '17-03-2020', 'Neutral'], [4611, 49563, nan, '17-03-2020', 'Negative'], [4611, 49563, nan, '17-03-2020', 'Negative'], [4611, 49563, nan, '17-03-2020', 'Negative'], [4555, 49507, nan, '17-03-2020', 'Positive'], [4555, 49507, nan, '17-03-2020', 'Positive'], [4555, 49507, nan, '17-03-2020', 'Positive'], [4468, 49420, 'KHOBAR | RIYADH ', '17-03-2020', 'Negative'], [4468, 49420, 'KHOBAR | RIYADH ', '17-03-2020', 'Negative'], [4468, 49420, 'KHOBAR | RIYADH ', '17-03-2020', 'Negative'], [4967, 49919, 'United Kingdom', '17-03-2020', 'Neutral'], [4967, 49919, 'United Kingdom', '17-03-2020', 'Neutral'], [4967, 49919, 'United Kingdom', '17-03-2020', 'Neutral'], [4744, 49696, 'Scotland, United Kingdom', '17-03-2020', 'Positive'], [4744, 49696, 'Scotland, United Kingdom', '17-03-2020', 'Positive'], [4744, 49696, 'Scotland, United Kingdom', '17-03-2020', 'Positive'], [4001, 48953, 'Arenys de Mar, Pa├»sos Catalans', '16-03-2020', 'Positive'], [4001, 48953, 'Arenys de Mar, Pa├»sos Catalans', '16-03-2020', 'Positive'], [4001, 48953, 'Arenys de Mar, Pa├»sos Catalans', '16-03-2020', 'Positive'], [4618, 49570, 'Perth, Western Australia', '17-03-2020', 'Extremely Negative'], [4618, 49570, 'Perth, Western Australia', '17-03-2020', 'Extremely Negative'], [4618, 49570, 'Perth, Western Australia', '17-03-2020', 'Extremely Negative'], [3849, 48801, 'Washington, DC', '16-03-2020', 'Extremely Negative'], [3849, 48801, 'Washington, DC', '16-03-2020', 'Extremely Negative'], [3849, 48801, 'Washington, DC', '16-03-2020', 'Extremely Negative'], [4507, 49459, 'Regina, Canada', '17-03-2020', 'Negative'], [4507, 49459, 'Regina, Canada', '17-03-2020', 'Negative'], [4507, 49459, 'Regina, Canada', '17-03-2020', 'Negative'], [4257, 49209, 'Toronto', '16-03-2020', 'Extremely Positive'], [4257, 49209, 'Toronto', '16-03-2020', 'Extremely Positive'], [4257, 49209, 'Toronto', '16-03-2020', 'Extremely Positive'], [4141, 49093, 'Silicon Valley | SF | 39.5K Ft', '16-03-2020', 'Positive'], [4141, 49093, 'Silicon Valley | SF | 39.5K Ft', '16-03-2020', 'Positive'], [4141, 49093, 'Silicon Valley | SF | 39.5K Ft', '16-03-2020', 'Positive'], [4206, 49158, 'Daylesford - Hepburn Springs, Victoria', '16-03-2020', 'Neutral'], [4206, 49158, 'Daylesford - Hepburn Springs, Victoria', '16-03-2020', 'Neutral'], [4206, 49158, 'Daylesford - Hepburn Springs, Victoria', '16-03-2020', 'Neutral'], [4239, 49191, 'nationwide gypsy based in LDN', '16-03-2020', 'Positive'], [4239, 49191, 'nationwide gypsy based in LDN', '16-03-2020', 'Positive'], [4239, 49191, 'nationwide gypsy based in LDN', '16-03-2020', 'Positive'], [4670, 49622, 'Montr├®al, Qu├®bec', '17-03-2020', 'Neutral'], [4670, 49622, 'Montr├®al, Qu├®bec', '17-03-2020', 'Neutral'], [4670, 49622, 'Montr├®al, Qu├®bec', '17-03-2020', 'Neutral'], [4778, 49730, 'Edmonton, Alberta', '17-03-2020', 'Positive'], [4778, 49730, 'Edmonton, Alberta', '17-03-2020', 'Positive'], [4778, 49730, 'Edmonton, Alberta', '17-03-2020', 'Positive'], [4375, 49327, nan, '16-03-2020', 'Negative'], [4375, 49327, nan, '16-03-2020', 'Negative'], [4375, 49327, nan, '16-03-2020', 'Negative'], [4240, 49192, 'Nairobi ', '16-03-2020', 'Negative'], [4240, 49192, 'Nairobi ', '16-03-2020', 'Negative'], [4240, 49192, 'Nairobi ', '16-03-2020', 'Negative'], [4205, 49157, 'Milton Keynes, England', '16-03-2020', 'Positive'], [4205, 49157, 'Milton Keynes, England', '16-03-2020', 'Positive'], [4205, 49157, 'Milton Keynes, England', '16-03-2020', 'Positive'], [4628, 49580, nan, '17-03-2020', 'Neutral'], [4628, 49580, nan, '17-03-2020', 'Neutral'], [4628, 49580, nan, '17-03-2020', 'Neutral'], [4003, 48955, 'Malaysia', '16-03-2020', 'Negative'], [4003, 48955, 'Malaysia', '16-03-2020', 'Negative'], [4003, 48955, 'Malaysia', '16-03-2020', 'Negative'], [4404, 49356, 'USA', '16-03-2020', 'Negative'], [4404, 49356, 'USA', '16-03-2020', 'Negative'], [4404, 49356, 'USA', '16-03-2020', 'Negative'], [4203, 49155, 'London, England', '16-03-2020', 'Extremely Negative'], [4203, 49155, 'London, England', '16-03-2020', 'Extremely Negative'], [4203, 49155, 'London, England', '16-03-2020', 'Extremely Negative'], [4242, 49194, nan, '16-03-2020', 'Negative'], [4242, 49194, nan, '16-03-2020', 'Negative'], [4242, 49194, nan, '16-03-2020', 'Negative'], [3886, 48838, 'Windsor, Ontario, Canada.', '16-03-2020', 'Neutral'], [3886, 48838, 'Windsor, Ontario, Canada.', '16-03-2020', 'Neutral'], [3886, 48838, 'Windsor, Ontario, Canada.', '16-03-2020', 'Neutral'], [3896, 48848, 'Washington, DC', '16-03-2020', 'Positive'], [3896, 48848, 'Washington, DC', '16-03-2020', 'Positive'], [3896, 48848, 'Washington, DC', '16-03-2020', 'Positive'], [4584, 49536, 'United States', '17-03-2020', 'Neutral'], [4584, 49536, 'United States', '17-03-2020', 'Neutral'], [4584, 49536, 'United States', '17-03-2020', 'Neutral'], [4984, 49936, nan, '17-03-2020', 'Extremely Positive'], [4984, 49936, nan, '17-03-2020', 'Extremely Positive'], [4984, 49936, nan, '17-03-2020', 'Extremely Positive'], [3972, 48924, 'Chicago, IL', '16-03-2020', 'Extremely Positive'], [3972, 48924, 'Chicago, IL', '16-03-2020', 'Extremely Positive'], [3972, 48924, 'Chicago, IL', '16-03-2020', 'Extremely Positive'], [3937, 48889, 'Dunedin City, New Zealand ', '16-03-2020', 'Extremely Positive'], [3937, 48889, 'Dunedin City, New Zealand ', '16-03-2020', 'Extremely Positive'], [3937, 48889, 'Dunedin City, New Zealand ', '16-03-2020', 'Extremely Positive'], [4565, 49517, 'Sth Gippsland', '17-03-2020', 'Negative'], [4565, 49517, 'Sth Gippsland', '17-03-2020', 'Negative'], [4565, 49517, 'Sth Gippsland', '17-03-2020', 'Negative'], [4432, 49384, 'Shitty Birmingham ', '16-03-2020', 'Negative'], [4432, 49384, 'Shitty Birmingham ', '16-03-2020', 'Negative'], [4432, 49384, 'Shitty Birmingham ', '16-03-2020', 'Negative'], [4449, 49401, 'thra', '16-03-2020', 'Negative'], [4449, 49401, 'thra', '16-03-2020', 'Negative'], [4449, 49401, 'thra', '16-03-2020', 'Negative'], [3876, 48828, 'New York City', '16-03-2020', 'Negative'], [3876, 48828, 'New York City', '16-03-2020', 'Negative'], [3876, 48828, 'New York City', '16-03-2020', 'Negative'], [3968, 48920, nan, '16-03-2020', 'Negative'], [3968, 48920, nan, '16-03-2020', 'Negative'], [3968, 48920, nan, '16-03-2020', 'Negative'], [4093, 49045, 'Bhubaneshwar, India', '16-03-2020', 'Extremely Positive'], [4093, 49045, 'Bhubaneshwar, India', '16-03-2020', 'Extremely Positive'], [4093, 49045, 'Bhubaneshwar, India', '16-03-2020', 'Extremely Positive'], [3891, 48843, 'Worcester, Massachusetts', '16-03-2020', 'Negative'], [3891, 48843, 'Worcester, Massachusetts', '16-03-2020', 'Negative'], [3891, 48843, 'Worcester, Massachusetts', '16-03-2020', 'Negative'], [4323, 49275, 'Victoria, British Columbia', '16-03-2020', 'Negative'], [4323, 49275, 'Victoria, British Columbia', '16-03-2020', 'Negative'], [4323, 49275, 'Victoria, British Columbia', '16-03-2020', 'Negative'], [4893, 49845, 'Copenhagen', '17-03-2020', 'Negative'], [4893, 49845, 'Copenhagen', '17-03-2020', 'Negative'], [4893, 49845, 'Copenhagen', '17-03-2020', 'Negative'], [4594, 49546, '#LeafNation #MagicFairyStyle ', '17-03-2020', 'Extremely Negative'], [4594, 49546, '#LeafNation #MagicFairyStyle ', '17-03-2020', 'Extremely Negative'], [4594, 49546, '#LeafNation #MagicFairyStyle ', '17-03-2020', 'Extremely Negative'], [4623, 49575, ':.midcoast.maine.:', '17-03-2020', 'Positive'], [4623, 49575, ':.midcoast.maine.:', '17-03-2020', 'Positive'], [4623, 49575, ':.midcoast.maine.:', '17-03-2020', 'Positive'], [4554, 49506, 'New York, NY', '17-03-2020', 'Positive'], [4554, 49506, 'New York, NY', '17-03-2020', 'Positive'], [4554, 49506, 'New York, NY', '17-03-2020', 'Positive'], [4434, 49386, 'Montr├®al, Qu├®bec', '16-03-2020', 'Positive'], [4434, 49386, 'Montr├®al, Qu├®bec', '16-03-2020', 'Positive'], [4434, 49386, 'Montr├®al, Qu├®bec', '16-03-2020', 'Positive'], [3862, 48814, 'Dallas, TX', '16-03-2020', 'Extremely Positive'], [3862, 48814, 'Dallas, TX', '16-03-2020', 'Extremely Positive'], [3862, 48814, 'Dallas, TX', '16-03-2020', 'Extremely Positive'], [4571, 49523, 'Office 302, Al Attar Business ', '17-03-2020', 'Neutral'], [4571, 49523, 'Office 302, Al Attar Business ', '17-03-2020', 'Neutral'], [4571, 49523, 'Office 302, Al Attar Business ', '17-03-2020', 'Neutral'], [4524, 49476, 'Sheffield | Birmingham', '17-03-2020', 'Positive'], [4524, 49476, 'Sheffield | Birmingham', '17-03-2020', 'Positive'], [4524, 49476, 'Sheffield | Birmingham', '17-03-2020', 'Positive'], [4365, 49317, 'Ta├»wan', '16-03-2020', 'Extremely Positive'], [4365, 49317, 'Ta├»wan', '16-03-2020', 'Extremely Positive'], [4365, 49317, 'Ta├»wan', '16-03-2020', 'Extremely Positive'], [4924, 49876, 'Philippines', '17-03-2020', 'Negative'], [4924, 49876, 'Philippines', '17-03-2020', 'Negative'], [4924, 49876, 'Philippines', '17-03-2020', 'Negative'], [3936, 48888, 'Nairobi', '16-03-2020', 'Negative'], [3936, 48888, 'Nairobi', '16-03-2020', 'Negative'], [3936, 48888, 'Nairobi', '16-03-2020', 'Negative'], [4123, 49075, 'Baltimore, MD', '16-03-2020', 'Negative'], [4123, 49075, 'Baltimore, MD', '16-03-2020', 'Negative'], [4123, 49075, 'Baltimore, MD', '16-03-2020', 'Negative'], [4750, 49702, nan, '17-03-2020', 'Negative'], [4750, 49702, nan, '17-03-2020', 'Negative'], [4750, 49702, nan, '17-03-2020', 'Negative'], [4816, 49768, 'Oklahoma, USA', '17-03-2020', 'Extremely Negative'], [4816, 49768, 'Oklahoma, USA', '17-03-2020', 'Extremely Negative'], [4816, 49768, 'Oklahoma, USA', '17-03-2020', 'Extremely Negative'], [4881, 49833, 'Africa', '17-03-2020', 'Extremely Negative'], [4881, 49833, 'Africa', '17-03-2020', 'Extremely Negative'], [4881, 49833, 'Africa', '17-03-2020', 'Extremely Negative'], [3814, 48766, 'Houston, Texas', '16-03-2020', 'Positive'], [3814, 48766, 'Houston, Texas', '16-03-2020', 'Positive'], [3814, 48766, 'Houston, Texas', '16-03-2020', 'Positive'], [4161, 49113, 'Portland, ME | Self-Quarantine', '16-03-2020', 'Extremely Negative'], [4161, 49113, 'Portland, ME | Self-Quarantine', '16-03-2020', 'Extremely Negative'], [4161, 49113, 'Portland, ME | Self-Quarantine', '16-03-2020', 'Extremely Negative'], [4164, 49116, 'Minneapolis,  MN', '16-03-2020', 'Negative'], [4164, 49116, 'Minneapolis,  MN', '16-03-2020', 'Negative'], [4164, 49116, 'Minneapolis,  MN', '16-03-2020', 'Negative'], [4426, 49378, 'Bangkok, Thailand', '16-03-2020', 'Positive'], [4426, 49378, 'Bangkok, Thailand', '16-03-2020', 'Positive'], [4426, 49378, 'Bangkok, Thailand', '16-03-2020', 'Positive'], [4498, 49450, 'Sydney, New South Wales', '17-03-2020', 'Negative'], [4498, 49450, 'Sydney, New South Wales', '17-03-2020', 'Negative'], [4498, 49450, 'Sydney, New South Wales', '17-03-2020', 'Negative'], [3947, 48899, 'United States', '16-03-2020', 'Positive'], [3947, 48899, 'United States', '16-03-2020', 'Positive'], [3947, 48899, 'United States', '16-03-2020', 'Positive'], [4458, 49410, nan, '17-03-2020', 'Negative'], [4458, 49410, nan, '17-03-2020', 'Negative'], [4458, 49410, nan, '17-03-2020', 'Negative'], [4615, 49567, nan, '17-03-2020', 'Positive'], [4615, 49567, nan, '17-03-2020', 'Positive'], [4615, 49567, nan, '17-03-2020', 'Positive'], [4715, 49667, 'Michigan, USA', '17-03-2020', 'Extremely Positive'], [4715, 49667, 'Michigan, USA', '17-03-2020', 'Extremely Positive'], [4715, 49667, 'Michigan, USA', '17-03-2020', 'Extremely Positive'], [4318, 49270, 'United States', '16-03-2020', 'Positive'], [4318, 49270, 'United States', '16-03-2020', 'Positive'], [4318, 49270, 'United States', '16-03-2020', 'Positive'], [3804, 48756, '├£T: 36.319708,-82.363649', '16-03-2020', 'Positive'], [3804, 48756, '├£T: 36.319708,-82.363649', '16-03-2020', 'Positive'], [3804, 48756, '├£T: 36.319708,-82.363649', '16-03-2020', 'Positive'], [4676, 49628, 'Oak Park, IL', '17-03-2020', 'Extremely Positive'], [4676, 49628, 'Oak Park, IL', '17-03-2020', 'Extremely Positive'], [4676, 49628, 'Oak Park, IL', '17-03-2020', 'Extremely Positive'], [4222, 49174, nan, '16-03-2020', 'Extremely Negative'], [4222, 49174, nan, '16-03-2020', 'Extremely Negative'], [4222, 49174, nan, '16-03-2020', 'Extremely Negative'], [4178, 49130, 'San Francisco, CA', '16-03-2020', 'Extremely Positive'], [4178, 49130, 'San Francisco, CA', '16-03-2020', 'Extremely Positive'], [4178, 49130, 'San Francisco, CA', '16-03-2020', 'Extremely Positive'], [4538, 49490, nan, '17-03-2020', 'Negative'], [4538, 49490, nan, '17-03-2020', 'Negative'], [4538, 49490, nan, '17-03-2020', 'Negative'], [4021, 48973, 'London', '16-03-2020', 'Positive'], [4021, 48973, 'London', '16-03-2020', 'Positive'], [4021, 48973, 'London', '16-03-2020', 'Positive'], [4062, 49014, 'Sydney', '16-03-2020', 'Positive'], [4062, 49014, 'Sydney', '16-03-2020', 'Positive'], [4062, 49014, 'Sydney', '16-03-2020', 'Positive'], [4428, 49380, 'France', '16-03-2020', 'Negative'], [4428, 49380, 'France', '16-03-2020', 'Negative'], [4428, 49380, 'France', '16-03-2020', 'Negative'], [4823, 49775, 'Central Coast, Australia', '17-03-2020', 'Extremely Negative'], [4823, 49775, 'Central Coast, Australia', '17-03-2020', 'Extremely Negative'], [4823, 49775, 'Central Coast, Australia', '17-03-2020', 'Extremely Negative'], [4265, 49217, 'Sydney, New South Wales', '16-03-2020', 'Positive'], [4265, 49217, 'Sydney, New South Wales', '16-03-2020', 'Positive'], [4265, 49217, 'Sydney, New South Wales', '16-03-2020', 'Positive'], [3996, 48948, 'Dallas, TX', '16-03-2020', 'Neutral'], [3996, 48948, 'Dallas, TX', '16-03-2020', 'Neutral'], [3996, 48948, 'Dallas, TX', '16-03-2020', 'Neutral'], [4848, 49800, 'New England', '17-03-2020', 'Extremely Negative'], [4848, 49800, 'New England', '17-03-2020', 'Extremely Negative'], [4848, 49800, 'New England', '17-03-2020', 'Extremely Negative'], [3965, 48917, 'Los Angeles, CA', '16-03-2020', 'Positive'], [3965, 48917, 'Los Angeles, CA', '16-03-2020', 'Positive'], [3965, 48917, 'Los Angeles, CA', '16-03-2020', 'Positive'], [4105, 49057, 'Windsor, Ontario', '16-03-2020', 'Positive'], [4105, 49057, 'Windsor, Ontario', '16-03-2020', 'Positive'], [4105, 49057, 'Windsor, Ontario', '16-03-2020', 'Positive'], [4931, 49883, 'Winnipeg, Manitoba, Canada', '17-03-2020', 'Positive'], [4931, 49883, 'Winnipeg, Manitoba, Canada', '17-03-2020', 'Positive'], [4931, 49883, 'Winnipeg, Manitoba, Canada', '17-03-2020', 'Positive'], [4474, 49426, 'San Mateo County, California', '17-03-2020', 'Negative'], [4474, 49426, 'San Mateo County, California', '17-03-2020', 'Negative'], [4474, 49426, 'San Mateo County, California', '17-03-2020', 'Negative'], [4357, 49309, 'Harvest, AL', '16-03-2020', 'Negative'], [4357, 49309, 'Harvest, AL', '16-03-2020', 'Negative'], [4357, 49309, 'Harvest, AL', '16-03-2020', 'Negative'], [4666, 49618, 'San Luis Obispo, CA', '17-03-2020', 'Negative'], [4666, 49618, 'San Luis Obispo, CA', '17-03-2020', 'Negative'], [4666, 49618, 'San Luis Obispo, CA', '17-03-2020', 'Negative'], [4297, 49249, 'Wonderland', '16-03-2020', 'Negative'], [4297, 49249, 'Wonderland', '16-03-2020', 'Negative'], [4297, 49249, 'Wonderland', '16-03-2020', 'Negative'], [4844, 49796, 'Vancouver, Canada', '17-03-2020', 'Positive'], [4844, 49796, 'Vancouver, Canada', '17-03-2020', 'Positive'], [4844, 49796, 'Vancouver, Canada', '17-03-2020', 'Positive'], [4162, 49114, 'United Kingdom', '16-03-2020', 'Extremely Negative'], [4162, 49114, 'United Kingdom', '16-03-2020', 'Extremely Negative'], [4162, 49114, 'United Kingdom', '16-03-2020', 'Extremely Negative'], [4625, 49577, 'Maine', '17-03-2020', 'Neutral'], [4625, 49577, 'Maine', '17-03-2020', 'Neutral'], [4625, 49577, 'Maine', '17-03-2020', 'Neutral'], [4789, 49741, \"That's me in the corner \", '17-03-2020', 'Positive'], [4789, 49741, \"That's me in the corner \", '17-03-2020', 'Positive'], [4789, 49741, \"That's me in the corner \", '17-03-2020', 'Positive'], [4405, 49357, 'Sydney', '16-03-2020', 'Extremely Positive'], [4405, 49357, 'Sydney', '16-03-2020', 'Extremely Positive'], [4405, 49357, 'Sydney', '16-03-2020', 'Extremely Positive'], [4331, 49283, 'San Francisco, CA', '16-03-2020', 'Neutral'], [4331, 49283, 'San Francisco, CA', '16-03-2020', 'Neutral'], [4331, 49283, 'San Francisco, CA', '16-03-2020', 'Neutral'], [3887, 48839, 'Los Angeles, mostly', '16-03-2020', 'Negative'], [3887, 48839, 'Los Angeles, mostly', '16-03-2020', 'Negative'], [3887, 48839, 'Los Angeles, mostly', '16-03-2020', 'Negative'], [4385, 49337, 'London, England', '16-03-2020', 'Positive'], [4385, 49337, 'London, England', '16-03-2020', 'Positive'], [4385, 49337, 'London, England', '16-03-2020', 'Positive'], [4656, 49608, nan, '17-03-2020', 'Extremely Positive'], [4656, 49608, nan, '17-03-2020', 'Extremely Positive'], [4656, 49608, nan, '17-03-2020', 'Extremely Positive'], [4184, 49136, 'Mumbai, India', '16-03-2020', 'Extremely Negative'], [4184, 49136, 'Mumbai, India', '16-03-2020', 'Extremely Negative'], [4184, 49136, 'Mumbai, India', '16-03-2020', 'Extremely Negative'], [4185, 49137, 'Virginia, USA', '16-03-2020', 'Extremely Negative'], [4185, 49137, 'Virginia, USA', '16-03-2020', 'Extremely Negative'], [4185, 49137, 'Virginia, USA', '16-03-2020', 'Extremely Negative'], [4527, 49479, 'Florida, USA', '17-03-2020', 'Negative'], [4527, 49479, 'Florida, USA', '17-03-2020', 'Negative'], [4527, 49479, 'Florida, USA', '17-03-2020', 'Negative'], [4101, 49053, 'Boston, MA', '16-03-2020', 'Neutral'], [4101, 49053, 'Boston, MA', '16-03-2020', 'Neutral'], [4101, 49053, 'Boston, MA', '16-03-2020', 'Neutral'], [3820, 48772, 'Global', '16-03-2020', 'Neutral'], [3820, 48772, 'Global', '16-03-2020', 'Neutral'], [3820, 48772, 'Global', '16-03-2020', 'Neutral'], [4540, 49492, nan, '17-03-2020', 'Positive'], [4540, 49492, nan, '17-03-2020', 'Positive'], [4540, 49492, nan, '17-03-2020', 'Positive'], [3836, 48788, 'Canada', '16-03-2020', 'Positive'], [3836, 48788, 'Canada', '16-03-2020', 'Positive'], [3836, 48788, 'Canada', '16-03-2020', 'Positive'], [4911, 49863, 'One Planet', '17-03-2020', 'Negative'], [4911, 49863, 'One Planet', '17-03-2020', 'Negative'], [4911, 49863, 'One Planet', '17-03-2020', 'Negative'], [4109, 49061, 'castleford', '16-03-2020', 'Negative'], [4109, 49061, 'castleford', '16-03-2020', 'Negative'], [4109, 49061, 'castleford', '16-03-2020', 'Negative'], [4355, 49307, nan, '16-03-2020', 'Neutral'], [4355, 49307, nan, '16-03-2020', 'Neutral'], [4355, 49307, nan, '16-03-2020', 'Neutral'], [3894, 48846, 'FREE goal setting guide ??', '16-03-2020', 'Extremely Positive'], [3894, 48846, 'FREE goal setting guide ??', '16-03-2020', 'Extremely Positive'], [3894, 48846, 'FREE goal setting guide ??', '16-03-2020', 'Extremely Positive'], [4275, 49227, 'Kansas City, Missouri', '16-03-2020', 'Positive'], [4275, 49227, 'Kansas City, Missouri', '16-03-2020', 'Positive'], [4275, 49227, 'Kansas City, Missouri', '16-03-2020', 'Positive'], [4710, 49662, nan, '17-03-2020', 'Extremely Positive'], [4710, 49662, nan, '17-03-2020', 'Extremely Positive'], [4710, 49662, nan, '17-03-2020', 'Extremely Positive'], [3989, 48941, 'London | New York | Munich', '16-03-2020', 'Negative'], [3989, 48941, 'London | New York | Munich', '16-03-2020', 'Negative'], [3989, 48941, 'London | New York | Munich', '16-03-2020', 'Negative'], [4619, 49571, 'Dublin', '17-03-2020', 'Neutral'], [4619, 49571, 'Dublin', '17-03-2020', 'Neutral'], [4619, 49571, 'Dublin', '17-03-2020', 'Neutral'], [4660, 49612, 'Alabama', '17-03-2020', 'Negative'], [4660, 49612, 'Alabama', '17-03-2020', 'Negative'], [4660, 49612, 'Alabama', '17-03-2020', 'Negative'], [4985, 49937, 'Vancouver, BC, Canada', '17-03-2020', 'Extremely Positive'], [4985, 49937, 'Vancouver, BC, Canada', '17-03-2020', 'Extremely Positive'], [4985, 49937, 'Vancouver, BC, Canada', '17-03-2020', 'Extremely Positive'], [3831, 48783, 'Markham, Ontario', '16-03-2020', 'Neutral'], [3831, 48783, 'Markham, Ontario', '16-03-2020', 'Neutral'], [3831, 48783, 'Markham, Ontario', '16-03-2020', 'Neutral'], [3818, 48770, 'Denver, CO', '16-03-2020', 'Positive'], [3818, 48770, 'Denver, CO', '16-03-2020', 'Positive'], [3818, 48770, 'Denver, CO', '16-03-2020', 'Positive'], [4169, 49121, 'Portland, Oregon', '16-03-2020', 'Extremely Negative'], [4169, 49121, 'Portland, Oregon', '16-03-2020', 'Extremely Negative'], [4169, 49121, 'Portland, Oregon', '16-03-2020', 'Extremely Negative'], [4905, 49857, 'Manchester ', '17-03-2020', 'Positive'], [4905, 49857, 'Manchester ', '17-03-2020', 'Positive'], [4905, 49857, 'Manchester ', '17-03-2020', 'Positive'], [4891, 49843, 'Cincinnati, Ohio', '17-03-2020', 'Positive'], [4891, 49843, 'Cincinnati, Ohio', '17-03-2020', 'Positive'], [4891, 49843, 'Cincinnati, Ohio', '17-03-2020', 'Positive'], [4234, 49186, 'Sunnyvale, CA', '16-03-2020', 'Negative'], [4234, 49186, 'Sunnyvale, CA', '16-03-2020', 'Negative'], [4234, 49186, 'Sunnyvale, CA', '16-03-2020', 'Negative'], [3982, 48934, 'Cleveland, OH', '16-03-2020', 'Neutral'], [3982, 48934, 'Cleveland, OH', '16-03-2020', 'Neutral'], [3982, 48934, 'Cleveland, OH', '16-03-2020', 'Neutral'], [4406, 49358, 'Tempe, AZ', '16-03-2020', 'Negative'], [4406, 49358, 'Tempe, AZ', '16-03-2020', 'Negative'], [4406, 49358, 'Tempe, AZ', '16-03-2020', 'Negative'], [4588, 49540, '954', '17-03-2020', 'Extremely Positive'], [4588, 49540, '954', '17-03-2020', 'Extremely Positive'], [4588, 49540, '954', '17-03-2020', 'Extremely Positive'], [4830, 49782, nan, '17-03-2020', 'Positive'], [4830, 49782, nan, '17-03-2020', 'Positive'], [4830, 49782, nan, '17-03-2020', 'Positive'], [4494, 49446, nan, '17-03-2020', 'Positive'], [4494, 49446, nan, '17-03-2020', 'Positive'], [4494, 49446, nan, '17-03-2020', 'Positive'], [4725, 49677, nan, '17-03-2020', 'Negative'], [4725, 49677, nan, '17-03-2020', 'Negative'], [4725, 49677, nan, '17-03-2020', 'Negative'], [4488, 49440, nan, '17-03-2020', 'Neutral'], [4488, 49440, nan, '17-03-2020', 'Neutral'], [4488, 49440, nan, '17-03-2020', 'Neutral'], [3828, 48780, 'Someplace, USA', '16-03-2020', 'Extremely Negative'], [3828, 48780, 'Someplace, USA', '16-03-2020', 'Extremely Negative'], [3828, 48780, 'Someplace, USA', '16-03-2020', 'Extremely Negative'], [4959, 49911, 'Washington, DC', '17-03-2020', 'Negative'], [4959, 49911, 'Washington, DC', '17-03-2020', 'Negative'], [4959, 49911, 'Washington, DC', '17-03-2020', 'Negative'], [3935, 48887, 'The Great State of Texas', '16-03-2020', 'Negative'], [3935, 48887, 'The Great State of Texas', '16-03-2020', 'Negative'], [3935, 48887, 'The Great State of Texas', '16-03-2020', 'Negative'], [4039, 48991, 'An Uber Away', '16-03-2020', 'Negative'], [4039, 48991, 'An Uber Away', '16-03-2020', 'Negative'], [4039, 48991, 'An Uber Away', '16-03-2020', 'Negative'], [4747, 49699, 'Cambridge, MA', '17-03-2020', 'Extremely Positive'], [4747, 49699, 'Cambridge, MA', '17-03-2020', 'Extremely Positive'], [4747, 49699, 'Cambridge, MA', '17-03-2020', 'Extremely Positive'], [4582, 49534, 'I fly FedEx Cargo  ', '17-03-2020', 'Neutral'], [4582, 49534, 'I fly FedEx Cargo  ', '17-03-2020', 'Neutral'], [4582, 49534, 'I fly FedEx Cargo  ', '17-03-2020', 'Neutral'], [3853, 48805, nan, '16-03-2020', 'Extremely Negative'], [3853, 48805, nan, '16-03-2020', 'Extremely Negative'], [3853, 48805, nan, '16-03-2020', 'Extremely Negative'], [4501, 49453, 'Mars', '17-03-2020', 'Neutral'], [4501, 49453, 'Mars', '17-03-2020', 'Neutral'], [4501, 49453, 'Mars', '17-03-2020', 'Neutral'], [4518, 49470, nan, '17-03-2020', 'Negative'], [4518, 49470, nan, '17-03-2020', 'Negative'], [4518, 49470, nan, '17-03-2020', 'Negative'], [4262, 49214, 'United States, or Holland...', '16-03-2020', 'Extremely Positive'], [4262, 49214, 'United States, or Holland...', '16-03-2020', 'Extremely Positive'], [4262, 49214, 'United States, or Holland...', '16-03-2020', 'Extremely Positive'], [4198, 49150, 'Actionable advice here:', '16-03-2020', 'Positive'], [4198, 49150, 'Actionable advice here:', '16-03-2020', 'Positive'], [4198, 49150, 'Actionable advice here:', '16-03-2020', 'Positive'], [3975, 48927, 'London/South East', '16-03-2020', 'Extremely Negative'], [3975, 48927, 'London/South East', '16-03-2020', 'Extremely Negative'], [3975, 48927, 'London/South East', '16-03-2020', 'Extremely Negative'], [4087, 49039, 'New York, NY', '16-03-2020', 'Positive'], [4087, 49039, 'New York, NY', '16-03-2020', 'Positive'], [4087, 49039, 'New York, NY', '16-03-2020', 'Positive'], [4378, 49330, 'Montreal', '16-03-2020', 'Neutral'], [4378, 49330, 'Montreal', '16-03-2020', 'Neutral'], [4378, 49330, 'Montreal', '16-03-2020', 'Neutral'], [4005, 48957, nan, '16-03-2020', 'Negative'], [4005, 48957, nan, '16-03-2020', 'Negative'], [4005, 48957, nan, '16-03-2020', 'Negative'], [4949, 49901, 'Houston, TX', '17-03-2020', 'Positive'], [4949, 49901, 'Houston, TX', '17-03-2020', 'Positive'], [4949, 49901, 'Houston, TX', '17-03-2020', 'Positive'], [4982, 49934, 'PNW', '17-03-2020', 'Positive'], [4982, 49934, 'PNW', '17-03-2020', 'Positive'], [4982, 49934, 'PNW', '17-03-2020', 'Positive'], [4509, 49461, nan, '17-03-2020', 'Negative'], [4509, 49461, nan, '17-03-2020', 'Negative'], [4509, 49461, nan, '17-03-2020', 'Negative'], [4360, 49312, 'California, USA', '16-03-2020', 'Positive'], [4360, 49312, 'California, USA', '16-03-2020', 'Positive'], [4360, 49312, 'California, USA', '16-03-2020', 'Positive'], [4227, 49179, 'New Delhi, India', '16-03-2020', 'Positive'], [4227, 49179, 'New Delhi, India', '16-03-2020', 'Positive'], [4227, 49179, 'New Delhi, India', '16-03-2020', 'Positive'], [4182, 49134, 'Russia', '16-03-2020', 'Extremely Positive'], [4182, 49134, 'Russia', '16-03-2020', 'Extremely Positive'], [4182, 49134, 'Russia', '16-03-2020', 'Extremely Positive'], [4756, 49708, 'Tennessee', '17-03-2020', 'Extremely Negative'], [4756, 49708, 'Tennessee', '17-03-2020', 'Extremely Negative'], [4756, 49708, 'Tennessee', '17-03-2020', 'Extremely Negative'], [4510, 49462, nan, '17-03-2020', 'Extremely Negative'], [4510, 49462, nan, '17-03-2020', 'Extremely Negative'], [4510, 49462, nan, '17-03-2020', 'Extremely Negative'], [4774, 49726, 'Vermont ', '17-03-2020', 'Negative'], [4774, 49726, 'Vermont ', '17-03-2020', 'Negative'], [4774, 49726, 'Vermont ', '17-03-2020', 'Negative'], [4505, 49457, 'Richmond, Va.', '17-03-2020', 'Positive'], [4505, 49457, 'Richmond, Va.', '17-03-2020', 'Positive'], [4505, 49457, 'Richmond, Va.', '17-03-2020', 'Positive'], [3973, 48925, 'Douglas, AZ', '16-03-2020', 'Neutral'], [3973, 48925, 'Douglas, AZ', '16-03-2020', 'Neutral'], [3973, 48925, 'Douglas, AZ', '16-03-2020', 'Neutral'], [4006, 48958, 'Virginia, USA', '16-03-2020', 'Positive'], [4006, 48958, 'Virginia, USA', '16-03-2020', 'Positive'], [4006, 48958, 'Virginia, USA', '16-03-2020', 'Positive'], [4954, 49906, nan, '17-03-2020', 'Extremely Negative'], [4954, 49906, nan, '17-03-2020', 'Extremely Negative'], [4954, 49906, nan, '17-03-2020', 'Extremely Negative'], [4296, 49248, 'Canada', '16-03-2020', 'Extremely Negative'], [4296, 49248, 'Canada', '16-03-2020', 'Extremely Negative'], [4296, 49248, 'Canada', '16-03-2020', 'Extremely Negative'], [4148, 49100, 'Arlington, TX', '16-03-2020', 'Extremely Positive'], [4148, 49100, 'Arlington, TX', '16-03-2020', 'Extremely Positive'], [4148, 49100, 'Arlington, TX', '16-03-2020', 'Extremely Positive'], [3907, 48859, 'Abilene, TX', '16-03-2020', 'Neutral'], [3907, 48859, 'Abilene, TX', '16-03-2020', 'Neutral'], [3907, 48859, 'Abilene, TX', '16-03-2020', 'Neutral'], [3874, 48826, 'MA & New England by way of CA', '16-03-2020', 'Extremely Positive'], [3874, 48826, 'MA & New England by way of CA', '16-03-2020', 'Extremely Positive'], [3874, 48826, 'MA & New England by way of CA', '16-03-2020', 'Extremely Positive'], [4879, 49831, 'Hertfordshire', '17-03-2020', 'Extremely Positive'], [4879, 49831, 'Hertfordshire', '17-03-2020', 'Extremely Positive'], [4879, 49831, 'Hertfordshire', '17-03-2020', 'Extremely Positive'], [4647, 49599, 'India', '17-03-2020', 'Neutral'], [4647, 49599, 'India', '17-03-2020', 'Neutral'], [4647, 49599, 'India', '17-03-2020', 'Neutral'], [4312, 49264, nan, '16-03-2020', 'Extremely Negative'], [4312, 49264, nan, '16-03-2020', 'Extremely Negative'], [4312, 49264, nan, '16-03-2020', 'Extremely Negative'], [4678, 49630, 'Nairobi, Kenya', '17-03-2020', 'Extremely Negative'], [4678, 49630, 'Nairobi, Kenya', '17-03-2020', 'Extremely Negative'], [4678, 49630, 'Nairobi, Kenya', '17-03-2020', 'Extremely Negative'], [4461, 49413, 'Bay Area, Ca', '17-03-2020', 'Positive'], [4461, 49413, 'Bay Area, Ca', '17-03-2020', 'Positive'], [4461, 49413, 'Bay Area, Ca', '17-03-2020', 'Positive'], [4664, 49616, 'Jersey', '17-03-2020', 'Positive'], [4664, 49616, 'Jersey', '17-03-2020', 'Positive'], [4664, 49616, 'Jersey', '17-03-2020', 'Positive'], [4557, 49509, nan, '17-03-2020', 'Negative'], [4557, 49509, nan, '17-03-2020', 'Negative'], [4557, 49509, nan, '17-03-2020', 'Negative'], [3951, 48903, 'North Carolina, USA', '16-03-2020', 'Positive'], [3951, 48903, 'North Carolina, USA', '16-03-2020', 'Positive'], [3951, 48903, 'North Carolina, USA', '16-03-2020', 'Positive'], [4233, 49185, 'Netherlands', '16-03-2020', 'Negative'], [4233, 49185, 'Netherlands', '16-03-2020', 'Negative'], [4233, 49185, 'Netherlands', '16-03-2020', 'Negative'], [4808, 49760, 'Wa,Ghana.', '17-03-2020', 'Extremely Negative'], [4808, 49760, 'Wa,Ghana.', '17-03-2020', 'Extremely Negative'], [4808, 49760, 'Wa,Ghana.', '17-03-2020', 'Extremely Negative'], [3964, 48916, 'Camberley, UK', '16-03-2020', 'Negative'], [3964, 48916, 'Camberley, UK', '16-03-2020', 'Negative'], [3964, 48916, 'Camberley, UK', '16-03-2020', 'Negative'], [4899, 49851, 'Rwanda', '17-03-2020', 'Positive'], [4899, 49851, 'Rwanda', '17-03-2020', 'Positive'], [4899, 49851, 'Rwanda', '17-03-2020', 'Positive'], [3807, 48759, 'Atlanta, GA USA', '16-03-2020', 'Positive'], [3807, 48759, 'Atlanta, GA USA', '16-03-2020', 'Positive'], [3807, 48759, 'Atlanta, GA USA', '16-03-2020', 'Positive'], [4671, 49623, 'United Kingdom', '17-03-2020', 'Extremely Negative'], [4671, 49623, 'United Kingdom', '17-03-2020', 'Extremely Negative'], [4671, 49623, 'United Kingdom', '17-03-2020', 'Extremely Negative'], [4422, 49374, 'london', '16-03-2020', 'Extremely Negative'], [4422, 49374, 'london', '16-03-2020', 'Extremely Negative'], [4422, 49374, 'london', '16-03-2020', 'Extremely Negative'], [4748, 49700, 'The Netherlands', '17-03-2020', 'Negative'], [4748, 49700, 'The Netherlands', '17-03-2020', 'Negative'], [4748, 49700, 'The Netherlands', '17-03-2020', 'Negative'], [4315, 49267, 'Calgary, Alberta', '16-03-2020', 'Positive'], [4315, 49267, 'Calgary, Alberta', '16-03-2020', 'Positive'], [4315, 49267, 'Calgary, Alberta', '16-03-2020', 'Positive'], [4211, 49163, 'Washington, DC', '16-03-2020', 'Positive'], [4211, 49163, 'Washington, DC', '16-03-2020', 'Positive'], [4211, 49163, 'Washington, DC', '16-03-2020', 'Positive'], [3912, 48864, 'Kansas', '16-03-2020', 'Positive'], [3912, 48864, 'Kansas', '16-03-2020', 'Positive'], [3912, 48864, 'Kansas', '16-03-2020', 'Positive'], [3960, 48912, 'Hogwarts - Jamaica', '16-03-2020', 'Extremely Negative'], [3960, 48912, 'Hogwarts - Jamaica', '16-03-2020', 'Extremely Negative'], [3960, 48912, 'Hogwarts - Jamaica', '16-03-2020', 'Extremely Negative'], [3841, 48793, 'Houston', '16-03-2020', 'Extremely Negative'], [3841, 48793, 'Houston', '16-03-2020', 'Extremely Negative'], [3841, 48793, 'Houston', '16-03-2020', 'Extremely Negative'], [3921, 48873, nan, '16-03-2020', 'Negative'], [3921, 48873, nan, '16-03-2020', 'Negative'], [3921, 48873, nan, '16-03-2020', 'Negative'], [4195, 49147, 'Columbia, SC', '16-03-2020', 'Positive'], [4195, 49147, 'Columbia, SC', '16-03-2020', 'Positive'], [4195, 49147, 'Columbia, SC', '16-03-2020', 'Positive'], [4439, 49391, 'America', '16-03-2020', 'Extremely Negative'], [4439, 49391, 'America', '16-03-2020', 'Extremely Negative'], [4439, 49391, 'America', '16-03-2020', 'Extremely Negative'], [4471, 49423, nan, '17-03-2020', 'Extremely Positive'], [4471, 49423, nan, '17-03-2020', 'Extremely Positive'], [4471, 49423, nan, '17-03-2020', 'Extremely Positive'], [4258, 49210, nan, '16-03-2020', 'Extremely Positive'], [4258, 49210, nan, '16-03-2020', 'Extremely Positive'], [4258, 49210, nan, '16-03-2020', 'Extremely Positive'], [4640, 49592, 'Global', '17-03-2020', 'Positive'], [4640, 49592, 'Global', '17-03-2020', 'Positive'], [4640, 49592, 'Global', '17-03-2020', 'Positive'], [3948, 48900, 'London', '16-03-2020', 'Extremely Positive'], [3948, 48900, 'London', '16-03-2020', 'Extremely Positive'], [3948, 48900, 'London', '16-03-2020', 'Extremely Positive'], [4499, 49451, 'Orange County, CA', '17-03-2020', 'Negative'], [4499, 49451, 'Orange County, CA', '17-03-2020', 'Negative'], [4499, 49451, 'Orange County, CA', '17-03-2020', 'Negative'], [4653, 49605, nan, '17-03-2020', 'Extremely Positive'], [4653, 49605, nan, '17-03-2020', 'Extremely Positive'], [4653, 49605, nan, '17-03-2020', 'Extremely Positive'], [4892, 49844, 'Dublin', '17-03-2020', 'Positive'], [4892, 49844, 'Dublin', '17-03-2020', 'Positive'], [4892, 49844, 'Dublin', '17-03-2020', 'Positive'], [4696, 49648, 'Dubai', '17-03-2020', 'Neutral'], [4696, 49648, 'Dubai', '17-03-2020', 'Neutral'], [4696, 49648, 'Dubai', '17-03-2020', 'Neutral'], [4642, 49594, 'Palmetto State, USA / Washington, DC', '17-03-2020', 'Positive'], [4642, 49594, 'Palmetto State, USA / Washington, DC', '17-03-2020', 'Positive'], [4642, 49594, 'Palmetto State, USA / Washington, DC', '17-03-2020', 'Positive'], [4129, 49081, nan, '16-03-2020', 'Negative'], [4129, 49081, nan, '16-03-2020', 'Negative'], [4129, 49081, nan, '16-03-2020', 'Negative'], [3932, 48884, 'Michigan', '16-03-2020', 'Extremely Positive'], [3932, 48884, 'Michigan', '16-03-2020', 'Extremely Positive'], [3932, 48884, 'Michigan', '16-03-2020', 'Extremely Positive'], [3899, 48851, 'Portsmouth, England', '16-03-2020', 'Extremely Negative'], [3899, 48851, 'Portsmouth, England', '16-03-2020', 'Extremely Negative'], [3899, 48851, 'Portsmouth, England', '16-03-2020', 'Extremely Negative'], [4144, 49096, 'Ukraine', '16-03-2020', 'Neutral'], [4144, 49096, 'Ukraine', '16-03-2020', 'Neutral'], [4144, 49096, 'Ukraine', '16-03-2020', 'Neutral'], [4102, 49054, 'Washington, DC', '16-03-2020', 'Negative'], [4102, 49054, 'Washington, DC', '16-03-2020', 'Negative'], [4102, 49054, 'Washington, DC', '16-03-2020', 'Negative'], [4655, 49607, 'Phoenix, AZ', '17-03-2020', 'Extremely Negative'], [4655, 49607, 'Phoenix, AZ', '17-03-2020', 'Extremely Negative'], [4655, 49607, 'Phoenix, AZ', '17-03-2020', 'Extremely Negative'], [4274, 49226, 'Mumbai', '16-03-2020', 'Negative'], [4274, 49226, 'Mumbai', '16-03-2020', 'Negative'], [4274, 49226, 'Mumbai', '16-03-2020', 'Negative'], [3852, 48804, nan, '16-03-2020', 'Positive'], [3852, 48804, nan, '16-03-2020', 'Positive'], [3852, 48804, nan, '16-03-2020', 'Positive'], [4180, 49132, 'Kampala, Uganda', '16-03-2020', 'Neutral'], [4180, 49132, 'Kampala, Uganda', '16-03-2020', 'Neutral'], [4180, 49132, 'Kampala, Uganda', '16-03-2020', 'Neutral'], [4398, 49350, nan, '16-03-2020', 'Extremely Positive'], [4398, 49350, nan, '16-03-2020', 'Extremely Positive'], [4398, 49350, nan, '16-03-2020', 'Extremely Positive'], [3864, 48816, nan, '16-03-2020', 'Extremely Negative'], [3864, 48816, nan, '16-03-2020', 'Extremely Negative'], [3864, 48816, nan, '16-03-2020', 'Extremely Negative'], [4603, 49555, nan, '17-03-2020', 'Negative'], [4603, 49555, nan, '17-03-2020', 'Negative'], [4603, 49555, nan, '17-03-2020', 'Negative'], [4497, 49449, 'SoCal', '17-03-2020', 'Negative'], [4497, 49449, 'SoCal', '17-03-2020', 'Negative'], [4497, 49449, 'SoCal', '17-03-2020', 'Negative'], [4861, 49813, '?????, ???? & London,England ', '17-03-2020', 'Neutral'], [4861, 49813, '?????, ???? & London,England ', '17-03-2020', 'Neutral'], [4861, 49813, '?????, ???? & London,England ', '17-03-2020', 'Neutral'], [4609, 49561, 'Twilight Zone aka America ?', '17-03-2020', 'Negative'], [4609, 49561, 'Twilight Zone aka America ?', '17-03-2020', 'Negative'], [4609, 49561, 'Twilight Zone aka America ?', '17-03-2020', 'Negative'], [4399, 49351, 'Montebello, CA', '16-03-2020', 'Positive'], [4399, 49351, 'Montebello, CA', '16-03-2020', 'Positive'], [4399, 49351, 'Montebello, CA', '16-03-2020', 'Positive'], [3986, 48938, 'Ohio, USA', '16-03-2020', 'Neutral'], [3986, 48938, 'Ohio, USA', '16-03-2020', 'Neutral'], [3986, 48938, 'Ohio, USA', '16-03-2020', 'Neutral'], [4076, 49028, 'Princeton, NJ', '16-03-2020', 'Neutral'], [4076, 49028, 'Princeton, NJ', '16-03-2020', 'Neutral'], [4076, 49028, 'Princeton, NJ', '16-03-2020', 'Neutral'], [4442, 49394, 'Wallasey, England', '16-03-2020', 'Neutral'], [4442, 49394, 'Wallasey, England', '16-03-2020', 'Neutral'], [4442, 49394, 'Wallasey, England', '16-03-2020', 'Neutral'], [4183, 49135, 'New York City Area', '16-03-2020', 'Neutral'], [4183, 49135, 'New York City Area', '16-03-2020', 'Neutral'], [4183, 49135, 'New York City Area', '16-03-2020', 'Neutral'], [4057, 49009, 'Arizona, USA', '16-03-2020', 'Extremely Negative'], [4057, 49009, 'Arizona, USA', '16-03-2020', 'Extremely Negative'], [4057, 49009, 'Arizona, USA', '16-03-2020', 'Extremely Negative'], [3954, 48906, 'Nairobi, Kenya', '16-03-2020', 'Neutral'], [3954, 48906, 'Nairobi, Kenya', '16-03-2020', 'Neutral'], [3954, 48906, 'Nairobi, Kenya', '16-03-2020', 'Neutral'], [4118, 49070, 'Maidenhead UK', '16-03-2020', 'Extremely Negative'], [4118, 49070, 'Maidenhead UK', '16-03-2020', 'Extremely Negative'], [4118, 49070, 'Maidenhead UK', '16-03-2020', 'Extremely Negative'], [4942, 49894, 'Australia ', '17-03-2020', 'Negative'], [4942, 49894, 'Australia ', '17-03-2020', 'Negative'], [4942, 49894, 'Australia ', '17-03-2020', 'Negative'], [4901, 49853, 'Schenectady, NY', '17-03-2020', 'Positive'], [4901, 49853, 'Schenectady, NY', '17-03-2020', 'Positive'], [4901, 49853, 'Schenectady, NY', '17-03-2020', 'Positive'], [4453, 49405, nan, '16-03-2020', 'Positive'], [4453, 49405, nan, '16-03-2020', 'Positive'], [4453, 49405, nan, '16-03-2020', 'Positive'], [4699, 49651, 'Pennsylvania, USA', '17-03-2020', 'Neutral'], [4699, 49651, 'Pennsylvania, USA', '17-03-2020', 'Neutral'], [4699, 49651, 'Pennsylvania, USA', '17-03-2020', 'Neutral'], [4828, 49780, 'Australia', '17-03-2020', 'Positive'], [4828, 49780, 'Australia', '17-03-2020', 'Positive'], [4828, 49780, 'Australia', '17-03-2020', 'Positive'], [4484, 49436, 'Wilmington, DE', '17-03-2020', 'Negative'], [4484, 49436, 'Wilmington, DE', '17-03-2020', 'Negative'], [4484, 49436, 'Wilmington, DE', '17-03-2020', 'Negative'], [4515, 49467, 'BACK TO THE WOODS Phila, PA', '17-03-2020', 'Positive'], [4515, 49467, 'BACK TO THE WOODS Phila, PA', '17-03-2020', 'Positive'], [4515, 49467, 'BACK TO THE WOODS Phila, PA', '17-03-2020', 'Positive'], [4491, 49443, 'Arizona, USA', '17-03-2020', 'Extremely Positive'], [4491, 49443, 'Arizona, USA', '17-03-2020', 'Extremely Positive'], [4491, 49443, 'Arizona, USA', '17-03-2020', 'Extremely Positive'], [4430, 49382, nan, '16-03-2020', 'Positive'], [4430, 49382, nan, '16-03-2020', 'Positive'], [4430, 49382, nan, '16-03-2020', 'Positive'], [3822, 48774, nan, '16-03-2020', 'Extremely Positive'], [3822, 48774, nan, '16-03-2020', 'Extremely Positive'], [3822, 48774, nan, '16-03-2020', 'Extremely Positive'], [4546, 49498, 'potts point', '17-03-2020', 'Extremely Positive'], [4546, 49498, 'potts point', '17-03-2020', 'Extremely Positive'], [4546, 49498, 'potts point', '17-03-2020', 'Extremely Positive'], [4563, 49515, 'Ontario, Canada', '17-03-2020', 'Extremely Positive'], [4563, 49515, 'Ontario, Canada', '17-03-2020', 'Extremely Positive'], [4563, 49515, 'Ontario, Canada', '17-03-2020', 'Extremely Positive'], [4882, 49834, 'Southern California', '17-03-2020', 'Neutral'], [4882, 49834, 'Southern California', '17-03-2020', 'Neutral'], [4882, 49834, 'Southern California', '17-03-2020', 'Neutral'], [4836, 49788, 'United States', '17-03-2020', 'Negative'], [4836, 49788, 'United States', '17-03-2020', 'Negative'], [4836, 49788, 'United States', '17-03-2020', 'Negative'], [4046, 48998, 'Nairobi, Kenya', '16-03-2020', 'Negative'], [4046, 48998, 'Nairobi, Kenya', '16-03-2020', 'Negative'], [4046, 48998, 'Nairobi, Kenya', '16-03-2020', 'Negative'], [4186, 49138, nan, '16-03-2020', 'Negative'], [4186, 49138, nan, '16-03-2020', 'Negative'], [4186, 49138, nan, '16-03-2020', 'Negative'], [4809, 49761, 'Its all the same.', '17-03-2020', 'Extremely Positive'], [4809, 49761, 'Its all the same.', '17-03-2020', 'Extremely Positive'], [4809, 49761, 'Its all the same.', '17-03-2020', 'Extremely Positive'], [4948, 49900, 'Cleveland, OH', '17-03-2020', 'Extremely Positive'], [4948, 49900, 'Cleveland, OH', '17-03-2020', 'Extremely Positive'], [4948, 49900, 'Cleveland, OH', '17-03-2020', 'Extremely Positive'], [4547, 49499, 'Anime Hell', '17-03-2020', 'Extremely Negative'], [4547, 49499, 'Anime Hell', '17-03-2020', 'Extremely Negative'], [4547, 49499, 'Anime Hell', '17-03-2020', 'Extremely Negative'], [4998, 49950, nan, '17-03-2020', 'Negative'], [4998, 49950, nan, '17-03-2020', 'Negative'], [4998, 49950, nan, '17-03-2020', 'Negative'], [4895, 49847, 'Zimbabwe', '17-03-2020', 'Negative'], [4895, 49847, 'Zimbabwe', '17-03-2020', 'Negative'], [4895, 49847, 'Zimbabwe', '17-03-2020', 'Negative'], [4077, 49029, 'Orlando, FL', '16-03-2020', 'Positive'], [4077, 49029, 'Orlando, FL', '16-03-2020', 'Positive'], [4077, 49029, 'Orlando, FL', '16-03-2020', 'Positive'], [4260, 49212, 'Reno, NV', '16-03-2020', 'Negative'], [4260, 49212, 'Reno, NV', '16-03-2020', 'Negative'], [4260, 49212, 'Reno, NV', '16-03-2020', 'Negative'], [4923, 49875, nan, '17-03-2020', 'Positive'], [4923, 49875, nan, '17-03-2020', 'Positive'], [4923, 49875, nan, '17-03-2020', 'Positive'], [4142, 49094, 'Westfield, NJ', '16-03-2020', 'Neutral'], [4142, 49094, 'Westfield, NJ', '16-03-2020', 'Neutral'], [4142, 49094, 'Westfield, NJ', '16-03-2020', 'Neutral'], [3980, 48932, 'New York, NY', '16-03-2020', 'Neutral'], [3980, 48932, 'New York, NY', '16-03-2020', 'Neutral'], [3980, 48932, 'New York, NY', '16-03-2020', 'Neutral'], [4054, 49006, 'Lurking', '16-03-2020', 'Neutral'], [4054, 49006, 'Lurking', '16-03-2020', 'Neutral'], [4054, 49006, 'Lurking', '16-03-2020', 'Neutral'], [4829, 49781, 'NYC, SH, PB, DEN', '17-03-2020', 'Extremely Positive'], [4829, 49781, 'NYC, SH, PB, DEN', '17-03-2020', 'Extremely Positive'], [4829, 49781, 'NYC, SH, PB, DEN', '17-03-2020', 'Extremely Positive'], [4298, 49250, 'Disabled (with too many chromosomes) disease-ridden chronic illness & surgery survivor. Vegetarian resides MEL Disclaimer: RTs?endorsement!', '16-03-2020', 'Negative'], [4298, 49250, 'Disabled (with too many chromosomes) disease-ridden chronic illness & surgery survivor. Vegetarian resides MEL Disclaimer: RTs?endorsement!', '16-03-2020', 'Negative'], [4298, 49250, 'Disabled (with too many chromosomes) disease-ridden chronic illness & surgery survivor. Vegetarian resides MEL Disclaimer: RTs?endorsement!', '16-03-2020', 'Negative'], [4291, 49243, 'South Africa', '16-03-2020', 'Negative'], [4291, 49243, 'South Africa', '16-03-2020', 'Negative'], [4291, 49243, 'South Africa', '16-03-2020', 'Negative'], [4980, 49932, nan, '17-03-2020', 'Positive'], [4980, 49932, nan, '17-03-2020', 'Positive'], [4980, 49932, nan, '17-03-2020', 'Positive'], [4264, 49216, 'Biloxi, Mississippi', '16-03-2020', 'Extremely Positive'], [4264, 49216, 'Biloxi, Mississippi', '16-03-2020', 'Extremely Positive'], [4264, 49216, 'Biloxi, Mississippi', '16-03-2020', 'Extremely Positive'], [4559, 49511, 'Selangor, Malaysia', '17-03-2020', 'Neutral'], [4559, 49511, 'Selangor, Malaysia', '17-03-2020', 'Neutral'], [4559, 49511, 'Selangor, Malaysia', '17-03-2020', 'Neutral'], [4745, 49697, 'Toronto, Ontario', '17-03-2020', 'Positive'], [4745, 49697, 'Toronto, Ontario', '17-03-2020', 'Positive'], [4745, 49697, 'Toronto, Ontario', '17-03-2020', 'Positive'], [4188, 49140, 'Latur & New Delhi', '16-03-2020', 'Extremely Positive'], [4188, 49140, 'Latur & New Delhi', '16-03-2020', 'Extremely Positive'], [4188, 49140, 'Latur & New Delhi', '16-03-2020', 'Extremely Positive'], [4478, 49430, 'New South Wales, Australia', '17-03-2020', 'Positive'], [4478, 49430, 'New South Wales, Australia', '17-03-2020', 'Positive'], [4478, 49430, 'New South Wales, Australia', '17-03-2020', 'Positive'], [3991, 48943, 'Fujairah, UAE.', '16-03-2020', 'Extremely Positive'], [3991, 48943, 'Fujairah, UAE.', '16-03-2020', 'Extremely Positive'], [3991, 48943, 'Fujairah, UAE.', '16-03-2020', 'Extremely Positive'], [4407, 49359, 'Boston, MA', '16-03-2020', 'Positive'], [4407, 49359, 'Boston, MA', '16-03-2020', 'Positive'], [4407, 49359, 'Boston, MA', '16-03-2020', 'Positive'], [4652, 49604, 'San Francisco', '17-03-2020', 'Negative'], [4652, 49604, 'San Francisco', '17-03-2020', 'Negative'], [4652, 49604, 'San Francisco', '17-03-2020', 'Negative'], [3983, 48935, 'Malaysia', '16-03-2020', 'Positive'], [3983, 48935, 'Malaysia', '16-03-2020', 'Positive'], [3983, 48935, 'Malaysia', '16-03-2020', 'Positive'], [3977, 48929, nan, '16-03-2020', 'Extremely Positive'], [3977, 48929, nan, '16-03-2020', 'Extremely Positive'], [3977, 48929, nan, '16-03-2020', 'Extremely Positive'], [4401, 49353, 'LA - NYC', '16-03-2020', 'Positive'], [4401, 49353, 'LA - NYC', '16-03-2020', 'Positive'], [4401, 49353, 'LA - NYC', '16-03-2020', 'Positive'], [4596, 49548, nan, '17-03-2020', 'Extremely Negative'], [4596, 49548, nan, '17-03-2020', 'Extremely Negative'], [4596, 49548, nan, '17-03-2020', 'Extremely Negative'], [3859, 48811, 'Spokane Valley, WA', '16-03-2020', 'Negative'], [3859, 48811, 'Spokane Valley, WA', '16-03-2020', 'Negative'], [3859, 48811, 'Spokane Valley, WA', '16-03-2020', 'Negative'], [4196, 49148, 'Islamabad, Pakistan', '16-03-2020', 'Neutral'], [4196, 49148, 'Islamabad, Pakistan', '16-03-2020', 'Neutral'], [4225, 49177, nan, '16-03-2020', 'Extremely Positive'], [4225, 49177, nan, '16-03-2020', 'Extremely Positive'], [4225, 49177, nan, '16-03-2020', 'Extremely Positive'], [3868, 48820, 'Canvey Island, Essex, UK', '16-03-2020', 'Positive'], [3868, 48820, 'Canvey Island, Essex, UK', '16-03-2020', 'Positive'], [3868, 48820, 'Canvey Island, Essex, UK', '16-03-2020', 'Positive'], [4675, 49627, 'Tatooine', '17-03-2020', 'Extremely Positive'], [4675, 49627, 'Tatooine', '17-03-2020', 'Extremely Positive'], [4675, 49627, 'Tatooine', '17-03-2020', 'Extremely Positive'], [4781, 49733, nan, '17-03-2020', 'Positive'], [4781, 49733, nan, '17-03-2020', 'Positive'], [4781, 49733, nan, '17-03-2020', 'Positive'], [4714, 49666, 'England, United Kingdom', '17-03-2020', 'Neutral'], [4714, 49666, 'England, United Kingdom', '17-03-2020', 'Neutral'], [4714, 49666, 'England, United Kingdom', '17-03-2020', 'Neutral'], [4785, 49737, nan, '17-03-2020', 'Positive'], [4785, 49737, nan, '17-03-2020', 'Positive'], [4785, 49737, nan, '17-03-2020', 'Positive'], [4081, 49033, 'Denver, CO', '16-03-2020', 'Extremely Positive'], [4081, 49033, 'Denver, CO', '16-03-2020', 'Extremely Positive'], [4081, 49033, 'Denver, CO', '16-03-2020', 'Extremely Positive'], [4915, 49867, 'South Plainfield, New Jersey', '17-03-2020', 'Extremely Negative'], [4915, 49867, 'South Plainfield, New Jersey', '17-03-2020', 'Extremely Negative'], [4915, 49867, 'South Plainfield, New Jersey', '17-03-2020', 'Extremely Negative'], [4720, 49672, 'Kenya & Tennessee', '17-03-2020', 'Positive'], [4720, 49672, 'Kenya & Tennessee', '17-03-2020', 'Positive'], [4720, 49672, 'Kenya & Tennessee', '17-03-2020', 'Positive'], [4721, 49673, nan, '17-03-2020', 'Extremely Positive'], [4721, 49673, nan, '17-03-2020', 'Extremely Positive'], [4721, 49673, nan, '17-03-2020', 'Extremely Positive'], [4403, 49355, nan, '16-03-2020', 'Extremely Positive'], [4403, 49355, nan, '16-03-2020', 'Extremely Positive'], [4403, 49355, nan, '16-03-2020', 'Extremely Positive'], [3981, 48933, 'Worldwide', '16-03-2020', 'Extremely Negative'], [3981, 48933, 'Worldwide', '16-03-2020', 'Extremely Negative'], [3981, 48933, 'Worldwide', '16-03-2020', 'Extremely Negative'], [4556, 49508, 'S├Ñ l├Ñngt ifr├Ñn, s├Ñ n├ñra', '17-03-2020', 'Extremely Negative'], [4556, 49508, 'S├Ñ l├Ñngt ifr├Ñn, s├Ñ n├ñra', '17-03-2020', 'Extremely Negative'], [4556, 49508, 'S├Ñ l├Ñngt ifr├Ñn, s├Ñ n├ñra', '17-03-2020', 'Extremely Negative'], [4544, 49496, 'USA', '17-03-2020', 'Extremely Negative'], [4544, 49496, 'USA', '17-03-2020', 'Extremely Negative'], [4544, 49496, 'USA', '17-03-2020', 'Extremely Negative'], [4420, 49372, nan, '16-03-2020', 'Negative'], [4420, 49372, nan, '16-03-2020', 'Negative'], [4420, 49372, nan, '16-03-2020', 'Negative'], [4862, 49814, 'Australia,somewhere.', '17-03-2020', 'Negative'], [4862, 49814, 'Australia,somewhere.', '17-03-2020', 'Negative'], [4862, 49814, 'Australia,somewhere.', '17-03-2020', 'Negative'], [4362, 49314, nan, '16-03-2020', 'Negative'], [4362, 49314, nan, '16-03-2020', 'Negative'], [4362, 49314, nan, '16-03-2020', 'Negative'], [4308, 49260, 'New York', '16-03-2020', 'Extremely Positive'], [4308, 49260, 'New York', '16-03-2020', 'Extremely Positive'], [4308, 49260, 'New York', '16-03-2020', 'Extremely Positive'], [4026, 48978, nan, '16-03-2020', 'Neutral'], [4026, 48978, nan, '16-03-2020', 'Neutral'], [4026, 48978, nan, '16-03-2020', 'Neutral'], [4627, 49579, 'Western Canada & Your Dreams', '17-03-2020', 'Extremely Negative'], [4627, 49579, 'Western Canada & Your Dreams', '17-03-2020', 'Extremely Negative'], [4627, 49579, 'Western Canada & Your Dreams', '17-03-2020', 'Extremely Negative'], [4190, 49142, 'Berlin, Germany', '16-03-2020', 'Negative'], [4190, 49142, 'Berlin, Germany', '16-03-2020', 'Negative'], [4190, 49142, 'Berlin, Germany', '16-03-2020', 'Negative'], [4336, 49288, 'Northern Red River Valley', '16-03-2020', 'Extremely Positive'], [4336, 49288, 'Northern Red River Valley', '16-03-2020', 'Extremely Positive'], [4336, 49288, 'Northern Red River Valley', '16-03-2020', 'Extremely Positive'], [4871, 49823, 'Omaha, NE', '17-03-2020', 'Neutral'], [4871, 49823, 'Omaha, NE', '17-03-2020', 'Neutral'], [4871, 49823, 'Omaha, NE', '17-03-2020', 'Neutral'], [4979, 49931, 'Wiltshire UK', '17-03-2020', 'Positive'], [4979, 49931, 'Wiltshire UK', '17-03-2020', 'Positive'], [4979, 49931, 'Wiltshire UK', '17-03-2020', 'Positive'], [4963, 49915, 'Edinburgh, Scotland', '17-03-2020', 'Neutral'], [4963, 49915, 'Edinburgh, Scotland', '17-03-2020', 'Neutral'], [4963, 49915, 'Edinburgh, Scotland', '17-03-2020', 'Neutral'], [4704, 49656, 'Florida', '17-03-2020', 'Extremely Positive'], [4704, 49656, 'Florida', '17-03-2020', 'Extremely Positive'], [4704, 49656, 'Florida', '17-03-2020', 'Extremely Positive'], [4574, 49526, 'Edinburgh, Scotland', '17-03-2020', 'Positive'], [4574, 49526, 'Edinburgh, Scotland', '17-03-2020', 'Positive'], [4574, 49526, 'Edinburgh, Scotland', '17-03-2020', 'Positive'], [4665, 49617, 'Sheffield, the North', '17-03-2020', 'Negative'], [4665, 49617, 'Sheffield, the North', '17-03-2020', 'Negative'], [4665, 49617, 'Sheffield, the North', '17-03-2020', 'Negative'], [4943, 49895, 'United States', '17-03-2020', 'Neutral'], [4943, 49895, 'United States', '17-03-2020', 'Neutral'], [4943, 49895, 'United States', '17-03-2020', 'Neutral'], [4369, 49321, 'Geneva, Switzerland', '16-03-2020', 'Negative'], [4369, 49321, 'Geneva, Switzerland', '16-03-2020', 'Negative'], [4369, 49321, 'Geneva, Switzerland', '16-03-2020', 'Negative'], [4552, 49504, 'A White Room', '17-03-2020', 'Neutral'], [4552, 49504, 'A White Room', '17-03-2020', 'Neutral'], [4552, 49504, 'A White Room', '17-03-2020', 'Neutral'], [4997, 49949, 'Plumsteadville, PA', '17-03-2020', 'Neutral'], [4997, 49949, 'Plumsteadville, PA', '17-03-2020', 'Neutral'], [4997, 49949, 'Plumsteadville, PA', '17-03-2020', 'Neutral'], [4629, 49581, 'Chennai, India', '17-03-2020', 'Negative'], [4629, 49581, 'Chennai, India', '17-03-2020', 'Negative'], [4629, 49581, 'Chennai, India', '17-03-2020', 'Negative'], [3992, 48944, 'OnTheEdgeSEMelbourne', '16-03-2020', 'Positive'], [3992, 48944, 'OnTheEdgeSEMelbourne', '16-03-2020', 'Positive'], [3992, 48944, 'OnTheEdgeSEMelbourne', '16-03-2020', 'Positive'], [4673, 49625, 'AFRICA.', '17-03-2020', 'Neutral'], [4673, 49625, 'AFRICA.', '17-03-2020', 'Neutral'], [4673, 49625, 'AFRICA.', '17-03-2020', 'Neutral'], [4560, 49512, '??', '17-03-2020', 'Extremely Positive'], [4560, 49512, '??', '17-03-2020', 'Extremely Positive'], [4560, 49512, '??', '17-03-2020', 'Extremely Positive'], [4790, 49742, 'Jersey Shore', '17-03-2020', 'Negative'], [4790, 49742, 'Jersey Shore', '17-03-2020', 'Negative'], [4790, 49742, 'Jersey Shore', '17-03-2020', 'Negative'], [4395, 49347, nan, '16-03-2020', 'Extremely Negative'], [4395, 49347, nan, '16-03-2020', 'Extremely Negative'], [4395, 49347, nan, '16-03-2020', 'Extremely Negative'], [3873, 48825, nan, '16-03-2020', 'Positive'], [3873, 48825, nan, '16-03-2020', 'Positive'], [3873, 48825, nan, '16-03-2020', 'Positive'], [4712, 49664, nan, '17-03-2020', 'Positive'], [4712, 49664, nan, '17-03-2020', 'Positive'], [4712, 49664, nan, '17-03-2020', 'Positive'], [4719, 49671, 'Sheffield.', '17-03-2020', 'Extremely Positive'], [4719, 49671, 'Sheffield.', '17-03-2020', 'Extremely Positive'], [4719, 49671, 'Sheffield.', '17-03-2020', 'Extremely Positive'], [4228, 49180, nan, '16-03-2020', 'Positive'], [4228, 49180, nan, '16-03-2020', 'Positive'], [4228, 49180, nan, '16-03-2020', 'Positive'], [4325, 49277, 'North West, England', '16-03-2020', 'Negative'], [4325, 49277, 'North West, England', '16-03-2020', 'Negative'], [4325, 49277, 'North West, England', '16-03-2020', 'Negative'], [4390, 49342, 'New Delhi, India', '16-03-2020', 'Positive'], [4390, 49342, 'New Delhi, India', '16-03-2020', 'Positive'], [4390, 49342, 'New Delhi, India', '16-03-2020', 'Positive'], [3920, 48872, nan, '16-03-2020', 'Extremely Positive'], [3920, 48872, nan, '16-03-2020', 'Extremely Positive'], [3920, 48872, nan, '16-03-2020', 'Extremely Positive'], [4769, 49721, 'Paris, France', '17-03-2020', 'Extremely Positive'], [4769, 49721, 'Paris, France', '17-03-2020', 'Extremely Positive'], [4769, 49721, 'Paris, France', '17-03-2020', 'Extremely Positive'], [4817, 49769, 'Karachi, Pakistan', '17-03-2020', 'Positive'], [4817, 49769, 'Karachi, Pakistan', '17-03-2020', 'Positive'], [4817, 49769, 'Karachi, Pakistan', '17-03-2020', 'Positive'], [4706, 49658, 'Mosul, Iraq', '17-03-2020', 'Extremely Negative'], [4706, 49658, 'Mosul, Iraq', '17-03-2020', 'Extremely Negative'], [4706, 49658, 'Mosul, Iraq', '17-03-2020', 'Extremely Negative'], [4761, 49713, nan, '17-03-2020', 'Extremely Positive'], [4761, 49713, nan, '17-03-2020', 'Extremely Positive'], [4761, 49713, nan, '17-03-2020', 'Extremely Positive'], [3882, 48834, 'Sydney, Australia', '16-03-2020', 'Negative'], [3882, 48834, 'Sydney, Australia', '16-03-2020', 'Negative'], [3882, 48834, 'Sydney, Australia', '16-03-2020', 'Negative'], [3946, 48898, nan, '16-03-2020', 'Negative'], [3946, 48898, nan, '16-03-2020', 'Negative'], [3946, 48898, nan, '16-03-2020', 'Negative'], [4724, 49676, 'Washington, DC', '17-03-2020', 'Negative'], [4724, 49676, 'Washington, DC', '17-03-2020', 'Negative'], [4724, 49676, 'Washington, DC', '17-03-2020', 'Negative'], [4630, 49582, ' in the south west of England', '17-03-2020', 'Neutral'], [4630, 49582, ' in the south west of England', '17-03-2020', 'Neutral'], [4630, 49582, ' in the south west of England', '17-03-2020', 'Neutral'], [4990, 49942, nan, '17-03-2020', 'Extremely Positive'], [4990, 49942, nan, '17-03-2020', 'Extremely Positive'], [4990, 49942, nan, '17-03-2020', 'Extremely Positive'], [4117, 49069, 'University Park, PA', '16-03-2020', 'Negative'], [4117, 49069, 'University Park, PA', '16-03-2020', 'Negative'], [4117, 49069, 'University Park, PA', '16-03-2020', 'Negative'], [4448, 49400, nan, '16-03-2020', 'Neutral'], [4448, 49400, nan, '16-03-2020', 'Neutral'], [4448, 49400, nan, '16-03-2020', 'Neutral'], [4965, 49917, 'SEOUL. ATL. NYC. LA.', '17-03-2020', 'Extremely Negative'], [4965, 49917, 'SEOUL. ATL. NYC. LA.', '17-03-2020', 'Extremely Negative'], [4965, 49917, 'SEOUL. ATL. NYC. LA.', '17-03-2020', 'Extremely Negative'], [4493, 49445, 'Northern New Jersey', '17-03-2020', 'Negative'], [4493, 49445, 'Northern New Jersey', '17-03-2020', 'Negative'], [4493, 49445, 'Northern New Jersey', '17-03-2020', 'Negative'], [4914, 49866, 'Sacramento, CA', '17-03-2020', 'Neutral'], [4914, 49866, 'Sacramento, CA', '17-03-2020', 'Neutral'], [4914, 49866, 'Sacramento, CA', '17-03-2020', 'Neutral'], [4992, 49944, 'Zurich', '17-03-2020', 'Positive'], [4992, 49944, 'Zurich', '17-03-2020', 'Positive'], [4992, 49944, 'Zurich', '17-03-2020', 'Positive'], [3999, 48951, 'USA', '16-03-2020', 'Positive'], [3999, 48951, 'USA', '16-03-2020', 'Positive'], [3999, 48951, 'USA', '16-03-2020', 'Positive'], [4526, 49478, 'Next door ', '17-03-2020', 'Neutral'], [4526, 49478, 'Next door ', '17-03-2020', 'Neutral'], [4526, 49478, 'Next door ', '17-03-2020', 'Neutral'], [4762, 49714, 'Wichita, KS', '17-03-2020', 'Extremely Positive'], [4762, 49714, 'Wichita, KS', '17-03-2020', 'Extremely Positive'], [4762, 49714, 'Wichita, KS', '17-03-2020', 'Extremely Positive'], [3806, 48758, 'Austria', '16-03-2020', 'Neutral'], [3806, 48758, 'Austria', '16-03-2020', 'Neutral'], [3806, 48758, 'Austria', '16-03-2020', 'Neutral'], [4523, 49475, 'PHL', '17-03-2020', 'Extremely Positive'], [4523, 49475, 'PHL', '17-03-2020', 'Extremely Positive'], [4523, 49475, 'PHL', '17-03-2020', 'Extremely Positive'], [3863, 48815, 'Boston', '16-03-2020', 'Neutral'], [3863, 48815, 'Boston', '16-03-2020', 'Neutral'], [3863, 48815, 'Boston', '16-03-2020', 'Neutral'], [4850, 49802, 'Zummerzet', '17-03-2020', 'Neutral'], [4850, 49802, 'Zummerzet', '17-03-2020', 'Neutral'], [4850, 49802, 'Zummerzet', '17-03-2020', 'Neutral'], [4955, 49907, nan, '17-03-2020', 'Extremely Positive'], [4955, 49907, nan, '17-03-2020', 'Extremely Positive'], [4955, 49907, nan, '17-03-2020', 'Extremely Positive'], [4812, 49764, nan, '17-03-2020', 'Positive'], [4812, 49764, nan, '17-03-2020', 'Positive'], [4812, 49764, nan, '17-03-2020', 'Positive'], [4151, 49103, 'Washington, DC', '16-03-2020', 'Negative'], [4151, 49103, 'Washington, DC', '16-03-2020', 'Negative'], [4151, 49103, 'Washington, DC', '16-03-2020', 'Negative'], [4918, 49870, 'United States', '17-03-2020', 'Positive'], [4918, 49870, 'United States', '17-03-2020', 'Positive'], [4918, 49870, 'United States', '17-03-2020', 'Positive'], [4394, 49346, nan, '16-03-2020', 'Negative'], [4394, 49346, nan, '16-03-2020', 'Negative'], [4394, 49346, nan, '16-03-2020', 'Negative'], [3883, 48835, 'Boston, MA', '16-03-2020', 'Extremely Negative'], [3883, 48835, 'Boston, MA', '16-03-2020', 'Extremely Negative'], [3883, 48835, 'Boston, MA', '16-03-2020', 'Extremely Negative'], [4746, 49698, '?Southern California', '17-03-2020', 'Neutral'], [4746, 49698, '?Southern California', '17-03-2020', 'Neutral'], [4746, 49698, '?Southern California', '17-03-2020', 'Neutral'], [4235, 49187, 'India', '16-03-2020', 'Positive'], [4235, 49187, 'India', '16-03-2020', 'Positive'], [4235, 49187, 'India', '16-03-2020', 'Positive'], [4154, 49106, nan, '16-03-2020', 'Extremely Negative'], [4154, 49106, nan, '16-03-2020', 'Extremely Negative'], [4154, 49106, nan, '16-03-2020', 'Extremely Negative'], [4367, 49319, 'Aschheim, Deutschland', '16-03-2020', 'Positive'], [4367, 49319, 'Aschheim, Deutschland', '16-03-2020', 'Positive'], [4367, 49319, 'Aschheim, Deutschland', '16-03-2020', 'Positive'], [4056, 49008, 'Italy', '16-03-2020', 'Neutral'], [4056, 49008, 'Italy', '16-03-2020', 'Neutral'], [4056, 49008, 'Italy', '16-03-2020', 'Neutral'], [4709, 49661, 'Ireland ', '17-03-2020', 'Extremely Positive'], [4709, 49661, 'Ireland ', '17-03-2020', 'Extremely Positive'], [4709, 49661, 'Ireland ', '17-03-2020', 'Extremely Positive'], [4578, 49530, nan, '17-03-2020', 'Extremely Negative'], [4578, 49530, nan, '17-03-2020', 'Extremely Negative'], [4578, 49530, nan, '17-03-2020', 'Extremely Negative'], [4192, 49144, 'London', '16-03-2020', 'Neutral'], [4192, 49144, 'London', '16-03-2020', 'Neutral'], [4192, 49144, 'London', '16-03-2020', 'Neutral'], [4147, 49099, 'Toronto, Canada', '16-03-2020', 'Negative'], [4147, 49099, 'Toronto, Canada', '16-03-2020', 'Negative'], [4147, 49099, 'Toronto, Canada', '16-03-2020', 'Negative'], [4130, 49082, 'Altus, Arkansas USA', '16-03-2020', 'Positive'], [4130, 49082, 'Altus, Arkansas USA', '16-03-2020', 'Positive'], [4130, 49082, 'Altus, Arkansas USA', '16-03-2020', 'Positive'], [4438, 49390, 'Locarno, Switzerland', '16-03-2020', 'Negative'], [4438, 49390, 'Locarno, Switzerland', '16-03-2020', 'Negative'], [4438, 49390, 'Locarno, Switzerland', '16-03-2020', 'Negative'], [4155, 49107, 'Owensboro, KY ', '16-03-2020', 'Neutral'], [4155, 49107, 'Owensboro, KY ', '16-03-2020', 'Neutral'], [4155, 49107, 'Owensboro, KY ', '16-03-2020', 'Neutral'], [4044, 48996, 'New York City - Philippines', '16-03-2020', 'Negative'], [4044, 48996, 'New York City - Philippines', '16-03-2020', 'Negative'], [4044, 48996, 'New York City - Philippines', '16-03-2020', 'Negative'], [4004, 48956, nan, '16-03-2020', 'Extremely Negative'], [4004, 48956, nan, '16-03-2020', 'Extremely Negative'], [4004, 48956, nan, '16-03-2020', 'Extremely Negative'], [4281, 49233, 'Manchester', '16-03-2020', 'Positive'], [4281, 49233, 'Manchester', '16-03-2020', 'Positive'], [4281, 49233, 'Manchester', '16-03-2020', 'Positive'], [4869, 49821, nan, '17-03-2020', 'Neutral'], [4869, 49821, nan, '17-03-2020', 'Neutral'], [4869, 49821, nan, '17-03-2020', 'Neutral'], [4938, 49890, 'Capital Region, NY, USA', '17-03-2020', 'Extremely Positive'], [4938, 49890, 'Capital Region, NY, USA', '17-03-2020', 'Extremely Positive'], [4938, 49890, 'Capital Region, NY, USA', '17-03-2020', 'Extremely Positive'], [4569, 49521, 'Latibule ', '17-03-2020', 'Negative'], [4569, 49521, 'Latibule ', '17-03-2020', 'Negative'], [4569, 49521, 'Latibule ', '17-03-2020', 'Negative'], [3881, 48833, 'Andersonville, Chicago, IL', '16-03-2020', 'Extremely Negative'], [3881, 48833, 'Andersonville, Chicago, IL', '16-03-2020', 'Extremely Negative'], [3881, 48833, 'Andersonville, Chicago, IL', '16-03-2020', 'Extremely Negative'], [4053, 49005, 'Granby, Colorado', '16-03-2020', 'Extremely Positive'], [4053, 49005, 'Granby, Colorado', '16-03-2020', 'Extremely Positive'], [4053, 49005, 'Granby, Colorado', '16-03-2020', 'Extremely Positive'], [4813, 49765, 'Houston, TX', '17-03-2020', 'Positive'], [4813, 49765, 'Houston, TX', '17-03-2020', 'Positive'], [4813, 49765, 'Houston, TX', '17-03-2020', 'Positive'], [4241, 49193, 'London', '16-03-2020', 'Positive'], [4241, 49193, 'London', '16-03-2020', 'Positive'], [4241, 49193, 'London', '16-03-2020', 'Positive'], [4019, 48971, nan, '16-03-2020', 'Neutral'], [4019, 48971, nan, '16-03-2020', 'Neutral'], [4019, 48971, nan, '16-03-2020', 'Neutral'], [4683, 49635, nan, '17-03-2020', 'Positive'], [4683, 49635, nan, '17-03-2020', 'Positive'], [4683, 49635, nan, '17-03-2020', 'Positive'], [4535, 49487, 'The Internet', '17-03-2020', 'Negative'], [4535, 49487, 'The Internet', '17-03-2020', 'Negative'], [4535, 49487, 'The Internet', '17-03-2020', 'Negative'], [4646, 49598, 'Greater Hobby Area, Houston', '17-03-2020', 'Neutral'], [4646, 49598, 'Greater Hobby Area, Houston', '17-03-2020', 'Neutral'], [4288, 49240, 'The Cosmos', '16-03-2020', 'Negative'], [4288, 49240, 'The Cosmos', '16-03-2020', 'Negative'], [4288, 49240, 'The Cosmos', '16-03-2020', 'Negative'], [4224, 49176, 'Cayman Islands', '16-03-2020', 'Neutral'], [4224, 49176, 'Cayman Islands', '16-03-2020', 'Neutral'], [4224, 49176, 'Cayman Islands', '16-03-2020', 'Neutral'], [4289, 49241, 'Berlin', '16-03-2020', 'Neutral'], [4289, 49241, 'Berlin', '16-03-2020', 'Neutral'], [4289, 49241, 'Berlin', '16-03-2020', 'Neutral'], [4379, 49331, 'Portland, ME', '16-03-2020', 'Positive'], [4379, 49331, 'Portland, ME', '16-03-2020', 'Positive'], [4379, 49331, 'Portland, ME', '16-03-2020', 'Positive'], [4775, 49727, 'Mapperley, England', '17-03-2020', 'Negative'], [4775, 49727, 'Mapperley, England', '17-03-2020', 'Negative'], [4775, 49727, 'Mapperley, England', '17-03-2020', 'Negative'], [4263, 49215, nan, '16-03-2020', 'Positive'], [4263, 49215, nan, '16-03-2020', 'Positive'], [4263, 49215, nan, '16-03-2020', 'Positive'], [3990, 48942, 'West Hollywood, CA', '16-03-2020', 'Negative'], [3990, 48942, 'West Hollywood, CA', '16-03-2020', 'Negative'], [3990, 48942, 'West Hollywood, CA', '16-03-2020', 'Negative'], [3879, 48831, 'Whittier, CA', '16-03-2020', 'Positive'], [3879, 48831, 'Whittier, CA', '16-03-2020', 'Positive'], [3879, 48831, 'Whittier, CA', '16-03-2020', 'Positive'], [4145, 49097, nan, '16-03-2020', 'Negative'], [4145, 49097, nan, '16-03-2020', 'Negative'], [4145, 49097, nan, '16-03-2020', 'Negative'], [4570, 49522, nan, '17-03-2020', 'Neutral'], [4570, 49522, nan, '17-03-2020', 'Neutral'], [4570, 49522, nan, '17-03-2020', 'Neutral'], [4371, 49323, nan, '16-03-2020', 'Neutral'], [4371, 49323, nan, '16-03-2020', 'Neutral'], [4371, 49323, nan, '16-03-2020', 'Neutral'], [4479, 49431, 'New England', '17-03-2020', 'Positive'], [4479, 49431, 'New England', '17-03-2020', 'Positive'], [4479, 49431, 'New England', '17-03-2020', 'Positive'], [4821, 49773, 'Portland, OR', '17-03-2020', 'Extremely Negative'], [4821, 49773, 'Portland, OR', '17-03-2020', 'Extremely Negative'], [4821, 49773, 'Portland, OR', '17-03-2020', 'Extremely Negative'], [4202, 49154, nan, '16-03-2020', 'Extremely Positive'], [4202, 49154, nan, '16-03-2020', 'Extremely Positive'], [4202, 49154, nan, '16-03-2020', 'Extremely Positive'], [4469, 49421, 'Joburg and wherever life takes', '17-03-2020', 'Extremely Negative'], [4469, 49421, 'Joburg and wherever life takes', '17-03-2020', 'Extremely Negative'], [4469, 49421, 'Joburg and wherever life takes', '17-03-2020', 'Extremely Negative'], [4773, 49725, 'Emerging Markets', '17-03-2020', 'Positive'], [4773, 49725, 'Emerging Markets', '17-03-2020', 'Positive'], [4773, 49725, 'Emerging Markets', '17-03-2020', 'Positive'], [4870, 49822, nan, '17-03-2020', 'Extremely Negative'], [4870, 49822, nan, '17-03-2020', 'Extremely Negative'], [4870, 49822, nan, '17-03-2020', 'Extremely Negative'], [3949, 48901, 'Denver, CO', '16-03-2020', 'Neutral'], [3949, 48901, 'Denver, CO', '16-03-2020', 'Neutral'], [3949, 48901, 'Denver, CO', '16-03-2020', 'Neutral'], [4278, 49230, 'London, England', '16-03-2020', 'Extremely Negative'], [4278, 49230, 'London, England', '16-03-2020', 'Extremely Negative'], [4278, 49230, 'London, England', '16-03-2020', 'Extremely Negative'], [4687, 49639, 'New York, USA', '17-03-2020', 'Neutral'], [4687, 49639, 'New York, USA', '17-03-2020', 'Neutral'], [4687, 49639, 'New York, USA', '17-03-2020', 'Neutral'], [4645, 49597, 'Doha, Qatar', '17-03-2020', 'Positive'], [4645, 49597, 'Doha, Qatar', '17-03-2020', 'Positive'], [4645, 49597, 'Doha, Qatar', '17-03-2020', 'Positive'], [3976, 48928, 'Euless, TX', '16-03-2020', 'Negative'], [3976, 48928, 'Euless, TX', '16-03-2020', 'Negative'], [3976, 48928, 'Euless, TX', '16-03-2020', 'Negative'], [3902, 48854, 'USA', '16-03-2020', 'Positive'], [3902, 48854, 'USA', '16-03-2020', 'Positive'], [3902, 48854, 'USA', '16-03-2020', 'Positive'], [3845, 48797, 'Drogheda', '16-03-2020', 'Extremely Positive'], [3845, 48797, 'Drogheda', '16-03-2020', 'Extremely Positive'], [3845, 48797, 'Drogheda', '16-03-2020', 'Extremely Positive'], [4159, 49111, 'New York, NY', '16-03-2020', 'Positive'], [4159, 49111, 'New York, NY', '16-03-2020', 'Positive'], [4159, 49111, 'New York, NY', '16-03-2020', 'Positive'], [4798, 49750, 'San Jose, CA', '17-03-2020', 'Negative'], [4798, 49750, 'San Jose, CA', '17-03-2020', 'Negative'], [4798, 49750, 'San Jose, CA', '17-03-2020', 'Negative'], [4467, 49419, 'South West Florida', '17-03-2020', 'Negative'], [4467, 49419, 'South West Florida', '17-03-2020', 'Negative'], [4467, 49419, 'South West Florida', '17-03-2020', 'Negative'], [3802, 48754, nan, '16-03-2020', 'Positive'], [3802, 48754, nan, '16-03-2020', 'Positive'], [3802, 48754, nan, '16-03-2020', 'Positive'], [4214, 49166, 'Washington, DC', '16-03-2020', 'Negative'], [4214, 49166, 'Washington, DC', '16-03-2020', 'Negative'], [4214, 49166, 'Washington, DC', '16-03-2020', 'Negative'], [3916, 48868, 'Berkshire, England', '16-03-2020', 'Positive'], [3916, 48868, 'Berkshire, England', '16-03-2020', 'Positive'], [3916, 48868, 'Berkshire, England', '16-03-2020', 'Positive'], [4191, 49143, 'New Brunswick, NJ', '16-03-2020', 'Positive'], [4191, 49143, 'New Brunswick, NJ', '16-03-2020', 'Positive'], [4191, 49143, 'New Brunswick, NJ', '16-03-2020', 'Positive'], [4900, 49852, 'Raleigh NC USA', '17-03-2020', 'Negative'], [4900, 49852, 'Raleigh NC USA', '17-03-2020', 'Negative'], [4900, 49852, 'Raleigh NC USA', '17-03-2020', 'Negative'], [4532, 49484, '? No DMs; contact Me here ?', '17-03-2020', 'Extremely Negative'], [4532, 49484, '? No DMs; contact Me here ?', '17-03-2020', 'Extremely Negative'], [4532, 49484, '? No DMs; contact Me here ?', '17-03-2020', 'Extremely Negative'], [3839, 48791, 'Fort Worth, Texas', '16-03-2020', 'Extremely Positive'], [3839, 48791, 'Fort Worth, Texas', '16-03-2020', 'Extremely Positive'], [3839, 48791, 'Fort Worth, Texas', '16-03-2020', 'Extremely Positive'], [4908, 49860, 'West Virginia, USA', '17-03-2020', 'Extremely Negative'], [4908, 49860, 'West Virginia, USA', '17-03-2020', 'Extremely Negative'], [4908, 49860, 'West Virginia, USA', '17-03-2020', 'Extremely Negative'], [4114, 49066, 'Wicklow, Ireland', '16-03-2020', 'Neutral'], [4114, 49066, 'Wicklow, Ireland', '16-03-2020', 'Neutral'], [4114, 49066, 'Wicklow, Ireland', '16-03-2020', 'Neutral'], [4703, 49655, 'United States', '17-03-2020', 'Neutral'], [4703, 49655, 'United States', '17-03-2020', 'Neutral'], [4703, 49655, 'United States', '17-03-2020', 'Neutral'], [4880, 49832, 'San Francisco, CA', '17-03-2020', 'Neutral'], [4880, 49832, 'San Francisco, CA', '17-03-2020', 'Neutral'], [4880, 49832, 'San Francisco, CA', '17-03-2020', 'Neutral'], [3844, 48796, 'Midrand', '16-03-2020', 'Negative'], [3844, 48796, 'Midrand', '16-03-2020', 'Negative'], [3844, 48796, 'Midrand', '16-03-2020', 'Negative'], [4727, 49679, 'Hereford, England', '17-03-2020', 'Positive'], [4727, 49679, 'Hereford, England', '17-03-2020', 'Positive'], [4727, 49679, 'Hereford, England', '17-03-2020', 'Positive'], [4616, 49568, 'Michigan', '17-03-2020', 'Extremely Positive'], [4616, 49568, 'Michigan', '17-03-2020', 'Extremely Positive'], [4616, 49568, 'Michigan', '17-03-2020', 'Extremely Positive'], [4412, 49364, nan, '16-03-2020', 'Neutral'], [4412, 49364, nan, '16-03-2020', 'Neutral'], [4412, 49364, nan, '16-03-2020', 'Neutral'], [4886, 49838, 'Lawrence, MA', '17-03-2020', 'Extremely Positive'], [4886, 49838, 'Lawrence, MA', '17-03-2020', 'Extremely Positive'], [4886, 49838, 'Lawrence, MA', '17-03-2020', 'Extremely Positive'], [4558, 49510, 'South Holland, The Netherlands', '17-03-2020', 'Neutral'], [4558, 49510, 'South Holland, The Netherlands', '17-03-2020', 'Neutral'], [4558, 49510, 'South Holland, The Netherlands', '17-03-2020', 'Neutral'], [4344, 49296, 'Chicago, NYC, Orlando, LATAM', '16-03-2020', 'Extremely Positive'], [4344, 49296, 'Chicago, NYC, Orlando, LATAM', '16-03-2020', 'Extremely Positive'], [4344, 49296, 'Chicago, NYC, Orlando, LATAM', '16-03-2020', 'Extremely Positive'], [4294, 49246, '?????????', '16-03-2020', 'Neutral'], [4294, 49246, '?????????', '16-03-2020', 'Neutral'], [4294, 49246, '?????????', '16-03-2020', 'Neutral'], [4834, 49786, 'Dartmouth, NS', '17-03-2020', 'Extremely Positive'], [4834, 49786, 'Dartmouth, NS', '17-03-2020', 'Extremely Positive'], [4834, 49786, 'Dartmouth, NS', '17-03-2020', 'Extremely Positive'], [4416, 49368, 'the bay ?', '16-03-2020', 'Extremely Negative'], [4416, 49368, 'the bay ?', '16-03-2020', 'Extremely Negative'], [4416, 49368, 'the bay ?', '16-03-2020', 'Extremely Negative'], [4358, 49310, 'York, England', '16-03-2020', 'Neutral'], [4358, 49310, 'York, England', '16-03-2020', 'Neutral'], [4358, 49310, 'York, England', '16-03-2020', 'Neutral'], [3857, 48809, nan, '16-03-2020', 'Extremely Positive'], [3857, 48809, nan, '16-03-2020', 'Extremely Positive'], [3857, 48809, nan, '16-03-2020', 'Extremely Positive'], [4590, 49542, 'Bangkok, Thailand', '17-03-2020', 'Negative'], [4590, 49542, 'Bangkok, Thailand', '17-03-2020', 'Negative'], [4590, 49542, 'Bangkok, Thailand', '17-03-2020', 'Negative'], [3979, 48931, 'Oxford, OH', '16-03-2020', 'Neutral'], [3979, 48931, 'Oxford, OH', '16-03-2020', 'Neutral'], [3979, 48931, 'Oxford, OH', '16-03-2020', 'Neutral'], [4637, 49589, 'Culver City, CA', '17-03-2020', 'Extremely Positive'], [4637, 49589, 'Culver City, CA', '17-03-2020', 'Extremely Positive'], [4637, 49589, 'Culver City, CA', '17-03-2020', 'Extremely Positive'], [4091, 49043, 'UK', '16-03-2020', 'Extremely Positive'], [4091, 49043, 'UK', '16-03-2020', 'Extremely Positive'], [4091, 49043, 'UK', '16-03-2020', 'Extremely Positive'], [4944, 49896, 'Australia, Asia and Europe', '17-03-2020', 'Negative'], [4944, 49896, 'Australia, Asia and Europe', '17-03-2020', 'Negative'], [4944, 49896, 'Australia, Asia and Europe', '17-03-2020', 'Negative'], [3962, 48914, nan, '16-03-2020', 'Positive'], [3962, 48914, nan, '16-03-2020', 'Positive'], [3962, 48914, nan, '16-03-2020', 'Positive'], [3893, 48845, 'Adelaide, South Australia', '16-03-2020', 'Positive'], [3893, 48845, 'Adelaide, South Australia', '16-03-2020', 'Positive'], [3893, 48845, 'Adelaide, South Australia', '16-03-2020', 'Positive'], [4285, 49237, nan, '16-03-2020', 'Neutral'], [4285, 49237, nan, '16-03-2020', 'Neutral'], [4285, 49237, nan, '16-03-2020', 'Neutral'], [3850, 48802, 'Ohio, USA', '16-03-2020', 'Neutral'], [3850, 48802, 'Ohio, USA', '16-03-2020', 'Neutral'], [3850, 48802, 'Ohio, USA', '16-03-2020', 'Neutral'], [4742, 49694, 'Taunton, England', '17-03-2020', 'Extremely Negative'], [4742, 49694, 'Taunton, England', '17-03-2020', 'Extremely Negative'], [4742, 49694, 'Taunton, England', '17-03-2020', 'Extremely Negative'], [4276, 49228, 'Avon, Ohio', '16-03-2020', 'Negative'], [4276, 49228, 'Avon, Ohio', '16-03-2020', 'Negative'], [4276, 49228, 'Avon, Ohio', '16-03-2020', 'Negative'], [4779, 49731, 'Berlin, Deutschland', '17-03-2020', 'Negative'], [4779, 49731, 'Berlin, Deutschland', '17-03-2020', 'Negative'], [4779, 49731, 'Berlin, Deutschland', '17-03-2020', 'Negative'], [4255, 49207, 'New York, NY', '16-03-2020', 'Neutral'], [4255, 49207, 'New York, NY', '16-03-2020', 'Neutral'], [4255, 49207, 'New York, NY', '16-03-2020', 'Neutral'], [3971, 48923, 'British Columbia, Canada', '16-03-2020', 'Positive'], [3971, 48923, 'British Columbia, Canada', '16-03-2020', 'Positive'], [3971, 48923, 'British Columbia, Canada', '16-03-2020', 'Positive'], [3816, 48768, 'Ontario, Canada', '16-03-2020', 'Neutral'], [3816, 48768, 'Ontario, Canada', '16-03-2020', 'Neutral'], [3816, 48768, 'Ontario, Canada', '16-03-2020', 'Neutral'], [4445, 49397, 'Los Angeles, CA', '16-03-2020', 'Negative'], [4445, 49397, 'Los Angeles, CA', '16-03-2020', 'Negative'], [4445, 49397, 'Los Angeles, CA', '16-03-2020', 'Negative'], [3846, 48798, 'Columbia, MO', '16-03-2020', 'Positive'], [3846, 48798, 'Columbia, MO', '16-03-2020', 'Positive'], [3846, 48798, 'Columbia, MO', '16-03-2020', 'Positive'], [3856, 48808, 'San Clemente', '16-03-2020', 'Positive'], [3856, 48808, 'San Clemente', '16-03-2020', 'Positive'], [3856, 48808, 'San Clemente', '16-03-2020', 'Positive'], [4988, 49940, 'England', '17-03-2020', 'Extremely Negative'], [4988, 49940, 'England', '17-03-2020', 'Extremely Negative'], [4988, 49940, 'England', '17-03-2020', 'Extremely Negative'], [4293, 49245, 'Texas, USA', '16-03-2020', 'Neutral'], [4293, 49245, 'Texas, USA', '16-03-2020', 'Neutral'], [4293, 49245, 'Texas, USA', '16-03-2020', 'Neutral'], [4490, 49442, 'Bern, Switzerland.', '17-03-2020', 'Extremely Positive'], [4490, 49442, 'Bern, Switzerland.', '17-03-2020', 'Extremely Positive'], [4490, 49442, 'Bern, Switzerland.', '17-03-2020', 'Extremely Positive'], [4583, 49535, 'North Rhine-Westphalia, Germany', '17-03-2020', 'Negative'], [4583, 49535, 'North Rhine-Westphalia, Germany', '17-03-2020', 'Negative'], [4583, 49535, 'North Rhine-Westphalia, Germany', '17-03-2020', 'Negative'], [4160, 49112, 'Chicago', '16-03-2020', 'Extremely Positive'], [4160, 49112, 'Chicago', '16-03-2020', 'Extremely Positive'], [4160, 49112, 'Chicago', '16-03-2020', 'Extremely Positive'], [4460, 49412, '...', '17-03-2020', 'Neutral'], [4460, 49412, '...', '17-03-2020', 'Neutral'], [4460, 49412, '...', '17-03-2020', 'Neutral'], [4465, 49417, 'Europe, Caribbean, Africa', '17-03-2020', 'Extremely Negative'], [4465, 49417, 'Europe, Caribbean, Africa', '17-03-2020', 'Extremely Negative'], [4465, 49417, 'Europe, Caribbean, Africa', '17-03-2020', 'Extremely Negative'], [4551, 49503, ' Pakistan', '17-03-2020', 'Extremely Positive'], [4551, 49503, ' Pakistan', '17-03-2020', 'Extremely Positive'], [4551, 49503, ' Pakistan', '17-03-2020', 'Extremely Positive'], [4167, 49119, 'Bristol, England', '16-03-2020', 'Neutral'], [4167, 49119, 'Bristol, England', '16-03-2020', 'Neutral'], [4167, 49119, 'Bristol, England', '16-03-2020', 'Neutral'], [4913, 49865, 'USA', '17-03-2020', 'Positive'], [4913, 49865, 'USA', '17-03-2020', 'Positive'], [4913, 49865, 'USA', '17-03-2020', 'Positive'], [4614, 49566, nan, '17-03-2020', 'Negative'], [4614, 49566, nan, '17-03-2020', 'Negative'], [4614, 49566, nan, '17-03-2020', 'Negative'], [4929, 49881, 'Charleston, SC', '17-03-2020', 'Positive'], [4929, 49881, 'Charleston, SC', '17-03-2020', 'Positive'], [4929, 49881, 'Charleston, SC', '17-03-2020', 'Positive'], [4351, 49303, 'South Florida', '16-03-2020', 'Extremely Negative'], [4351, 49303, 'South Florida', '16-03-2020', 'Extremely Negative'], [4351, 49303, 'South Florida', '16-03-2020', 'Extremely Negative'], [4654, 49606, 'Toronto, Ontario', '17-03-2020', 'Neutral'], [4654, 49606, 'Toronto, Ontario', '17-03-2020', 'Neutral'], [4654, 49606, 'Toronto, Ontario', '17-03-2020', 'Neutral'], [4894, 49846, '??', '17-03-2020', 'Positive'], [4894, 49846, '??', '17-03-2020', 'Positive'], [4894, 49846, '??', '17-03-2020', 'Positive'], [4860, 49812, 'kolkata', '17-03-2020', 'Neutral'], [4860, 49812, 'kolkata', '17-03-2020', 'Neutral'], [4860, 49812, 'kolkata', '17-03-2020', 'Neutral'], [4253, 49205, 'Canada, USA, Pakistan', '16-03-2020', 'Negative'], [4253, 49205, 'Canada, USA, Pakistan', '16-03-2020', 'Negative'], [4253, 49205, 'Canada, USA, Pakistan', '16-03-2020', 'Negative'], [4517, 49469, 'Kcmo', '17-03-2020', 'Positive'], [4517, 49469, 'Kcmo', '17-03-2020', 'Positive'], [4517, 49469, 'Kcmo', '17-03-2020', 'Positive'], [4173, 49125, 'East Central Alberta', '16-03-2020', 'Extremely Positive'], [4173, 49125, 'East Central Alberta', '16-03-2020', 'Extremely Positive'], [4173, 49125, 'East Central Alberta', '16-03-2020', 'Extremely Positive'], [4368, 49320, 'Sri Lanka', '16-03-2020', 'Extremely Positive'], [4368, 49320, 'Sri Lanka', '16-03-2020', 'Extremely Positive'], [4368, 49320, 'Sri Lanka', '16-03-2020', 'Extremely Positive'], [4236, 49188, nan, '16-03-2020', 'Negative'], [4236, 49188, nan, '16-03-2020', 'Negative'], [4236, 49188, nan, '16-03-2020', 'Negative'], [4786, 49738, 'Islamabad, Pakistan', '17-03-2020', 'Negative'], [4786, 49738, 'Islamabad, Pakistan', '17-03-2020', 'Negative'], [4786, 49738, 'Islamabad, Pakistan', '17-03-2020', 'Negative'], [4508, 49460, nan, '17-03-2020', 'Negative'], [4508, 49460, nan, '17-03-2020', 'Negative'], [4508, 49460, nan, '17-03-2020', 'Negative'], [4553, 49505, nan, '17-03-2020', 'Positive'], [4553, 49505, nan, '17-03-2020', 'Positive'], [4553, 49505, nan, '17-03-2020', 'Positive'], [4579, 49531, nan, '17-03-2020', 'Positive'], [4579, 49531, nan, '17-03-2020', 'Positive'], [4579, 49531, nan, '17-03-2020', 'Positive'], [4622, 49574, 'Irelande du Nord', '17-03-2020', 'Negative'], [4622, 49574, 'Irelande du Nord', '17-03-2020', 'Negative'], [4622, 49574, 'Irelande du Nord', '17-03-2020', 'Negative'], [3851, 48803, 'Ogden, UT', '16-03-2020', 'Negative'], [3851, 48803, 'Ogden, UT', '16-03-2020', 'Negative'], [3851, 48803, 'Ogden, UT', '16-03-2020', 'Negative'], [4866, 49818, 'Los angeles', '17-03-2020', 'Extremely Positive'], [4866, 49818, 'Los angeles', '17-03-2020', 'Extremely Positive'], [4866, 49818, 'Los angeles', '17-03-2020', 'Extremely Positive'], [4522, 49474, 'malaysia', '17-03-2020', 'Negative'], [4522, 49474, 'malaysia', '17-03-2020', 'Negative'], [4522, 49474, 'malaysia', '17-03-2020', 'Negative'], [4686, 49638, 'Ontario', '17-03-2020', 'Extremely Positive'], [4686, 49638, 'Ontario', '17-03-2020', 'Extremely Positive'], [4686, 49638, 'Ontario', '17-03-2020', 'Extremely Positive'], [4743, 49695, 'Honolulu, Hawai?i', '17-03-2020', 'Negative'], [4743, 49695, 'Honolulu, Hawai?i', '17-03-2020', 'Negative'], [4743, 49695, 'Honolulu, Hawai?i', '17-03-2020', 'Negative'], [4680, 49632, 'Los Angeles, Kalifornia ', '17-03-2020', 'Extremely Positive'], [4680, 49632, 'Los Angeles, Kalifornia ', '17-03-2020', 'Extremely Positive'], [4680, 49632, 'Los Angeles, Kalifornia ', '17-03-2020', 'Extremely Positive'], [4648, 49600, 'Somewhere, Global ', '17-03-2020', 'Negative'], [4648, 49600, 'Somewhere, Global ', '17-03-2020', 'Negative'], [4648, 49600, 'Somewhere, Global ', '17-03-2020', 'Negative'], [3870, 48822, nan, '16-03-2020', 'Positive'], [3870, 48822, nan, '16-03-2020', 'Positive'], [3870, 48822, nan, '16-03-2020', 'Positive'], [3819, 48771, 'southampton soxx xxx', '16-03-2020', 'Extremely Negative'], [3819, 48771, 'southampton soxx xxx', '16-03-2020', 'Extremely Negative'], [3819, 48771, 'southampton soxx xxx', '16-03-2020', 'Extremely Negative'], [4301, 49253, 'Naples, Florida', '16-03-2020', 'Positive'], [4301, 49253, 'Naples, Florida', '16-03-2020', 'Positive'], [4301, 49253, 'Naples, Florida', '16-03-2020', 'Positive'], [4814, 49766, 'Vancouver, Canada', '17-03-2020', 'Positive'], [4814, 49766, 'Vancouver, Canada', '17-03-2020', 'Positive'], [4814, 49766, 'Vancouver, Canada', '17-03-2020', 'Positive'], [3988, 48940, 'Kent, UK', '16-03-2020', 'Negative'], [3988, 48940, 'Kent, UK', '16-03-2020', 'Negative'], [3988, 48940, 'Kent, UK', '16-03-2020', 'Negative'], [4922, 49874, 'Content is not advice', '17-03-2020', 'Positive'], [4922, 49874, 'Content is not advice', '17-03-2020', 'Positive'], [4922, 49874, 'Content is not advice', '17-03-2020', 'Positive'], [4131, 49083, nan, '16-03-2020', 'Positive'], [4131, 49083, nan, '16-03-2020', 'Positive'], [4131, 49083, nan, '16-03-2020', 'Positive'], [4537, 49489, nan, '17-03-2020', 'Extremely Negative'], [4537, 49489, nan, '17-03-2020', 'Extremely Negative'], [4537, 49489, nan, '17-03-2020', 'Extremely Negative'], [4415, 49367, 'Melbourne, Australia.', '16-03-2020', 'Extremely Negative'], [4415, 49367, 'Melbourne, Australia.', '16-03-2020', 'Extremely Negative'], [4415, 49367, 'Melbourne, Australia.', '16-03-2020', 'Extremely Negative'], [3867, 48819, 'Melissa Schuman is a Liar ??', '16-03-2020', 'Positive'], [3867, 48819, 'Melissa Schuman is a Liar ??', '16-03-2020', 'Positive'], [3867, 48819, 'Melissa Schuman is a Liar ??', '16-03-2020', 'Positive'], [4277, 49229, nan, '16-03-2020', 'Extremely Negative'], [4277, 49229, nan, '16-03-2020', 'Extremely Negative'], [4277, 49229, nan, '16-03-2020', 'Extremely Negative'], [4799, 49751, 'Present Day. Present Time.', '17-03-2020', 'Positive'], [4799, 49751, 'Present Day. Present Time.', '17-03-2020', 'Positive'], [4799, 49751, 'Present Day. Present Time.', '17-03-2020', 'Positive'], [4230, 49182, 'Sarasota, FL', '16-03-2020', 'Negative'], [4230, 49182, 'Sarasota, FL', '16-03-2020', 'Negative'], [4230, 49182, 'Sarasota, FL', '16-03-2020', 'Negative'], [4483, 49435, 'Australia', '17-03-2020', 'Positive'], [4483, 49435, 'Australia', '17-03-2020', 'Positive'], [4483, 49435, 'Australia', '17-03-2020', 'Positive'], [4366, 49318, 'DFW', '16-03-2020', 'Extremely Positive'], [4366, 49318, 'DFW', '16-03-2020', 'Extremely Positive'], [4366, 49318, 'DFW', '16-03-2020', 'Extremely Positive'], [3926, 48878, '????? ???? ????????', '16-03-2020', 'Negative'], [3926, 48878, '????? ???? ????????', '16-03-2020', 'Negative'], [3926, 48878, '????? ???? ????????', '16-03-2020', 'Negative'], [4333, 49285, '?901', '16-03-2020', 'Positive'], [4333, 49285, '?901', '16-03-2020', 'Positive'], [4333, 49285, '?901', '16-03-2020', 'Positive'], [4299, 49251, nan, '16-03-2020', 'Positive'], [4299, 49251, nan, '16-03-2020', 'Positive'], [4299, 49251, nan, '16-03-2020', 'Positive'], [4373, 49325, 'Philippines', '16-03-2020', 'Extremely Negative'], [4373, 49325, 'Philippines', '16-03-2020', 'Extremely Negative'], [4373, 49325, 'Philippines', '16-03-2020', 'Extremely Negative'], [3924, 48876, 'Los Angeles, CA', '16-03-2020', 'Extremely Negative'], [3924, 48876, 'Los Angeles, CA', '16-03-2020', 'Extremely Negative'], [3924, 48876, 'Los Angeles, CA', '16-03-2020', 'Extremely Negative'], [4996, 49948, 'Philadelphia, PA', '17-03-2020', 'Neutral'], [4996, 49948, 'Philadelphia, PA', '17-03-2020', 'Neutral'], [4996, 49948, 'Philadelphia, PA', '17-03-2020', 'Neutral'], [4971, 49923, 'Tampa FL', '17-03-2020', 'Negative'], [4971, 49923, 'Tampa FL', '17-03-2020', 'Negative'], [4971, 49923, 'Tampa FL', '17-03-2020', 'Negative'], [4679, 49631, 'Los Angeles, Kalifornia ', '17-03-2020', 'Neutral'], [4679, 49631, 'Los Angeles, Kalifornia ', '17-03-2020', 'Neutral'], [4679, 49631, 'Los Angeles, Kalifornia ', '17-03-2020', 'Neutral'], [3963, 48915, 'Scotland', '16-03-2020', 'Extremely Negative'], [3963, 48915, 'Scotland', '16-03-2020', 'Extremely Negative'], [3963, 48915, 'Scotland', '16-03-2020', 'Extremely Negative'], [4826, 49778, 'AT&T Park', '17-03-2020', 'Positive'], [4826, 49778, 'AT&T Park', '17-03-2020', 'Positive'], [4826, 49778, 'AT&T Park', '17-03-2020', 'Positive'], [4175, 49127, 'Madison (close enough), WI', '16-03-2020', 'Negative'], [4175, 49127, 'Madison (close enough), WI', '16-03-2020', 'Negative'], [4175, 49127, 'Madison (close enough), WI', '16-03-2020', 'Negative'], [4487, 49439, 'Chicago Heights, IL', '17-03-2020', 'Extremely Negative'], [4487, 49439, 'Chicago Heights, IL', '17-03-2020', 'Extremely Negative'], [4487, 49439, 'Chicago Heights, IL', '17-03-2020', 'Extremely Negative'], [4718, 49670, 'Nashville, TN', '17-03-2020', 'Neutral'], [4718, 49670, 'Nashville, TN', '17-03-2020', 'Neutral'], [4718, 49670, 'Nashville, TN', '17-03-2020', 'Neutral'], [4635, 49587, 'Australia', '17-03-2020', 'Neutral'], [4635, 49587, 'Australia', '17-03-2020', 'Neutral'], [4635, 49587, 'Australia', '17-03-2020', 'Neutral'], [3923, 48875, 'Wakefield, England', '16-03-2020', 'Extremely Positive'], [3923, 48875, 'Wakefield, England', '16-03-2020', 'Extremely Positive'], [3923, 48875, 'Wakefield, England', '16-03-2020', 'Extremely Positive'], [4305, 49257, 'Washington, DC', '16-03-2020', 'Neutral'], [4305, 49257, 'Washington, DC', '16-03-2020', 'Neutral'], [4305, 49257, 'Washington, DC', '16-03-2020', 'Neutral'], [4610, 49562, 'Kentucky, USA', '17-03-2020', 'Extremely Negative'], [4610, 49562, 'Kentucky, USA', '17-03-2020', 'Extremely Negative'], [4610, 49562, 'Kentucky, USA', '17-03-2020', 'Extremely Negative'], [4486, 49438, 'Tampa Florida', '17-03-2020', 'Positive'], [4486, 49438, 'Tampa Florida', '17-03-2020', 'Positive'], [4486, 49438, 'Tampa Florida', '17-03-2020', 'Positive'], [4272, 49224, \"Shanghai, People's Republic of\", '16-03-2020', 'Negative'], [4272, 49224, \"Shanghai, People's Republic of\", '16-03-2020', 'Negative'], [4272, 49224, \"Shanghai, People's Republic of\", '16-03-2020', 'Negative'], [4163, 49115, 'Paris, France', '16-03-2020', 'Negative'], [4163, 49115, 'Paris, France', '16-03-2020', 'Negative'], [4163, 49115, 'Paris, France', '16-03-2020', 'Negative'], [4414, 49366, 'Central PA', '16-03-2020', 'Positive'], [4414, 49366, 'Central PA', '16-03-2020', 'Positive'], [4414, 49366, 'Central PA', '16-03-2020', 'Positive'], [4945, 49897, nan, '17-03-2020', 'Positive'], [4945, 49897, nan, '17-03-2020', 'Positive'], [4945, 49897, nan, '17-03-2020', 'Positive'], [4643, 49595, 'Brooklyn, NY', '17-03-2020', 'Neutral'], [4643, 49595, 'Brooklyn, NY', '17-03-2020', 'Neutral'], [4643, 49595, 'Brooklyn, NY', '17-03-2020', 'Neutral'], [4443, 49395, 'PHL/NYC', '16-03-2020', 'Positive'], [4443, 49395, 'PHL/NYC', '16-03-2020', 'Positive'], [4443, 49395, 'PHL/NYC', '16-03-2020', 'Positive'], [4987, 49939, 'Southampton, England', '17-03-2020', 'Negative'], [4987, 49939, 'Southampton, England', '17-03-2020', 'Negative'], [4987, 49939, 'Southampton, England', '17-03-2020', 'Negative'], [4659, 49611, 'London, ON', '17-03-2020', 'Neutral'], [4659, 49611, 'London, ON', '17-03-2020', 'Neutral'], [4659, 49611, 'London, ON', '17-03-2020', 'Neutral'], [4073, 49025, 'Gombak,Selangor', '16-03-2020', 'Extremely Positive'], [4073, 49025, 'Gombak,Selangor', '16-03-2020', 'Extremely Positive'], [4073, 49025, 'Gombak,Selangor', '16-03-2020', 'Extremely Positive'], [4593, 49545, 'Pennsylvania, USA', '17-03-2020', 'Negative'], [4593, 49545, 'Pennsylvania, USA', '17-03-2020', 'Negative'], [4593, 49545, 'Pennsylvania, USA', '17-03-2020', 'Negative'], [4463, 49415, 'Roanoke, VA / Gatlinburg, TN', '17-03-2020', 'Extremely Negative'], [4463, 49415, 'Roanoke, VA / Gatlinburg, TN', '17-03-2020', 'Extremely Negative'], [4463, 49415, 'Roanoke, VA / Gatlinburg, TN', '17-03-2020', 'Extremely Negative'], [4335, 49287, 'To Infinity and Beyond', '16-03-2020', 'Extremely Negative'], [4335, 49287, 'To Infinity and Beyond', '16-03-2020', 'Extremely Negative'], [4335, 49287, 'To Infinity and Beyond', '16-03-2020', 'Extremely Negative'], [4716, 49668, nan, '17-03-2020', 'Negative'], [4716, 49668, nan, '17-03-2020', 'Negative'], [4716, 49668, nan, '17-03-2020', 'Negative'], [4103, 49055, 'South Africa ??', '16-03-2020', 'Positive'], [4103, 49055, 'South Africa ??', '16-03-2020', 'Positive'], [4103, 49055, 'South Africa ??', '16-03-2020', 'Positive'], [4204, 49156, 'Christchurch, New Zealand', '16-03-2020', 'Neutral'], [4204, 49156, 'Christchurch, New Zealand', '16-03-2020', 'Neutral'], [4204, 49156, 'Christchurch, New Zealand', '16-03-2020', 'Neutral'], [4168, 49120, 'Scottsdale, AZ', '16-03-2020', 'Positive'], [4168, 49120, 'Scottsdale, AZ', '16-03-2020', 'Positive'], [4168, 49120, 'Scottsdale, AZ', '16-03-2020', 'Positive'], [4361, 49313, 'California, USA', '16-03-2020', 'Positive'], [4361, 49313, 'California, USA', '16-03-2020', 'Positive'], [4361, 49313, 'California, USA', '16-03-2020', 'Positive'], [4244, 49196, 'worldwide', '16-03-2020', 'Negative'], [4244, 49196, 'worldwide', '16-03-2020', 'Negative'], [4244, 49196, 'worldwide', '16-03-2020', 'Negative'], [4658, 49610, 'Birmingham, England', '17-03-2020', 'Extremely Positive'], [4658, 49610, 'Birmingham, England', '17-03-2020', 'Extremely Positive'], [4658, 49610, 'Birmingham, England', '17-03-2020', 'Extremely Positive'], [4688, 49640, 'Montgomery, Alabama', '17-03-2020', 'Neutral'], [4688, 49640, 'Montgomery, Alabama', '17-03-2020', 'Neutral'], [4688, 49640, 'Montgomery, Alabama', '17-03-2020', 'Neutral'], [4146, 49098, 'Europa', '16-03-2020', 'Negative'], [4146, 49098, 'Europa', '16-03-2020', 'Negative'], [4146, 49098, 'Europa', '16-03-2020', 'Negative'], [4058, 49010, 'Fairfax, Virginia', '16-03-2020', 'Extremely Negative'], [4058, 49010, 'Fairfax, Virginia', '16-03-2020', 'Extremely Negative'], [4058, 49010, 'Fairfax, Virginia', '16-03-2020', 'Extremely Negative'], [4568, 49520, 'Protocol 16', '17-03-2020', 'Extremely Negative'], [4568, 49520, 'Protocol 16', '17-03-2020', 'Extremely Negative'], [4568, 49520, 'Protocol 16', '17-03-2020', 'Extremely Negative'], [4079, 49031, 'Global', '16-03-2020', 'Negative'], [4079, 49031, 'Global', '16-03-2020', 'Negative'], [4079, 49031, 'Global', '16-03-2020', 'Negative'], [4476, 49428, 'Birmingham all my life', '17-03-2020', 'Extremely Positive'], [4476, 49428, 'Birmingham all my life', '17-03-2020', 'Extremely Positive'], [4476, 49428, 'Birmingham all my life', '17-03-2020', 'Extremely Positive'], [4649, 49601, 'Dubai, UAE', '17-03-2020', 'Negative'], [4649, 49601, 'Dubai, UAE', '17-03-2020', 'Negative'], [4649, 49601, 'Dubai, UAE', '17-03-2020', 'Negative'], [4853, 49805, nan, '17-03-2020', 'Positive'], [4853, 49805, nan, '17-03-2020', 'Positive'], [4853, 49805, nan, '17-03-2020', 'Positive'], [4311, 49263, 'Beijing, China', '16-03-2020', 'Neutral'], [4311, 49263, 'Beijing, China', '16-03-2020', 'Neutral'], [4311, 49263, 'Beijing, China', '16-03-2020', 'Neutral'], [3837, 48789, nan, '16-03-2020', 'Negative'], [3837, 48789, nan, '16-03-2020', 'Negative'], [3837, 48789, nan, '16-03-2020', 'Negative'], [4104, 49056, 'Sunnyvale, CA', '16-03-2020', 'Positive'], [4104, 49056, 'Sunnyvale, CA', '16-03-2020', 'Positive'], [4104, 49056, 'Sunnyvale, CA', '16-03-2020', 'Positive'], [4738, 49690, 'New Zealand', '17-03-2020', 'Negative'], [4738, 49690, 'New Zealand', '17-03-2020', 'Negative'], [4738, 49690, 'New Zealand', '17-03-2020', 'Negative'], [3808, 48760, 'BHAVNAGAR,GUJRAT', '16-03-2020', 'Negative'], [3808, 48760, 'BHAVNAGAR,GUJRAT', '16-03-2020', 'Negative'], [3808, 48760, 'BHAVNAGAR,GUJRAT', '16-03-2020', 'Negative'], [4802, 49754, \"Beijing, People's Republic of \", '17-03-2020', 'Neutral'], [4802, 49754, \"Beijing, People's Republic of \", '17-03-2020', 'Neutral'], [4802, 49754, \"Beijing, People's Republic of \", '17-03-2020', 'Neutral'], [4030, 48982, nan, '16-03-2020', 'Positive'], [4030, 48982, nan, '16-03-2020', 'Positive'], [4030, 48982, nan, '16-03-2020', 'Positive'], [4028, 48980, 'Missouri, USA', '16-03-2020', 'Positive'], [4028, 48980, 'Missouri, USA', '16-03-2020', 'Positive'], [4028, 48980, 'Missouri, USA', '16-03-2020', 'Positive'], [3895, 48847, 'Washington, DC', '16-03-2020', 'Positive'], [3895, 48847, 'Washington, DC', '16-03-2020', 'Positive'], [3895, 48847, 'Washington, DC', '16-03-2020', 'Positive'], [4960, 49912, 'Yorkshire and The Humber', '17-03-2020', 'Negative'], [4960, 49912, 'Yorkshire and The Humber', '17-03-2020', 'Negative'], [4960, 49912, 'Yorkshire and The Humber', '17-03-2020', 'Negative'], [4536, 49488, nan, '17-03-2020', 'Extremely Negative'], [4536, 49488, nan, '17-03-2020', 'Extremely Negative'], [4536, 49488, nan, '17-03-2020', 'Extremely Negative'], [4397, 49349, \"Jimin's glossy lips\", '16-03-2020', 'Negative'], [4397, 49349, \"Jimin's glossy lips\", '16-03-2020', 'Negative'], [4397, 49349, \"Jimin's glossy lips\", '16-03-2020', 'Negative'], [4776, 49728, 'Shropshire', '17-03-2020', 'Positive'], [4776, 49728, 'Shropshire', '17-03-2020', 'Positive'], [4776, 49728, 'Shropshire', '17-03-2020', 'Positive'], [4304, 49256, 'Scotland, United Kingdom', '16-03-2020', 'Extremely Negative'], [4304, 49256, 'Scotland, United Kingdom', '16-03-2020', 'Extremely Negative'], [4304, 49256, 'Scotland, United Kingdom', '16-03-2020', 'Extremely Negative'], [4804, 49756, 'Australia', '17-03-2020', 'Negative'], [4804, 49756, 'Australia', '17-03-2020', 'Negative'], [4804, 49756, 'Australia', '17-03-2020', 'Negative'], [4986, 49938, 'Beijing', '17-03-2020', 'Negative'], [4986, 49938, 'Beijing', '17-03-2020', 'Negative'], [4986, 49938, 'Beijing', '17-03-2020', 'Negative'], [4606, 49558, \"Hell, if I don't change my way\", '17-03-2020', 'Negative'], [4606, 49558, \"Hell, if I don't change my way\", '17-03-2020', 'Negative'], [4606, 49558, \"Hell, if I don't change my way\", '17-03-2020', 'Negative'], [4392, 49344, 'Austin Metro Area, Texas, USA', '16-03-2020', 'Negative'], [4392, 49344, 'Austin Metro Area, Texas, USA', '16-03-2020', 'Negative'], [4392, 49344, 'Austin Metro Area, Texas, USA', '16-03-2020', 'Negative'], [3930, 48882, 'Charlotte, NC', '16-03-2020', 'Positive'], [3930, 48882, 'Charlotte, NC', '16-03-2020', 'Positive'], [3930, 48882, 'Charlotte, NC', '16-03-2020', 'Positive'], [4388, 49340, 'california...for now', '16-03-2020', 'Extremely Positive'], [4388, 49340, 'california...for now', '16-03-2020', 'Extremely Positive'], [4388, 49340, 'california...for now', '16-03-2020', 'Extremely Positive'], [4797, 49749, 'San Francisco, CA', '17-03-2020', 'Extremely Positive'], [4797, 49749, 'San Francisco, CA', '17-03-2020', 'Extremely Positive'], [4797, 49749, 'San Francisco, CA', '17-03-2020', 'Extremely Positive'], [4032, 48984, 'ISB || DXB || HANOVER || MAN ', '16-03-2020', 'Neutral'], [4032, 48984, 'ISB || DXB || HANOVER || MAN ', '16-03-2020', 'Neutral'], [4032, 48984, 'ISB || DXB || HANOVER || MAN ', '16-03-2020', 'Neutral'], [4049, 49001, 'Dublin-Gray-Gordon-Houston Co-Statesboro-Brooklet', '16-03-2020', 'Negative'], [4049, 49001, 'Dublin-Gray-Gordon-Houston Co-Statesboro-Brooklet', '16-03-2020', 'Negative'], [4049, 49001, 'Dublin-Gray-Gordon-Houston Co-Statesboro-Brooklet', '16-03-2020', 'Negative'], [4690, 49642, 'HYD', '17-03-2020', 'Negative'], [4690, 49642, 'HYD', '17-03-2020', 'Negative'], [4690, 49642, 'HYD', '17-03-2020', 'Negative'], [3956, 48908, 'Palo Alto, CA', '16-03-2020', 'Extremely Positive'], [3956, 48908, 'Palo Alto, CA', '16-03-2020', 'Extremely Positive'], [3956, 48908, 'Palo Alto, CA', '16-03-2020', 'Extremely Positive'], [4764, 49716, 'Lewiston, ID', '17-03-2020', 'Neutral'], [4764, 49716, 'Lewiston, ID', '17-03-2020', 'Neutral'], [4764, 49716, 'Lewiston, ID', '17-03-2020', 'Neutral'], [4409, 49361, nan, '16-03-2020', 'Negative'], [4409, 49361, nan, '16-03-2020', 'Negative'], [4409, 49361, nan, '16-03-2020', 'Negative'], [4334, 49286, 'Portland, ME', '16-03-2020', 'Extremely Negative'], [4334, 49286, 'Portland, ME', '16-03-2020', 'Extremely Negative'], [4334, 49286, 'Portland, ME', '16-03-2020', 'Extremely Negative'], [4657, 49609, 'Kigali | Rwanda ', '17-03-2020', 'Negative'], [4657, 49609, 'Kigali | Rwanda ', '17-03-2020', 'Negative'], [4657, 49609, 'Kigali | Rwanda ', '17-03-2020', 'Negative'], [4771, 49723, '????', '17-03-2020', 'Extremely Positive'], [4771, 49723, '????', '17-03-2020', 'Extremely Positive'], [4771, 49723, '????', '17-03-2020', 'Extremely Positive'], [4531, 49483, 'London/Essex', '17-03-2020', 'Extremely Negative'], [4531, 49483, 'London/Essex', '17-03-2020', 'Extremely Negative'], [4531, 49483, 'London/Essex', '17-03-2020', 'Extremely Negative'], [4300, 49252, 'Detroit,MI USA', '16-03-2020', 'Neutral'], [4300, 49252, 'Detroit,MI USA', '16-03-2020', 'Neutral'], [4300, 49252, 'Detroit,MI USA', '16-03-2020', 'Neutral'], [4872, 49824, nan, '17-03-2020', 'Extremely Negative'], [4872, 49824, nan, '17-03-2020', 'Extremely Negative'], [4872, 49824, nan, '17-03-2020', 'Extremely Negative'], [4072, 49024, 'Media City, Salford', '16-03-2020', 'Extremely Negative'], [4072, 49024, 'Media City, Salford', '16-03-2020', 'Extremely Negative'], [4072, 49024, 'Media City, Salford', '16-03-2020', 'Extremely Negative'], [4287, 49239, 'Toronto, Ontario', '16-03-2020', 'Positive'], [4287, 49239, 'Toronto, Ontario', '16-03-2020', 'Positive'], [4287, 49239, 'Toronto, Ontario', '16-03-2020', 'Positive'], [3931, 48883, 'Mountain View', '16-03-2020', 'Positive'], [3931, 48883, 'Mountain View', '16-03-2020', 'Positive'], [3931, 48883, 'Mountain View', '16-03-2020', 'Positive'], [4150, 49102, nan, '16-03-2020', 'Positive'], [4150, 49102, nan, '16-03-2020', 'Positive'], [4150, 49102, nan, '16-03-2020', 'Positive'], [3885, 48837, 'Bangkok, Thailand', '16-03-2020', 'Negative'], [3885, 48837, 'Bangkok, Thailand', '16-03-2020', 'Negative'], [3885, 48837, 'Bangkok, Thailand', '16-03-2020', 'Negative'], [4128, 49080, 'Sarawak, Malaysia', '16-03-2020', 'Negative'], [4128, 49080, 'Sarawak, Malaysia', '16-03-2020', 'Negative'], [4128, 49080, 'Sarawak, Malaysia', '16-03-2020', 'Negative'], [4064, 49016, 'Los Angeles, CA', '16-03-2020', 'Positive'], [4064, 49016, 'Los Angeles, CA', '16-03-2020', 'Positive'], [4064, 49016, 'Los Angeles, CA', '16-03-2020', 'Positive'], [4961, 49913, nan, '17-03-2020', 'Extremely Negative'], [4961, 49913, nan, '17-03-2020', 'Extremely Negative'], [4961, 49913, nan, '17-03-2020', 'Extremely Negative'], [4903, 49855, nan, '17-03-2020', 'Negative'], [4903, 49855, nan, '17-03-2020', 'Negative'], [4903, 49855, nan, '17-03-2020', 'Negative'], [4381, 49333, 'Buzz City ', '16-03-2020', 'Positive'], [4381, 49333, 'Buzz City ', '16-03-2020', 'Positive'], [4381, 49333, 'Buzz City ', '16-03-2020', 'Positive'], [4513, 49465, nan, '17-03-2020', 'Negative'], [4513, 49465, nan, '17-03-2020', 'Negative'], [4513, 49465, nan, '17-03-2020', 'Negative'], [4974, 49926, nan, '17-03-2020', 'Negative'], [4974, 49926, nan, '17-03-2020', 'Negative'], [4974, 49926, nan, '17-03-2020', 'Negative'], [4055, 49007, 'Toronto', '16-03-2020', 'Extremely Positive'], [4055, 49007, 'Toronto', '16-03-2020', 'Extremely Positive'], [4055, 49007, 'Toronto', '16-03-2020', 'Extremely Positive'], [3919, 48871, nan, '16-03-2020', 'Extremely Negative'], [3919, 48871, nan, '16-03-2020', 'Extremely Negative'], [3919, 48871, nan, '16-03-2020', 'Extremely Negative'], [3994, 48946, 'Las Vegas, NV', '16-03-2020', 'Neutral'], [3994, 48946, 'Las Vegas, NV', '16-03-2020', 'Neutral'], [3994, 48946, 'Las Vegas, NV', '16-03-2020', 'Neutral'], [3834, 48786, 'Sverige', '16-03-2020', 'Neutral'], [3834, 48786, 'Sverige', '16-03-2020', 'Neutral'], [3834, 48786, 'Sverige', '16-03-2020', 'Neutral'], [4022, 48974, 'Portland, OR', '16-03-2020', 'Negative'], [4022, 48974, 'Portland, OR', '16-03-2020', 'Negative'], [4022, 48974, 'Portland, OR', '16-03-2020', 'Negative'], [4139, 49091, 'MKE', '16-03-2020', 'Positive'], [4139, 49091, 'MKE', '16-03-2020', 'Positive'], [4139, 49091, 'MKE', '16-03-2020', 'Positive'], [4845, 49797, 'Burnham, PA', '17-03-2020', 'Positive'], [4845, 49797, 'Burnham, PA', '17-03-2020', 'Positive'], [4845, 49797, 'Burnham, PA', '17-03-2020', 'Positive'], [4837, 49789, 'Clunes (Vic.), Victoria', '17-03-2020', 'Neutral'], [4837, 49789, 'Clunes (Vic.), Victoria', '17-03-2020', 'Neutral'], [4837, 49789, 'Clunes (Vic.), Victoria', '17-03-2020', 'Neutral'], [4174, 49126, 'Austin, Texas', '16-03-2020', 'Neutral'], [4174, 49126, 'Austin, Texas', '16-03-2020', 'Neutral'], [4174, 49126, 'Austin, Texas', '16-03-2020', 'Neutral'], [4082, 49034, 'Tara Hills, CA', '16-03-2020', 'Neutral'], [4082, 49034, 'Tara Hills, CA', '16-03-2020', 'Neutral'], [4082, 49034, 'Tara Hills, CA', '16-03-2020', 'Neutral'], [4481, 49433, nan, '17-03-2020', 'Positive'], [4481, 49433, nan, '17-03-2020', 'Positive'], [4481, 49433, nan, '17-03-2020', 'Positive'], [4788, 49740, 'London, England', '17-03-2020', 'Negative'], [4788, 49740, 'London, England', '17-03-2020', 'Negative'], [4788, 49740, 'London, England', '17-03-2020', 'Negative'], [4245, 49197, 'Wellington City, New Zealand', '16-03-2020', 'Positive'], [4245, 49197, 'Wellington City, New Zealand', '16-03-2020', 'Positive'], [4245, 49197, 'Wellington City, New Zealand', '16-03-2020', 'Positive'], [4029, 48981, nan, '16-03-2020', 'Neutral'], [4029, 48981, nan, '16-03-2020', 'Neutral'], [4029, 48981, nan, '16-03-2020', 'Neutral'], [4580, 49532, 'Cymru', '17-03-2020', 'Negative'], [4580, 49532, 'Cymru', '17-03-2020', 'Negative'], [4580, 49532, 'Cymru', '17-03-2020', 'Negative'], [4564, 49516, nan, '17-03-2020', 'Positive'], [4564, 49516, nan, '17-03-2020', 'Positive'], [4564, 49516, nan, '17-03-2020', 'Positive'], [4958, 49910, nan, '17-03-2020', 'Positive'], [4958, 49910, nan, '17-03-2020', 'Positive'], [4958, 49910, nan, '17-03-2020', 'Positive'], [4247, 49199, 'New York', '16-03-2020', 'Positive'], [4247, 49199, 'New York', '16-03-2020', 'Positive'], [4247, 49199, 'New York', '16-03-2020', 'Positive'], [4219, 49171, 'Boston, MA', '16-03-2020', 'Positive'], [4219, 49171, 'Boston, MA', '16-03-2020', 'Positive'], [4219, 49171, 'Boston, MA', '16-03-2020', 'Positive'], [4158, 49110, nan, '16-03-2020', 'Extremely Positive'], [4158, 49110, nan, '16-03-2020', 'Extremely Positive'], [4158, 49110, nan, '16-03-2020', 'Extremely Positive'], [3823, 48775, 'Downstage centre', '16-03-2020', 'Negative'], [3823, 48775, 'Downstage centre', '16-03-2020', 'Negative'], [3823, 48775, 'Downstage centre', '16-03-2020', 'Negative'], [4846, 49798, 'Warrington, UK', '17-03-2020', 'Positive'], [4846, 49798, 'Warrington, UK', '17-03-2020', 'Positive'], [4846, 49798, 'Warrington, UK', '17-03-2020', 'Positive'], [4215, 49167, nan, '16-03-2020', 'Extremely Negative'], [4215, 49167, nan, '16-03-2020', 'Extremely Negative'], [4215, 49167, nan, '16-03-2020', 'Extremely Negative'], [4237, 49189, 'choose your thoughts wisely ', '16-03-2020', 'Negative'], [4237, 49189, 'choose your thoughts wisely ', '16-03-2020', 'Negative'], [4237, 49189, 'choose your thoughts wisely ', '16-03-2020', 'Negative'], [4662, 49614, 'Everywhere', '17-03-2020', 'Positive'], [4662, 49614, 'Everywhere', '17-03-2020', 'Positive'], [4662, 49614, 'Everywhere', '17-03-2020', 'Positive'], [3959, 48911, 'Columbia, MD, United States', '16-03-2020', 'Extremely Positive'], [3959, 48911, 'Columbia, MD, United States', '16-03-2020', 'Extremely Positive'], [3959, 48911, 'Columbia, MD, United States', '16-03-2020', 'Extremely Positive'], [4008, 48960, 'Arizona, USA', '16-03-2020', 'Extremely Positive'], [4008, 48960, 'Arizona, USA', '16-03-2020', 'Extremely Positive'], [4008, 48960, 'Arizona, USA', '16-03-2020', 'Extremely Positive'], [3967, 48919, 'Blue State', '16-03-2020', 'Positive'], [3967, 48919, 'Blue State', '16-03-2020', 'Positive'], [3967, 48919, 'Blue State', '16-03-2020', 'Positive'], [4765, 49717, 'South West, England', '17-03-2020', 'Extremely Negative'], [4765, 49717, 'South West, England', '17-03-2020', 'Extremely Negative'], [4765, 49717, 'South West, England', '17-03-2020', 'Extremely Negative'], [4621, 49573, nan, '17-03-2020', 'Negative'], [4621, 49573, nan, '17-03-2020', 'Negative'], [4621, 49573, nan, '17-03-2020', 'Negative'], [4677, 49629, 'Paris', '17-03-2020', 'Neutral'], [4677, 49629, 'Paris', '17-03-2020', 'Neutral'], [4677, 49629, 'Paris', '17-03-2020', 'Neutral'], [4777, 49729, 'New York City', '17-03-2020', 'Extremely Positive'], [4777, 49729, 'New York City', '17-03-2020', 'Extremely Positive'], [4777, 49729, 'New York City', '17-03-2020', 'Extremely Positive'], [3978, 48930, 'Philadelphia, PA', '16-03-2020', 'Positive'], [3978, 48930, 'Philadelphia, PA', '16-03-2020', 'Positive'], [3978, 48930, 'Philadelphia, PA', '16-03-2020', 'Positive'], [4051, 49003, 'Mojave Desert, United States', '16-03-2020', 'Extremely Negative'], [4051, 49003, 'Mojave Desert, United States', '16-03-2020', 'Extremely Negative'], [4051, 49003, 'Mojave Desert, United States', '16-03-2020', 'Extremely Negative'], [4506, 49458, 'Regina, Canada', '17-03-2020', 'Neutral'], [4506, 49458, 'Regina, Canada', '17-03-2020', 'Neutral'], [4506, 49458, 'Regina, Canada', '17-03-2020', 'Neutral'], [4116, 49068, '127.255.255.255', '16-03-2020', 'Neutral'], [4116, 49068, '127.255.255.255', '16-03-2020', 'Neutral'], [4116, 49068, '127.255.255.255', '16-03-2020', 'Neutral'], [4342, 49294, 'New Delhi & Goa', '16-03-2020', 'Positive'], [4342, 49294, 'New Delhi & Goa', '16-03-2020', 'Positive'], [4342, 49294, 'New Delhi & Goa', '16-03-2020', 'Positive'], [4035, 48987, 'San Diego, CA', '16-03-2020', 'Extremely Positive'], [4035, 48987, 'San Diego, CA', '16-03-2020', 'Extremely Positive'], [4035, 48987, 'San Diego, CA', '16-03-2020', 'Extremely Positive'], [4074, 49026, nan, '16-03-2020', 'Neutral'], [4074, 49026, nan, '16-03-2020', 'Neutral'], [4074, 49026, nan, '16-03-2020', 'Neutral'], [4011, 48963, 'Deep in the Wildernes', '16-03-2020', 'Extremely Negative'], [4011, 48963, 'Deep in the Wildernes', '16-03-2020', 'Extremely Negative'], [4011, 48963, 'Deep in the Wildernes', '16-03-2020', 'Extremely Negative'], [4907, 49859, 'United States', '17-03-2020', 'Positive'], [4907, 49859, 'United States', '17-03-2020', 'Positive'], [4907, 49859, 'United States', '17-03-2020', 'Positive'], [4193, 49145, nan, '16-03-2020', 'Extremely Negative'], [4193, 49145, nan, '16-03-2020', 'Extremely Negative'], [4193, 49145, nan, '16-03-2020', 'Extremely Negative'], [4140, 49092, nan, '16-03-2020', 'Neutral'], [4140, 49092, nan, '16-03-2020', 'Neutral'], [4140, 49092, nan, '16-03-2020', 'Neutral'], [4539, 49491, 'Hong Kong', '17-03-2020', 'Extremely Negative'], [4539, 49491, 'Hong Kong', '17-03-2020', 'Extremely Negative'], [4539, 49491, 'Hong Kong', '17-03-2020', 'Extremely Negative'], [4246, 49198, 'England, United Kingdom', '16-03-2020', 'Extremely Negative'], [4246, 49198, 'England, United Kingdom', '16-03-2020', 'Extremely Negative'], [4246, 49198, 'England, United Kingdom', '16-03-2020', 'Extremely Negative'], [4243, 49195, 'Benton, Arkansas ', '16-03-2020', 'Extremely Positive'], [4243, 49195, 'Benton, Arkansas ', '16-03-2020', 'Extremely Positive'], [4243, 49195, 'Benton, Arkansas ', '16-03-2020', 'Extremely Positive'], [3904, 48856, nan, '16-03-2020', 'Extremely Positive'], [3904, 48856, nan, '16-03-2020', 'Extremely Positive'], [3904, 48856, nan, '16-03-2020', 'Extremely Positive'], [4066, 49018, 'Vail, CO', '16-03-2020', 'Extremely Negative'], [4066, 49018, 'Vail, CO', '16-03-2020', 'Extremely Negative'], [4066, 49018, 'Vail, CO', '16-03-2020', 'Extremely Negative'], [3898, 48850, 'Planet Earth', '16-03-2020', 'Negative'], [3898, 48850, 'Planet Earth', '16-03-2020', 'Negative'], [3898, 48850, 'Planet Earth', '16-03-2020', 'Negative'], [4973, 49925, 'West Midlands, England', '17-03-2020', 'Neutral'], [4973, 49925, 'West Midlands, England', '17-03-2020', 'Neutral'], [4973, 49925, 'West Midlands, England', '17-03-2020', 'Neutral'], [4674, 49626, 'Johannesburg', '17-03-2020', 'Extremely Positive'], [4674, 49626, 'Johannesburg', '17-03-2020', 'Extremely Positive'], [4674, 49626, 'Johannesburg', '17-03-2020', 'Extremely Positive'], [4669, 49621, 'Montr├®al, Qu├®bec', '17-03-2020', 'Neutral'], [4669, 49621, 'Montr├®al, Qu├®bec', '17-03-2020', 'Neutral'], [4669, 49621, 'Montr├®al, Qu├®bec', '17-03-2020', 'Neutral'], [3889, 48841, 'Houston, TX', '16-03-2020', 'Extremely Positive'], [3889, 48841, 'Houston, TX', '16-03-2020', 'Extremely Positive'], [3889, 48841, 'Houston, TX', '16-03-2020', 'Extremely Positive'], [3847, 48799, 'Arkansas, USA', '16-03-2020', 'Extremely Positive'], [3847, 48799, 'Arkansas, USA', '16-03-2020', 'Extremely Positive'], [3847, 48799, 'Arkansas, USA', '16-03-2020', 'Extremely Positive'], [4324, 49276, nan, '16-03-2020', 'Positive'], [4324, 49276, nan, '16-03-2020', 'Positive'], [4324, 49276, nan, '16-03-2020', 'Positive'], [4303, 49255, 'Upper Saddle River, NJ', '16-03-2020', 'Positive'], [4303, 49255, 'Upper Saddle River, NJ', '16-03-2020', 'Positive'], [4303, 49255, 'Upper Saddle River, NJ', '16-03-2020', 'Positive'], [4970, 49922, nan, '17-03-2020', 'Neutral'], [4970, 49922, nan, '17-03-2020', 'Neutral'], [4970, 49922, nan, '17-03-2020', 'Neutral'], [4075, 49027, nan, '16-03-2020', 'Positive'], [4075, 49027, nan, '16-03-2020', 'Positive'], [4075, 49027, nan, '16-03-2020', 'Positive'], [3942, 48894, nan, '16-03-2020', 'Neutral'], [3942, 48894, nan, '16-03-2020', 'Neutral'], [3942, 48894, nan, '16-03-2020', 'Neutral'], [4981, 49933, nan, '17-03-2020', 'Neutral'], [4981, 49933, nan, '17-03-2020', 'Neutral'], [4981, 49933, nan, '17-03-2020', 'Neutral'], [4875, 49827, 'Kuala Lumpur', '17-03-2020', 'Positive'], [4875, 49827, 'Kuala Lumpur', '17-03-2020', 'Positive'], [4875, 49827, 'Kuala Lumpur', '17-03-2020', 'Positive'], [4500, 49452, 'London', '17-03-2020', 'Negative'], [4500, 49452, 'London', '17-03-2020', 'Negative'], [4500, 49452, 'London', '17-03-2020', 'Negative'], [4783, 49735, 'Washington, DC', '17-03-2020', 'Negative'], [4783, 49735, 'Washington, DC', '17-03-2020', 'Negative'], [4783, 49735, 'Washington, DC', '17-03-2020', 'Negative'], [3827, 48779, 'New York, NY', '16-03-2020', 'Negative'], [3827, 48779, 'New York, NY', '16-03-2020', 'Negative'], [3827, 48779, 'New York, NY', '16-03-2020', 'Negative'], [4921, 49873, 'Winnipeg, MB', '17-03-2020', 'Positive'], [4921, 49873, 'Winnipeg, MB', '17-03-2020', 'Positive'], [4921, 49873, 'Winnipeg, MB', '17-03-2020', 'Positive'], [4143, 49095, nan, '16-03-2020', 'Positive'], [4143, 49095, nan, '16-03-2020', 'Positive'], [4143, 49095, nan, '16-03-2020', 'Positive'], [4620, 49572, nan, '17-03-2020', 'Positive'], [4620, 49572, nan, '17-03-2020', 'Positive'], [4620, 49572, nan, '17-03-2020', 'Positive'], [4223, 49175, nan, '16-03-2020', 'Positive'], [4223, 49175, nan, '16-03-2020', 'Positive'], [4223, 49175, nan, '16-03-2020', 'Positive'], [4897, 49849, 'Amsterdam, The Netherlands', '17-03-2020', 'Positive'], [4897, 49849, 'Amsterdam, The Netherlands', '17-03-2020', 'Positive'], [4897, 49849, 'Amsterdam, The Netherlands', '17-03-2020', 'Positive'], [3855, 48807, 'Reno, NV', '16-03-2020', 'Extremely Negative'], [3855, 48807, 'Reno, NV', '16-03-2020', 'Extremely Negative'], [3855, 48807, 'Reno, NV', '16-03-2020', 'Extremely Negative'], [4254, 49206, 'Kansas City, MO', '16-03-2020', 'Positive'], [4254, 49206, 'Kansas City, MO', '16-03-2020', 'Positive'], [4254, 49206, 'Kansas City, MO', '16-03-2020', 'Positive'], [4966, 49918, 'Riverside, CA', '17-03-2020', 'Neutral'], [4966, 49918, 'Riverside, CA', '17-03-2020', 'Neutral'], [4966, 49918, 'Riverside, CA', '17-03-2020', 'Neutral'], [4793, 49745, nan, '17-03-2020', 'Positive'], [4793, 49745, nan, '17-03-2020', 'Positive'], [4793, 49745, nan, '17-03-2020', 'Positive'], [4111, 49063, 'England, Australia, USA', '16-03-2020', 'Negative'], [4111, 49063, 'England, Australia, USA', '16-03-2020', 'Negative'], [4111, 49063, 'England, Australia, USA', '16-03-2020', 'Negative'], [4125, 49077, 'Soweto', '16-03-2020', 'Neutral'], [4125, 49077, 'Soweto', '16-03-2020', 'Neutral'], [4125, 49077, 'Soweto', '16-03-2020', 'Neutral'], [4177, 49129, 'Berkeley, CA', '16-03-2020', 'Neutral'], [4177, 49129, 'Berkeley, CA', '16-03-2020', 'Neutral'], [4177, 49129, 'Berkeley, CA', '16-03-2020', 'Neutral'], [4927, 49879, 'Washington, DC', '17-03-2020', 'Neutral'], [4927, 49879, 'Washington, DC', '17-03-2020', 'Neutral'], [4927, 49879, 'Washington, DC', '17-03-2020', 'Neutral'], [4402, 49354, nan, '16-03-2020', 'Negative'], [4402, 49354, nan, '16-03-2020', 'Negative'], [4402, 49354, nan, '16-03-2020', 'Negative'], [4012, 48964, 'Maidenhead', '16-03-2020', 'Positive'], [4012, 48964, 'Maidenhead', '16-03-2020', 'Positive'], [4012, 48964, 'Maidenhead', '16-03-2020', 'Positive'], [4928, 49880, 'Toronto', '17-03-2020', 'Neutral'], [4928, 49880, 'Toronto', '17-03-2020', 'Neutral'], [4928, 49880, 'Toronto', '17-03-2020', 'Neutral'], [3927, 48879, 'Pennsylvania, USA', '16-03-2020', 'Negative'], [3927, 48879, 'Pennsylvania, USA', '16-03-2020', 'Negative'], [3927, 48879, 'Pennsylvania, USA', '16-03-2020', 'Negative'], [4825, 49777, 'Huntington Beach, CA', '17-03-2020', 'Extremely Positive'], [4825, 49777, 'Huntington Beach, CA', '17-03-2020', 'Extremely Positive'], [4825, 49777, 'Huntington Beach, CA', '17-03-2020', 'Extremely Positive'], [4801, 49753, nan, '17-03-2020', 'Positive'], [4801, 49753, nan, '17-03-2020', 'Positive'], [4801, 49753, nan, '17-03-2020', 'Positive'], [4031, 48983, 'Toronto, Ontario', '16-03-2020', 'Negative'], [4031, 48983, 'Toronto, Ontario', '16-03-2020', 'Negative'], [4031, 48983, 'Toronto, Ontario', '16-03-2020', 'Negative'], [4566, 49518, 'Room LoL', '17-03-2020', 'Positive'], [4566, 49518, 'Room LoL', '17-03-2020', 'Positive'], [4566, 49518, 'Room LoL', '17-03-2020', 'Positive'], [4691, 49643, '├£T: 50.415269,-105.601237', '17-03-2020', 'Negative'], [4691, 49643, '├£T: 50.415269,-105.601237', '17-03-2020', 'Negative'], [4691, 49643, '├£T: 50.415269,-105.601237', '17-03-2020', 'Negative'], [3917, 48869, 'Washington, DC', '16-03-2020', 'Negative'], [3917, 48869, 'Washington, DC', '16-03-2020', 'Negative'], [3917, 48869, 'Washington, DC', '16-03-2020', 'Negative'], [4326, 49278, 'San Francisco Bay Area', '16-03-2020', 'Extremely Negative'], [4326, 49278, 'San Francisco Bay Area', '16-03-2020', 'Extremely Negative'], [4326, 49278, 'San Francisco Bay Area', '16-03-2020', 'Extremely Negative'], [4306, 49258, '7th Congressional District, WA', '16-03-2020', 'Negative'], [4306, 49258, '7th Congressional District, WA', '16-03-2020', 'Negative'], [4306, 49258, '7th Congressional District, WA', '16-03-2020', 'Negative'], [4591, 49543, 'New York, USA', '17-03-2020', 'Positive'], [4591, 49543, 'New York, USA', '17-03-2020', 'Positive'], [4591, 49543, 'New York, USA', '17-03-2020', 'Positive'], [3957, 48909, 'Scunthorpe, England', '16-03-2020', 'Positive'], [3957, 48909, 'Scunthorpe, England', '16-03-2020', 'Positive'], [3957, 48909, 'Scunthorpe, England', '16-03-2020', 'Positive'], [4330, 49282, 'London, England', '16-03-2020', 'Extremely Positive'], [4330, 49282, 'London, England', '16-03-2020', 'Extremely Positive'], [4330, 49282, 'London, England', '16-03-2020', 'Extremely Positive'], [4475, 49427, 'portland', '17-03-2020', 'Positive'], [4475, 49427, 'portland', '17-03-2020', 'Positive'], [4475, 49427, 'portland', '17-03-2020', 'Positive'], [4083, 49035, 'Tennessee ', '16-03-2020', 'Negative'], [4083, 49035, 'Tennessee ', '16-03-2020', 'Negative'], [4083, 49035, 'Tennessee ', '16-03-2020', 'Negative'], [4805, 49757, '#BayArea #SouthBay Bureau', '17-03-2020', 'Positive'], [4805, 49757, '#BayArea #SouthBay Bureau', '17-03-2020', 'Positive'], [4805, 49757, '#BayArea #SouthBay Bureau', '17-03-2020', 'Positive'], [4194, 49146, nan, '16-03-2020', 'Positive'], [4194, 49146, nan, '16-03-2020', 'Positive'], [4194, 49146, nan, '16-03-2020', 'Positive'], [4605, 49557, 'Central Texas', '17-03-2020', 'Extremely Negative'], [4605, 49557, 'Central Texas', '17-03-2020', 'Extremely Negative'], [4605, 49557, 'Central Texas', '17-03-2020', 'Extremely Negative'], [4356, 49308, 'Stamford, CT', '16-03-2020', 'Positive'], [4356, 49308, 'Stamford, CT', '16-03-2020', 'Positive'], [4356, 49308, 'Stamford, CT', '16-03-2020', 'Positive'], [3815, 48767, 'Saudi Arabia', '16-03-2020', 'Neutral'], [3815, 48767, 'Saudi Arabia', '16-03-2020', 'Neutral'], [4824, 49776, 'Stockport, England', '17-03-2020', 'Negative'], [4824, 49776, 'Stockport, England', '17-03-2020', 'Negative'], [4824, 49776, 'Stockport, England', '17-03-2020', 'Negative'], [4617, 49569, 'You have no power over me.', '17-03-2020', 'Extremely Negative'], [4617, 49569, 'You have no power over me.', '17-03-2020', 'Extremely Negative'], [4617, 49569, 'You have no power over me.', '17-03-2020', 'Extremely Negative'], [4766, 49718, nan, '17-03-2020', 'Negative'], [4766, 49718, nan, '17-03-2020', 'Negative'], [4766, 49718, nan, '17-03-2020', 'Negative'], [4350, 49302, 'Johnson City', '16-03-2020', 'Negative'], [4350, 49302, 'Johnson City', '16-03-2020', 'Negative'], [4350, 49302, 'Johnson City', '16-03-2020', 'Negative'], [4852, 49804, nan, '17-03-2020', 'Positive'], [4852, 49804, nan, '17-03-2020', 'Positive'], [4852, 49804, nan, '17-03-2020', 'Positive'], [4380, 49332, 'Washington, DC', '16-03-2020', 'Positive'], [4380, 49332, 'Washington, DC', '16-03-2020', 'Positive'], [4380, 49332, 'Washington, DC', '16-03-2020', 'Positive'], [4189, 49141, 'Auburndale, MA', '16-03-2020', 'Neutral'], [4189, 49141, 'Auburndale, MA', '16-03-2020', 'Neutral'], [4189, 49141, 'Auburndale, MA', '16-03-2020', 'Neutral'], [4328, 49280, 'Southeastern Pennsylvania', '16-03-2020', 'Negative'], [4328, 49280, 'Southeastern Pennsylvania', '16-03-2020', 'Negative'], [4328, 49280, 'Southeastern Pennsylvania', '16-03-2020', 'Negative'], [4346, 49298, 'Chennai, India', '16-03-2020', 'Extremely Negative'], [4346, 49298, 'Chennai, India', '16-03-2020', 'Extremely Negative'], [4346, 49298, 'Chennai, India', '16-03-2020', 'Extremely Negative'], [3805, 48757, '35.926541,-78.753267', '16-03-2020', 'Positive'], [3805, 48757, '35.926541,-78.753267', '16-03-2020', 'Positive'], [3805, 48757, '35.926541,-78.753267', '16-03-2020', 'Positive'], [4514, 49466, 'United States', '17-03-2020', 'Positive'], [4514, 49466, 'United States', '17-03-2020', 'Positive'], [4514, 49466, 'United States', '17-03-2020', 'Positive'], [3843, 48795, nan, '16-03-2020', 'Neutral'], [3843, 48795, nan, '16-03-2020', 'Neutral'], [3843, 48795, nan, '16-03-2020', 'Neutral'], [4711, 49663, nan, '17-03-2020', 'Extremely Positive'], [4711, 49663, nan, '17-03-2020', 'Extremely Positive'], [4711, 49663, nan, '17-03-2020', 'Extremely Positive'], [4810, 49762, nan, '17-03-2020', 'Neutral'], [4810, 49762, nan, '17-03-2020', 'Neutral'], [4810, 49762, nan, '17-03-2020', 'Neutral'], [3974, 48926, 'Pennsylvania, USA', '16-03-2020', 'Neutral'], [3974, 48926, 'Pennsylvania, USA', '16-03-2020', 'Neutral'], [3974, 48926, 'Pennsylvania, USA', '16-03-2020', 'Neutral'], [4043, 48995, 'Orlando, Fl', '16-03-2020', 'Positive'], [4043, 48995, 'Orlando, Fl', '16-03-2020', 'Positive'], [4043, 48995, 'Orlando, Fl', '16-03-2020', 'Positive'], [4956, 49908, nan, '17-03-2020', 'Negative'], [4956, 49908, nan, '17-03-2020', 'Negative'], [4956, 49908, nan, '17-03-2020', 'Negative'], [4685, 49637, nan, '17-03-2020', 'Extremely Negative'], [4685, 49637, nan, '17-03-2020', 'Extremely Negative'], [4685, 49637, nan, '17-03-2020', 'Extremely Negative'], [4595, 49547, 'She/ her', '17-03-2020', 'Negative'], [4595, 49547, 'She/ her', '17-03-2020', 'Negative'], [4595, 49547, 'She/ her', '17-03-2020', 'Negative'], [3945, 48897, 'Arizona', '16-03-2020', 'Negative'], [3945, 48897, 'Arizona', '16-03-2020', 'Negative'], [3945, 48897, 'Arizona', '16-03-2020', 'Negative'], [4749, 49701, 'Mumbai,India', '17-03-2020', 'Positive'], [4749, 49701, 'Mumbai,India', '17-03-2020', 'Positive'], [4749, 49701, 'Mumbai,India', '17-03-2020', 'Positive'], [4787, 49739, 'United States', '17-03-2020', 'Neutral'], [4787, 49739, 'United States', '17-03-2020', 'Neutral'], [4787, 49739, 'United States', '17-03-2020', 'Neutral'], [4464, 49416, 'Loveland, CO', '17-03-2020', 'Negative'], [4464, 49416, 'Loveland, CO', '17-03-2020', 'Negative'], [4464, 49416, 'Loveland, CO', '17-03-2020', 'Negative'], [3801, 48753, 'Vagabonds', '16-03-2020', 'Positive'], [3801, 48753, 'Vagabonds', '16-03-2020', 'Positive'], [3801, 48753, 'Vagabonds', '16-03-2020', 'Positive'], [4770, 49722, 'Tilburg The Netherlands', '17-03-2020', 'Neutral'], [4770, 49722, 'Tilburg The Netherlands', '17-03-2020', 'Neutral'], [4770, 49722, 'Tilburg The Netherlands', '17-03-2020', 'Neutral'], [3858, 48810, nan, '16-03-2020', 'Neutral'], [3858, 48810, nan, '16-03-2020', 'Neutral'], [3858, 48810, nan, '16-03-2020', 'Neutral'], [4041, 48993, 'Chicago, IL', '16-03-2020', 'Extremely Positive'], [4041, 48993, 'Chicago, IL', '16-03-2020', 'Extremely Positive'], [4041, 48993, 'Chicago, IL', '16-03-2020', 'Extremely Positive'], [4752, 49704, 'Bognor Regis, England', '17-03-2020', 'Extremely Negative'], [4752, 49704, 'Bognor Regis, England', '17-03-2020', 'Extremely Negative'], [4752, 49704, 'Bognor Regis, England', '17-03-2020', 'Extremely Negative'], [4343, 49295, 'Kansas City, MO', '16-03-2020', 'Positive'], [4343, 49295, 'Kansas City, MO', '16-03-2020', 'Positive'], [4343, 49295, 'Kansas City, MO', '16-03-2020', 'Positive'], [3970, 48922, nan, '16-03-2020', 'Extremely Negative'], [3970, 48922, nan, '16-03-2020', 'Extremely Negative'], [3970, 48922, nan, '16-03-2020', 'Extremely Negative'], [4212, 49164, 'Washington, DC', '16-03-2020', 'Negative'], [4212, 49164, 'Washington, DC', '16-03-2020', 'Negative'], [4212, 49164, 'Washington, DC', '16-03-2020', 'Negative'], [4859, 49811, 'Ghaziabad, India', '17-03-2020', 'Extremely Negative'], [4859, 49811, 'Ghaziabad, India', '17-03-2020', 'Extremely Negative'], [4859, 49811, 'Ghaziabad, India', '17-03-2020', 'Extremely Negative'], [4550, 49502, 'Sungai Buloh, Selangor', '17-03-2020', 'Positive'], [4550, 49502, 'Sungai Buloh, Selangor', '17-03-2020', 'Positive'], [4550, 49502, 'Sungai Buloh, Selangor', '17-03-2020', 'Positive'], [4447, 49399, nan, '16-03-2020', 'Extremely Positive'], [4447, 49399, nan, '16-03-2020', 'Extremely Positive'], [4447, 49399, nan, '16-03-2020', 'Extremely Positive'], [4827, 49779, nan, '17-03-2020', 'Extremely Negative'], [4827, 49779, nan, '17-03-2020', 'Extremely Negative'], [4827, 49779, nan, '17-03-2020', 'Extremely Negative'], [4702, 49654, 'New Orleans', '17-03-2020', 'Neutral'], [4702, 49654, 'New Orleans', '17-03-2020', 'Neutral'], [4702, 49654, 'New Orleans', '17-03-2020', 'Neutral'], [4962, 49914, nan, '17-03-2020', 'Extremely Negative'], [4962, 49914, nan, '17-03-2020', 'Extremely Negative'], [4962, 49914, nan, '17-03-2020', 'Extremely Negative'], [4502, 49454, 'Huddersfield, West Yorkshire', '17-03-2020', 'Extremely Negative'], [4502, 49454, 'Huddersfield, West Yorkshire', '17-03-2020', 'Extremely Negative'], [4502, 49454, 'Huddersfield, West Yorkshire', '17-03-2020', 'Extremely Negative'], [3811, 48763, 'Horningsea', '16-03-2020', 'Extremely Positive'], [3811, 48763, 'Horningsea', '16-03-2020', 'Extremely Positive'], [3811, 48763, 'Horningsea', '16-03-2020', 'Extremely Positive'], [4016, 48968, 'South West, England', '16-03-2020', 'Negative'], [4016, 48968, 'South West, England', '16-03-2020', 'Negative'], [4016, 48968, 'South West, England', '16-03-2020', 'Negative'], [4726, 49678, 'San Francisco, CA', '17-03-2020', 'Extremely Positive'], [4726, 49678, 'San Francisco, CA', '17-03-2020', 'Extremely Positive'], [4726, 49678, 'San Francisco, CA', '17-03-2020', 'Extremely Positive'], [4600, 49552, 'New Zealand', '17-03-2020', 'Extremely Negative'], [4600, 49552, 'New Zealand', '17-03-2020', 'Extremely Negative'], [4600, 49552, 'New Zealand', '17-03-2020', 'Extremely Negative'], [3953, 48905, 'Toronto, Ontario', '16-03-2020', 'Positive'], [3953, 48905, 'Toronto, Ontario', '16-03-2020', 'Positive'], [3953, 48905, 'Toronto, Ontario', '16-03-2020', 'Positive'], [4354, 49306, 'Spartanburg, SC', '16-03-2020', 'Positive'], [4354, 49306, 'Spartanburg, SC', '16-03-2020', 'Positive'], [4354, 49306, 'Spartanburg, SC', '16-03-2020', 'Positive'], [4085, 49037, 'North Wales, UK', '16-03-2020', 'Positive'], [4085, 49037, 'North Wales, UK', '16-03-2020', 'Positive'], [4085, 49037, 'North Wales, UK', '16-03-2020', 'Positive'], [4440, 49392, 'Near president Trump', '16-03-2020', 'Extremely Negative'], [4440, 49392, 'Near president Trump', '16-03-2020', 'Extremely Negative'], [4440, 49392, 'Near president Trump', '16-03-2020', 'Extremely Negative'], [4795, 49747, 'San Francisco, CA', '17-03-2020', 'Extremely Positive'], [4795, 49747, 'San Francisco, CA', '17-03-2020', 'Extremely Positive'], [4795, 49747, 'San Francisco, CA', '17-03-2020', 'Extremely Positive'], [4149, 49101, 'Mumbai', '16-03-2020', 'Extremely Positive'], [4149, 49101, 'Mumbai', '16-03-2020', 'Extremely Positive'], [4149, 49101, 'Mumbai', '16-03-2020', 'Extremely Positive'], [4953, 49905, 'Los Angeles, CA', '17-03-2020', 'Extremely Positive'], [4953, 49905, 'Los Angeles, CA', '17-03-2020', 'Extremely Positive'], [4953, 49905, 'Los Angeles, CA', '17-03-2020', 'Extremely Positive'], [3901, 48853, nan, '16-03-2020', 'Extremely Positive'], [3901, 48853, nan, '16-03-2020', 'Extremely Positive'], [3901, 48853, nan, '16-03-2020', 'Extremely Positive'], [4964, 49916, '? #Mayenne #France ? ', '17-03-2020', 'Extremely Negative'], [4964, 49916, '? #Mayenne #France ? ', '17-03-2020', 'Extremely Negative'], [4964, 49916, '? #Mayenne #France ? ', '17-03-2020', 'Extremely Negative'], [4110, 49062, 'Haedo, Bs. As., Argentina', '16-03-2020', 'Neutral'], [4110, 49062, 'Haedo, Bs. As., Argentina', '16-03-2020', 'Neutral'], [4110, 49062, 'Haedo, Bs. As., Argentina', '16-03-2020', 'Neutral'], [4433, 49385, 'Toronto, Ontario', '16-03-2020', 'Extremely Positive'], [4433, 49385, 'Toronto, Ontario', '16-03-2020', 'Extremely Positive'], [4433, 49385, 'Toronto, Ontario', '16-03-2020', 'Extremely Positive'], [4279, 49231, 'Marlborough, Wiltshire', '16-03-2020', 'Negative'], [4279, 49231, 'Marlborough, Wiltshire', '16-03-2020', 'Negative'], [4279, 49231, 'Marlborough, Wiltshire', '16-03-2020', 'Negative'], [4425, 49377, nan, '16-03-2020', 'Positive'], [4425, 49377, nan, '16-03-2020', 'Positive'], [4425, 49377, nan, '16-03-2020', 'Positive'], [4732, 49684, 'Richmond, VA', '17-03-2020', 'Negative'], [4732, 49684, 'Richmond, VA', '17-03-2020', 'Negative'], [4732, 49684, 'Richmond, VA', '17-03-2020', 'Negative'], [4321, 49273, 'Lake Mary, FL', '16-03-2020', 'Neutral'], [4321, 49273, 'Lake Mary, FL', '16-03-2020', 'Neutral'], [4321, 49273, 'Lake Mary, FL', '16-03-2020', 'Neutral'], [4791, 49743, 'Washington, DC', '17-03-2020', 'Positive'], [4791, 49743, 'Washington, DC', '17-03-2020', 'Positive'], [4791, 49743, 'Washington, DC', '17-03-2020', 'Positive'], [4218, 49170, 'West Yorkshire, England', '16-03-2020', 'Negative'], [4218, 49170, 'West Yorkshire, England', '16-03-2020', 'Negative'], [4218, 49170, 'West Yorkshire, England', '16-03-2020', 'Negative'], [4599, 49551, 'Northern AB/HRM NS', '17-03-2020', 'Negative'], [4599, 49551, 'Northern AB/HRM NS', '17-03-2020', 'Negative'], [4599, 49551, 'Northern AB/HRM NS', '17-03-2020', 'Negative'], [4792, 49744, 'London', '17-03-2020', 'Neutral'], [4792, 49744, 'London', '17-03-2020', 'Neutral'], [4792, 49744, 'London', '17-03-2020', 'Neutral'], [4608, 49560, nan, '17-03-2020', 'Neutral'], [4608, 49560, nan, '17-03-2020', 'Neutral'], [4608, 49560, nan, '17-03-2020', 'Neutral'], [4772, 49724, nan, '17-03-2020', 'Neutral'], [4772, 49724, nan, '17-03-2020', 'Neutral'], [4772, 49724, nan, '17-03-2020', 'Neutral'], [4108, 49060, 'Newcastle Upon Tyne, England', '16-03-2020', 'Extremely Negative'], [4108, 49060, 'Newcastle Upon Tyne, England', '16-03-2020', 'Extremely Negative'], [4108, 49060, 'Newcastle Upon Tyne, England', '16-03-2020', 'Extremely Negative'], [4309, 49261, 'Kuala Lumpur, Malaysia', '16-03-2020', 'Positive'], [4309, 49261, 'Kuala Lumpur, Malaysia', '16-03-2020', 'Positive'], [4309, 49261, 'Kuala Lumpur, Malaysia', '16-03-2020', 'Positive'], [4427, 49379, 'flavortown, USA', '16-03-2020', 'Extremely Negative'], [4427, 49379, 'flavortown, USA', '16-03-2020', 'Extremely Negative'], [4427, 49379, 'flavortown, USA', '16-03-2020', 'Extremely Negative'], [4705, 49657, nan, '17-03-2020', 'Negative'], [4705, 49657, nan, '17-03-2020', 'Negative'], [4705, 49657, nan, '17-03-2020', 'Negative'], [3903, 48855, 'I try to be politics free but will comment on Trump/GOP policy as the news is dominating tape.', '16-03-2020', 'Extremely Negative'], [3903, 48855, 'I try to be politics free but will comment on Trump/GOP policy as the news is dominating tape.', '16-03-2020', 'Extremely Negative'], [3903, 48855, 'I try to be politics free but will comment on Trump/GOP policy as the news is dominating tape.', '16-03-2020', 'Extremely Negative'], [3866, 48818, 'London, England', '16-03-2020', 'Negative'], [3866, 48818, 'London, England', '16-03-2020', 'Negative'], [3866, 48818, 'London, England', '16-03-2020', 'Negative']]\n"
          ]
        },
        {
          "output_type": "execute_result",
          "data": {
            "text/plain": [
              "'Converted Sucessfully'"
            ],
            "application/vnd.google.colaboratory.intrinsic+json": {
              "type": "string"
            }
          },
          "metadata": {},
          "execution_count": 40
        }
      ]
    },
    {
      "cell_type": "code",
      "source": [
        "twitter_df_augment_data.head()"
      ],
      "metadata": {
        "id": "qNDve0KZ2EcP",
        "colab": {
          "base_uri": "https://localhost:8080/",
          "height": 206
        },
        "outputId": "dd4325a5-ed19-4f24-eb2c-ffa16310932f"
      },
      "execution_count": null,
      "outputs": [
        {
          "output_type": "execute_result",
          "data": {
            "text/plain": [
              "  UserName ScreenName         Location     TweetAt           Sentiment  \\\n",
              "0     4419      49371         Malaysia  16-03-2020  Extremely Negative   \n",
              "1     4419      49371         Malaysia  16-03-2020  Extremely Negative   \n",
              "2     4419      49371         Malaysia  16-03-2020  Extremely Negative   \n",
              "3     4436      49388  Indianapolis IN  16-03-2020            Positive   \n",
              "4     4436      49388  Indianapolis IN  16-03-2020            Positive   \n",
              "\n",
              "                                       OriginalTweet  \n",
              "0  if i don't die bc of covid-, i'll die from the...  \n",
              "1  if i don't die bc of covid-, i'll die from the...  \n",
              "2  if I don't die from covid- I will die from lac...  \n",
              "3  is #coronavirus name @realdonaldtrump look bad...  \n",
              "4  is #coronavirus making @realdonaldtrump look h...  "
            ],
            "text/html": [
              "\n",
              "  <div id=\"df-66847677-3590-418e-9549-b963f1235a1f\">\n",
              "    <div class=\"colab-df-container\">\n",
              "      <div>\n",
              "<style scoped>\n",
              "    .dataframe tbody tr th:only-of-type {\n",
              "        vertical-align: middle;\n",
              "    }\n",
              "\n",
              "    .dataframe tbody tr th {\n",
              "        vertical-align: top;\n",
              "    }\n",
              "\n",
              "    .dataframe thead th {\n",
              "        text-align: right;\n",
              "    }\n",
              "</style>\n",
              "<table border=\"1\" class=\"dataframe\">\n",
              "  <thead>\n",
              "    <tr style=\"text-align: right;\">\n",
              "      <th></th>\n",
              "      <th>UserName</th>\n",
              "      <th>ScreenName</th>\n",
              "      <th>Location</th>\n",
              "      <th>TweetAt</th>\n",
              "      <th>Sentiment</th>\n",
              "      <th>OriginalTweet</th>\n",
              "    </tr>\n",
              "  </thead>\n",
              "  <tbody>\n",
              "    <tr>\n",
              "      <th>0</th>\n",
              "      <td>4419</td>\n",
              "      <td>49371</td>\n",
              "      <td>Malaysia</td>\n",
              "      <td>16-03-2020</td>\n",
              "      <td>Extremely Negative</td>\n",
              "      <td>if i don't die bc of covid-, i'll die from the...</td>\n",
              "    </tr>\n",
              "    <tr>\n",
              "      <th>1</th>\n",
              "      <td>4419</td>\n",
              "      <td>49371</td>\n",
              "      <td>Malaysia</td>\n",
              "      <td>16-03-2020</td>\n",
              "      <td>Extremely Negative</td>\n",
              "      <td>if i don't die bc of covid-, i'll die from the...</td>\n",
              "    </tr>\n",
              "    <tr>\n",
              "      <th>2</th>\n",
              "      <td>4419</td>\n",
              "      <td>49371</td>\n",
              "      <td>Malaysia</td>\n",
              "      <td>16-03-2020</td>\n",
              "      <td>Extremely Negative</td>\n",
              "      <td>if I don't die from covid- I will die from lac...</td>\n",
              "    </tr>\n",
              "    <tr>\n",
              "      <th>3</th>\n",
              "      <td>4436</td>\n",
              "      <td>49388</td>\n",
              "      <td>Indianapolis IN</td>\n",
              "      <td>16-03-2020</td>\n",
              "      <td>Positive</td>\n",
              "      <td>is #coronavirus name @realdonaldtrump look bad...</td>\n",
              "    </tr>\n",
              "    <tr>\n",
              "      <th>4</th>\n",
              "      <td>4436</td>\n",
              "      <td>49388</td>\n",
              "      <td>Indianapolis IN</td>\n",
              "      <td>16-03-2020</td>\n",
              "      <td>Positive</td>\n",
              "      <td>is #coronavirus making @realdonaldtrump look h...</td>\n",
              "    </tr>\n",
              "  </tbody>\n",
              "</table>\n",
              "</div>\n",
              "      <button class=\"colab-df-convert\" onclick=\"convertToInteractive('df-66847677-3590-418e-9549-b963f1235a1f')\"\n",
              "              title=\"Convert this dataframe to an interactive table.\"\n",
              "              style=\"display:none;\">\n",
              "        \n",
              "  <svg xmlns=\"http://www.w3.org/2000/svg\" height=\"24px\"viewBox=\"0 0 24 24\"\n",
              "       width=\"24px\">\n",
              "    <path d=\"M0 0h24v24H0V0z\" fill=\"none\"/>\n",
              "    <path d=\"M18.56 5.44l.94 2.06.94-2.06 2.06-.94-2.06-.94-.94-2.06-.94 2.06-2.06.94zm-11 1L8.5 8.5l.94-2.06 2.06-.94-2.06-.94L8.5 2.5l-.94 2.06-2.06.94zm10 10l.94 2.06.94-2.06 2.06-.94-2.06-.94-.94-2.06-.94 2.06-2.06.94z\"/><path d=\"M17.41 7.96l-1.37-1.37c-.4-.4-.92-.59-1.43-.59-.52 0-1.04.2-1.43.59L10.3 9.45l-7.72 7.72c-.78.78-.78 2.05 0 2.83L4 21.41c.39.39.9.59 1.41.59.51 0 1.02-.2 1.41-.59l7.78-7.78 2.81-2.81c.8-.78.8-2.07 0-2.86zM5.41 20L4 18.59l7.72-7.72 1.47 1.35L5.41 20z\"/>\n",
              "  </svg>\n",
              "      </button>\n",
              "      \n",
              "  <style>\n",
              "    .colab-df-container {\n",
              "      display:flex;\n",
              "      flex-wrap:wrap;\n",
              "      gap: 12px;\n",
              "    }\n",
              "\n",
              "    .colab-df-convert {\n",
              "      background-color: #E8F0FE;\n",
              "      border: none;\n",
              "      border-radius: 50%;\n",
              "      cursor: pointer;\n",
              "      display: none;\n",
              "      fill: #1967D2;\n",
              "      height: 32px;\n",
              "      padding: 0 0 0 0;\n",
              "      width: 32px;\n",
              "    }\n",
              "\n",
              "    .colab-df-convert:hover {\n",
              "      background-color: #E2EBFA;\n",
              "      box-shadow: 0px 1px 2px rgba(60, 64, 67, 0.3), 0px 1px 3px 1px rgba(60, 64, 67, 0.15);\n",
              "      fill: #174EA6;\n",
              "    }\n",
              "\n",
              "    [theme=dark] .colab-df-convert {\n",
              "      background-color: #3B4455;\n",
              "      fill: #D2E3FC;\n",
              "    }\n",
              "\n",
              "    [theme=dark] .colab-df-convert:hover {\n",
              "      background-color: #434B5C;\n",
              "      box-shadow: 0px 1px 3px 1px rgba(0, 0, 0, 0.15);\n",
              "      filter: drop-shadow(0px 1px 2px rgba(0, 0, 0, 0.3));\n",
              "      fill: #FFFFFF;\n",
              "    }\n",
              "  </style>\n",
              "\n",
              "      <script>\n",
              "        const buttonEl =\n",
              "          document.querySelector('#df-66847677-3590-418e-9549-b963f1235a1f button.colab-df-convert');\n",
              "        buttonEl.style.display =\n",
              "          google.colab.kernel.accessAllowed ? 'block' : 'none';\n",
              "\n",
              "        async function convertToInteractive(key) {\n",
              "          const element = document.querySelector('#df-66847677-3590-418e-9549-b963f1235a1f');\n",
              "          const dataTable =\n",
              "            await google.colab.kernel.invokeFunction('convertToInteractive',\n",
              "                                                     [key], {});\n",
              "          if (!dataTable) return;\n",
              "\n",
              "          const docLinkHtml = 'Like what you see? Visit the ' +\n",
              "            '<a target=\"_blank\" href=https://colab.research.google.com/notebooks/data_table.ipynb>data table notebook</a>'\n",
              "            + ' to learn more about interactive tables.';\n",
              "          element.innerHTML = '';\n",
              "          dataTable['output_type'] = 'display_data';\n",
              "          await google.colab.output.renderOutput(dataTable, element);\n",
              "          const docLink = document.createElement('div');\n",
              "          docLink.innerHTML = docLinkHtml;\n",
              "          element.appendChild(docLink);\n",
              "        }\n",
              "      </script>\n",
              "    </div>\n",
              "  </div>\n",
              "  "
            ]
          },
          "metadata": {},
          "execution_count": 41
        }
      ]
    },
    {
      "cell_type": "code",
      "source": [
        "X = twitter_df['OriginalTweet']\n",
        "Y = twitter_df['Sentiment']\n",
        "compare_x = []\n",
        "compare_y = []\n",
        "train_x, test_x, train_y, test_y = divide_into_train_test(X, Y)\n",
        "train_x.shape, test_x.shape, train_y.shape, test_y.shape"
      ],
      "metadata": {
        "colab": {
          "base_uri": "https://localhost:8080/"
        },
        "id": "E9deY8Tpt534",
        "outputId": "f3460340-36ae-4ef2-fcd1-19ac0deb6776"
      },
      "execution_count": null,
      "outputs": [
        {
          "output_type": "execute_result",
          "data": {
            "text/plain": [
              "((960,), (240,), (960,), (240,))"
            ]
          },
          "metadata": {},
          "execution_count": 36
        }
      ]
    },
    {
      "cell_type": "code",
      "source": [
        "train_x, test_x = vectorize(train_x, test_x)\n",
        "train_x.shape, test_x.shape"
      ],
      "metadata": {
        "colab": {
          "base_uri": "https://localhost:8080/"
        },
        "id": "mhEy0qzbu8Em",
        "outputId": "03a8dc3b-7f5a-4a4c-d5b4-83c2a3fac079"
      },
      "execution_count": null,
      "outputs": [
        {
          "output_type": "execute_result",
          "data": {
            "text/plain": [
              "((960, 5008), (240, 5008))"
            ]
          },
          "metadata": {},
          "execution_count": 37
        }
      ]
    },
    {
      "cell_type": "code",
      "source": [
        "x = []\n",
        "y = []\n",
        "predicty_twitter_df = fit_multinomialnb_and_predict(train_x, train_y, test_x)\n",
        "accuracy_twitterdf = accuracy_score(test_y, predicty_twitter_df)\n",
        "print(\"Accuracy of augmented Dataframe by using MultinomialNB: {} %\".format(accuracy_twitterdf*100))\n",
        "x.append(train_x.shape[0])\n",
        "y.append(accuracy_twitterdf)"
      ],
      "metadata": {
        "colab": {
          "base_uri": "https://localhost:8080/"
        },
        "id": "ctbkN-_Fu_S1",
        "outputId": "fc21bd78-fa3c-48b7-ae37-9048572ad30d"
      },
      "execution_count": null,
      "outputs": [
        {
          "output_type": "stream",
          "name": "stdout",
          "text": [
            "Accuracy of augmented Dataframe by using MultinomialNB: 42.916666666666664 %\n"
          ]
        }
      ]
    },
    {
      "cell_type": "code",
      "source": [
        "Plot_confusion_matrix(test_y, predicty_twitter_df)"
      ],
      "metadata": {
        "colab": {
          "base_uri": "https://localhost:8080/",
          "height": 279
        },
        "id": "sWeG0FxI1u7o",
        "outputId": "864c6ff8-3c91-4636-d628-6b6aa0dc526e"
      },
      "execution_count": null,
      "outputs": [
        {
          "output_type": "display_data",
          "data": {
            "text/plain": [
              "<Figure size 432x288 with 2 Axes>"
            ],
            "image/png": "[encoded data removed]"
          },
          "metadata": {
            "needs_background": "light"
          }
        }
      ]
    },
    {
      "cell_type": "markdown",
      "source": [
        "### `Twitter text sentiment nalysis with augmented data`"
      ],
      "metadata": {
        "id": "p6XLSNHd5lpG"
      }
    },
    {
      "cell_type": "code",
      "source": [
        "twitter_augmented_df = pd.read_csv('/content/drive/MyDrive/Colab Notebooks/Pattern Lab/Text Augmentation/Augmented Data/twitter_df_augment_data.csv', na_values='?')\n",
        "twitter_augmented_df.head()"
      ],
      "metadata": {
        "colab": {
          "base_uri": "https://localhost:8080/",
          "height": 206
        },
        "id": "B54DzVPF6AYF",
        "outputId": "ac15cb8c-d098-4d86-e81a-b088404b183e"
      },
      "execution_count": null,
      "outputs": [
        {
          "output_type": "execute_result",
          "data": {
            "text/plain": [
              "   Unnamed: 0  UserName  ScreenName         Location     TweetAt  \\\n",
              "0           0      4419       49371         Malaysia  16-03-2020   \n",
              "1           1      4419       49371         Malaysia  16-03-2020   \n",
              "2           2      4419       49371         Malaysia  16-03-2020   \n",
              "3           3      4436       49388  Indianapolis IN  16-03-2020   \n",
              "4           4      4436       49388  Indianapolis IN  16-03-2020   \n",
              "\n",
              "            Sentiment                                      OriginalTweet  \n",
              "0  Extremely Negative  if i don't die bc of covid-, i'll die from the...  \n",
              "1  Extremely Negative  if i don't die bc of covid-, i'll die from the...  \n",
              "2  Extremely Negative  if I don't die from covid- I will die from lac...  \n",
              "3            Positive  is #coronavirus name @realdonaldtrump look bad...  \n",
              "4            Positive  is #coronavirus making @realdonaldtrump look h...  "
            ],
            "text/html": [
              "\n",
              "  <div id=\"df-66d441bc-c777-4489-8b20-b6d9c4ba729a\">\n",
              "    <div class=\"colab-df-container\">\n",
              "      <div>\n",
              "<style scoped>\n",
              "    .dataframe tbody tr th:only-of-type {\n",
              "        vertical-align: middle;\n",
              "    }\n",
              "\n",
              "    .dataframe tbody tr th {\n",
              "        vertical-align: top;\n",
              "    }\n",
              "\n",
              "    .dataframe thead th {\n",
              "        text-align: right;\n",
              "    }\n",
              "</style>\n",
              "<table border=\"1\" class=\"dataframe\">\n",
              "  <thead>\n",
              "    <tr style=\"text-align: right;\">\n",
              "      <th></th>\n",
              "      <th>Unnamed: 0</th>\n",
              "      <th>UserName</th>\n",
              "      <th>ScreenName</th>\n",
              "      <th>Location</th>\n",
              "      <th>TweetAt</th>\n",
              "      <th>Sentiment</th>\n",
              "      <th>OriginalTweet</th>\n",
              "    </tr>\n",
              "  </thead>\n",
              "  <tbody>\n",
              "    <tr>\n",
              "      <th>0</th>\n",
              "      <td>0</td>\n",
              "      <td>4419</td>\n",
              "      <td>49371</td>\n",
              "      <td>Malaysia</td>\n",
              "      <td>16-03-2020</td>\n",
              "      <td>Extremely Negative</td>\n",
              "      <td>if i don't die bc of covid-, i'll die from the...</td>\n",
              "    </tr>\n",
              "    <tr>\n",
              "      <th>1</th>\n",
              "      <td>1</td>\n",
              "      <td>4419</td>\n",
              "      <td>49371</td>\n",
              "      <td>Malaysia</td>\n",
              "      <td>16-03-2020</td>\n",
              "      <td>Extremely Negative</td>\n",
              "      <td>if i don't die bc of covid-, i'll die from the...</td>\n",
              "    </tr>\n",
              "    <tr>\n",
              "      <th>2</th>\n",
              "      <td>2</td>\n",
              "      <td>4419</td>\n",
              "      <td>49371</td>\n",
              "      <td>Malaysia</td>\n",
              "      <td>16-03-2020</td>\n",
              "      <td>Extremely Negative</td>\n",
              "      <td>if I don't die from covid- I will die from lac...</td>\n",
              "    </tr>\n",
              "    <tr>\n",
              "      <th>3</th>\n",
              "      <td>3</td>\n",
              "      <td>4436</td>\n",
              "      <td>49388</td>\n",
              "      <td>Indianapolis IN</td>\n",
              "      <td>16-03-2020</td>\n",
              "      <td>Positive</td>\n",
              "      <td>is #coronavirus name @realdonaldtrump look bad...</td>\n",
              "    </tr>\n",
              "    <tr>\n",
              "      <th>4</th>\n",
              "      <td>4</td>\n",
              "      <td>4436</td>\n",
              "      <td>49388</td>\n",
              "      <td>Indianapolis IN</td>\n",
              "      <td>16-03-2020</td>\n",
              "      <td>Positive</td>\n",
              "      <td>is #coronavirus making @realdonaldtrump look h...</td>\n",
              "    </tr>\n",
              "  </tbody>\n",
              "</table>\n",
              "</div>\n",
              "      <button class=\"colab-df-convert\" onclick=\"convertToInteractive('df-66d441bc-c777-4489-8b20-b6d9c4ba729a')\"\n",
              "              title=\"Convert this dataframe to an interactive table.\"\n",
              "              style=\"display:none;\">\n",
              "        \n",
              "  <svg xmlns=\"http://www.w3.org/2000/svg\" height=\"24px\"viewBox=\"0 0 24 24\"\n",
              "       width=\"24px\">\n",
              "    <path d=\"M0 0h24v24H0V0z\" fill=\"none\"/>\n",
              "    <path d=\"M18.56 5.44l.94 2.06.94-2.06 2.06-.94-2.06-.94-.94-2.06-.94 2.06-2.06.94zm-11 1L8.5 8.5l.94-2.06 2.06-.94-2.06-.94L8.5 2.5l-.94 2.06-2.06.94zm10 10l.94 2.06.94-2.06 2.06-.94-2.06-.94-.94-2.06-.94 2.06-2.06.94z\"/><path d=\"M17.41 7.96l-1.37-1.37c-.4-.4-.92-.59-1.43-.59-.52 0-1.04.2-1.43.59L10.3 9.45l-7.72 7.72c-.78.78-.78 2.05 0 2.83L4 21.41c.39.39.9.59 1.41.59.51 0 1.02-.2 1.41-.59l7.78-7.78 2.81-2.81c.8-.78.8-2.07 0-2.86zM5.41 20L4 18.59l7.72-7.72 1.47 1.35L5.41 20z\"/>\n",
              "  </svg>\n",
              "      </button>\n",
              "      \n",
              "  <style>\n",
              "    .colab-df-container {\n",
              "      display:flex;\n",
              "      flex-wrap:wrap;\n",
              "      gap: 12px;\n",
              "    }\n",
              "\n",
              "    .colab-df-convert {\n",
              "      background-color: #E8F0FE;\n",
              "      border: none;\n",
              "      border-radius: 50%;\n",
              "      cursor: pointer;\n",
              "      display: none;\n",
              "      fill: #1967D2;\n",
              "      height: 32px;\n",
              "      padding: 0 0 0 0;\n",
              "      width: 32px;\n",
              "    }\n",
              "\n",
              "    .colab-df-convert:hover {\n",
              "      background-color: #E2EBFA;\n",
              "      box-shadow: 0px 1px 2px rgba(60, 64, 67, 0.3), 0px 1px 3px 1px rgba(60, 64, 67, 0.15);\n",
              "      fill: #174EA6;\n",
              "    }\n",
              "\n",
              "    [theme=dark] .colab-df-convert {\n",
              "      background-color: #3B4455;\n",
              "      fill: #D2E3FC;\n",
              "    }\n",
              "\n",
              "    [theme=dark] .colab-df-convert:hover {\n",
              "      background-color: #434B5C;\n",
              "      box-shadow: 0px 1px 3px 1px rgba(0, 0, 0, 0.15);\n",
              "      filter: drop-shadow(0px 1px 2px rgba(0, 0, 0, 0.3));\n",
              "      fill: #FFFFFF;\n",
              "    }\n",
              "  </style>\n",
              "\n",
              "      <script>\n",
              "        const buttonEl =\n",
              "          document.querySelector('#df-66d441bc-c777-4489-8b20-b6d9c4ba729a button.colab-df-convert');\n",
              "        buttonEl.style.display =\n",
              "          google.colab.kernel.accessAllowed ? 'block' : 'none';\n",
              "\n",
              "        async function convertToInteractive(key) {\n",
              "          const element = document.querySelector('#df-66d441bc-c777-4489-8b20-b6d9c4ba729a');\n",
              "          const dataTable =\n",
              "            await google.colab.kernel.invokeFunction('convertToInteractive',\n",
              "                                                     [key], {});\n",
              "          if (!dataTable) return;\n",
              "\n",
              "          const docLinkHtml = 'Like what you see? Visit the ' +\n",
              "            '<a target=\"_blank\" href=https://colab.research.google.com/notebooks/data_table.ipynb>data table notebook</a>'\n",
              "            + ' to learn more about interactive tables.';\n",
              "          element.innerHTML = '';\n",
              "          dataTable['output_type'] = 'display_data';\n",
              "          await google.colab.output.renderOutput(dataTable, element);\n",
              "          const docLink = document.createElement('div');\n",
              "          docLink.innerHTML = docLinkHtml;\n",
              "          element.appendChild(docLink);\n",
              "        }\n",
              "      </script>\n",
              "    </div>\n",
              "  </div>\n",
              "  "
            ]
          },
          "metadata": {},
          "execution_count": 42
        }
      ]
    },
    {
      "cell_type": "code",
      "source": [
        "X = twitter_augmented_df['OriginalTweet']\n",
        "Y = twitter_augmented_df['Sentiment']\n",
        "compare_x = []\n",
        "compare_y = []\n",
        "train_x, test_x, train_y, test_y = divide_into_train_test(X, Y)\n",
        "train_x.shape, test_x.shape, train_y.shape, test_y.shape"
      ],
      "metadata": {
        "colab": {
          "base_uri": "https://localhost:8080/"
        },
        "id": "flUKVaRI6SNE",
        "outputId": "a0650fca-de83-430c-b79b-06d5ea237a48"
      },
      "execution_count": null,
      "outputs": [
        {
          "output_type": "execute_result",
          "data": {
            "text/plain": [
              "((2875,), (719,), (2875,), (719,))"
            ]
          },
          "metadata": {},
          "execution_count": 43
        }
      ]
    },
    {
      "cell_type": "code",
      "source": [
        "train_x, test_x = vectorize(train_x, test_x)\n",
        "train_x.shape, test_x.shape"
      ],
      "metadata": {
        "colab": {
          "base_uri": "https://localhost:8080/"
        },
        "id": "4LrIcZwk7EYv",
        "outputId": "4d747d47-d4b2-4951-c84a-7a477b8bc7cc"
      },
      "execution_count": null,
      "outputs": [
        {
          "output_type": "execute_result",
          "data": {
            "text/plain": [
              "((2875, 8311), (719, 8311))"
            ]
          },
          "metadata": {},
          "execution_count": 44
        }
      ]
    },
    {
      "cell_type": "code",
      "source": [
        "predicty_twitter_augmented_df = fit_multinomialnb_and_predict(train_x, train_y, test_x)\n",
        "accuracy_twitterdf = accuracy_score(test_y, predicty_twitter_augmented_df)\n",
        "print(\"Accuracy of augmented Dataframe by using MultinomialNB: {} %\".format(accuracy_twitterdf*100))\n",
        "x.append(train_x.shape[0])\n",
        "y.append(accuracy_twitterdf)"
      ],
      "metadata": {
        "colab": {
          "base_uri": "https://localhost:8080/"
        },
        "id": "N9rmGYbl7OiG",
        "outputId": "8e1ec586-4b74-4fbb-8c71-9dcd6d4d569f"
      },
      "execution_count": null,
      "outputs": [
        {
          "output_type": "stream",
          "name": "stdout",
          "text": [
            "Accuracy of augmented Dataframe by using MultinomialNB: 80.94575799721837 %\n"
          ]
        }
      ]
    },
    {
      "cell_type": "code",
      "source": [
        "Plot_confusion_matrix(test_y, predicty_twitter_augmented_df)"
      ],
      "metadata": {
        "colab": {
          "base_uri": "https://localhost:8080/",
          "height": 279
        },
        "id": "cRIrtMGH7mS6",
        "outputId": "9218cd48-ef2b-4112-d5d8-8fdf3783f1ed"
      },
      "execution_count": null,
      "outputs": [
        {
          "output_type": "display_data",
          "data": {
            "text/plain": [
              "<Figure size 432x288 with 2 Axes>"
            ],
            "image/png": "[encoded data removed]"
          },
          "metadata": {
            "needs_background": "light"
          }
        }
      ]
    },
    {
      "cell_type": "markdown",
      "source": [
        "### `Concating augmented data with `"
      ],
      "metadata": {
        "id": "PbXeGZj976im"
      }
    },
    {
      "cell_type": "code",
      "source": [
        "concatdf = pd.concat([twitter_df, twitter_augmented_df])\n",
        "concatdf.shape"
      ],
      "metadata": {
        "colab": {
          "base_uri": "https://localhost:8080/"
        },
        "id": "RsCzXQ3o70D1",
        "outputId": "d3550435-7c0e-4a86-d21b-48214c58af06"
      },
      "execution_count": null,
      "outputs": [
        {
          "output_type": "execute_result",
          "data": {
            "text/plain": [
              "(4794, 7)"
            ]
          },
          "metadata": {},
          "execution_count": 48
        }
      ]
    },
    {
      "cell_type": "code",
      "source": [
        "X = concatdf['OriginalTweet']\n",
        "Y = concatdf['Sentiment']\n",
        "train_x, test_x, train_y, test_y = divide_into_train_test(X, Y)\n",
        "train_x.shape, test_x.shape, train_y.shape, test_y.shape"
      ],
      "metadata": {
        "colab": {
          "base_uri": "https://localhost:8080/"
        },
        "id": "-XqBY-km8n04",
        "outputId": "4cc0e9d7-a36f-4c20-8e5e-243d8e3f8a0c"
      },
      "execution_count": null,
      "outputs": [
        {
          "output_type": "execute_result",
          "data": {
            "text/plain": [
              "((3835,), (959,), (3835,), (959,))"
            ]
          },
          "metadata": {},
          "execution_count": 50
        }
      ]
    },
    {
      "cell_type": "code",
      "source": [
        "train_x, test_x = vectorize(train_x, test_x)\n",
        "train_x.shape, test_x.shape"
      ],
      "metadata": {
        "colab": {
          "base_uri": "https://localhost:8080/"
        },
        "id": "kRoATH7J98_-",
        "outputId": "870e8fd2-2a5d-470d-bc9c-d2867f764e89"
      },
      "execution_count": null,
      "outputs": [
        {
          "output_type": "execute_result",
          "data": {
            "text/plain": [
              "((3835, 8428), (959, 8428))"
            ]
          },
          "metadata": {},
          "execution_count": 51
        }
      ]
    },
    {
      "cell_type": "code",
      "source": [
        "predicty_augment_df = fit_multinomialnb_and_predict(train_x, train_y, test_x)\n",
        "accuracy_augmented = accuracy_score(test_y, predicty_augment_df)\n",
        "print(\"Accuracy of augmented Dataframe by using MultinomialNB: {} %\".format(accuracy_augmented*100))\n",
        "x.append(train_x.shape[0])\n",
        "y.append(accuracy_augmented)"
      ],
      "metadata": {
        "colab": {
          "base_uri": "https://localhost:8080/"
        },
        "id": "TWEs5yyq-LK-",
        "outputId": "cc40bb18-cf8c-4396-85b0-a10cf62d2c3e"
      },
      "execution_count": null,
      "outputs": [
        {
          "output_type": "stream",
          "name": "stdout",
          "text": [
            "Accuracy of augmented Dataframe by using MultinomialNB: 88.84254431699688 %\n"
          ]
        }
      ]
    },
    {
      "cell_type": "code",
      "source": [
        "Plot_confusion_matrix(test_y, predicty_augment_df)"
      ],
      "metadata": {
        "colab": {
          "base_uri": "https://localhost:8080/",
          "height": 279
        },
        "id": "ugIE1_-n-bR8",
        "outputId": "7a5dd274-625b-4382-82ae-921f1be735d8"
      },
      "execution_count": null,
      "outputs": [
        {
          "output_type": "display_data",
          "data": {
            "text/plain": [
              "<Figure size 432x288 with 2 Axes>"
            ],
            "image/png": "[encoded data removed]"
          },
          "metadata": {
            "needs_background": "light"
          }
        }
      ]
    },
    {
      "cell_type": "markdown",
      "source": [
        "### `Comparision for twitter sentiment analysis`"
      ],
      "metadata": {
        "id": "I9h9C7GW-eyf"
      }
    },
    {
      "cell_type": "code",
      "source": [
        "plt.scatter(x, y, s=100)\n",
        "plt.plot(x, y)\n",
        "plt.title('Total vs Accuracy on Twitter sentiment analysis')\n",
        "plt.colorbar()\n",
        "plt.xlabel('Number of Data')\n",
        "plt.ylabel('Accuracy ')\n",
        "plt.show()"
      ],
      "metadata": {
        "colab": {
          "base_uri": "https://localhost:8080/",
          "height": 295
        },
        "id": "4ZlZyQ05-dzM",
        "outputId": "b0d50bb7-d580-4928-f3b2-a4b3a98917e6"
      },
      "execution_count": null,
      "outputs": [
        {
          "output_type": "display_data",
          "data": {
            "text/plain": [
              "<Figure size 432x288 with 2 Axes>"
            ],
            "image/png": "[encoded data removed]"
          },
          "metadata": {
            "needs_background": "light"
          }
        }
      ]
    },
    {
      "cell_type": "markdown",
      "metadata": {
        "id": "QM4FhzFHC0wo"
      },
      "source": [
        "### `New section`"
      ]
    },
    {
      "cell_type": "markdown",
      "metadata": {
        "id": "BG-Mz33cMrAd"
      },
      "source": []
    },
    {
      "cell_type": "code",
      "execution_count": null,
      "metadata": {
        "id": "wDnfM2ixZu8a"
      },
      "outputs": [],
      "source": [
        "# Created a common function to plot confusion matrix\n",
        "def Plot_confusion_matrix(y_test, pred_test):\n",
        "  cm = confusion_matrix(y_test, pred_test)\n",
        "  plt.clf()\n",
        "  plt.imshow(cm, interpolation='nearest', cmap=plt.cm.Accent)\n",
        "  categoryNames = ['Ham','Spam']\n",
        "  plt.title('Confusion Matrix - Test Data')\n",
        "  plt.ylabel('True label')\n",
        "  plt.xlabel('Predicted label')\n",
        "  ticks = np.arange(len(categoryNames))\n",
        "  plt.xticks(ticks, categoryNames, rotation=45)\n",
        "  plt.yticks(ticks, categoryNames)\n",
        "  s = [['TN','FP'], ['FN', 'TP']]\n",
        "\n",
        "  for i in range(2):\n",
        "      for j in range(2):\n",
        "          plt.text(j,i, str(s[i][j])+\" = \"+str(cm[i][j]),fontsize=12)\n",
        "  plt.show()"
      ]
    }
  ],
  "metadata": {
    "colab": {
      "provenance": [],
      "mount_file_id": "1Sr2DKeALcCHav_kRtX25XV_xZR2D1Vly",
      "authorship_tag": "ABX9TyPUrDWwT2doY5MX4ME2e356",
      "include_colab_link": true
    },
    "gpuClass": "standard",
    "kernelspec": {
      "display_name": "Python 3",
      "name": "python3"
    },
    "language_info": {
      "name": "python"
    },
    "widgets": {
      "application/vnd.jupyter.widget-state+json": {
        "009999a357dd4b9daa275f0181f38b63": {
          "model_module": "@jupyter-widgets/controls",
          "model_module_version": "1.5.0",
          "model_name": "DescriptionStyleModel",
          "state": {
            "_model_module": "@jupyter-widgets/controls",
            "_model_module_version": "1.5.0",
            "_model_name": "DescriptionStyleModel",
            "_view_count": null,
            "_view_module": "@jupyter-widgets/base",
            "_view_module_version": "1.2.0",
            "_view_name": "StyleView",
            "description_width": ""
          }
        },
        "01281c0e6abc4069a99d7d35150df9a2": {
          "model_module": "@jupyter-widgets/controls",
          "model_module_version": "1.5.0",
          "model_name": "FloatProgressModel",
          "state": {
            "_dom_classes": [],
            "_model_module": "@jupyter-widgets/controls",
            "_model_module_version": "1.5.0",
            "_model_name": "FloatProgressModel",
            "_view_count": null,
            "_view_module": "@jupyter-widgets/controls",
            "_view_module_version": "1.5.0",
            "_view_name": "ProgressView",
            "bar_style": "success",
            "description": "",
            "description_tooltip": null,
            "layout": "IPY_MODEL_d7ca39a278554968aa2fb7ea556aa874",
            "max": 331070498,
            "min": 0,
            "orientation": "horizontal",
            "style": "IPY_MODEL_2ceae2a4c94d45f994aaf78d0ac34e72",
            "value": 331070498
          }
        },
        "03d2b0d95ec6406689daeaa373286344": {
          "model_module": "@jupyter-widgets/controls",
          "model_module_version": "1.5.0",
          "model_name": "DescriptionStyleModel",
          "state": {
            "_model_module": "@jupyter-widgets/controls",
            "_model_module_version": "1.5.0",
            "_model_name": "DescriptionStyleModel",
            "_view_count": null,
            "_view_module": "@jupyter-widgets/base",
            "_view_module_version": "1.2.0",
            "_view_name": "StyleView",
            "description_width": ""
          }
        },
        "04b7eff7aaca4816b46c860d0215ee13": {
          "model_module": "@jupyter-widgets/base",
          "model_module_version": "1.2.0",
          "model_name": "LayoutModel",
          "state": {
            "_model_module": "@jupyter-widgets/base",
            "_model_module_version": "1.2.0",
            "_model_name": "LayoutModel",
            "_view_count": null,
            "_view_module": "@jupyter-widgets/base",
            "_view_module_version": "1.2.0",
            "_view_name": "LayoutView",
            "align_content": null,
            "align_items": null,
            "align_self": null,
            "border": null,
            "bottom": null,
            "display": null,
            "flex": null,
            "flex_flow": null,
            "grid_area": null,
            "grid_auto_columns": null,
            "grid_auto_flow": null,
            "grid_auto_rows": null,
            "grid_column": null,
            "grid_gap": null,
            "grid_row": null,
            "grid_template_areas": null,
            "grid_template_columns": null,
            "grid_template_rows": null,
            "height": null,
            "justify_content": null,
            "justify_items": null,
            "left": null,
            "margin": null,
            "max_height": null,
            "max_width": null,
            "min_height": null,
            "min_width": null,
            "object_fit": null,
            "object_position": null,
            "order": null,
            "overflow": null,
            "overflow_x": null,
            "overflow_y": null,
            "padding": null,
            "right": null,
            "top": null,
            "visibility": null,
            "width": null
          }
        },
        "068b0d3eeb4442549bd832317b793f85": {
          "model_module": "@jupyter-widgets/controls",
          "model_module_version": "1.5.0",
          "model_name": "HTMLModel",
          "state": {
            "_dom_classes": [],
            "_model_module": "@jupyter-widgets/controls",
            "_model_module_version": "1.5.0",
            "_model_name": "HTMLModel",
            "_view_count": null,
            "_view_module": "@jupyter-widgets/controls",
            "_view_module_version": "1.5.0",
            "_view_name": "HTMLView",
            "description": "",
            "description_tooltip": null,
            "layout": "IPY_MODEL_7d8b340a108740f7bbcc47a0c349e4b0",
            "placeholder": "​",
            "style": "IPY_MODEL_d64d4c17a57a48c9977e85a7a7a1defe",
            "value": " 480/480 [00:00&lt;00:00, 14.9kB/s]"
          }
        },
        "0bc25f162ac54a44bf5d63a7f8d0f468": {
          "model_module": "@jupyter-widgets/base",
          "model_module_version": "1.2.0",
          "model_name": "LayoutModel",
          "state": {
            "_model_module": "@jupyter-widgets/base",
            "_model_module_version": "1.2.0",
            "_model_name": "LayoutModel",
            "_view_count": null,
            "_view_module": "@jupyter-widgets/base",
            "_view_module_version": "1.2.0",
            "_view_name": "LayoutView",
            "align_content": null,
            "align_items": null,
            "align_self": null,
            "border": null,
            "bottom": null,
            "display": null,
            "flex": null,
            "flex_flow": null,
            "grid_area": null,
            "grid_auto_columns": null,
            "grid_auto_flow": null,
            "grid_auto_rows": null,
            "grid_column": null,
            "grid_gap": null,
            "grid_row": null,
            "grid_template_areas": null,
            "grid_template_columns": null,
            "grid_template_rows": null,
            "height": null,
            "justify_content": null,
            "justify_items": null,
            "left": null,
            "margin": null,
            "max_height": null,
            "max_width": null,
            "min_height": null,
            "min_width": null,
            "object_fit": null,
            "object_position": null,
            "order": null,
            "overflow": null,
            "overflow_x": null,
            "overflow_y": null,
            "padding": null,
            "right": null,
            "top": null,
            "visibility": null,
            "width": null
          }
        },
        "10b0bc87cbc64752aef37ff962ddb36e": {
          "model_module": "@jupyter-widgets/controls",
          "model_module_version": "1.5.0",
          "model_name": "HTMLModel",
          "state": {
            "_dom_classes": [],
            "_model_module": "@jupyter-widgets/controls",
            "_model_module_version": "1.5.0",
            "_model_name": "HTMLModel",
            "_view_count": null,
            "_view_module": "@jupyter-widgets/controls",
            "_view_module_version": "1.5.0",
            "_view_name": "HTMLView",
            "description": "",
            "description_tooltip": null,
            "layout": "IPY_MODEL_d1ca1f4281a440f98c13866997c9ed60",
            "placeholder": "​",
            "style": "IPY_MODEL_1ee571f8438e43cba4ed8f0be9ba1e19",
            "value": "Downloading: 100%"
          }
        },
        "1ee571f8438e43cba4ed8f0be9ba1e19": {
          "model_module": "@jupyter-widgets/controls",
          "model_module_version": "1.5.0",
          "model_name": "DescriptionStyleModel",
          "state": {
            "_model_module": "@jupyter-widgets/controls",
            "_model_module_version": "1.5.0",
            "_model_name": "DescriptionStyleModel",
            "_view_count": null,
            "_view_module": "@jupyter-widgets/base",
            "_view_module_version": "1.2.0",
            "_view_name": "StyleView",
            "description_width": ""
          }
        },
        "2ceae2a4c94d45f994aaf78d0ac34e72": {
          "model_module": "@jupyter-widgets/controls",
          "model_module_version": "1.5.0",
          "model_name": "ProgressStyleModel",
          "state": {
            "_model_module": "@jupyter-widgets/controls",
            "_model_module_version": "1.5.0",
            "_model_name": "ProgressStyleModel",
            "_view_count": null,
            "_view_module": "@jupyter-widgets/base",
            "_view_module_version": "1.2.0",
            "_view_name": "StyleView",
            "bar_color": null,
            "description_width": ""
          }
        },
        "30c4026268014fc09d3b709865fb23f1": {
          "model_module": "@jupyter-widgets/controls",
          "model_module_version": "1.5.0",
          "model_name": "ProgressStyleModel",
          "state": {
            "_model_module": "@jupyter-widgets/controls",
            "_model_module_version": "1.5.0",
            "_model_name": "ProgressStyleModel",
            "_view_count": null,
            "_view_module": "@jupyter-widgets/base",
            "_view_module_version": "1.2.0",
            "_view_name": "StyleView",
            "bar_color": null,
            "description_width": ""
          }
        },
        "32a89a0000484cc4a55fe8adbfbef2e7": {
          "model_module": "@jupyter-widgets/controls",
          "model_module_version": "1.5.0",
          "model_name": "FloatProgressModel",
          "state": {
            "_dom_classes": [],
            "_model_module": "@jupyter-widgets/controls",
            "_model_module_version": "1.5.0",
            "_model_name": "FloatProgressModel",
            "_view_count": null,
            "_view_module": "@jupyter-widgets/controls",
            "_view_module_version": "1.5.0",
            "_view_name": "ProgressView",
            "bar_style": "success",
            "description": "",
            "description_tooltip": null,
            "layout": "IPY_MODEL_0bc25f162ac54a44bf5d63a7f8d0f468",
            "max": 898823,
            "min": 0,
            "orientation": "horizontal",
            "style": "IPY_MODEL_5b2c2f271aad46838843b8875746c8ea",
            "value": 898823
          }
        },
        "39eaa647758f43bfb9ee9de669c9ddef": {
          "model_module": "@jupyter-widgets/controls",
          "model_module_version": "1.5.0",
          "model_name": "HTMLModel",
          "state": {
            "_dom_classes": [],
            "_model_module": "@jupyter-widgets/controls",
            "_model_module_version": "1.5.0",
            "_model_name": "HTMLModel",
            "_view_count": null,
            "_view_module": "@jupyter-widgets/controls",
            "_view_module_version": "1.5.0",
            "_view_name": "HTMLView",
            "description": "",
            "description_tooltip": null,
            "layout": "IPY_MODEL_7e5d07df7eea4ae8acc42a069f1fce1b",
            "placeholder": "​",
            "style": "IPY_MODEL_7297e721d2314c90bf44319e402a7eb9",
            "value": "Downloading: 100%"
          }
        },
        "3bd8866555384a91ba5a48cd0ab8cf27": {
          "model_module": "@jupyter-widgets/base",
          "model_module_version": "1.2.0",
          "model_name": "LayoutModel",
          "state": {
            "_model_module": "@jupyter-widgets/base",
            "_model_module_version": "1.2.0",
            "_model_name": "LayoutModel",
            "_view_count": null,
            "_view_module": "@jupyter-widgets/base",
            "_view_module_version": "1.2.0",
            "_view_name": "LayoutView",
            "align_content": null,
            "align_items": null,
            "align_self": null,
            "border": null,
            "bottom": null,
            "display": null,
            "flex": null,
            "flex_flow": null,
            "grid_area": null,
            "grid_auto_columns": null,
            "grid_auto_flow": null,
            "grid_auto_rows": null,
            "grid_column": null,
            "grid_gap": null,
            "grid_row": null,
            "grid_template_areas": null,
            "grid_template_columns": null,
            "grid_template_rows": null,
            "height": null,
            "justify_content": null,
            "justify_items": null,
            "left": null,
            "margin": null,
            "max_height": null,
            "max_width": null,
            "min_height": null,
            "min_width": null,
            "object_fit": null,
            "object_position": null,
            "order": null,
            "overflow": null,
            "overflow_x": null,
            "overflow_y": null,
            "padding": null,
            "right": null,
            "top": null,
            "visibility": null,
            "width": null
          }
        },
        "42750d8028a54e11a340969bfaebb74f": {
          "model_module": "@jupyter-widgets/controls",
          "model_module_version": "1.5.0",
          "model_name": "HBoxModel",
          "state": {
            "_dom_classes": [],
            "_model_module": "@jupyter-widgets/controls",
            "_model_module_version": "1.5.0",
            "_model_name": "HBoxModel",
            "_view_count": null,
            "_view_module": "@jupyter-widgets/controls",
            "_view_module_version": "1.5.0",
            "_view_name": "HBoxView",
            "box_style": "",
            "children": [
              "IPY_MODEL_d63b5b1c8e86480b836c2d5dd468ac5c",
              "IPY_MODEL_32a89a0000484cc4a55fe8adbfbef2e7",
              "IPY_MODEL_68178b54972449fbac5046c51571b056"
            ],
            "layout": "IPY_MODEL_8dc2e0737c0c4fca9713fe0122a37f10"
          }
        },
        "42769921b03644ba9ceff7abfdd442ca": {
          "model_module": "@jupyter-widgets/controls",
          "model_module_version": "1.5.0",
          "model_name": "DescriptionStyleModel",
          "state": {
            "_model_module": "@jupyter-widgets/controls",
            "_model_module_version": "1.5.0",
            "_model_name": "DescriptionStyleModel",
            "_view_count": null,
            "_view_module": "@jupyter-widgets/base",
            "_view_module_version": "1.2.0",
            "_view_name": "StyleView",
            "description_width": ""
          }
        },
        "44886a3b54ee43f59107a090bd679f96": {
          "model_module": "@jupyter-widgets/base",
          "model_module_version": "1.2.0",
          "model_name": "LayoutModel",
          "state": {
            "_model_module": "@jupyter-widgets/base",
            "_model_module_version": "1.2.0",
            "_model_name": "LayoutModel",
            "_view_count": null,
            "_view_module": "@jupyter-widgets/base",
            "_view_module_version": "1.2.0",
            "_view_name": "LayoutView",
            "align_content": null,
            "align_items": null,
            "align_self": null,
            "border": null,
            "bottom": null,
            "display": null,
            "flex": null,
            "flex_flow": null,
            "grid_area": null,
            "grid_auto_columns": null,
            "grid_auto_flow": null,
            "grid_auto_rows": null,
            "grid_column": null,
            "grid_gap": null,
            "grid_row": null,
            "grid_template_areas": null,
            "grid_template_columns": null,
            "grid_template_rows": null,
            "height": null,
            "justify_content": null,
            "justify_items": null,
            "left": null,
            "margin": null,
            "max_height": null,
            "max_width": null,
            "min_height": null,
            "min_width": null,
            "object_fit": null,
            "object_position": null,
            "order": null,
            "overflow": null,
            "overflow_x": null,
            "overflow_y": null,
            "padding": null,
            "right": null,
            "top": null,
            "visibility": null,
            "width": null
          }
        },
        "4b3b0bcb6be54d5b808f2e3637b3bc4d": {
          "model_module": "@jupyter-widgets/controls",
          "model_module_version": "1.5.0",
          "model_name": "DescriptionStyleModel",
          "state": {
            "_model_module": "@jupyter-widgets/controls",
            "_model_module_version": "1.5.0",
            "_model_name": "DescriptionStyleModel",
            "_view_count": null,
            "_view_module": "@jupyter-widgets/base",
            "_view_module_version": "1.2.0",
            "_view_name": "StyleView",
            "description_width": ""
          }
        },
        "4e6b9fa2ac9d4c02a1c823781c41b1a2": {
          "model_module": "@jupyter-widgets/base",
          "model_module_version": "1.2.0",
          "model_name": "LayoutModel",
          "state": {
            "_model_module": "@jupyter-widgets/base",
            "_model_module_version": "1.2.0",
            "_model_name": "LayoutModel",
            "_view_count": null,
            "_view_module": "@jupyter-widgets/base",
            "_view_module_version": "1.2.0",
            "_view_name": "LayoutView",
            "align_content": null,
            "align_items": null,
            "align_self": null,
            "border": null,
            "bottom": null,
            "display": null,
            "flex": null,
            "flex_flow": null,
            "grid_area": null,
            "grid_auto_columns": null,
            "grid_auto_flow": null,
            "grid_auto_rows": null,
            "grid_column": null,
            "grid_gap": null,
            "grid_row": null,
            "grid_template_areas": null,
            "grid_template_columns": null,
            "grid_template_rows": null,
            "height": null,
            "justify_content": null,
            "justify_items": null,
            "left": null,
            "margin": null,
            "max_height": null,
            "max_width": null,
            "min_height": null,
            "min_width": null,
            "object_fit": null,
            "object_position": null,
            "order": null,
            "overflow": null,
            "overflow_x": null,
            "overflow_y": null,
            "padding": null,
            "right": null,
            "top": null,
            "visibility": null,
            "width": null
          }
        },
        "517ef8bc23de4bab8d2d4f29bc9c7e70": {
          "model_module": "@jupyter-widgets/controls",
          "model_module_version": "1.5.0",
          "model_name": "DescriptionStyleModel",
          "state": {
            "_model_module": "@jupyter-widgets/controls",
            "_model_module_version": "1.5.0",
            "_model_name": "DescriptionStyleModel",
            "_view_count": null,
            "_view_module": "@jupyter-widgets/base",
            "_view_module_version": "1.2.0",
            "_view_name": "StyleView",
            "description_width": ""
          }
        },
        "519c7a6164414eb18298af4b2c9df4f3": {
          "model_module": "@jupyter-widgets/base",
          "model_module_version": "1.2.0",
          "model_name": "LayoutModel",
          "state": {
            "_model_module": "@jupyter-widgets/base",
            "_model_module_version": "1.2.0",
            "_model_name": "LayoutModel",
            "_view_count": null,
            "_view_module": "@jupyter-widgets/base",
            "_view_module_version": "1.2.0",
            "_view_name": "LayoutView",
            "align_content": null,
            "align_items": null,
            "align_self": null,
            "border": null,
            "bottom": null,
            "display": null,
            "flex": null,
            "flex_flow": null,
            "grid_area": null,
            "grid_auto_columns": null,
            "grid_auto_flow": null,
            "grid_auto_rows": null,
            "grid_column": null,
            "grid_gap": null,
            "grid_row": null,
            "grid_template_areas": null,
            "grid_template_columns": null,
            "grid_template_rows": null,
            "height": null,
            "justify_content": null,
            "justify_items": null,
            "left": null,
            "margin": null,
            "max_height": null,
            "max_width": null,
            "min_height": null,
            "min_width": null,
            "object_fit": null,
            "object_position": null,
            "order": null,
            "overflow": null,
            "overflow_x": null,
            "overflow_y": null,
            "padding": null,
            "right": null,
            "top": null,
            "visibility": null,
            "width": null
          }
        },
        "5a1755e80a014c75a7c78c06ffaf2ff8": {
          "model_module": "@jupyter-widgets/base",
          "model_module_version": "1.2.0",
          "model_name": "LayoutModel",
          "state": {
            "_model_module": "@jupyter-widgets/base",
            "_model_module_version": "1.2.0",
            "_model_name": "LayoutModel",
            "_view_count": null,
            "_view_module": "@jupyter-widgets/base",
            "_view_module_version": "1.2.0",
            "_view_name": "LayoutView",
            "align_content": null,
            "align_items": null,
            "align_self": null,
            "border": null,
            "bottom": null,
            "display": null,
            "flex": null,
            "flex_flow": null,
            "grid_area": null,
            "grid_auto_columns": null,
            "grid_auto_flow": null,
            "grid_auto_rows": null,
            "grid_column": null,
            "grid_gap": null,
            "grid_row": null,
            "grid_template_areas": null,
            "grid_template_columns": null,
            "grid_template_rows": null,
            "height": null,
            "justify_content": null,
            "justify_items": null,
            "left": null,
            "margin": null,
            "max_height": null,
            "max_width": null,
            "min_height": null,
            "min_width": null,
            "object_fit": null,
            "object_position": null,
            "order": null,
            "overflow": null,
            "overflow_x": null,
            "overflow_y": null,
            "padding": null,
            "right": null,
            "top": null,
            "visibility": null,
            "width": null
          }
        },
        "5b2c2f271aad46838843b8875746c8ea": {
          "model_module": "@jupyter-widgets/controls",
          "model_module_version": "1.5.0",
          "model_name": "ProgressStyleModel",
          "state": {
            "_model_module": "@jupyter-widgets/controls",
            "_model_module_version": "1.5.0",
            "_model_name": "ProgressStyleModel",
            "_view_count": null,
            "_view_module": "@jupyter-widgets/base",
            "_view_module_version": "1.2.0",
            "_view_name": "StyleView",
            "bar_color": null,
            "description_width": ""
          }
        },
        "5c206fe4070744f1b1d356bbca014a96": {
          "model_module": "@jupyter-widgets/controls",
          "model_module_version": "1.5.0",
          "model_name": "HBoxModel",
          "state": {
            "_dom_classes": [],
            "_model_module": "@jupyter-widgets/controls",
            "_model_module_version": "1.5.0",
            "_model_name": "HBoxModel",
            "_view_count": null,
            "_view_module": "@jupyter-widgets/controls",
            "_view_module_version": "1.5.0",
            "_view_name": "HBoxView",
            "box_style": "",
            "children": [
              "IPY_MODEL_e4621e7bab904629ae36f307e7ecccf9",
              "IPY_MODEL_7eb7c3b09a384331b527a61ea2613e04",
              "IPY_MODEL_e721917ab9f64451b7dd1e23fd0948b6"
            ],
            "layout": "IPY_MODEL_efbf0903630242ddb4022e67084f97f0"
          }
        },
        "6362360730234c1783ab3fce934c5070": {
          "model_module": "@jupyter-widgets/controls",
          "model_module_version": "1.5.0",
          "model_name": "FloatProgressModel",
          "state": {
            "_dom_classes": [],
            "_model_module": "@jupyter-widgets/controls",
            "_model_module_version": "1.5.0",
            "_model_name": "FloatProgressModel",
            "_view_count": null,
            "_view_module": "@jupyter-widgets/controls",
            "_view_module_version": "1.5.0",
            "_view_name": "ProgressView",
            "bar_style": "success",
            "description": "",
            "description_tooltip": null,
            "layout": "IPY_MODEL_af293f00ca78498699e5e0072ed47730",
            "max": 75175004,
            "min": 0,
            "orientation": "horizontal",
            "style": "IPY_MODEL_780732dc255e4b38aa9924e311e95012",
            "value": 75175004
          }
        },
        "68178b54972449fbac5046c51571b056": {
          "model_module": "@jupyter-widgets/controls",
          "model_module_version": "1.5.0",
          "model_name": "HTMLModel",
          "state": {
            "_dom_classes": [],
            "_model_module": "@jupyter-widgets/controls",
            "_model_module_version": "1.5.0",
            "_model_name": "HTMLModel",
            "_view_count": null,
            "_view_module": "@jupyter-widgets/controls",
            "_view_module_version": "1.5.0",
            "_view_name": "HTMLView",
            "description": "",
            "description_tooltip": null,
            "layout": "IPY_MODEL_90ce873304204cf9ba72c9e495406d79",
            "placeholder": "​",
            "style": "IPY_MODEL_febfc87725774dc8a8e39368dd4aeef2",
            "value": " 899k/899k [00:00&lt;00:00, 2.82MB/s]"
          }
        },
        "6db38c64d3954eaeb788551386e45fd5": {
          "model_module": "@jupyter-widgets/controls",
          "model_module_version": "1.5.0",
          "model_name": "HBoxModel",
          "state": {
            "_dom_classes": [],
            "_model_module": "@jupyter-widgets/controls",
            "_model_module_version": "1.5.0",
            "_model_name": "HBoxModel",
            "_view_count": null,
            "_view_module": "@jupyter-widgets/controls",
            "_view_module_version": "1.5.0",
            "_view_name": "HBoxView",
            "box_style": "",
            "children": [
              "IPY_MODEL_39eaa647758f43bfb9ee9de669c9ddef",
              "IPY_MODEL_6362360730234c1783ab3fce934c5070",
              "IPY_MODEL_f4b4a2ea1175446a98ab0d7b67aff590"
            ],
            "layout": "IPY_MODEL_73412b4677c74310b143e700e6c9bbf6"
          }
        },
        "7297e721d2314c90bf44319e402a7eb9": {
          "model_module": "@jupyter-widgets/controls",
          "model_module_version": "1.5.0",
          "model_name": "DescriptionStyleModel",
          "state": {
            "_model_module": "@jupyter-widgets/controls",
            "_model_module_version": "1.5.0",
            "_model_name": "DescriptionStyleModel",
            "_view_count": null,
            "_view_module": "@jupyter-widgets/base",
            "_view_module_version": "1.2.0",
            "_view_name": "StyleView",
            "description_width": ""
          }
        },
        "7318611bdf61463e80b62d7da73b1449": {
          "model_module": "@jupyter-widgets/controls",
          "model_module_version": "1.5.0",
          "model_name": "FloatProgressModel",
          "state": {
            "_dom_classes": [],
            "_model_module": "@jupyter-widgets/controls",
            "_model_module_version": "1.5.0",
            "_model_name": "FloatProgressModel",
            "_view_count": null,
            "_view_module": "@jupyter-widgets/controls",
            "_view_module_version": "1.5.0",
            "_view_name": "ProgressView",
            "bar_style": "success",
            "description": "",
            "description_tooltip": null,
            "layout": "IPY_MODEL_b92c481a9a1f45bebe4e59d0886cdb8d",
            "max": 456318,
            "min": 0,
            "orientation": "horizontal",
            "style": "IPY_MODEL_fb026c8c1ab24f119420b1acdcd3b942",
            "value": 456318
          }
        },
        "73412b4677c74310b143e700e6c9bbf6": {
          "model_module": "@jupyter-widgets/base",
          "model_module_version": "1.2.0",
          "model_name": "LayoutModel",
          "state": {
            "_model_module": "@jupyter-widgets/base",
            "_model_module_version": "1.2.0",
            "_model_name": "LayoutModel",
            "_view_count": null,
            "_view_module": "@jupyter-widgets/base",
            "_view_module_version": "1.2.0",
            "_view_name": "LayoutView",
            "align_content": null,
            "align_items": null,
            "align_self": null,
            "border": null,
            "bottom": null,
            "display": null,
            "flex": null,
            "flex_flow": null,
            "grid_area": null,
            "grid_auto_columns": null,
            "grid_auto_flow": null,
            "grid_auto_rows": null,
            "grid_column": null,
            "grid_gap": null,
            "grid_row": null,
            "grid_template_areas": null,
            "grid_template_columns": null,
            "grid_template_rows": null,
            "height": null,
            "justify_content": null,
            "justify_items": null,
            "left": null,
            "margin": null,
            "max_height": null,
            "max_width": null,
            "min_height": null,
            "min_width": null,
            "object_fit": null,
            "object_position": null,
            "order": null,
            "overflow": null,
            "overflow_x": null,
            "overflow_y": null,
            "padding": null,
            "right": null,
            "top": null,
            "visibility": null,
            "width": null
          }
        },
        "780732dc255e4b38aa9924e311e95012": {
          "model_module": "@jupyter-widgets/controls",
          "model_module_version": "1.5.0",
          "model_name": "ProgressStyleModel",
          "state": {
            "_model_module": "@jupyter-widgets/controls",
            "_model_module_version": "1.5.0",
            "_model_name": "ProgressStyleModel",
            "_view_count": null,
            "_view_module": "@jupyter-widgets/base",
            "_view_module_version": "1.2.0",
            "_view_name": "StyleView",
            "bar_color": null,
            "description_width": ""
          }
        },
        "78410673429a4bd981e6c77679fa8fdd": {
          "model_module": "@jupyter-widgets/controls",
          "model_module_version": "1.5.0",
          "model_name": "HTMLModel",
          "state": {
            "_dom_classes": [],
            "_model_module": "@jupyter-widgets/controls",
            "_model_module_version": "1.5.0",
            "_model_name": "HTMLModel",
            "_view_count": null,
            "_view_module": "@jupyter-widgets/controls",
            "_view_module_version": "1.5.0",
            "_view_name": "HTMLView",
            "description": "",
            "description_tooltip": null,
            "layout": "IPY_MODEL_04b7eff7aaca4816b46c860d0215ee13",
            "placeholder": "​",
            "style": "IPY_MODEL_03d2b0d95ec6406689daeaa373286344",
            "value": " 456k/456k [00:00&lt;00:00, 964kB/s]"
          }
        },
        "7d8b340a108740f7bbcc47a0c349e4b0": {
          "model_module": "@jupyter-widgets/base",
          "model_module_version": "1.2.0",
          "model_name": "LayoutModel",
          "state": {
            "_model_module": "@jupyter-widgets/base",
            "_model_module_version": "1.2.0",
            "_model_name": "LayoutModel",
            "_view_count": null,
            "_view_module": "@jupyter-widgets/base",
            "_view_module_version": "1.2.0",
            "_view_name": "LayoutView",
            "align_content": null,
            "align_items": null,
            "align_self": null,
            "border": null,
            "bottom": null,
            "display": null,
            "flex": null,
            "flex_flow": null,
            "grid_area": null,
            "grid_auto_columns": null,
            "grid_auto_flow": null,
            "grid_auto_rows": null,
            "grid_column": null,
            "grid_gap": null,
            "grid_row": null,
            "grid_template_areas": null,
            "grid_template_columns": null,
            "grid_template_rows": null,
            "height": null,
            "justify_content": null,
            "justify_items": null,
            "left": null,
            "margin": null,
            "max_height": null,
            "max_width": null,
            "min_height": null,
            "min_width": null,
            "object_fit": null,
            "object_position": null,
            "order": null,
            "overflow": null,
            "overflow_x": null,
            "overflow_y": null,
            "padding": null,
            "right": null,
            "top": null,
            "visibility": null,
            "width": null
          }
        },
        "7e5d07df7eea4ae8acc42a069f1fce1b": {
          "model_module": "@jupyter-widgets/base",
          "model_module_version": "1.2.0",
          "model_name": "LayoutModel",
          "state": {
            "_model_module": "@jupyter-widgets/base",
            "_model_module_version": "1.2.0",
            "_model_name": "LayoutModel",
            "_view_count": null,
            "_view_module": "@jupyter-widgets/base",
            "_view_module_version": "1.2.0",
            "_view_name": "LayoutView",
            "align_content": null,
            "align_items": null,
            "align_self": null,
            "border": null,
            "bottom": null,
            "display": null,
            "flex": null,
            "flex_flow": null,
            "grid_area": null,
            "grid_auto_columns": null,
            "grid_auto_flow": null,
            "grid_auto_rows": null,
            "grid_column": null,
            "grid_gap": null,
            "grid_row": null,
            "grid_template_areas": null,
            "grid_template_columns": null,
            "grid_template_rows": null,
            "height": null,
            "justify_content": null,
            "justify_items": null,
            "left": null,
            "margin": null,
            "max_height": null,
            "max_width": null,
            "min_height": null,
            "min_width": null,
            "object_fit": null,
            "object_position": null,
            "order": null,
            "overflow": null,
            "overflow_x": null,
            "overflow_y": null,
            "padding": null,
            "right": null,
            "top": null,
            "visibility": null,
            "width": null
          }
        },
        "7eb7c3b09a384331b527a61ea2613e04": {
          "model_module": "@jupyter-widgets/controls",
          "model_module_version": "1.5.0",
          "model_name": "FloatProgressModel",
          "state": {
            "_dom_classes": [],
            "_model_module": "@jupyter-widgets/controls",
            "_model_module_version": "1.5.0",
            "_model_name": "FloatProgressModel",
            "_view_count": null,
            "_view_module": "@jupyter-widgets/controls",
            "_view_module_version": "1.5.0",
            "_view_name": "ProgressView",
            "bar_style": "success",
            "description": "",
            "description_tooltip": null,
            "layout": "IPY_MODEL_f70c4c13545a42b5ae82bf12ce30199f",
            "max": 1355863,
            "min": 0,
            "orientation": "horizontal",
            "style": "IPY_MODEL_30c4026268014fc09d3b709865fb23f1",
            "value": 1355863
          }
        },
        "898a04958b5b4670bd66e118814e8f04": {
          "model_module": "@jupyter-widgets/controls",
          "model_module_version": "1.5.0",
          "model_name": "HTMLModel",
          "state": {
            "_dom_classes": [],
            "_model_module": "@jupyter-widgets/controls",
            "_model_module_version": "1.5.0",
            "_model_name": "HTMLModel",
            "_view_count": null,
            "_view_module": "@jupyter-widgets/controls",
            "_view_module_version": "1.5.0",
            "_view_name": "HTMLView",
            "description": "",
            "description_tooltip": null,
            "layout": "IPY_MODEL_bc4f5f8a43c54776a81cf61041accf05",
            "placeholder": "​",
            "style": "IPY_MODEL_42769921b03644ba9ceff7abfdd442ca",
            "value": "Downloading: 100%"
          }
        },
        "8dc2e0737c0c4fca9713fe0122a37f10": {
          "model_module": "@jupyter-widgets/base",
          "model_module_version": "1.2.0",
          "model_name": "LayoutModel",
          "state": {
            "_model_module": "@jupyter-widgets/base",
            "_model_module_version": "1.2.0",
            "_model_name": "LayoutModel",
            "_view_count": null,
            "_view_module": "@jupyter-widgets/base",
            "_view_module_version": "1.2.0",
            "_view_name": "LayoutView",
            "align_content": null,
            "align_items": null,
            "align_self": null,
            "border": null,
            "bottom": null,
            "display": null,
            "flex": null,
            "flex_flow": null,
            "grid_area": null,
            "grid_auto_columns": null,
            "grid_auto_flow": null,
            "grid_auto_rows": null,
            "grid_column": null,
            "grid_gap": null,
            "grid_row": null,
            "grid_template_areas": null,
            "grid_template_columns": null,
            "grid_template_rows": null,
            "height": null,
            "justify_content": null,
            "justify_items": null,
            "left": null,
            "margin": null,
            "max_height": null,
            "max_width": null,
            "min_height": null,
            "min_width": null,
            "object_fit": null,
            "object_position": null,
            "order": null,
            "overflow": null,
            "overflow_x": null,
            "overflow_y": null,
            "padding": null,
            "right": null,
            "top": null,
            "visibility": null,
            "width": null
          }
        },
        "90ce873304204cf9ba72c9e495406d79": {
          "model_module": "@jupyter-widgets/base",
          "model_module_version": "1.2.0",
          "model_name": "LayoutModel",
          "state": {
            "_model_module": "@jupyter-widgets/base",
            "_model_module_version": "1.2.0",
            "_model_name": "LayoutModel",
            "_view_count": null,
            "_view_module": "@jupyter-widgets/base",
            "_view_module_version": "1.2.0",
            "_view_name": "LayoutView",
            "align_content": null,
            "align_items": null,
            "align_self": null,
            "border": null,
            "bottom": null,
            "display": null,
            "flex": null,
            "flex_flow": null,
            "grid_area": null,
            "grid_auto_columns": null,
            "grid_auto_flow": null,
            "grid_auto_rows": null,
            "grid_column": null,
            "grid_gap": null,
            "grid_row": null,
            "grid_template_areas": null,
            "grid_template_columns": null,
            "grid_template_rows": null,
            "height": null,
            "justify_content": null,
            "justify_items": null,
            "left": null,
            "margin": null,
            "max_height": null,
            "max_width": null,
            "min_height": null,
            "min_width": null,
            "object_fit": null,
            "object_position": null,
            "order": null,
            "overflow": null,
            "overflow_x": null,
            "overflow_y": null,
            "padding": null,
            "right": null,
            "top": null,
            "visibility": null,
            "width": null
          }
        },
        "a3f8b880eaf440609add0726f3c6468e": {
          "model_module": "@jupyter-widgets/controls",
          "model_module_version": "1.5.0",
          "model_name": "HBoxModel",
          "state": {
            "_dom_classes": [],
            "_model_module": "@jupyter-widgets/controls",
            "_model_module_version": "1.5.0",
            "_model_name": "HBoxModel",
            "_view_count": null,
            "_view_module": "@jupyter-widgets/controls",
            "_view_module_version": "1.5.0",
            "_view_name": "HBoxView",
            "box_style": "",
            "children": [
              "IPY_MODEL_898a04958b5b4670bd66e118814e8f04",
              "IPY_MODEL_cb7d6fca5867468f9b804ffa59ab26aa",
              "IPY_MODEL_068b0d3eeb4442549bd832317b793f85"
            ],
            "layout": "IPY_MODEL_f63c231a26f040f7ab68f66ce48f2873"
          }
        },
        "af293f00ca78498699e5e0072ed47730": {
          "model_module": "@jupyter-widgets/base",
          "model_module_version": "1.2.0",
          "model_name": "LayoutModel",
          "state": {
            "_model_module": "@jupyter-widgets/base",
            "_model_module_version": "1.2.0",
            "_model_name": "LayoutModel",
            "_view_count": null,
            "_view_module": "@jupyter-widgets/base",
            "_view_module_version": "1.2.0",
            "_view_name": "LayoutView",
            "align_content": null,
            "align_items": null,
            "align_self": null,
            "border": null,
            "bottom": null,
            "display": null,
            "flex": null,
            "flex_flow": null,
            "grid_area": null,
            "grid_auto_columns": null,
            "grid_auto_flow": null,
            "grid_auto_rows": null,
            "grid_column": null,
            "grid_gap": null,
            "grid_row": null,
            "grid_template_areas": null,
            "grid_template_columns": null,
            "grid_template_rows": null,
            "height": null,
            "justify_content": null,
            "justify_items": null,
            "left": null,
            "margin": null,
            "max_height": null,
            "max_width": null,
            "min_height": null,
            "min_width": null,
            "object_fit": null,
            "object_position": null,
            "order": null,
            "overflow": null,
            "overflow_x": null,
            "overflow_y": null,
            "padding": null,
            "right": null,
            "top": null,
            "visibility": null,
            "width": null
          }
        },
        "b92c481a9a1f45bebe4e59d0886cdb8d": {
          "model_module": "@jupyter-widgets/base",
          "model_module_version": "1.2.0",
          "model_name": "LayoutModel",
          "state": {
            "_model_module": "@jupyter-widgets/base",
            "_model_module_version": "1.2.0",
            "_model_name": "LayoutModel",
            "_view_count": null,
            "_view_module": "@jupyter-widgets/base",
            "_view_module_version": "1.2.0",
            "_view_name": "LayoutView",
            "align_content": null,
            "align_items": null,
            "align_self": null,
            "border": null,
            "bottom": null,
            "display": null,
            "flex": null,
            "flex_flow": null,
            "grid_area": null,
            "grid_auto_columns": null,
            "grid_auto_flow": null,
            "grid_auto_rows": null,
            "grid_column": null,
            "grid_gap": null,
            "grid_row": null,
            "grid_template_areas": null,
            "grid_template_columns": null,
            "grid_template_rows": null,
            "height": null,
            "justify_content": null,
            "justify_items": null,
            "left": null,
            "margin": null,
            "max_height": null,
            "max_width": null,
            "min_height": null,
            "min_width": null,
            "object_fit": null,
            "object_position": null,
            "order": null,
            "overflow": null,
            "overflow_x": null,
            "overflow_y": null,
            "padding": null,
            "right": null,
            "top": null,
            "visibility": null,
            "width": null
          }
        },
        "ba20df5e09e14f8680c28ba01cbbc7c2": {
          "model_module": "@jupyter-widgets/controls",
          "model_module_version": "1.5.0",
          "model_name": "HBoxModel",
          "state": {
            "_dom_classes": [],
            "_model_module": "@jupyter-widgets/controls",
            "_model_module_version": "1.5.0",
            "_model_name": "HBoxModel",
            "_view_count": null,
            "_view_module": "@jupyter-widgets/controls",
            "_view_module_version": "1.5.0",
            "_view_name": "HBoxView",
            "box_style": "",
            "children": [
              "IPY_MODEL_10b0bc87cbc64752aef37ff962ddb36e",
              "IPY_MODEL_7318611bdf61463e80b62d7da73b1449",
              "IPY_MODEL_78410673429a4bd981e6c77679fa8fdd"
            ],
            "layout": "IPY_MODEL_44886a3b54ee43f59107a090bd679f96"
          }
        },
        "bc4f5f8a43c54776a81cf61041accf05": {
          "model_module": "@jupyter-widgets/base",
          "model_module_version": "1.2.0",
          "model_name": "LayoutModel",
          "state": {
            "_model_module": "@jupyter-widgets/base",
            "_model_module_version": "1.2.0",
            "_model_name": "LayoutModel",
            "_view_count": null,
            "_view_module": "@jupyter-widgets/base",
            "_view_module_version": "1.2.0",
            "_view_name": "LayoutView",
            "align_content": null,
            "align_items": null,
            "align_self": null,
            "border": null,
            "bottom": null,
            "display": null,
            "flex": null,
            "flex_flow": null,
            "grid_area": null,
            "grid_auto_columns": null,
            "grid_auto_flow": null,
            "grid_auto_rows": null,
            "grid_column": null,
            "grid_gap": null,
            "grid_row": null,
            "grid_template_areas": null,
            "grid_template_columns": null,
            "grid_template_rows": null,
            "height": null,
            "justify_content": null,
            "justify_items": null,
            "left": null,
            "margin": null,
            "max_height": null,
            "max_width": null,
            "min_height": null,
            "min_width": null,
            "object_fit": null,
            "object_position": null,
            "order": null,
            "overflow": null,
            "overflow_x": null,
            "overflow_y": null,
            "padding": null,
            "right": null,
            "top": null,
            "visibility": null,
            "width": null
          }
        },
        "bcc3674a428548fab9957fb72c7e26f7": {
          "model_module": "@jupyter-widgets/base",
          "model_module_version": "1.2.0",
          "model_name": "LayoutModel",
          "state": {
            "_model_module": "@jupyter-widgets/base",
            "_model_module_version": "1.2.0",
            "_model_name": "LayoutModel",
            "_view_count": null,
            "_view_module": "@jupyter-widgets/base",
            "_view_module_version": "1.2.0",
            "_view_name": "LayoutView",
            "align_content": null,
            "align_items": null,
            "align_self": null,
            "border": null,
            "bottom": null,
            "display": null,
            "flex": null,
            "flex_flow": null,
            "grid_area": null,
            "grid_auto_columns": null,
            "grid_auto_flow": null,
            "grid_auto_rows": null,
            "grid_column": null,
            "grid_gap": null,
            "grid_row": null,
            "grid_template_areas": null,
            "grid_template_columns": null,
            "grid_template_rows": null,
            "height": null,
            "justify_content": null,
            "justify_items": null,
            "left": null,
            "margin": null,
            "max_height": null,
            "max_width": null,
            "min_height": null,
            "min_width": null,
            "object_fit": null,
            "object_position": null,
            "order": null,
            "overflow": null,
            "overflow_x": null,
            "overflow_y": null,
            "padding": null,
            "right": null,
            "top": null,
            "visibility": null,
            "width": null
          }
        },
        "c69645e785d9426e981e86703ca1a058": {
          "model_module": "@jupyter-widgets/controls",
          "model_module_version": "1.5.0",
          "model_name": "DescriptionStyleModel",
          "state": {
            "_model_module": "@jupyter-widgets/controls",
            "_model_module_version": "1.5.0",
            "_model_name": "DescriptionStyleModel",
            "_view_count": null,
            "_view_module": "@jupyter-widgets/base",
            "_view_module_version": "1.2.0",
            "_view_name": "StyleView",
            "description_width": ""
          }
        },
        "c78dbe5c36b9482dabc7573ac7f04c03": {
          "model_module": "@jupyter-widgets/controls",
          "model_module_version": "1.5.0",
          "model_name": "ProgressStyleModel",
          "state": {
            "_model_module": "@jupyter-widgets/controls",
            "_model_module_version": "1.5.0",
            "_model_name": "ProgressStyleModel",
            "_view_count": null,
            "_view_module": "@jupyter-widgets/base",
            "_view_module_version": "1.2.0",
            "_view_name": "StyleView",
            "bar_color": null,
            "description_width": ""
          }
        },
        "cb7d6fca5867468f9b804ffa59ab26aa": {
          "model_module": "@jupyter-widgets/controls",
          "model_module_version": "1.5.0",
          "model_name": "FloatProgressModel",
          "state": {
            "_dom_classes": [],
            "_model_module": "@jupyter-widgets/controls",
            "_model_module_version": "1.5.0",
            "_model_name": "FloatProgressModel",
            "_view_count": null,
            "_view_module": "@jupyter-widgets/controls",
            "_view_module_version": "1.5.0",
            "_view_name": "ProgressView",
            "bar_style": "success",
            "description": "",
            "description_tooltip": null,
            "layout": "IPY_MODEL_5a1755e80a014c75a7c78c06ffaf2ff8",
            "max": 480,
            "min": 0,
            "orientation": "horizontal",
            "style": "IPY_MODEL_c78dbe5c36b9482dabc7573ac7f04c03",
            "value": 480
          }
        },
        "d1ca1f4281a440f98c13866997c9ed60": {
          "model_module": "@jupyter-widgets/base",
          "model_module_version": "1.2.0",
          "model_name": "LayoutModel",
          "state": {
            "_model_module": "@jupyter-widgets/base",
            "_model_module_version": "1.2.0",
            "_model_name": "LayoutModel",
            "_view_count": null,
            "_view_module": "@jupyter-widgets/base",
            "_view_module_version": "1.2.0",
            "_view_name": "LayoutView",
            "align_content": null,
            "align_items": null,
            "align_self": null,
            "border": null,
            "bottom": null,
            "display": null,
            "flex": null,
            "flex_flow": null,
            "grid_area": null,
            "grid_auto_columns": null,
            "grid_auto_flow": null,
            "grid_auto_rows": null,
            "grid_column": null,
            "grid_gap": null,
            "grid_row": null,
            "grid_template_areas": null,
            "grid_template_columns": null,
            "grid_template_rows": null,
            "height": null,
            "justify_content": null,
            "justify_items": null,
            "left": null,
            "margin": null,
            "max_height": null,
            "max_width": null,
            "min_height": null,
            "min_width": null,
            "object_fit": null,
            "object_position": null,
            "order": null,
            "overflow": null,
            "overflow_x": null,
            "overflow_y": null,
            "padding": null,
            "right": null,
            "top": null,
            "visibility": null,
            "width": null
          }
        },
        "d26a8abb269e456abea8d00fe5986f5b": {
          "model_module": "@jupyter-widgets/controls",
          "model_module_version": "1.5.0",
          "model_name": "HTMLModel",
          "state": {
            "_dom_classes": [],
            "_model_module": "@jupyter-widgets/controls",
            "_model_module_version": "1.5.0",
            "_model_name": "HTMLModel",
            "_view_count": null,
            "_view_module": "@jupyter-widgets/controls",
            "_view_module_version": "1.5.0",
            "_view_name": "HTMLView",
            "description": "",
            "description_tooltip": null,
            "layout": "IPY_MODEL_bcc3674a428548fab9957fb72c7e26f7",
            "placeholder": "​",
            "style": "IPY_MODEL_c69645e785d9426e981e86703ca1a058",
            "value": " 331M/331M [00:05&lt;00:00, 60.7MB/s]"
          }
        },
        "d63b5b1c8e86480b836c2d5dd468ac5c": {
          "model_module": "@jupyter-widgets/controls",
          "model_module_version": "1.5.0",
          "model_name": "HTMLModel",
          "state": {
            "_dom_classes": [],
            "_model_module": "@jupyter-widgets/controls",
            "_model_module_version": "1.5.0",
            "_model_name": "HTMLModel",
            "_view_count": null,
            "_view_module": "@jupyter-widgets/controls",
            "_view_module_version": "1.5.0",
            "_view_name": "HTMLView",
            "description": "",
            "description_tooltip": null,
            "layout": "IPY_MODEL_d8cf8e83d11840129c8151070f2dcb42",
            "placeholder": "​",
            "style": "IPY_MODEL_4b3b0bcb6be54d5b808f2e3637b3bc4d",
            "value": "Downloading: 100%"
          }
        },
        "d64d4c17a57a48c9977e85a7a7a1defe": {
          "model_module": "@jupyter-widgets/controls",
          "model_module_version": "1.5.0",
          "model_name": "DescriptionStyleModel",
          "state": {
            "_model_module": "@jupyter-widgets/controls",
            "_model_module_version": "1.5.0",
            "_model_name": "DescriptionStyleModel",
            "_view_count": null,
            "_view_module": "@jupyter-widgets/base",
            "_view_module_version": "1.2.0",
            "_view_name": "StyleView",
            "description_width": ""
          }
        },
        "d7ca39a278554968aa2fb7ea556aa874": {
          "model_module": "@jupyter-widgets/base",
          "model_module_version": "1.2.0",
          "model_name": "LayoutModel",
          "state": {
            "_model_module": "@jupyter-widgets/base",
            "_model_module_version": "1.2.0",
            "_model_name": "LayoutModel",
            "_view_count": null,
            "_view_module": "@jupyter-widgets/base",
            "_view_module_version": "1.2.0",
            "_view_name": "LayoutView",
            "align_content": null,
            "align_items": null,
            "align_self": null,
            "border": null,
            "bottom": null,
            "display": null,
            "flex": null,
            "flex_flow": null,
            "grid_area": null,
            "grid_auto_columns": null,
            "grid_auto_flow": null,
            "grid_auto_rows": null,
            "grid_column": null,
            "grid_gap": null,
            "grid_row": null,
            "grid_template_areas": null,
            "grid_template_columns": null,
            "grid_template_rows": null,
            "height": null,
            "justify_content": null,
            "justify_items": null,
            "left": null,
            "margin": null,
            "max_height": null,
            "max_width": null,
            "min_height": null,
            "min_width": null,
            "object_fit": null,
            "object_position": null,
            "order": null,
            "overflow": null,
            "overflow_x": null,
            "overflow_y": null,
            "padding": null,
            "right": null,
            "top": null,
            "visibility": null,
            "width": null
          }
        },
        "d8cf8e83d11840129c8151070f2dcb42": {
          "model_module": "@jupyter-widgets/base",
          "model_module_version": "1.2.0",
          "model_name": "LayoutModel",
          "state": {
            "_model_module": "@jupyter-widgets/base",
            "_model_module_version": "1.2.0",
            "_model_name": "LayoutModel",
            "_view_count": null,
            "_view_module": "@jupyter-widgets/base",
            "_view_module_version": "1.2.0",
            "_view_name": "LayoutView",
            "align_content": null,
            "align_items": null,
            "align_self": null,
            "border": null,
            "bottom": null,
            "display": null,
            "flex": null,
            "flex_flow": null,
            "grid_area": null,
            "grid_auto_columns": null,
            "grid_auto_flow": null,
            "grid_auto_rows": null,
            "grid_column": null,
            "grid_gap": null,
            "grid_row": null,
            "grid_template_areas": null,
            "grid_template_columns": null,
            "grid_template_rows": null,
            "height": null,
            "justify_content": null,
            "justify_items": null,
            "left": null,
            "margin": null,
            "max_height": null,
            "max_width": null,
            "min_height": null,
            "min_width": null,
            "object_fit": null,
            "object_position": null,
            "order": null,
            "overflow": null,
            "overflow_x": null,
            "overflow_y": null,
            "padding": null,
            "right": null,
            "top": null,
            "visibility": null,
            "width": null
          }
        },
        "dcc23e65bfa246fcb07ebc21536fad31": {
          "model_module": "@jupyter-widgets/controls",
          "model_module_version": "1.5.0",
          "model_name": "DescriptionStyleModel",
          "state": {
            "_model_module": "@jupyter-widgets/controls",
            "_model_module_version": "1.5.0",
            "_model_name": "DescriptionStyleModel",
            "_view_count": null,
            "_view_module": "@jupyter-widgets/base",
            "_view_module_version": "1.2.0",
            "_view_name": "StyleView",
            "description_width": ""
          }
        },
        "e1f9d1605f0b46d2b2dc5d926446ace2": {
          "model_module": "@jupyter-widgets/controls",
          "model_module_version": "1.5.0",
          "model_name": "HBoxModel",
          "state": {
            "_dom_classes": [],
            "_model_module": "@jupyter-widgets/controls",
            "_model_module_version": "1.5.0",
            "_model_name": "HBoxModel",
            "_view_count": null,
            "_view_module": "@jupyter-widgets/controls",
            "_view_module_version": "1.5.0",
            "_view_name": "HBoxView",
            "box_style": "",
            "children": [
              "IPY_MODEL_f1b03106b44d404ab7ee00ee8ab62f16",
              "IPY_MODEL_01281c0e6abc4069a99d7d35150df9a2",
              "IPY_MODEL_d26a8abb269e456abea8d00fe5986f5b"
            ],
            "layout": "IPY_MODEL_ea0edef3c3eb4d1d9b66105fa85c896b"
          }
        },
        "e4621e7bab904629ae36f307e7ecccf9": {
          "model_module": "@jupyter-widgets/controls",
          "model_module_version": "1.5.0",
          "model_name": "HTMLModel",
          "state": {
            "_dom_classes": [],
            "_model_module": "@jupyter-widgets/controls",
            "_model_module_version": "1.5.0",
            "_model_name": "HTMLModel",
            "_view_count": null,
            "_view_module": "@jupyter-widgets/controls",
            "_view_module_version": "1.5.0",
            "_view_name": "HTMLView",
            "description": "",
            "description_tooltip": null,
            "layout": "IPY_MODEL_feb99e9d364a4190a095b01100792aad",
            "placeholder": "​",
            "style": "IPY_MODEL_517ef8bc23de4bab8d2d4f29bc9c7e70",
            "value": "Downloading: 100%"
          }
        },
        "e721917ab9f64451b7dd1e23fd0948b6": {
          "model_module": "@jupyter-widgets/controls",
          "model_module_version": "1.5.0",
          "model_name": "HTMLModel",
          "state": {
            "_dom_classes": [],
            "_model_module": "@jupyter-widgets/controls",
            "_model_module_version": "1.5.0",
            "_model_name": "HTMLModel",
            "_view_count": null,
            "_view_module": "@jupyter-widgets/controls",
            "_view_module_version": "1.5.0",
            "_view_name": "HTMLView",
            "description": "",
            "description_tooltip": null,
            "layout": "IPY_MODEL_3bd8866555384a91ba5a48cd0ab8cf27",
            "placeholder": "​",
            "style": "IPY_MODEL_009999a357dd4b9daa275f0181f38b63",
            "value": " 1.36M/1.36M [00:01&lt;00:00, 998kB/s]"
          }
        },
        "ea0edef3c3eb4d1d9b66105fa85c896b": {
          "model_module": "@jupyter-widgets/base",
          "model_module_version": "1.2.0",
          "model_name": "LayoutModel",
          "state": {
            "_model_module": "@jupyter-widgets/base",
            "_model_module_version": "1.2.0",
            "_model_name": "LayoutModel",
            "_view_count": null,
            "_view_module": "@jupyter-widgets/base",
            "_view_module_version": "1.2.0",
            "_view_name": "LayoutView",
            "align_content": null,
            "align_items": null,
            "align_self": null,
            "border": null,
            "bottom": null,
            "display": null,
            "flex": null,
            "flex_flow": null,
            "grid_area": null,
            "grid_auto_columns": null,
            "grid_auto_flow": null,
            "grid_auto_rows": null,
            "grid_column": null,
            "grid_gap": null,
            "grid_row": null,
            "grid_template_areas": null,
            "grid_template_columns": null,
            "grid_template_rows": null,
            "height": null,
            "justify_content": null,
            "justify_items": null,
            "left": null,
            "margin": null,
            "max_height": null,
            "max_width": null,
            "min_height": null,
            "min_width": null,
            "object_fit": null,
            "object_position": null,
            "order": null,
            "overflow": null,
            "overflow_x": null,
            "overflow_y": null,
            "padding": null,
            "right": null,
            "top": null,
            "visibility": null,
            "width": null
          }
        },
        "efbf0903630242ddb4022e67084f97f0": {
          "model_module": "@jupyter-widgets/base",
          "model_module_version": "1.2.0",
          "model_name": "LayoutModel",
          "state": {
            "_model_module": "@jupyter-widgets/base",
            "_model_module_version": "1.2.0",
            "_model_name": "LayoutModel",
            "_view_count": null,
            "_view_module": "@jupyter-widgets/base",
            "_view_module_version": "1.2.0",
            "_view_name": "LayoutView",
            "align_content": null,
            "align_items": null,
            "align_self": null,
            "border": null,
            "bottom": null,
            "display": null,
            "flex": null,
            "flex_flow": null,
            "grid_area": null,
            "grid_auto_columns": null,
            "grid_auto_flow": null,
            "grid_auto_rows": null,
            "grid_column": null,
            "grid_gap": null,
            "grid_row": null,
            "grid_template_areas": null,
            "grid_template_columns": null,
            "grid_template_rows": null,
            "height": null,
            "justify_content": null,
            "justify_items": null,
            "left": null,
            "margin": null,
            "max_height": null,
            "max_width": null,
            "min_height": null,
            "min_width": null,
            "object_fit": null,
            "object_position": null,
            "order": null,
            "overflow": null,
            "overflow_x": null,
            "overflow_y": null,
            "padding": null,
            "right": null,
            "top": null,
            "visibility": null,
            "width": null
          }
        },
        "f1b03106b44d404ab7ee00ee8ab62f16": {
          "model_module": "@jupyter-widgets/controls",
          "model_module_version": "1.5.0",
          "model_name": "HTMLModel",
          "state": {
            "_dom_classes": [],
            "_model_module": "@jupyter-widgets/controls",
            "_model_module_version": "1.5.0",
            "_model_name": "HTMLModel",
            "_view_count": null,
            "_view_module": "@jupyter-widgets/controls",
            "_view_module_version": "1.5.0",
            "_view_name": "HTMLView",
            "description": "",
            "description_tooltip": null,
            "layout": "IPY_MODEL_519c7a6164414eb18298af4b2c9df4f3",
            "placeholder": "​",
            "style": "IPY_MODEL_dcc23e65bfa246fcb07ebc21536fad31",
            "value": "Downloading: 100%"
          }
        },
        "f4b4a2ea1175446a98ab0d7b67aff590": {
          "model_module": "@jupyter-widgets/controls",
          "model_module_version": "1.5.0",
          "model_name": "HTMLModel",
          "state": {
            "_dom_classes": [],
            "_model_module": "@jupyter-widgets/controls",
            "_model_module_version": "1.5.0",
            "_model_name": "HTMLModel",
            "_view_count": null,
            "_view_module": "@jupyter-widgets/controls",
            "_view_module_version": "1.5.0",
            "_view_name": "HTMLView",
            "description": "",
            "description_tooltip": null,
            "layout": "IPY_MODEL_4e6b9fa2ac9d4c02a1c823781c41b1a2",
            "placeholder": "​",
            "style": "IPY_MODEL_ff9142a5b2b941d4b917f4fe8f9af917",
            "value": " 75.2M/75.2M [00:03&lt;00:00, 30.2MB/s]"
          }
        },
        "f63c231a26f040f7ab68f66ce48f2873": {
          "model_module": "@jupyter-widgets/base",
          "model_module_version": "1.2.0",
          "model_name": "LayoutModel",
          "state": {
            "_model_module": "@jupyter-widgets/base",
            "_model_module_version": "1.2.0",
            "_model_name": "LayoutModel",
            "_view_count": null,
            "_view_module": "@jupyter-widgets/base",
            "_view_module_version": "1.2.0",
            "_view_name": "LayoutView",
            "align_content": null,
            "align_items": null,
            "align_self": null,
            "border": null,
            "bottom": null,
            "display": null,
            "flex": null,
            "flex_flow": null,
            "grid_area": null,
            "grid_auto_columns": null,
            "grid_auto_flow": null,
            "grid_auto_rows": null,
            "grid_column": null,
            "grid_gap": null,
            "grid_row": null,
            "grid_template_areas": null,
            "grid_template_columns": null,
            "grid_template_rows": null,
            "height": null,
            "justify_content": null,
            "justify_items": null,
            "left": null,
            "margin": null,
            "max_height": null,
            "max_width": null,
            "min_height": null,
            "min_width": null,
            "object_fit": null,
            "object_position": null,
            "order": null,
            "overflow": null,
            "overflow_x": null,
            "overflow_y": null,
            "padding": null,
            "right": null,
            "top": null,
            "visibility": null,
            "width": null
          }
        },
        "f70c4c13545a42b5ae82bf12ce30199f": {
          "model_module": "@jupyter-widgets/base",
          "model_module_version": "1.2.0",
          "model_name": "LayoutModel",
          "state": {
            "_model_module": "@jupyter-widgets/base",
            "_model_module_version": "1.2.0",
            "_model_name": "LayoutModel",
            "_view_count": null,
            "_view_module": "@jupyter-widgets/base",
            "_view_module_version": "1.2.0",
            "_view_name": "LayoutView",
            "align_content": null,
            "align_items": null,
            "align_self": null,
            "border": null,
            "bottom": null,
            "display": null,
            "flex": null,
            "flex_flow": null,
            "grid_area": null,
            "grid_auto_columns": null,
            "grid_auto_flow": null,
            "grid_auto_rows": null,
            "grid_column": null,
            "grid_gap": null,
            "grid_row": null,
            "grid_template_areas": null,
            "grid_template_columns": null,
            "grid_template_rows": null,
            "height": null,
            "justify_content": null,
            "justify_items": null,
            "left": null,
            "margin": null,
            "max_height": null,
            "max_width": null,
            "min_height": null,
            "min_width": null,
            "object_fit": null,
            "object_position": null,
            "order": null,
            "overflow": null,
            "overflow_x": null,
            "overflow_y": null,
            "padding": null,
            "right": null,
            "top": null,
            "visibility": null,
            "width": null
          }
        },
        "fb026c8c1ab24f119420b1acdcd3b942": {
          "model_module": "@jupyter-widgets/controls",
          "model_module_version": "1.5.0",
          "model_name": "ProgressStyleModel",
          "state": {
            "_model_module": "@jupyter-widgets/controls",
            "_model_module_version": "1.5.0",
            "_model_name": "ProgressStyleModel",
            "_view_count": null,
            "_view_module": "@jupyter-widgets/base",
            "_view_module_version": "1.2.0",
            "_view_name": "StyleView",
            "bar_color": null,
            "description_width": ""
          }
        },
        "feb99e9d364a4190a095b01100792aad": {
          "model_module": "@jupyter-widgets/base",
          "model_module_version": "1.2.0",
          "model_name": "LayoutModel",
          "state": {
            "_model_module": "@jupyter-widgets/base",
            "_model_module_version": "1.2.0",
            "_model_name": "LayoutModel",
            "_view_count": null,
            "_view_module": "@jupyter-widgets/base",
            "_view_module_version": "1.2.0",
            "_view_name": "LayoutView",
            "align_content": null,
            "align_items": null,
            "align_self": null,
            "border": null,
            "bottom": null,
            "display": null,
            "flex": null,
            "flex_flow": null,
            "grid_area": null,
            "grid_auto_columns": null,
            "grid_auto_flow": null,
            "grid_auto_rows": null,
            "grid_column": null,
            "grid_gap": null,
            "grid_row": null,
            "grid_template_areas": null,
            "grid_template_columns": null,
            "grid_template_rows": null,
            "height": null,
            "justify_content": null,
            "justify_items": null,
            "left": null,
            "margin": null,
            "max_height": null,
            "max_width": null,
            "min_height": null,
            "min_width": null,
            "object_fit": null,
            "object_position": null,
            "order": null,
            "overflow": null,
            "overflow_x": null,
            "overflow_y": null,
            "padding": null,
            "right": null,
            "top": null,
            "visibility": null,
            "width": null
          }
        },
        "febfc87725774dc8a8e39368dd4aeef2": {
          "model_module": "@jupyter-widgets/controls",
          "model_module_version": "1.5.0",
          "model_name": "DescriptionStyleModel",
          "state": {
            "_model_module": "@jupyter-widgets/controls",
            "_model_module_version": "1.5.0",
            "_model_name": "DescriptionStyleModel",
            "_view_count": null,
            "_view_module": "@jupyter-widgets/base",
            "_view_module_version": "1.2.0",
            "_view_name": "StyleView",
            "description_width": ""
          }
        },
        "ff9142a5b2b941d4b917f4fe8f9af917": {
          "model_module": "@jupyter-widgets/controls",
          "model_module_version": "1.5.0",
          "model_name": "DescriptionStyleModel",
          "state": {
            "_model_module": "@jupyter-widgets/controls",
            "_model_module_version": "1.5.0",
            "_model_name": "DescriptionStyleModel",
            "_view_count": null,
            "_view_module": "@jupyter-widgets/base",
            "_view_module_version": "1.2.0",
            "_view_name": "StyleView",
            "description_width": ""
          }
        }
      }
    }
  },
  "nbformat": 4,
  "nbformat_minor": 0
}