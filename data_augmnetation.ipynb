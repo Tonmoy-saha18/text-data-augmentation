{
  "nbformat": 4,
  "nbformat_minor": 0,
  "metadata": {
    "colab": {
      "provenance": [],
      "mount_file_id": "1PhTRm0xEl9ePe2GYCftAD9YQSJZkI9MR",
      "authorship_tag": "ABX9TyNIQvOQf5xikp5QZCRepKBo",
      "include_colab_link": true
    },
    "kernelspec": {
      "name": "python3",
      "display_name": "Python 3"
    },
    "language_info": {
      "name": "python"
    }
  },
  "cells": [
    {
      "cell_type": "markdown",
      "metadata": {
        "id": "view-in-github",
        "colab_type": "text"
      },
      "source": [
        "<a href=\"https://colab.research.google.com/github/Tonmoy-saha18/text-data-augmentation/blob/main/data_augmnetation.ipynb\" target=\"_parent\"><img src=\"https://colab.research.google.com/assets/colab-badge.svg\" alt=\"Open In Colab\"/></a>"
      ]
    },
    {
      "cell_type": "code",
      "source": [],
      "metadata": {
        "id": "CtoRghGZLuOF"
      },
      "execution_count": null,
      "outputs": []
    }
  ]
}